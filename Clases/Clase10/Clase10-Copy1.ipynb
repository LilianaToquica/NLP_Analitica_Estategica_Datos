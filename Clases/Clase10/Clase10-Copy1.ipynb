{
 "cells": [
  {
   "cell_type": "code",
   "execution_count": 1,
   "metadata": {
    "slideshow": {
     "slide_type": "notes"
    }
   },
   "outputs": [],
   "source": [
    "import warnings\n",
    "warnings.filterwarnings(\"ignore\", category=DeprecationWarning)"
   ]
  },
  {
   "cell_type": "markdown",
   "metadata": {
    "slideshow": {
     "slide_type": "slide"
    }
   },
   "source": [
    "# Bienvenidos, damos inicio a las 7:32 a.m. 😛"
   ]
  },
  {
   "cell_type": "markdown",
   "metadata": {
    "slideshow": {
     "slide_type": "slide"
    }
   },
   "source": [
    "<center><img src='img/temas.png' style='height:300px; float: center; margin: 0px 15px 15px 0px'></center>\n",
    "\n",
    "### Modelado de temas\n",
    "#### NLP - Analítica Estratégica de Datos\n",
    "<br><b>Fundación Universitaria Konrad Lorenz</b>\n",
    "<br>Docente: Viviana Márquez [vivianam.penama@konradlorenz.edu.co](mailto:vivianama.penam@konradlorenz.edu.co)\n",
    "<br>Clase #10: Octubre 24, 2020"
   ]
  },
  {
   "cell_type": "markdown",
   "metadata": {
    "slideshow": {
     "slide_type": "slide"
    }
   },
   "source": [
    "### 🚵‍♀️ La próxima clase veremos visualizaciones para NLP\n",
    "<br>\n",
    "\n",
    "[PollEv.com/vivianamarqu288](PollEv.com/vivianamarqu288)"
   ]
  },
  {
   "cell_type": "markdown",
   "metadata": {
    "slideshow": {
     "slide_type": "slide"
    }
   },
   "source": [
    "### ⌛ En la clase anterior\n",
    "\n",
    "- Modelos de agrupación para NLP:\n",
    "    - K-Means"
   ]
  },
  {
   "cell_type": "markdown",
   "metadata": {
    "slideshow": {
     "slide_type": "slide"
    }
   },
   "source": [
    "### Hoy continuamos con los modelos de agrupación"
   ]
  },
  {
   "cell_type": "markdown",
   "metadata": {
    "slideshow": {
     "slide_type": "fragment"
    }
   },
   "source": [
    "<center><img src='img/img2.png' style='height:600px; float: center; margin: 0px 0px 0px 0px'></center>"
   ]
  },
  {
   "cell_type": "markdown",
   "metadata": {
    "slideshow": {
     "slide_type": "slide"
    }
   },
   "source": [
    "### 🚀 Hoy veremos...\n",
    "\n",
    "- Modelado de temas:\n",
    "    - Asignación Latente de Dirichlet (LDA)\n",
    " "
   ]
  },
  {
   "cell_type": "markdown",
   "metadata": {
    "slideshow": {
     "slide_type": "slide"
    }
   },
   "source": [
    "## 🤖 Modelado de temas\n",
    "\n",
    "<br>\n",
    "<center><img src='img/jefe.jpg' style='height:500px; float: center; margin: 0px 15px 15px 0px'></center>\n",
    "\n",
    "Supongamos que nos dan un gran número de documentos a los cuales les tenemos que \"dar sentido\". ¿Qué hacemos?"
   ]
  },
  {
   "cell_type": "markdown",
   "metadata": {
    "slideshow": {
     "slide_type": "slide"
    }
   },
   "source": [
    "## 🤖 Modelado de temas\n",
    "\n",
    "- El modelado de temas por lo general se refiere a un tipo de modelos no supervisados basados en estadística para descubrir temas latentes (que existe sin manifestarse o exteriorizarse) en un conjunto grande de documentos.\n",
    "- Los modelos más populares son:\n",
    "    - Asignación Latente de Dirichlet (LDA)\n",
    "    - Análisis de la Semántica Latente (LSA)\n",
    "    - Análisis Semántico Latente Probabilístico (PLSA)"
   ]
  },
  {
   "cell_type": "markdown",
   "metadata": {
    "slideshow": {
     "slide_type": "slide"
    }
   },
   "source": [
    "## LDA - Asignación Latente de Dirichlet\n",
    "\n",
    "<br>\n",
    "<img src='https://upload.wikimedia.org/wikipedia/commons/3/32/Peter_Gustav_Lejeune_Dirichlet.jpg' style='height:250px; float: left; margin: 0px 50px 30px 0px'>\n",
    "• Johann Dirichlet fue un matemático alemán muy importante de los 1800s\n",
    "\n",
    "• Existe una función de densidad de probabilidad nombrada en honor a él llamada \"Distribución de Dirichlet\"\n",
    "\n",
    "• LDA usa esta distribución\n",
    "\n",
    "• LDA fue publicada en 2003 en el *Journal of Machine Learning and Research*"
   ]
  },
  {
   "cell_type": "markdown",
   "metadata": {
    "slideshow": {
     "slide_type": "slide"
    }
   },
   "source": [
    "## ¿Qué hace LDA?\n",
    "\n",
    "Ejemplo:\n",
    "\n",
    "- **D1:** Me gusta comer brócoli y bananos.\n",
    "- **D2:** Comí una banana y una ensalada de desayuno.\n",
    "- **D3:** Los perros y los gatos son tiernos.\n",
    "- **D4:** Mi hermana adoptó un gato ayer.\n",
    "- **D5:** Ese conejo se ve muy tierno comiendo brócoli."
   ]
  },
  {
   "cell_type": "markdown",
   "metadata": {
    "slideshow": {
     "slide_type": "fragment"
    }
   },
   "source": [
    "#### Usando modelado de temas obtendriamos un resultado del tipo:\n",
    "- **Tema A:** 30% brócoli, 15% bananos, 10% desayuno, 10% comiendo (🥦🍌🍳🍴)\n",
    "- **Tema B:** 20% perros, 20% gatos, 20% tierno, 15% conejo (🐶😻🎀🐰)\n",
    "\n",
    "- **Documento 1 & 2:** 100% Tema A\n",
    "- **Documento 3 & 4:** 100% Tema B\n",
    "- **Documento 5:** 60% Tema A, 40% Tema B"
   ]
  },
  {
   "cell_type": "markdown",
   "metadata": {
    "slideshow": {
     "slide_type": "slide"
    }
   },
   "source": [
    "## ¿Qué es LDA?\n",
    "\n",
    "El problema:\n",
    "\n",
    "<center><img src='img/ss1.png' style='height:250px; float: center; margin: 0px 50px 30px 0px'>"
   ]
  },
  {
   "cell_type": "markdown",
   "metadata": {
    "slideshow": {
     "slide_type": "slide"
    }
   },
   "source": [
    "## ¿Qué es LDA?\n",
    "\n",
    "La solución: Distribución de Dirichlet.\n",
    "\n",
    "<center><img src='img/ss2.png' style='height:550px; float: center; margin: 0px 50px 30px 0px'>"
   ]
  },
  {
   "cell_type": "markdown",
   "metadata": {
    "slideshow": {
     "slide_type": "slide"
    }
   },
   "source": [
    "## ¿Qué es LDA?\n",
    "\n",
    "La solución: Distribución de Dirichlet... pero, ¿Cómo obtener esta distribución?\n",
    "\n",
    "<center><img src='img/ss3.png' style='height:550px; float: center; margin: 0px 50px 30px 0px'>"
   ]
  },
  {
   "cell_type": "markdown",
   "metadata": {
    "slideshow": {
     "slide_type": "slide"
    }
   },
   "source": [
    "## ¿Qué es LDA?\n",
    "\n",
    "<center><img src='img/ss4.png' style='height:550px; float: center; margin: 0px 50px 30px 0px'>"
   ]
  },
  {
   "cell_type": "markdown",
   "metadata": {
    "slideshow": {
     "slide_type": "slide"
    }
   },
   "source": [
    "## ¿Qué es LDA?\n",
    "\n",
    "El plano de construcción de LDA\n",
    "\n",
    "<center><img src='img/ss5.png' style='height:550px; float: center; margin: 0px 50px 30px 0px'>"
   ]
  },
  {
   "cell_type": "markdown",
   "metadata": {
    "slideshow": {
     "slide_type": "slide"
    }
   },
   "source": [
    "## ¿Qué es LDA?\n",
    "\n",
    "Las matemáticas detrás de LDA\n",
    "\n",
    "<center><img src='img/ss6.png' style='height:550px; float: center; margin: 0px 50px 30px 0px'>"
   ]
  },
  {
   "cell_type": "markdown",
   "metadata": {
    "slideshow": {
     "slide_type": "slide"
    }
   },
   "source": [
    "## ¿Qué es LDA?\n",
    "\n",
    "Las matemáticas detrás de LDA\n",
    "\n",
    "<center><img src='img/ss7.png' style='height:550px; float: center; margin: 0px 50px 30px 0px'>"
   ]
  },
  {
   "cell_type": "markdown",
   "metadata": {
    "slideshow": {
     "slide_type": "slide"
    }
   },
   "source": [
    "### (Recorderis rápido) Distribución multinomial\n",
    "\n",
    "<br>\n",
    "<center><img src='img/dice.jpg' style='height:550px; float: center; margin: 0px 50px 30px 0px'></center>\n",
    "\n",
    "- En la teoría de la probabilidad, la **distribución multinomial** es una generalización de la distribución binomial. Por ejemplo, modela la probabilidad de conteo para cada lado de un dado de cara $k$ tirado $n$ veces. "
   ]
  },
  {
   "cell_type": "markdown",
   "metadata": {
    "slideshow": {
     "slide_type": "slide"
    }
   },
   "source": [
    "### Distribución de Dirichlet\n",
    "\n",
    "<br>\n",
    "<center><img src='img/ss8.png' style='height:550px; float: center; margin: 0px 50px 30px 0px'></center>"
   ]
  },
  {
   "cell_type": "markdown",
   "metadata": {
    "slideshow": {
     "slide_type": "slide"
    }
   },
   "source": [
    "### Distribución de Dirichlet\n",
    "\n",
    "<br>\n",
    "<center><img src='img/ss9.png' style='height:550px; float: center; margin: 0px 50px 30px 0px'></center>"
   ]
  },
  {
   "cell_type": "markdown",
   "metadata": {
    "slideshow": {
     "slide_type": "slide"
    }
   },
   "source": [
    "### Distribución de Dirichlet\n",
    "\n",
    "<br>\n",
    "<center><img src='img/ss10.png' style='height:550px; float: center; margin: 0px 50px 30px 0px'></center>"
   ]
  },
  {
   "cell_type": "markdown",
   "metadata": {
    "slideshow": {
     "slide_type": "slide"
    }
   },
   "source": [
    "### Distribución de Dirichlet\n",
    "\n",
    "<br>\n",
    "<center><img src='img/ss11.png' style='height:550px; float: center; margin: 0px 50px 30px 0px'></center>"
   ]
  },
  {
   "cell_type": "markdown",
   "metadata": {
    "slideshow": {
     "slide_type": "slide"
    }
   },
   "source": [
    "### Distribución de Dirichlet\n",
    "\n",
    "<br>\n",
    "<center><img src='img/ss11.png' style='height:550px; float: center; margin: 0px 50px 30px 0px'></center>"
   ]
  },
  {
   "cell_type": "markdown",
   "metadata": {
    "slideshow": {
     "slide_type": "slide"
    }
   },
   "source": [
    "### Distribución de Dirichlet\n",
    "\n",
    "<br>\n",
    "<center><img src='img/ss12.png' style='height:550px; float: center; margin: 0px 50px 30px 0px'></center>"
   ]
  },
  {
   "cell_type": "markdown",
   "metadata": {
    "slideshow": {
     "slide_type": "slide"
    }
   },
   "source": [
    "### Distribución de Dirichlet\n",
    "\n",
    "<br>\n",
    "<center><img src='img/ss13.png' style='height:550px; float: center; margin: 0px 50px 30px 0px'></center>"
   ]
  },
  {
   "cell_type": "markdown",
   "metadata": {
    "slideshow": {
     "slide_type": "slide"
    }
   },
   "source": [
    "### 👮‍♀️ Punto de control: ¿Cuál distribución es más adecuada para el caso de las noticias?\n",
    "\n",
    "<br>\n",
    "<center><img src='img/ss14.png' style='height:550px; float: center; margin: 0px 50px 30px 0px'></center>"
   ]
  },
  {
   "cell_type": "markdown",
   "metadata": {
    "slideshow": {
     "slide_type": "slide"
    }
   },
   "source": [
    "### Una distribución de distribuciones\n",
    "\n",
    "<br>\n",
    "<center><img src='img/inception.jpeg' style='height:550px; float: center; margin: 0px 50px 30px 0px'></center>"
   ]
  },
  {
   "cell_type": "markdown",
   "metadata": {
    "slideshow": {
     "slide_type": "slide"
    }
   },
   "source": [
    "### Una distribución de distribuciones\n",
    "\n",
    "<br>\n",
    "<center><img src='img/ss15.png' style='height:550px; float: center; margin: 0px 50px 30px 0px'></center>"
   ]
  },
  {
   "cell_type": "markdown",
   "metadata": {
    "slideshow": {
     "slide_type": "slide"
    }
   },
   "source": [
    "### $N$ temas, $N-1$ dimensiones\n",
    "\n",
    "<br>\n",
    "<center><img src='img/ss16.png' style='height:550px; float: center; margin: 0px 50px 30px 0px'></center>"
   ]
  },
  {
   "cell_type": "markdown",
   "metadata": {
    "slideshow": {
     "slide_type": "slide"
    }
   },
   "source": [
    "### Dos distribuciones de Dirichlet\n",
    "\n",
    "<br>\n",
    "<center><img src='img/ss17.png' style='height:550px; float: center; margin: 0px 50px 30px 0px'></center>"
   ]
  },
  {
   "cell_type": "markdown",
   "metadata": {
    "slideshow": {
     "slide_type": "slide"
    }
   },
   "source": [
    "### Dos distribuciones de Dirichlet\n",
    "\n",
    "- Los temas son una mezcla de palabras claves con una distribución de probabilidad\n",
    "<img src='img/prob2b.png' style='height:250px; float: center; margin: 0px 50px 30px 0px'>"
   ]
  },
  {
   "cell_type": "markdown",
   "metadata": {
    "slideshow": {
     "slide_type": "fragment"
    }
   },
   "source": [
    "- Los documentos son una mezcla de temas con una distribución de probabilidad\n",
    "<img src='img/prob1.png' style='height:250px; float: center; margin: 0px 50px 30px 0px'>"
   ]
  },
  {
   "cell_type": "markdown",
   "metadata": {
    "slideshow": {
     "slide_type": "slide"
    }
   },
   "source": [
    "### Proceso iterativo para encontrar la mejor configuración\n",
    "\n",
    "<br>\n",
    "<center><img src='img/ss19b.png' style='height:550px; float: center; margin: 0px 50px 30px 0px'></center>"
   ]
  },
  {
   "cell_type": "markdown",
   "metadata": {
    "slideshow": {
     "slide_type": "slide"
    }
   },
   "source": [
    "## LDA - Asignación Latente de Dirichlet\n",
    "\n",
    "- Un modelado de tema simplemente da un conjunto de palabras claves por tema, el nombre de la interpretación se le deja al analísta:\n",
    "    - 🥦🍌🍳🍴\n",
    "    - 🐶😻🎀🐰\n",
    "    \n",
    "- Los temas son llamados latentes porque están escondidos y deben ser descubiertos"
   ]
  },
  {
   "cell_type": "markdown",
   "metadata": {
    "slideshow": {
     "slide_type": "slide"
    }
   },
   "source": [
    "## 👩‍💻 Manos a la obra\n",
    "\n",
    "**Paso 1:** Cargar los datos"
   ]
  },
  {
   "cell_type": "code",
   "execution_count": 18,
   "metadata": {
    "slideshow": {
     "slide_type": "fragment"
    }
   },
   "outputs": [
    {
     "name": "stdout",
     "output_type": "stream",
     "text": [
      "Tenemos 1,000 documentos.\n"
     ]
    },
    {
     "name": "stderr",
     "output_type": "stream",
     "text": [
      "/opt/anaconda3/lib/python3.7/site-packages/ipykernel/ipkernel.py:287: DeprecationWarning: `should_run_async` will not call `transform_cell` automatically in the future. Please pass the result to `transformed_cell` argument and any exception that happen during thetransform in `preprocessing_exc_tuple` in IPython 7.17 and above.\n",
      "  and should_run_async(code)\n"
     ]
    },
    {
     "data": {
      "text/html": [
       "<div>\n",
       "<style scoped>\n",
       "    .dataframe tbody tr th:only-of-type {\n",
       "        vertical-align: middle;\n",
       "    }\n",
       "\n",
       "    .dataframe tbody tr th {\n",
       "        vertical-align: top;\n",
       "    }\n",
       "\n",
       "    .dataframe thead th {\n",
       "        text-align: right;\n",
       "    }\n",
       "</style>\n",
       "<table border=\"1\" class=\"dataframe\">\n",
       "  <thead>\n",
       "    <tr style=\"text-align: right;\">\n",
       "      <th></th>\n",
       "      <th>Article</th>\n",
       "    </tr>\n",
       "  </thead>\n",
       "  <tbody>\n",
       "    <tr>\n",
       "      <th>360</th>\n",
       "      <td>The U. S.  coalition fighting ISIS says it car...</td>\n",
       "    </tr>\n",
       "    <tr>\n",
       "      <th>559</th>\n",
       "      <td>On Monday, a rare and beautiful thing happened...</td>\n",
       "    </tr>\n",
       "    <tr>\n",
       "      <th>699</th>\n",
       "      <td>The Turkish government has cracked down on ind...</td>\n",
       "    </tr>\n",
       "    <tr>\n",
       "      <th>920</th>\n",
       "      <td>Liberty University is a place where Donald Tru...</td>\n",
       "    </tr>\n",
       "    <tr>\n",
       "      <th>983</th>\n",
       "      <td>Updated at 4:40 a. m. ET Saturday, A suspect i...</td>\n",
       "    </tr>\n",
       "  </tbody>\n",
       "</table>\n",
       "</div>"
      ],
      "text/plain": [
       "                                               Article\n",
       "360  The U. S.  coalition fighting ISIS says it car...\n",
       "559  On Monday, a rare and beautiful thing happened...\n",
       "699  The Turkish government has cracked down on ind...\n",
       "920  Liberty University is a place where Donald Tru...\n",
       "983  Updated at 4:40 a. m. ET Saturday, A suspect i..."
      ]
     },
     "execution_count": 18,
     "metadata": {},
     "output_type": "execute_result"
    }
   ],
   "source": [
    "import pandas as pd\n",
    "\n",
    "data = pd.read_csv(\"clase.csv\").sample(1000)\n",
    "print(f\"Tenemos {data.shape[0]:,d} documentos.\")\n",
    "data.head()"
   ]
  },
  {
   "cell_type": "markdown",
   "metadata": {
    "slideshow": {
     "slide_type": "slide"
    }
   },
   "source": [
    "## 👩‍💻 Manos a la obra\n",
    "\n",
    "**Paso 2:** Feature Engineering"
   ]
  },
  {
   "cell_type": "code",
   "execution_count": 19,
   "metadata": {
    "scrolled": true,
    "slideshow": {
     "slide_type": "fragment"
    }
   },
   "outputs": [
    {
     "name": "stderr",
     "output_type": "stream",
     "text": [
      "/opt/anaconda3/lib/python3.7/site-packages/ipykernel/ipkernel.py:287: DeprecationWarning: `should_run_async` will not call `transform_cell` automatically in the future. Please pass the result to `transformed_cell` argument and any exception that happen during thetransform in `preprocessing_exc_tuple` in IPython 7.17 and above.\n",
      "  and should_run_async(code)\n"
     ]
    }
   ],
   "source": [
    "import re\n",
    "\n",
    "from nltk.corpus import stopwords\n",
    "stopwords = stopwords.words('english')"
   ]
  },
  {
   "cell_type": "code",
   "execution_count": 20,
   "metadata": {
    "slideshow": {
     "slide_type": "fragment"
    }
   },
   "outputs": [
    {
     "name": "stderr",
     "output_type": "stream",
     "text": [
      "/opt/anaconda3/lib/python3.7/site-packages/ipykernel/ipkernel.py:287: DeprecationWarning: `should_run_async` will not call `transform_cell` automatically in the future. Please pass the result to `transformed_cell` argument and any exception that happen during thetransform in `preprocessing_exc_tuple` in IPython 7.17 and above.\n",
      "  and should_run_async(code)\n"
     ]
    },
    {
     "data": {
      "text/html": [
       "<div>\n",
       "<style scoped>\n",
       "    .dataframe tbody tr th:only-of-type {\n",
       "        vertical-align: middle;\n",
       "    }\n",
       "\n",
       "    .dataframe tbody tr th {\n",
       "        vertical-align: top;\n",
       "    }\n",
       "\n",
       "    .dataframe thead th {\n",
       "        text-align: right;\n",
       "    }\n",
       "</style>\n",
       "<table border=\"1\" class=\"dataframe\">\n",
       "  <thead>\n",
       "    <tr style=\"text-align: right;\">\n",
       "      <th></th>\n",
       "      <th>Article</th>\n",
       "      <th>Pre-Processed</th>\n",
       "    </tr>\n",
       "  </thead>\n",
       "  <tbody>\n",
       "    <tr>\n",
       "      <th>360</th>\n",
       "      <td>The U. S.  coalition fighting ISIS says it car...</td>\n",
       "      <td>[u, coalition, fighting, isis, says, carried, ...</td>\n",
       "    </tr>\n",
       "    <tr>\n",
       "      <th>559</th>\n",
       "      <td>On Monday, a rare and beautiful thing happened...</td>\n",
       "      <td>[monday, rare, beautiful, thing, happened, dus...</td>\n",
       "    </tr>\n",
       "    <tr>\n",
       "      <th>699</th>\n",
       "      <td>The Turkish government has cracked down on ind...</td>\n",
       "      <td>[turkish, government, cracked, independent, me...</td>\n",
       "    </tr>\n",
       "    <tr>\n",
       "      <th>920</th>\n",
       "      <td>Liberty University is a place where Donald Tru...</td>\n",
       "      <td>[liberty, university, place, donald, trump, st...</td>\n",
       "    </tr>\n",
       "    <tr>\n",
       "      <th>983</th>\n",
       "      <td>Updated at 4:40 a. m. ET Saturday, A suspect i...</td>\n",
       "      <td>[updated, et, saturday, suspect, friday, truck...</td>\n",
       "    </tr>\n",
       "  </tbody>\n",
       "</table>\n",
       "</div>"
      ],
      "text/plain": [
       "                                               Article  \\\n",
       "360  The U. S.  coalition fighting ISIS says it car...   \n",
       "559  On Monday, a rare and beautiful thing happened...   \n",
       "699  The Turkish government has cracked down on ind...   \n",
       "920  Liberty University is a place where Donald Tru...   \n",
       "983  Updated at 4:40 a. m. ET Saturday, A suspect i...   \n",
       "\n",
       "                                         Pre-Processed  \n",
       "360  [u, coalition, fighting, isis, says, carried, ...  \n",
       "559  [monday, rare, beautiful, thing, happened, dus...  \n",
       "699  [turkish, government, cracked, independent, me...  \n",
       "920  [liberty, university, place, donald, trump, st...  \n",
       "983  [updated, et, saturday, suspect, friday, truck...  "
      ]
     },
     "execution_count": 20,
     "metadata": {},
     "output_type": "execute_result"
    }
   ],
   "source": [
    "def pre_procesado(texto):\n",
    "    texto = texto.lower()\n",
    "    texto = re.sub(r\"[\\W\\d_]+\", \" \", texto)\n",
    "    texto = [palabra for palabra in texto.split() if palabra not in stopwords]\n",
    "    return texto\n",
    "\n",
    "data['Pre-Processed'] = data['Article'].apply(lambda texto: pre_procesado(texto))\n",
    "\n",
    "data.head()"
   ]
  },
  {
   "cell_type": "markdown",
   "metadata": {
    "slideshow": {
     "slide_type": "slide"
    }
   },
   "source": [
    "## 👩‍💻 Manos a la obra\n",
    "\n",
    "**Paso 3:** Entrenar el modelo"
   ]
  },
  {
   "cell_type": "code",
   "execution_count": 21,
   "metadata": {
    "scrolled": true,
    "slideshow": {
     "slide_type": "fragment"
    }
   },
   "outputs": [
    {
     "name": "stderr",
     "output_type": "stream",
     "text": [
      "/opt/anaconda3/lib/python3.7/site-packages/ipykernel/ipkernel.py:287: DeprecationWarning: `should_run_async` will not call `transform_cell` automatically in the future. Please pass the result to `transformed_cell` argument and any exception that happen during thetransform in `preprocessing_exc_tuple` in IPython 7.17 and above.\n",
      "  and should_run_async(code)\n"
     ]
    }
   ],
   "source": [
    "import pyLDAvis.gensim\n",
    "from gensim.models import LdaModel\n",
    "from gensim.corpora import Dictionary\n",
    "from pprint import pprint"
   ]
  },
  {
   "cell_type": "code",
   "execution_count": 29,
   "metadata": {
    "slideshow": {
     "slide_type": "fragment"
    }
   },
   "outputs": [
    {
     "name": "stderr",
     "output_type": "stream",
     "text": [
      "/opt/anaconda3/lib/python3.7/site-packages/ipykernel/ipkernel.py:287: DeprecationWarning: `should_run_async` will not call `transform_cell` automatically in the future. Please pass the result to `transformed_cell` argument and any exception that happen during thetransform in `preprocessing_exc_tuple` in IPython 7.17 and above.\n",
      "  and should_run_async(code)\n"
     ]
    }
   ],
   "source": [
    "# Crear una representación de los documentos en forma de diccionario\n",
    "dictionary = Dictionary(data['Pre-Processed'].values)\n",
    "\n",
    "# Filtrar palabras muy frecuentes y poco frecuentes\n",
    "dictionary.filter_extremes(no_below=5, no_above=0.5)\n",
    "\n",
    "corpus = [dictionary.doc2bow(text) for text in data['Pre-Processed'].values]\n",
    "\n",
    "# Train the topic model \n",
    "model = LdaModel(corpus=corpus, id2word=dictionary, num_topics=7, passes=100, random_state=42)"
   ]
  },
  {
   "cell_type": "markdown",
   "metadata": {
    "slideshow": {
     "slide_type": "slide"
    }
   },
   "source": [
    "## 👩‍💻 Manos a la obra\n",
    "\n",
    "**Paso 4:** Resultados"
   ]
  },
  {
   "cell_type": "code",
   "execution_count": 31,
   "metadata": {
    "slideshow": {
     "slide_type": "fragment"
    }
   },
   "outputs": [
    {
     "name": "stderr",
     "output_type": "stream",
     "text": [
      "/opt/anaconda3/lib/python3.7/site-packages/ipykernel/ipkernel.py:287: DeprecationWarning: `should_run_async` will not call `transform_cell` automatically in the future. Please pass the result to `transformed_cell` argument and any exception that happen during thetransform in `preprocessing_exc_tuple` in IPython 7.17 and above.\n",
      "  and should_run_async(code)\n"
     ]
    },
    {
     "data": {
      "text/plain": [
       "[(0,\n",
       "  '0.025*\"trump\" + 0.011*\"president\" + 0.008*\"clinton\" + 0.006*\"campaign\" + 0.005*\"house\" + 0.005*\"election\" + 0.005*\"obama\" + 0.005*\"u\" + 0.004*\"state\" + 0.004*\"white\"'),\n",
       " (1,\n",
       "  '0.011*\"u\" + 0.005*\"government\" + 0.005*\"country\" + 0.004*\"city\" + 0.004*\"told\" + 0.004*\"war\" + 0.004*\"reports\" + 0.004*\"last\" + 0.003*\"world\" + 0.003*\"according\"'),\n",
       " (2,\n",
       "  '0.009*\"health\" + 0.006*\"students\" + 0.006*\"school\" + 0.006*\"care\" + 0.006*\"company\" + 0.005*\"law\" + 0.005*\"year\" + 0.004*\"state\" + 0.004*\"companies\" + 0.004*\"public\"'),\n",
       " (3,\n",
       "  '0.009*\"health\" + 0.006*\"percent\" + 0.006*\"food\" + 0.005*\"study\" + 0.004*\"research\" + 0.004*\"could\" + 0.004*\"disease\" + 0.004*\"patients\" + 0.004*\"may\" + 0.004*\"university\"'),\n",
       " (4,\n",
       "  '0.006*\"think\" + 0.005*\"get\" + 0.005*\"way\" + 0.005*\"know\" + 0.005*\"really\" + 0.004*\"life\" + 0.004*\"make\" + 0.004*\"even\" + 0.004*\"something\" + 0.004*\"things\"'),\n",
       " (5,\n",
       "  '0.013*\"police\" + 0.007*\"court\" + 0.007*\"case\" + 0.006*\"officers\" + 0.005*\"federal\" + 0.005*\"national\" + 0.004*\"justice\" + 0.004*\"last\" + 0.004*\"monument\" + 0.004*\"video\"'),\n",
       " (6,\n",
       "  '0.005*\"year\" + 0.004*\"history\" + 0.003*\"space\" + 0.003*\"black\" + 0.003*\"ebola\" + 0.003*\"still\" + 0.003*\"day\" + 0.003*\"two\" + 0.003*\"earth\" + 0.003*\"see\"')]"
      ]
     },
     "execution_count": 31,
     "metadata": {},
     "output_type": "execute_result"
    }
   ],
   "source": [
    "model.print_topics(num_words=10)"
   ]
  },
  {
   "cell_type": "markdown",
   "metadata": {
    "slideshow": {
     "slide_type": "slide"
    }
   },
   "source": [
    "## 👩‍💻 Manos a la obra\n",
    "\n",
    "**Paso 4:** Resultados"
   ]
  },
  {
   "cell_type": "code",
   "execution_count": 39,
   "metadata": {
    "slideshow": {
     "slide_type": "fragment"
    }
   },
   "outputs": [
    {
     "name": "stderr",
     "output_type": "stream",
     "text": [
      "/opt/anaconda3/lib/python3.7/site-packages/ipykernel/ipkernel.py:287: DeprecationWarning: `should_run_async` will not call `transform_cell` automatically in the future. Please pass the result to `transformed_cell` argument and any exception that happen during thetransform in `preprocessing_exc_tuple` in IPython 7.17 and above.\n",
      "  and should_run_async(code)\n"
     ]
    },
    {
     "data": {
      "text/html": [
       "\n",
       "<link rel=\"stylesheet\" type=\"text/css\" href=\"https://cdn.rawgit.com/bmabey/pyLDAvis/files/ldavis.v1.0.0.css\">\n",
       "\n",
       "\n",
       "<div id=\"ldavis_el180481404604626544164939514084\"></div>\n",
       "<script type=\"text/javascript\">\n",
       "\n",
       "var ldavis_el180481404604626544164939514084_data = {\"mdsDat\": {\"x\": [-0.07223795337508726, 0.00022848868477660684, -0.08798849078439253, 0.0787080501754534, -0.15121144996170113, 0.029607831529001528, 0.20289352373194972], \"y\": [0.14274074024722253, -0.08405476754235296, -0.11697845029647087, -0.04205540086335929, -0.024984053417338642, 0.14922793740620266, -0.023896005533903458], \"topics\": [1, 2, 3, 4, 5, 6, 7], \"cluster\": [1, 1, 1, 1, 1, 1, 1], \"Freq\": [24.18205435599855, 22.072175517647377, 14.93039030026561, 13.257460960360461, 12.93770432851225, 8.16668427516567, 4.453530262050094]}, \"tinfo\": {\"Term\": [\"trump\", \"health\", \"clinton\", \"police\", \"president\", \"u\", \"court\", \"election\", \"campaign\", \"students\", \"federal\", \"care\", \"obama\", \"percent\", \"case\", \"food\", \"law\", \"school\", \"justice\", \"government\", \"republican\", \"companies\", \"company\", \"disease\", \"officers\", \"national\", \"black\", \"vote\", \"presidential\", \"study\", \"kid\", \"bands\", \"pie\", \"chicken\", \"comedy\", \"punk\", \"jazz\", \"chocolate\", \"egg\", \"soft\", \"movies\", \"weird\", \"jokes\", \"meals\", \"lucy\", \"mushrooms\", \"oven\", \"tales\", \"butter\", \"comic\", \"sauce\", \"culinary\", \"dylan\", \"emotions\", \"singing\", \"pan\", \"cheese\", \"novel\", \"essay\", \"passion\", \"book\", \"cup\", \"character\", \"love\", \"kitchen\", \"movie\", \"listen\", \"stories\", \"film\", \"funny\", \"guys\", \"app\", \"musical\", \"oh\", \"felt\", \"writing\", \"life\", \"feel\", \"songs\", \"really\", \"friends\", \"song\", \"teacher\", \"wanted\", \"something\", \"show\", \"things\", \"think\", \"thing\", \"music\", \"little\", \"story\", \"way\", \"know\", \"never\", \"always\", \"kids\", \"us\", \"get\", \"maybe\", \"kind\", \"got\", \"make\", \"lot\", \"different\", \"going\", \"even\", \"go\", \"every\", \"want\", \"school\", \"see\", \"much\", \"back\", \"made\", \"day\", \"world\", \"say\", \"two\", \"could\", \"clinton\", \"sanders\", \"comey\", \"hillary\", \"democrats\", \"cia\", \"election\", \"nominee\", \"trump\", \"voting\", \"tillerson\", \"nomination\", \"elections\", \"presidential\", \"pence\", \"putin\", \"presidency\", \"democratic\", \"nunes\", \"voter\", \"bernie\", \"votes\", \"delegates\", \"missile\", \"sanctions\", \"jeb\", \"hacking\", \"nominees\", \"romney\", \"mcconnell\", \"bush\", \"polls\", \"rubio\", \"republican\", \"donald\", \"campaign\", \"candidate\", \"voters\", \"vote\", \"russia\", \"obama\", \"republicans\", \"sen\", \"president\", \"russian\", \"senate\", \"party\", \"fbi\", \"candidates\", \"supporters\", \"administration\", \"committee\", \"house\", \"political\", \"white\", \"former\", \"intelligence\", \"state\", \"u\", \"news\", \"think\", \"told\", \"could\", \"going\", \"even\", \"may\", \"last\", \"medicaid\", \"contraception\", \"parenthood\", \"repeal\", \"medicare\", \"insurers\", \"employers\", \"aca\", \"abortions\", \"vouchers\", \"sued\", \"insurer\", \"healthcare\", \"provider\", \"provisions\", \"payments\", \"obamacare\", \"premium\", \"petition\", \"affordable\", \"deductibles\", \"proposition\", \"airline\", \"payment\", \"subsidies\", \"profits\", \"devos\", \"securities\", \"companies\", \"marketplace\", \"insurance\", \"chess\", \"tax\", \"generic\", \"coverage\", \"schools\", \"financial\", \"costs\", \"privacy\", \"services\", \"employees\", \"students\", \"abortion\", \"company\", \"price\", \"funding\", \"budget\", \"pay\", \"education\", \"law\", \"health\", \"care\", \"plan\", \"money\", \"school\", \"plans\", \"federal\", \"public\", \"bill\", \"program\", \"year\", \"state\", \"million\", \"percent\", \"states\", \"use\", \"women\", \"get\", \"help\", \"could\", \"court\", \"u\", \"israel\", \"israeli\", \"iraqi\", \"islamic\", \"palestinian\", \"egypt\", \"afghan\", \"santos\", \"saudi\", \"fighters\", \"athletes\", \"arabia\", \"rebels\", \"taliban\", \"yemen\", \"detained\", \"turkish\", \"palestinians\", \"arrest\", \"coup\", \"beijing\", \"turkey\", \"civilian\", \"refugee\", \"philippines\", \"mosul\", \"missiles\", \"lebanon\", \"stadium\", \"refugees\", \"somalia\", \"isis\", \"baltimore\", \"japan\", \"chinese\", \"syrian\", \"peace\", \"afghanistan\", \"airport\", \"syria\", \"forces\", \"war\", \"china\", \"military\", \"killed\", \"muslim\", \"international\", \"attack\", \"authorities\", \"reports\", \"iraq\", \"u\", \"minister\", \"government\", \"city\", \"rights\", \"country\", \"told\", \"police\", \"group\", \"lee\", \"according\", \"countries\", \"reported\", \"last\", \"world\", \"npr\", \"two\", \"women\", \"american\", \"security\", \"back\", \"since\", \"say\", \"year\", \"vaccine\", \"disease\", \"viruses\", \"infected\", \"infection\", \"diet\", \"diarrhea\", \"zika\", \"farmers\", \"farming\", \"opioids\", \"virus\", \"cdc\", \"symptoms\", \"greenhouse\", \"opioid\", \"genetic\", \"cardiovascular\", \"overdose\", \"defects\", \"sustainability\", \"transmission\", \"genes\", \"babies\", \"agriculture\", \"vaccines\", \"bacteria\", \"flint\", \"liver\", \"genetically\", \"diseases\", \"researchers\", \"waste\", \"medicine\", \"carbon\", \"dr\", \"epa\", \"hiv\", \"study\", \"patients\", \"brain\", \"research\", \"animals\", \"medical\", \"doctors\", \"food\", \"health\", \"studies\", \"science\", \"humans\", \"patient\", \"population\", \"scientists\", \"percent\", \"risk\", \"university\", \"climate\", \"children\", \"treatment\", \"water\", \"cases\", \"may\", \"care\", \"likely\", \"could\", \"countries\", \"get\", \"world\", \"better\", \"less\", \"year\", \"need\", \"u\", \"much\", \"even\", \"nasa\", \"planets\", \"drag\", \"mosquito\", \"rats\", \"beatles\", \"powell\", \"spencer\", \"mosquitoes\", \"superpac\", \"telescope\", \"galaxy\", \"einstein\", \"parker\", \"cosmic\", \"humble\", \"colonial\", \"solar\", \"astronauts\", \"rodents\", \"glimpse\", \"archive\", \"continents\", \"lamar\", \"ebola\", \"preservation\", \"particles\", \"orbits\", \"telescopes\", \"astronomer\", \"smithsonian\", \"bowie\", \"sun\", \"earth\", \"museum\", \"stars\", \"gray\", \"tree\", \"sky\", \"tea\", \"space\", \"prince\", \"planet\", \"guinea\", \"universe\", \"waves\", \"weather\", \"ice\", \"history\", \"christie\", \"moon\", \"chris\", \"black\", \"artist\", \"year\", \"dark\", \"building\", \"died\", \"star\", \"death\", \"three\", \"still\", \"day\", \"see\", \"since\", \"around\", \"two\", \"back\", \"next\", \"light\", \"could\", \"last\", \"even\", \"past\", \"made\", \"world\", \"called\", \"us\", \"much\", \"city\", \"castile\", \"brexit\", \"rouge\", \"niki\", \"monuments\", \"monument\", \"freddie\", \"verdict\", \"indicted\", \"subscribe\", \"rogosin\", \"videographers\", \"boilen\", \"itunes\", \"jury\", \"alton\", \"philando\", \"rangers\", \"unarmed\", \"cameron\", \"standoff\", \"britain\", \"plea\", \"bears\", \"acres\", \"retiring\", \"reynolds\", \"bang\", \"autonomous\", \"lands\", \"howard\", \"hydrogen\", \"officers\", \"police\", \"opera\", \"eu\", \"sterling\", \"trial\", \"jacob\", \"fields\", \"vocals\", \"bridge\", \"ears\", \"prosecutors\", \"shooting\", \"officer\", \"guilty\", \"court\", \"case\", \"k\", \"justice\", \"federal\", \"charges\", \"video\", \"death\", \"national\", \"st\", \"black\", \"according\", \"last\", \"department\", \"u\", \"two\", \"npr\", \"attorney\", \"man\", \"former\", \"told\", \"music\", \"statement\"], \"Freq\": [1855.0, 827.0, 574.0, 323.0, 928.0, 1118.0, 377.0, 368.0, 456.0, 416.0, 372.0, 496.0, 397.0, 683.0, 359.0, 407.0, 419.0, 630.0, 242.0, 553.0, 284.0, 221.0, 370.0, 178.0, 138.0, 471.0, 337.0, 274.0, 239.0, 231.0, 58.596472906324124, 53.65065380543419, 51.669997458670885, 50.66784863907501, 48.695868586828155, 36.80183269794313, 33.825612958731504, 32.83618185715829, 31.83957188093347, 30.844769849430264, 29.85132722674446, 24.900949160920376, 21.927126213566165, 19.922428342336815, 18.95479378552443, 23.647937660371962, 17.972541558602813, 17.970314980370595, 44.337452106101175, 16.974607826414523, 16.97354284116502, 16.966404219735594, 16.969254147865467, 16.954509967629402, 49.023548216792186, 15.9840542349887, 47.9422408607464, 53.52771816473267, 14.987337300202105, 14.98754316668122, 220.79134341450165, 41.22913509282138, 65.69372782446206, 194.7769786273459, 49.96666511102482, 94.26651380706372, 80.13925215384269, 146.21793879332938, 119.17128817418262, 33.8447711923019, 39.07147957770157, 37.35059912537204, 39.84074395545957, 64.89839315984047, 131.43432420063866, 86.37635781910757, 337.3671222244199, 209.38373666309585, 86.1686695941661, 403.0191983147611, 131.0411123249764, 118.1005708658446, 64.16514506509905, 142.68265700254898, 303.3287399340166, 244.54773705651337, 300.98466829673583, 472.1449940679829, 191.2365168219178, 157.6861231938299, 232.51694602070867, 252.06442594932932, 410.0419732709578, 405.70268512140757, 212.76489691681894, 174.15102516952047, 157.0818740251414, 265.5473876278914, 423.9306322246082, 133.46934309899308, 189.7150646333398, 213.95931812735594, 325.6970552637074, 251.42431230977638, 207.83712966093566, 295.97100296491874, 313.2553409344842, 248.9435545310997, 210.2816917422341, 235.3016225273465, 258.1112235808951, 230.1435424354762, 250.9436658351854, 252.62228500460117, 230.5665186937055, 222.01209713289242, 224.00424059917194, 223.81558869804226, 225.4040958542087, 219.93249146547464, 573.7874953990562, 204.48649185806568, 200.58635502447572, 169.2854588292511, 168.30114905824632, 113.55735801027113, 365.8107214448257, 101.81791372498466, 1838.0893572774862, 65.63152537736576, 64.66144177481435, 64.6609252993953, 64.6600183181716, 235.57945420978066, 48.040729518203314, 48.03750469607457, 47.063188514479194, 180.24078425474372, 43.15550610098646, 40.21312884267206, 40.20811945100593, 71.81704074635854, 37.28613247427641, 34.33952053742446, 42.919791758513576, 30.440502733909156, 30.435006259733992, 29.457643712963606, 28.484417168532822, 28.482819453923465, 135.59029176494556, 70.90302202019124, 77.19124881378195, 270.4164854408133, 237.1180638760605, 427.95512656334813, 138.48267168330298, 207.3796443900581, 254.9777502751427, 200.7011721290179, 360.76730118685305, 194.84420650932665, 121.83585432360029, 758.5755811824037, 115.02293049411948, 178.38877898377518, 186.5957497500457, 162.13161083534712, 119.42655947850815, 97.11419152718832, 226.63569556683507, 172.50589721541385, 369.0600992504042, 253.2816953868064, 285.43727022183975, 213.3498482951243, 157.5985858630426, 323.64251059470536, 342.5316710705433, 197.95755392729737, 242.313705816079, 215.84104018552767, 229.66518081350986, 211.50918028945213, 208.23635533964585, 194.15908297050584, 194.3244390843469, 72.64300163913686, 43.243873284191025, 41.28511127173639, 44.15741517355621, 34.42795020849592, 31.484245801081613, 33.33856561482453, 27.56843166177851, 24.627891394838077, 24.623798462681115, 26.43021875671899, 21.68763800239303, 21.681153502660663, 19.717131177676748, 19.712355143379785, 21.58211789406746, 59.971101899329966, 17.76609773454834, 17.75052698223435, 58.90188941126492, 16.79167454447645, 16.787700906664107, 16.754923365309963, 15.80435904416137, 15.804873145979835, 15.764665271161011, 14.824253750841738, 14.818355781637068, 208.86458320085478, 13.84733390055752, 156.11643006911626, 40.95176594843799, 127.62804302677867, 27.336784767265648, 97.96197085302119, 156.4427966732546, 105.46442627004903, 72.63221970265676, 43.684086457875004, 138.90672115785912, 86.26022953046615, 306.89590383287964, 66.0772170126221, 270.92052419284977, 107.80225458354708, 93.03644370020126, 80.34316754997572, 148.90154219081103, 137.2189674929577, 253.31013398144128, 422.46917380660165, 277.24755539032236, 154.5763968869485, 158.0682105220693, 290.9519306407355, 98.04438620310194, 181.50825404346278, 208.83495275792527, 146.70398130384962, 121.94517856750267, 241.3365038054561, 215.01340000883653, 149.15718429064103, 193.97021845947702, 150.97108320394975, 144.7673909974444, 171.43135850141473, 166.6770357751687, 134.7391675479999, 158.45745092650358, 127.96197630077553, 125.02923277135824, 65.15520718492633, 54.483361611860076, 43.80909483695977, 41.86290001563814, 38.954320340728756, 37.97766552883155, 34.101543336010835, 34.10186868500729, 32.154380033955576, 32.13217811755434, 29.236014668300225, 27.299940975061986, 26.330438796916216, 25.36811195128908, 25.364349000105317, 25.363448615673278, 22.454054307230148, 22.453554934351875, 26.170805933494673, 29.878493185392955, 20.49555044887611, 67.112077993085, 20.49298548818316, 49.351104775020126, 19.535159303673595, 18.574354536491093, 18.563924452965328, 17.588547077244108, 16.624084025415467, 89.66722252105743, 47.06667562373673, 139.03885706996215, 45.19648888540772, 52.91443795590385, 117.05454618356161, 65.47579952860765, 59.54231151900352, 49.872535810836325, 53.62564581797558, 115.07970299595557, 94.13510661880315, 176.84916206618513, 141.01632322622174, 137.94912456615884, 98.50267225389119, 66.14257329285398, 128.36260793606021, 105.8933504989804, 67.28431623855509, 173.7374939991034, 75.16231179445275, 465.7799134272613, 74.46451638170758, 231.33828916491254, 186.6928204194014, 133.3369166624215, 212.149901449751, 185.4292960656178, 128.1205281060186, 140.0997369185763, 81.4219356911041, 147.85882119939893, 105.88552194638362, 120.43639011030095, 166.17578810946114, 150.96106675600979, 129.5703437642508, 147.31108481448982, 126.98182679512153, 119.22772615474067, 98.4957819170051, 112.11120866399429, 101.52488700154557, 102.99831946600075, 101.2501209467442, 49.74098564687369, 175.36182557473956, 35.14883680262615, 37.01748073172292, 33.20439113948471, 31.255694888815025, 30.287922006434282, 112.54875483908228, 52.00130386485062, 28.33454690985191, 28.338327397659317, 120.77444653666339, 25.42132909476605, 22.5010524001023, 22.49898494583262, 22.497936451167284, 49.58711782410806, 17.64218290688436, 17.640355424985273, 17.638636238309832, 16.65716647139248, 16.664716371359425, 29.607759086771527, 36.99864228531803, 41.61510276541633, 14.723130686624376, 34.02708780225612, 49.57212385814274, 13.747294732591891, 13.736749485188996, 42.695352543832755, 134.6565651308166, 57.66409064455706, 69.53872591038434, 40.40306508358341, 105.27923120616582, 27.2895004628869, 27.27491998777551, 194.34239469314002, 164.3527792640142, 112.2784794959135, 190.19687322186823, 75.15831274087486, 144.7796482168633, 96.71266552461663, 240.7310869244052, 388.8673554433128, 80.96238048485274, 95.09250990869437, 47.90351105214738, 51.50565631624637, 74.86329193910213, 72.53984252824756, 271.60554324589174, 98.12417562464715, 157.83621263109382, 72.5787943511903, 157.01036310056114, 65.23700826903847, 121.18309364059554, 102.2359680562622, 164.16143144884543, 145.85824895437415, 104.07099124092589, 184.62715141935826, 102.48672072411303, 156.0168922538593, 138.25331532377376, 108.16883327873079, 103.6077830343149, 132.90320638980515, 110.36466661353445, 122.00288848362416, 113.65028462894588, 107.31160766840068, 53.730315191124156, 37.4589812813486, 31.712167117839535, 23.084500919245144, 22.14360920877603, 17.3457189779231, 16.395062757503226, 15.431564303311996, 15.421468872021618, 15.40385702082006, 14.489448339248417, 14.488996235446402, 30.657562756246175, 17.116331451956583, 10.659988533444105, 10.650069438172727, 10.649677925601909, 38.16927830209118, 9.70316754365516, 9.696870716474505, 8.740710015743486, 8.74072011428202, 8.726335134547085, 18.317067880607755, 84.63252669549219, 7.787409531849279, 18.988299093440737, 6.833115507125554, 6.832539890429173, 6.83176696382607, 31.657641224246568, 17.496221381733733, 41.324714260752806, 73.20894804622422, 56.09339806578796, 46.551730234405866, 36.75484592273247, 28.02859313011496, 24.92626926965168, 54.3263775439814, 93.25725654980545, 23.972732635317932, 42.42393241196366, 31.718456176913627, 27.263521636369372, 22.07202455316885, 29.444262192038636, 34.3343909202307, 96.01295817366191, 35.259600377168724, 28.379096312761067, 36.24010632387085, 90.94109925327254, 33.56200187010197, 122.23615322830227, 37.15587287046985, 50.040315425649965, 46.39579947772842, 42.855531519893724, 57.558804760418646, 67.6257177779793, 83.74375587282387, 79.13409307849825, 72.49761320644471, 68.71257531802577, 66.93124905117122, 76.4231916788168, 68.55760469931961, 56.758621425004456, 41.16351672782507, 70.50646727405798, 65.47876227137753, 66.68687684764305, 51.73516402299312, 57.4764939032681, 57.26345513437586, 54.156504589643156, 53.97953469314818, 55.183678213338254, 52.61387048679731, 30.98159251725192, 30.029754662999835, 16.95219165251434, 14.153736815244905, 14.142169517828963, 60.69504391004901, 12.275487471843634, 14.86300201217217, 11.334200233186712, 9.47062415016387, 8.544447345068313, 8.544447345068313, 8.54236145286601, 8.540975376650344, 44.79820018243022, 7.60762164513492, 6.673206751969055, 6.668379631407469, 5.733436487312224, 21.27518544985635, 7.333361557160894, 27.239651019653266, 10.313827010160894, 36.80456647805067, 29.735225328458828, 9.361920529885909, 13.211282086963784, 37.360884603564116, 9.327268624494272, 29.46414745458385, 23.822169969399432, 15.082561229248746, 91.94819553057107, 191.99179461578194, 23.355289343660136, 28.07956067778581, 29.584851309286435, 52.97003109847755, 15.901535714221696, 22.63271493446399, 13.476918171393029, 18.0792275070629, 24.725254541405636, 25.258205929738118, 38.34562567047609, 41.25524703973433, 25.20533678058778, 107.83182917239851, 98.87066682433282, 30.240051908689093, 65.40581201512501, 78.39118401257173, 33.170308529969795, 57.35384110786901, 56.22217257315709, 69.71792562251494, 33.19064216638542, 52.453753292005885, 53.58936994112184, 60.77164071842669, 46.39092375604835, 55.97973801511293, 47.94031296152538, 44.4808870082855, 34.44847752611693, 37.10058355698942, 37.27338896606766, 37.18569677008585, 34.09092069656627, 34.268572288990235], \"Total\": [1855.0, 827.0, 574.0, 323.0, 928.0, 1118.0, 377.0, 368.0, 456.0, 416.0, 372.0, 496.0, 397.0, 683.0, 359.0, 407.0, 419.0, 630.0, 242.0, 553.0, 284.0, 221.0, 370.0, 178.0, 138.0, 471.0, 337.0, 274.0, 239.0, 231.0, 59.42623502847713, 54.479205260352174, 52.49800058322827, 51.49729658544457, 49.5239988176818, 37.62999834922565, 34.655158020021986, 33.66431318730417, 32.6684473641171, 31.674248405019142, 30.680774565863885, 25.72996265060886, 22.755929204064383, 20.7666224775444, 19.783382102881678, 24.724185531604938, 18.800183698338017, 18.79832261792964, 46.49722841919207, 17.80307519746519, 17.802269815476883, 17.79619478099616, 17.802075096077868, 17.790227808668973, 51.44217786761296, 16.81240632237139, 50.451786967867676, 56.420519530414396, 15.816060533045121, 15.816573075677356, 236.3942097975339, 43.53917525091013, 70.24092726336117, 213.62310103207182, 53.42684204058567, 103.72400212753001, 87.92616525527677, 164.1978648392781, 137.15287178937652, 36.522757044635306, 42.529323681819285, 40.545549863442496, 43.4744443092149, 74.05534040277125, 162.95005077258946, 102.77892341519382, 473.7024733088753, 278.30173598779254, 103.12570941856708, 609.5947628005579, 168.5760001750712, 151.46530835257903, 74.14261309285041, 193.4012483131329, 486.3952249824157, 376.1823921667975, 497.1626905781504, 872.7630669799003, 284.801520549517, 224.73389475752992, 368.04904051622077, 410.99266603746577, 768.4958588207124, 760.7892135881252, 345.55530707983354, 268.2841283729448, 234.49869521850644, 486.23837627536966, 953.8864428326016, 188.31755966345548, 311.87323953664225, 373.31228563366074, 738.2019467352645, 508.63329267230876, 393.9898271715269, 774.0257021830644, 876.7385515703106, 570.0202740546207, 416.0893090896689, 522.1706157376701, 630.1235618172103, 522.8912433279695, 659.4508407970459, 679.3941942822032, 573.8922047960167, 568.25552219696, 671.4224755872842, 703.7364913822629, 795.7350677908807, 960.9456160258409, 574.9263125913681, 205.3234809290786, 201.41593748613099, 170.11631009787104, 169.14229032483908, 114.38707571378892, 368.6057646753764, 102.6482440656925, 1855.9380243977578, 66.462407657934, 65.49165329675017, 65.49115451597757, 65.49036566720126, 239.4141367561156, 48.87054959443863, 48.86767643985685, 47.89305492815915, 183.68668652999787, 43.985008311520396, 41.043603800238856, 41.04314582062384, 73.3099946994333, 38.11602931666098, 35.17067229822557, 43.97335802379747, 31.270414311512923, 31.265250259339886, 30.288061977632847, 29.31432594511928, 29.312873978678194, 139.6420815672816, 73.28338487554524, 80.11645155010171, 284.5501544438054, 249.27296590223173, 456.4878255719397, 144.71552108619207, 221.9678644610991, 274.7662138624984, 214.99088001513465, 397.3702570306581, 211.21844000396166, 130.0396478650843, 928.3270723705725, 123.97570051068868, 200.4738592751717, 216.01554660168944, 185.39365144919313, 131.98133933659682, 105.51327577820302, 294.3233556119981, 213.0178505575032, 579.4656532492795, 354.84527574135393, 489.10588019192403, 329.8988123892969, 202.15343376614442, 722.6203396509705, 1118.9060722330878, 411.08178363562644, 872.7630669799003, 590.8734909522359, 960.9456160258409, 774.0257021830644, 876.7385515703106, 625.4825702852371, 739.7571104085201, 73.47232437729151, 44.07352920775791, 42.1145852616442, 45.047283087246996, 35.25726216818172, 32.3140654164601, 34.26931323263584, 28.397780596807035, 25.45732085614194, 25.45369549044668, 27.400372927370352, 22.517244561362695, 22.511493113194394, 20.547928638680588, 20.549801830270866, 22.50960226487507, 62.67845596901148, 18.595860079549244, 18.581700196452996, 61.69631705856962, 17.620883976226004, 17.617406668767575, 17.602191267141443, 16.634335252035385, 16.63488369605655, 16.631566063275812, 15.65406961772767, 15.649196488672505, 221.2668312502395, 14.676902893828403, 168.2175602603367, 44.04138000097354, 141.04477139198815, 29.355298809991375, 115.29548867800686, 190.11240494590837, 125.3686202649008, 84.19753653401523, 48.94995906254423, 170.2930663257191, 101.82269596489567, 416.1520283157496, 77.35133915535938, 370.96813730170845, 137.20690592626795, 116.41126870186135, 99.85690325210513, 212.11216716117494, 196.6518615812372, 419.3073519266923, 827.9976834358796, 496.6981932551931, 241.58555808347927, 265.257312592114, 630.1235618172103, 153.14611847784533, 372.0161725234214, 492.37065000688824, 291.6952380287406, 241.9654014416379, 888.4754184114274, 722.6203396509705, 369.6960324914212, 683.0213119729771, 412.8256896244195, 382.43821817919184, 577.8485351903399, 953.8864428326016, 444.3130882236256, 960.9456160258409, 377.31572175650905, 1118.9060722330878, 65.98708615708388, 55.31460464452046, 44.63989978372987, 42.694131914375056, 39.785349057229055, 38.809590556506684, 34.932536902990314, 34.932954558274574, 32.98604314282436, 32.98661787855134, 30.068002138287092, 28.131725697922477, 27.163832702884566, 26.198876461747115, 26.19535171303263, 26.195371437581905, 23.284938248476426, 23.284506030173375, 27.155915808257188, 31.045009350308945, 21.3361911383882, 69.86533989796516, 21.340301097600605, 51.42501027957607, 20.370977818298858, 19.404965731303925, 19.39884650477962, 18.42022377604486, 17.45549601462512, 94.1577310445596, 49.48652278797291, 149.53259698363846, 48.50321921799723, 57.14167880357559, 134.89180521570702, 72.82607226021005, 65.91039942014393, 55.317703737375965, 60.19443367159912, 139.92856672460604, 112.78000707011287, 237.6298834360222, 184.48312298507884, 180.7713982817508, 129.2987071143781, 80.6889122289295, 179.68486672679114, 148.7189928237032, 84.08502876906861, 288.1353722398577, 98.17661108408528, 1118.9060722330878, 100.31478198853898, 553.5594783588291, 425.0969288706242, 258.69434546512446, 599.5380171831396, 590.8734909522359, 323.6414252379177, 392.1753976152342, 136.23860553399697, 485.3556943117664, 241.17690544220895, 329.1564948618053, 739.7571104085201, 671.4224755872842, 529.4114648523733, 795.7350677908807, 577.8485351903399, 478.09397987536937, 256.41290894888687, 679.3941942822032, 463.1428761619098, 703.7364913822629, 888.4754184114274, 50.571620202865624, 178.97769762886193, 35.979436720273405, 37.92306401078714, 34.03490261805291, 32.08658651469276, 31.11818499565269, 115.7031298489573, 53.48485553348121, 29.165753722567665, 29.17003468991262, 124.44848833502924, 26.251990767352012, 23.331774159813428, 23.329980722602716, 23.33038241436095, 51.54690992651474, 18.47245637999145, 18.470927517312976, 18.46924314318796, 17.488718978712225, 17.49760263115344, 31.10738543684943, 38.88677387898527, 43.744392517169615, 15.553552215442966, 35.95735816988939, 52.47119752504321, 14.578321376836993, 14.568528685799956, 45.70110797812241, 147.6970857301364, 62.19912887531866, 75.85889028855273, 43.72509930838581, 118.68737522417, 29.160226233653542, 29.170651472128906, 231.2743265981156, 212.316066270519, 143.53296131721245, 266.6052924081296, 92.13120678697592, 198.7253791547631, 125.61149175554539, 407.71359110444024, 827.9976834358796, 112.9426008032732, 144.2594621312804, 57.27247369021761, 63.28181625046642, 106.7444017001505, 102.58426261875121, 683.0213119729771, 161.79976179681336, 335.3291845841783, 105.19921172081588, 357.12326489724563, 90.44813881527907, 260.0336682897109, 201.8840447949312, 625.4825702852371, 496.6981932551931, 242.40216691370188, 960.9456160258409, 241.17690544220895, 953.8864428326016, 671.4224755872842, 331.51789675740355, 323.23144913260427, 888.4754184114274, 449.82973577575035, 1118.9060722330878, 659.4508407970459, 876.7385515703106, 54.56290748108966, 38.291624081767495, 32.5450951113695, 23.919277031740673, 22.976374669581123, 18.180040493217003, 17.228364459819456, 16.265856459162507, 16.256923757982797, 16.239807514299848, 15.321954355574961, 15.321536011357148, 32.53897592478702, 18.171466557081583, 11.492585708029479, 11.48342295336724, 11.483569567444206, 41.18203685375754, 10.535727554427618, 10.530184614594026, 9.57375127848708, 9.573838931276985, 9.56111341930223, 20.106489992400878, 92.95853447463247, 8.620136379011312, 21.095669310224913, 7.665571270178863, 7.665038837495726, 7.664326399304445, 36.27795309347067, 20.15926108876368, 48.90801725584595, 89.06953604621403, 68.27495425087866, 56.7197660868887, 46.122873332176205, 34.625276310983004, 30.580931224575778, 75.03222856709483, 145.11443844488178, 29.836930750481905, 60.706512939938435, 44.2121882775185, 37.618430076586726, 27.847273220260654, 43.27487077283547, 55.192736846057265, 272.35398233691893, 58.86022852913493, 41.566012487672225, 62.725711503433075, 337.47179399274194, 59.23122755962878, 888.4754184114274, 74.88316099855231, 151.38435502774558, 129.36269962464786, 107.96695326583918, 221.07824009123865, 361.6603246416876, 655.0637847596802, 568.25552219696, 522.8912433279695, 463.1428761619098, 504.99904808213694, 795.7350677908807, 679.3941942822032, 335.80833636494566, 102.47339201617659, 960.9456160258409, 739.7571104085201, 876.7385515703106, 267.6579496968633, 573.8922047960167, 671.4224755872842, 480.6921941944957, 486.23837627536966, 659.4508407970459, 425.0969288706242, 31.81730705187825, 30.866991029140053, 17.7884736891018, 14.989436757400318, 14.979069833265907, 64.61044429548791, 13.113900168233025, 15.924730052297805, 12.180097124855994, 10.307316170725578, 9.38014907043959, 9.380149081772291, 9.37825595505546, 9.376942293140079, 49.692314021376816, 8.443523911873518, 7.509066917484316, 7.504769071322287, 6.570226970849154, 24.455005943759048, 8.448747927209581, 31.935175094127107, 12.1929629756198, 44.23126109626213, 35.74701993400182, 11.264914610940663, 15.956267383000887, 45.15733167427321, 11.27775560379732, 35.807709447233, 29.196421617510605, 18.78404429485036, 138.2240370184918, 323.6414252379177, 31.269332543810577, 38.709286020284644, 42.623714478737824, 91.1722036893348, 20.72580259268778, 33.071962023929714, 16.912891563900228, 25.505685651648605, 38.979030333986, 40.83386965674061, 74.06665261589899, 82.92851265044348, 40.8291398480595, 377.31572175650905, 359.86996558156324, 60.11902656705527, 242.32181471805836, 372.0161725234214, 74.6246573622505, 227.1848733259305, 221.07824009123865, 471.5001847994561, 81.29273457759723, 337.47179399274194, 485.3556943117664, 739.7571104085201, 372.726495023565, 1118.9060722330878, 795.7350677908807, 529.4114648523733, 134.34436999280234, 278.11346528575956, 329.8988123892969, 590.8734909522359, 224.73389475752992, 265.7230911733689], \"Category\": [\"Default\", \"Default\", \"Default\", \"Default\", \"Default\", \"Default\", \"Default\", \"Default\", \"Default\", \"Default\", \"Default\", \"Default\", \"Default\", \"Default\", \"Default\", \"Default\", \"Default\", \"Default\", \"Default\", \"Default\", \"Default\", \"Default\", \"Default\", \"Default\", \"Default\", \"Default\", \"Default\", \"Default\", \"Default\", \"Default\", \"Topic1\", \"Topic1\", \"Topic1\", \"Topic1\", \"Topic1\", \"Topic1\", \"Topic1\", \"Topic1\", \"Topic1\", \"Topic1\", \"Topic1\", \"Topic1\", \"Topic1\", \"Topic1\", \"Topic1\", \"Topic1\", \"Topic1\", \"Topic1\", \"Topic1\", \"Topic1\", \"Topic1\", \"Topic1\", \"Topic1\", \"Topic1\", \"Topic1\", \"Topic1\", \"Topic1\", \"Topic1\", \"Topic1\", \"Topic1\", \"Topic1\", \"Topic1\", \"Topic1\", \"Topic1\", \"Topic1\", \"Topic1\", \"Topic1\", \"Topic1\", \"Topic1\", \"Topic1\", \"Topic1\", \"Topic1\", \"Topic1\", \"Topic1\", \"Topic1\", \"Topic1\", \"Topic1\", \"Topic1\", \"Topic1\", \"Topic1\", \"Topic1\", \"Topic1\", \"Topic1\", \"Topic1\", \"Topic1\", \"Topic1\", \"Topic1\", \"Topic1\", \"Topic1\", \"Topic1\", \"Topic1\", \"Topic1\", \"Topic1\", \"Topic1\", \"Topic1\", \"Topic1\", \"Topic1\", \"Topic1\", \"Topic1\", \"Topic1\", \"Topic1\", \"Topic1\", \"Topic1\", \"Topic1\", \"Topic1\", \"Topic1\", \"Topic1\", \"Topic1\", \"Topic1\", \"Topic1\", \"Topic1\", \"Topic1\", \"Topic1\", \"Topic1\", \"Topic1\", \"Topic1\", \"Topic1\", \"Topic1\", \"Topic1\", \"Topic1\", \"Topic2\", \"Topic2\", \"Topic2\", \"Topic2\", \"Topic2\", \"Topic2\", \"Topic2\", \"Topic2\", \"Topic2\", \"Topic2\", \"Topic2\", \"Topic2\", \"Topic2\", \"Topic2\", \"Topic2\", \"Topic2\", \"Topic2\", \"Topic2\", \"Topic2\", \"Topic2\", \"Topic2\", \"Topic2\", \"Topic2\", \"Topic2\", \"Topic2\", \"Topic2\", \"Topic2\", \"Topic2\", \"Topic2\", \"Topic2\", \"Topic2\", \"Topic2\", \"Topic2\", \"Topic2\", \"Topic2\", \"Topic2\", \"Topic2\", \"Topic2\", \"Topic2\", \"Topic2\", \"Topic2\", \"Topic2\", \"Topic2\", \"Topic2\", \"Topic2\", \"Topic2\", \"Topic2\", \"Topic2\", \"Topic2\", \"Topic2\", \"Topic2\", \"Topic2\", \"Topic2\", \"Topic2\", \"Topic2\", \"Topic2\", \"Topic2\", \"Topic2\", \"Topic2\", \"Topic2\", \"Topic2\", \"Topic2\", \"Topic2\", \"Topic2\", \"Topic2\", \"Topic2\", \"Topic2\", \"Topic3\", \"Topic3\", \"Topic3\", \"Topic3\", \"Topic3\", \"Topic3\", \"Topic3\", \"Topic3\", \"Topic3\", \"Topic3\", \"Topic3\", \"Topic3\", \"Topic3\", \"Topic3\", \"Topic3\", \"Topic3\", \"Topic3\", \"Topic3\", \"Topic3\", \"Topic3\", \"Topic3\", \"Topic3\", \"Topic3\", \"Topic3\", \"Topic3\", \"Topic3\", \"Topic3\", \"Topic3\", \"Topic3\", \"Topic3\", \"Topic3\", \"Topic3\", \"Topic3\", \"Topic3\", \"Topic3\", \"Topic3\", \"Topic3\", \"Topic3\", \"Topic3\", \"Topic3\", \"Topic3\", \"Topic3\", \"Topic3\", \"Topic3\", \"Topic3\", \"Topic3\", \"Topic3\", \"Topic3\", \"Topic3\", \"Topic3\", \"Topic3\", \"Topic3\", \"Topic3\", \"Topic3\", \"Topic3\", \"Topic3\", \"Topic3\", \"Topic3\", \"Topic3\", \"Topic3\", \"Topic3\", \"Topic3\", \"Topic3\", \"Topic3\", \"Topic3\", \"Topic3\", \"Topic3\", \"Topic3\", \"Topic3\", \"Topic3\", \"Topic3\", \"Topic3\", \"Topic4\", \"Topic4\", \"Topic4\", \"Topic4\", \"Topic4\", \"Topic4\", \"Topic4\", \"Topic4\", \"Topic4\", \"Topic4\", \"Topic4\", \"Topic4\", \"Topic4\", \"Topic4\", \"Topic4\", \"Topic4\", \"Topic4\", \"Topic4\", \"Topic4\", \"Topic4\", \"Topic4\", \"Topic4\", \"Topic4\", \"Topic4\", \"Topic4\", \"Topic4\", \"Topic4\", \"Topic4\", \"Topic4\", \"Topic4\", \"Topic4\", \"Topic4\", \"Topic4\", \"Topic4\", \"Topic4\", \"Topic4\", \"Topic4\", \"Topic4\", \"Topic4\", \"Topic4\", \"Topic4\", \"Topic4\", \"Topic4\", \"Topic4\", \"Topic4\", \"Topic4\", \"Topic4\", \"Topic4\", \"Topic4\", \"Topic4\", \"Topic4\", \"Topic4\", \"Topic4\", \"Topic4\", \"Topic4\", \"Topic4\", \"Topic4\", \"Topic4\", \"Topic4\", \"Topic4\", \"Topic4\", \"Topic4\", \"Topic4\", \"Topic4\", \"Topic4\", \"Topic4\", \"Topic4\", \"Topic4\", \"Topic4\", \"Topic4\", \"Topic4\", \"Topic4\", \"Topic4\", \"Topic4\", \"Topic4\", \"Topic5\", \"Topic5\", \"Topic5\", \"Topic5\", \"Topic5\", \"Topic5\", \"Topic5\", \"Topic5\", \"Topic5\", \"Topic5\", \"Topic5\", \"Topic5\", \"Topic5\", \"Topic5\", \"Topic5\", \"Topic5\", \"Topic5\", \"Topic5\", \"Topic5\", \"Topic5\", \"Topic5\", \"Topic5\", \"Topic5\", \"Topic5\", \"Topic5\", \"Topic5\", \"Topic5\", \"Topic5\", \"Topic5\", \"Topic5\", \"Topic5\", \"Topic5\", \"Topic5\", \"Topic5\", \"Topic5\", \"Topic5\", \"Topic5\", \"Topic5\", \"Topic5\", \"Topic5\", \"Topic5\", \"Topic5\", \"Topic5\", \"Topic5\", \"Topic5\", \"Topic5\", \"Topic5\", \"Topic5\", \"Topic5\", \"Topic5\", \"Topic5\", \"Topic5\", \"Topic5\", \"Topic5\", \"Topic5\", \"Topic5\", \"Topic5\", \"Topic5\", \"Topic5\", \"Topic5\", \"Topic5\", \"Topic5\", \"Topic5\", \"Topic5\", \"Topic5\", \"Topic5\", \"Topic5\", \"Topic5\", \"Topic5\", \"Topic5\", \"Topic5\", \"Topic5\", \"Topic5\", \"Topic5\", \"Topic5\", \"Topic6\", \"Topic6\", \"Topic6\", \"Topic6\", \"Topic6\", \"Topic6\", \"Topic6\", \"Topic6\", \"Topic6\", \"Topic6\", \"Topic6\", \"Topic6\", \"Topic6\", \"Topic6\", \"Topic6\", \"Topic6\", \"Topic6\", \"Topic6\", \"Topic6\", \"Topic6\", \"Topic6\", \"Topic6\", \"Topic6\", \"Topic6\", \"Topic6\", \"Topic6\", \"Topic6\", \"Topic6\", \"Topic6\", \"Topic6\", \"Topic6\", \"Topic6\", \"Topic6\", \"Topic6\", \"Topic6\", \"Topic6\", \"Topic6\", \"Topic6\", \"Topic6\", \"Topic6\", \"Topic6\", \"Topic6\", \"Topic6\", \"Topic6\", \"Topic6\", \"Topic6\", \"Topic6\", \"Topic6\", \"Topic6\", \"Topic6\", \"Topic6\", \"Topic6\", \"Topic6\", \"Topic6\", \"Topic6\", \"Topic6\", \"Topic6\", \"Topic6\", \"Topic6\", \"Topic6\", \"Topic6\", \"Topic6\", \"Topic6\", \"Topic6\", \"Topic6\", \"Topic6\", \"Topic6\", \"Topic6\", \"Topic6\", \"Topic6\", \"Topic6\", \"Topic6\", \"Topic6\", \"Topic6\", \"Topic6\", \"Topic6\", \"Topic6\", \"Topic6\", \"Topic6\", \"Topic6\", \"Topic7\", \"Topic7\", \"Topic7\", \"Topic7\", \"Topic7\", \"Topic7\", \"Topic7\", \"Topic7\", \"Topic7\", \"Topic7\", \"Topic7\", \"Topic7\", \"Topic7\", \"Topic7\", \"Topic7\", \"Topic7\", \"Topic7\", \"Topic7\", \"Topic7\", \"Topic7\", \"Topic7\", \"Topic7\", \"Topic7\", \"Topic7\", \"Topic7\", \"Topic7\", \"Topic7\", \"Topic7\", \"Topic7\", \"Topic7\", \"Topic7\", \"Topic7\", \"Topic7\", \"Topic7\", \"Topic7\", \"Topic7\", \"Topic7\", \"Topic7\", \"Topic7\", \"Topic7\", \"Topic7\", \"Topic7\", \"Topic7\", \"Topic7\", \"Topic7\", \"Topic7\", \"Topic7\", \"Topic7\", \"Topic7\", \"Topic7\", \"Topic7\", \"Topic7\", \"Topic7\", \"Topic7\", \"Topic7\", \"Topic7\", \"Topic7\", \"Topic7\", \"Topic7\", \"Topic7\", \"Topic7\", \"Topic7\", \"Topic7\", \"Topic7\", \"Topic7\", \"Topic7\", \"Topic7\", \"Topic7\", \"Topic7\", \"Topic7\"], \"logprob\": [30.0, 29.0, 28.0, 27.0, 26.0, 25.0, 24.0, 23.0, 22.0, 21.0, 20.0, 19.0, 18.0, 17.0, 16.0, 15.0, 14.0, 13.0, 12.0, 11.0, 10.0, 9.0, 8.0, 7.0, 6.0, 5.0, 4.0, 3.0, 2.0, 1.0, -7.206999778747559, -7.295100212097168, -7.332799911499023, -7.35230016708374, -7.392000198364258, -7.672100067138672, -7.756400108337402, -7.786099910736084, -7.81689977645874, -7.848700046539307, -7.881400108337402, -8.062700271606445, -8.189900398254395, -8.285799980163574, -8.335599899291992, -8.114399909973145, -8.388799667358398, -8.388899803161621, -7.485799789428711, -8.445899963378906, -8.446000099182129, -8.446399688720703, -8.446200370788574, -8.447099685668945, -7.385300159454346, -8.505999565124512, -7.407599925994873, -7.297399997711182, -8.57040023803711, -8.57040023803711, -5.88040018081665, -7.558499813079834, -7.092599868774414, -6.005799770355225, -7.366300106048584, -6.731500148773193, -6.893899917602539, -6.292500019073486, -6.497099876403809, -7.755799770355225, -7.612199783325195, -7.657299995422363, -7.592700004577637, -7.104800224304199, -6.399099826812744, -6.818900108337402, -5.456500053405762, -5.933499813079834, -6.821300029754639, -5.278600215911865, -6.402100086212158, -6.506100177764893, -7.116199970245361, -6.316999912261963, -5.56279993057251, -5.778200149536133, -5.5706000328063965, -5.120299816131592, -6.024099826812744, -6.2170000076293945, -5.828700065612793, -5.747900009155273, -5.26140022277832, -5.271999835968018, -5.917399883270264, -6.117700099945068, -6.220900058746338, -5.695799827575684, -5.228099822998047, -6.383800029754639, -6.032100200653076, -5.911799907684326, -5.491700172424316, -5.750500202178955, -5.940899848937988, -5.587399959564209, -5.530600070953369, -5.76039981842041, -5.929200172424316, -5.816800117492676, -5.7241997718811035, -5.838900089263916, -5.752399921417236, -5.745699882507324, -5.837100028991699, -5.874899864196777, -5.866000175476074, -5.866799831390381, -5.8597002029418945, -5.884300231933594, -4.834099769592285, -5.865799903869629, -5.8850998878479, -6.054800033569336, -6.0605998039245605, -6.453999996185303, -5.284200191497803, -6.563199996948242, -3.6698999404907227, -7.002299785614014, -7.017199993133545, -7.017199993133545, -7.017199993133545, -5.724299907684326, -7.314300060272217, -7.3144001960754395, -7.334799766540527, -5.992000102996826, -7.421500205993652, -7.492099761962891, -7.492300033569336, -6.912199974060059, -7.567699909210205, -7.650000095367432, -7.427000045776367, -7.770599842071533, -7.770699977874756, -7.803400039672852, -7.836999893188477, -7.836999893188477, -6.276700019836426, -6.925000190734863, -6.840099811553955, -5.586400032043457, -5.717800140380859, -5.127299785614014, -6.2555999755859375, -5.851799964904785, -5.645199775695801, -5.884500026702881, -5.298099994659424, -5.914100170135498, -6.383699893951416, -4.554900169372559, -6.441199779510498, -6.002399921417236, -5.957399845123291, -6.097899913787842, -6.403600215911865, -6.610400199890137, -5.763000011444092, -6.035900115966797, -5.275400161743164, -5.651800155639648, -5.532299995422363, -5.823400020599365, -6.126299858093262, -5.406700134277344, -5.349999904632568, -5.8983001708984375, -5.696100234985352, -5.811800003051758, -5.74970006942749, -5.832099914550781, -5.847700119018555, -5.917699813842773, -5.916800022125244, -6.509900093078613, -7.028600215911865, -7.074900150299072, -7.007699966430664, -7.256499767303467, -7.345900058746338, -7.288700103759766, -7.478700160980225, -7.5914998054504395, -7.591700077056885, -7.520899772644043, -7.718699932098389, -7.718999862670898, -7.813899993896484, -7.814199924468994, -7.723599910736084, -6.701600074768066, -7.918099880218506, -7.919000148773193, -6.7195000648498535, -7.9745001792907715, -7.974800109863281, -7.9766998291015625, -8.035099983215332, -8.035099983215332, -8.037599563598633, -8.099200248718262, -8.099599838256836, -5.453700065612793, -8.1673002243042, -5.744800090789795, -7.083000183105469, -5.946300029754639, -7.487199783325195, -6.2108001708984375, -5.742700099945068, -6.13700008392334, -6.510000228881836, -7.018400192260742, -5.861599922180176, -6.3379998207092285, -5.068900108337402, -6.604599952697754, -5.193600177764893, -6.115099906921387, -6.262400150299072, -6.40910005569458, -5.792099952697754, -5.873799800872803, -5.260799884796143, -4.749300003051758, -5.170499801635742, -5.754700183868408, -5.732399940490723, -5.122300148010254, -6.210000038146973, -5.594099998474121, -5.45389986038208, -5.807000160217285, -5.991799831390381, -5.309199810028076, -5.424699783325195, -5.79040002822876, -5.527699947357178, -5.778299808502197, -5.820300102233887, -5.651199817657471, -5.6793999671936035, -5.892099857330322, -5.729899883270264, -5.943699836730957, -5.966899871826172, -6.499800205230713, -6.678699970245361, -6.896699905395508, -6.942200183868408, -7.014200210571289, -7.039599895477295, -7.147200107574463, -7.147200107574463, -7.205999851226807, -7.206699848175049, -7.301199913024902, -7.369699954986572, -7.405900001525879, -7.4430999755859375, -7.44320011138916, -7.443299770355225, -7.565100193023682, -7.565100193023682, -7.411900043487549, -7.279399871826172, -7.656400203704834, -6.470200061798096, -7.656499862670898, -6.777599811553955, -7.704400062561035, -7.754799842834473, -7.75540018081665, -7.809299945831299, -7.865699768066406, -6.180500030517578, -6.824999809265137, -5.741799831390381, -6.865600109100342, -6.707900047302246, -5.913899898529053, -6.494900226593018, -6.589900016784668, -6.767099857330322, -6.6946001052856445, -5.931000232696533, -6.131800174713135, -5.501299858093262, -5.727700233459473, -5.74970006942749, -6.08650016784668, -6.484799861907959, -5.821700096130371, -6.014100074768066, -6.467700004577637, -5.519000053405762, -6.356900215148926, -4.532899856567383, -6.366300106048584, -5.232699871063232, -5.4471001625061035, -5.783699989318848, -5.319300174713135, -5.45389986038208, -5.823599815368652, -5.7342000007629395, -6.276899814605713, -5.680300235748291, -6.014200210571289, -5.885499954223633, -5.563499927520752, -5.659599781036377, -5.812399864196777, -5.684000015258789, -5.832499980926514, -5.895500183105469, -6.086599826812744, -5.957099914550781, -6.056300163269043, -6.041900157928467, -6.059000015258789, -6.745299816131592, -5.485300064086914, -7.092599868774414, -7.040800094604492, -7.149499893188477, -7.210000038146973, -7.241399765014648, -5.928800106048584, -6.700900077819824, -7.30810022354126, -7.308000087738037, -5.8582000732421875, -7.416600227355957, -7.538599967956543, -7.538700103759766, -7.538700103759766, -6.7484002113342285, -7.781899929046631, -7.7820000648498535, -7.782100200653076, -7.839300155639648, -7.838900089263916, -7.264100074768066, -7.041299819946289, -6.923699855804443, -7.962699890136719, -7.125, -6.748700141906738, -8.031299591064453, -8.032099723815918, -6.898099899291992, -5.7494001388549805, -6.597499847412109, -6.410299777984619, -6.9532999992370605, -5.995500087738037, -7.345699787139893, -7.346199989318848, -5.382500171661377, -5.55019998550415, -5.93120002746582, -5.404099941253662, -6.332600116729736, -5.677000045776367, -6.080399990081787, -5.168499946594238, -4.688899993896484, -6.258200168609619, -6.097300052642822, -6.7829999923706055, -6.7104997634887695, -6.33650016784668, -6.368000030517578, -5.047800064086914, -6.065899848937988, -5.59060001373291, -6.367499828338623, -5.595900058746338, -6.474100112915039, -5.854899883270264, -6.024899959564209, -5.551300048828125, -5.66949987411499, -6.0071001052856445, -5.433800220489502, -6.02239990234375, -5.602200031280518, -5.723100185394287, -5.968500137329102, -6.011600017547607, -5.762499809265137, -5.948400020599365, -5.848100185394287, -5.919000148773193, -5.976399898529053, -6.208099842071533, -6.56879997253418, -6.735400199890137, -7.0528998374938965, -7.0945000648498535, -7.338699817657471, -7.395100116729736, -7.455699920654297, -7.456299781799316, -7.457499980926514, -7.518700122833252, -7.518700122833252, -6.769199848175049, -7.3520002365112305, -7.8256001472473145, -7.826499938964844, -7.826600074768066, -6.550099849700928, -7.919600009918213, -7.920300006866455, -8.024100303649902, -8.024100303649902, -8.025699615478516, -7.284200191497803, -5.753799915313721, -8.139599800109863, -7.248300075531006, -8.270299911499023, -8.270400047302246, -8.270500183105469, -6.737100124359131, -7.330100059509277, -6.470600128173828, -5.898799896240234, -6.16510009765625, -6.351500034332275, -6.587800025939941, -6.85890007019043, -6.976200103759766, -6.1971001625061035, -5.656700134277344, -7.015200138092041, -6.444399833679199, -6.735199928283691, -6.886499881744385, -7.097799777984619, -6.809599876403809, -6.655900001525879, -5.627600193023682, -6.629300117492676, -6.846399784088135, -6.601900100708008, -5.6819000244140625, -6.678699970245361, -5.386099815368652, -6.577000141143799, -6.279300212860107, -6.354899883270264, -6.434199810028076, -6.1392998695373535, -5.978099822998047, -5.7642998695373535, -5.820899963378906, -5.9085001945495605, -5.962200164794922, -5.988399982452393, -5.855800151824951, -5.964399814605713, -6.153299808502197, -6.4745001792907715, -5.936399936676025, -6.01039981842041, -5.992099761962891, -6.2459001541137695, -6.140699863433838, -6.144400119781494, -6.200200080871582, -6.203499794006348, -6.181399822235107, -6.229100227355957, -6.152299880981445, -6.183499813079834, -6.755300045013428, -6.935699939727783, -6.936600208282471, -5.479899883270264, -7.078100204467773, -6.8867998123168945, -7.157899856567383, -7.337500095367432, -7.440400123596191, -7.440400123596191, -7.440700054168701, -7.440800189971924, -5.7835001945495605, -7.556600093841553, -7.687600135803223, -7.688300132751465, -7.839399814605713, -6.528200149536133, -7.593299865722656, -6.281000137329102, -7.252200126647949, -5.980100154876709, -6.193399906158447, -7.349100112915039, -7.0046000480651855, -5.965099811553955, -7.352799892425537, -6.202499866485596, -6.41510009765625, -6.872200012207031, -5.064499855041504, -4.3282999992370605, -6.434899806976318, -6.250699996948242, -6.198500156402588, -5.616000175476074, -6.819300174713135, -6.466300010681152, -6.9847002029418945, -6.690999984741211, -6.377900123596191, -6.356599807739258, -5.9390997886657715, -5.865900039672852, -6.358699798583984, -4.905099868774414, -4.9918999671936035, -6.176499843597412, -5.405099868774414, -5.223999977111816, -6.084099769592285, -5.536499977111816, -5.556399822235107, -5.341300010681152, -6.083399772644043, -5.625800132751465, -5.604400157928467, -5.478600025177002, -5.748600006103516, -5.560699939727783, -5.715799808502197, -5.7906999588012695, -6.046299934387207, -5.972099781036377, -5.967400074005127, -5.969799995422363, -6.056700229644775, -6.051499843597412], \"loglift\": [30.0, 29.0, 28.0, 27.0, 26.0, 25.0, 24.0, 23.0, 22.0, 21.0, 20.0, 19.0, 18.0, 17.0, 16.0, 15.0, 14.0, 13.0, 12.0, 11.0, 10.0, 9.0, 8.0, 7.0, 6.0, 5.0, 4.0, 3.0, 2.0, 1.0, 1.4055, 1.4042, 1.4037, 1.4033, 1.4027, 1.3973, 1.3953, 1.3947, 1.3939, 1.393, 1.3922, 1.3868, 1.3825, 1.3781, 1.3768, 1.3751, 1.3745, 1.3745, 1.372, 1.3719, 1.3719, 1.3718, 1.3716, 1.3714, 1.3714, 1.369, 1.3685, 1.3669, 1.3657, 1.3657, 1.3513, 1.365, 1.3526, 1.3272, 1.3526, 1.324, 1.3268, 1.3036, 1.279, 1.3434, 1.3348, 1.3375, 1.3323, 1.2876, 1.2046, 1.2457, 1.0802, 1.135, 1.2399, 1.0057, 1.1677, 1.1707, 1.275, 1.1154, 0.9474, 0.9889, 0.9177, 0.8052, 1.0213, 1.0652, 0.9603, 0.9307, 0.7914, 0.7908, 0.9346, 0.9874, 1.0189, 0.8147, 0.6086, 1.0753, 0.9225, 0.8629, 0.6013, 0.715, 0.78, 0.4582, 0.3904, 0.5911, 0.7371, 0.6224, 0.527, 0.5989, 0.4534, 0.4303, 0.5077, 0.4797, 0.3218, 0.274, 0.1582, -0.055, 1.5089, 1.5068, 1.5067, 1.506, 1.5059, 1.5036, 1.5032, 1.5027, 1.5012, 1.4983, 1.4981, 1.4981, 1.4981, 1.4947, 1.4937, 1.4937, 1.4934, 1.4919, 1.4918, 1.4904, 1.4903, 1.4903, 1.4888, 1.4869, 1.4866, 1.484, 1.4839, 1.4831, 1.4821, 1.4821, 1.4814, 1.4778, 1.4737, 1.4599, 1.4609, 1.4463, 1.4668, 1.4429, 1.4361, 1.4421, 1.4142, 1.4302, 1.4457, 1.3089, 1.4359, 1.3941, 1.3644, 1.3768, 1.4109, 1.4279, 1.2495, 1.2999, 1.0597, 1.1737, 0.9723, 1.075, 1.2619, 0.7076, 0.3271, 0.7801, 0.2294, 0.5038, 0.0796, 0.2135, 0.0733, 0.341, 0.1741, 1.8904, 1.8828, 1.8819, 1.8818, 1.878, 1.8758, 1.8742, 1.8721, 1.8686, 1.8686, 1.8657, 1.8642, 1.8642, 1.8605, 1.8602, 1.8597, 1.8576, 1.8561, 1.856, 1.8554, 1.8536, 1.8535, 1.8524, 1.8506, 1.8506, 1.8482, 1.8473, 1.8472, 1.8441, 1.8436, 1.8271, 1.829, 1.8018, 1.8305, 1.7389, 1.7068, 1.7289, 1.754, 1.788, 1.6981, 1.7359, 1.5972, 1.7442, 1.5875, 1.6606, 1.6776, 1.6843, 1.5479, 1.5419, 1.3978, 1.2289, 1.3187, 1.4552, 1.3841, 1.129, 1.4558, 1.1841, 1.0441, 1.2145, 1.2165, 0.5985, 0.6896, 0.9941, 0.6429, 0.8958, 0.9303, 0.6866, 0.1573, 0.7086, 0.0993, 0.8204, -0.2898, 2.0079, 2.0055, 2.0018, 2.0009, 1.9995, 1.9989, 1.9965, 1.9965, 1.9951, 1.9944, 1.9925, 1.9906, 1.9894, 1.9884, 1.9884, 1.9883, 1.9843, 1.9843, 1.9837, 1.9823, 1.9804, 1.9804, 1.9801, 1.9794, 1.9787, 1.9769, 1.9766, 1.9744, 1.9718, 1.9717, 1.9705, 1.9478, 1.95, 1.9438, 1.8788, 1.9142, 1.919, 1.917, 1.9051, 1.8251, 1.8399, 1.7252, 1.7519, 1.7503, 1.7486, 1.8218, 1.6843, 1.681, 1.7977, 1.5147, 1.7535, 1.1442, 1.7226, 1.1481, 1.1978, 1.3578, 0.9817, 0.8617, 1.0939, 0.9913, 1.5058, 0.832, 1.1974, 1.0152, 0.5273, 0.5282, 0.6131, 0.3339, 0.5053, 0.6318, 1.0638, 0.2189, 0.5029, 0.0989, -0.1513, 2.0285, 2.0246, 2.0217, 2.0209, 2.0203, 2.0188, 2.018, 2.0174, 2.0169, 2.0161, 2.0161, 2.0151, 2.0129, 2.0088, 2.0088, 2.0087, 2.0063, 1.999, 1.999, 1.999, 1.9963, 1.9963, 1.9956, 1.9953, 1.9951, 1.9902, 1.9898, 1.9882, 1.9863, 1.9862, 1.977, 1.9526, 1.9693, 1.958, 1.966, 1.9251, 1.9787, 1.9778, 1.871, 1.789, 1.7994, 1.7073, 1.8414, 1.7283, 1.7836, 1.5181, 1.2893, 1.7121, 1.6283, 1.8664, 1.8391, 1.6903, 1.6985, 1.1228, 1.5449, 1.2915, 1.6738, 1.2233, 1.7183, 1.2815, 1.3646, 0.7074, 0.8197, 1.1995, 0.3954, 1.1892, 0.2344, 0.4647, 0.925, 0.9073, 0.1451, 0.6399, -0.171, 0.2867, -0.0554, 2.4897, 2.4831, 2.4792, 2.4696, 2.4682, 2.4581, 2.4555, 2.4525, 2.4523, 2.4523, 2.4492, 2.4492, 2.4455, 2.4453, 2.4299, 2.4298, 2.4297, 2.4291, 2.4228, 2.4227, 2.4141, 2.4141, 2.4137, 2.4119, 2.4113, 2.4035, 2.3999, 2.3901, 2.3901, 2.3901, 2.3689, 2.3634, 2.3366, 2.309, 2.3086, 2.3075, 2.2781, 2.2937, 2.3007, 2.1822, 2.0629, 2.2863, 2.1468, 2.173, 2.1832, 2.2727, 2.12, 2.0304, 1.4625, 1.9927, 2.1235, 1.9565, 1.1938, 1.9371, 0.5216, 1.8043, 1.3981, 1.4797, 1.5811, 1.1594, 0.8284, 0.4481, 0.5337, 0.5293, 0.597, 0.4842, 0.1621, 0.2116, 0.7274, 1.5931, -0.1071, 0.0805, -0.0711, 0.8615, 0.204, 0.0434, 0.3218, 0.307, 0.0244, 0.4158, 3.0849, 3.084, 3.0633, 3.0541, 3.054, 3.049, 3.0454, 3.0425, 3.0395, 3.0268, 3.0182, 3.0182, 3.0181, 3.0181, 3.0078, 3.0072, 2.9935, 2.9933, 2.9752, 2.9722, 2.9699, 2.9524, 2.9441, 2.9277, 2.9273, 2.9264, 2.9227, 2.9219, 2.9216, 2.9165, 2.908, 2.892, 2.7038, 2.5893, 2.8197, 2.7904, 2.7463, 2.5684, 2.8465, 2.7322, 2.8844, 2.7673, 2.6563, 2.6311, 2.4531, 2.4133, 2.6291, 1.859, 1.8195, 2.4243, 1.8018, 1.5542, 2.3007, 1.7349, 1.7423, 1.2, 2.2157, 1.2499, 0.9079, 0.6123, 1.0277, 0.1164, 0.3022, 0.6348, 1.7505, 1.0971, 0.931, 0.3458, 1.2256, 1.0632]}, \"token.table\": {\"Topic\": [2, 3, 3, 3, 1, 2, 3, 4, 5, 6, 7, 5, 7, 2, 3, 5, 2, 3, 4, 2, 4, 5, 3, 5, 3, 2, 4, 7, 1, 2, 3, 4, 5, 6, 7, 1, 2, 3, 4, 5, 6, 7, 5, 6, 1, 5, 4, 6, 1, 2, 3, 4, 5, 6, 7, 4, 1, 6, 6, 6, 4, 1, 2, 3, 4, 5, 6, 2, 3, 7, 2, 4, 5, 7, 5, 7, 3, 5, 1, 2, 3, 4, 5, 6, 7, 5, 6, 2, 4, 1, 1, 5, 6, 7, 1, 6, 7, 6, 4, 2, 1, 2, 3, 4, 5, 6, 1, 2, 3, 6, 7, 1, 2, 3, 4, 5, 6, 7, 7, 1, 5, 6, 1, 6, 1, 5, 7, 1, 4, 5, 6, 7, 4, 7, 1, 2, 3, 4, 1, 2, 3, 4, 5, 6, 2, 7, 1, 6, 1, 2, 3, 4, 5, 6, 7, 1, 7, 2, 3, 4, 5, 1, 2, 7, 2, 3, 2, 5, 6, 5, 1, 2, 3, 5, 6, 1, 2, 3, 4, 5, 6, 7, 2, 3, 4, 5, 6, 7, 7, 5, 1, 2, 6, 1, 2, 3, 4, 5, 7, 1, 6, 3, 5, 1, 1, 2, 3, 4, 5, 6, 7, 2, 4, 5, 6, 7, 1, 2, 3, 4, 7, 1, 2, 3, 5, 6, 2, 6, 2, 1, 2, 3, 4, 5, 6, 7, 4, 1, 2, 5, 2, 6, 1, 2, 1, 2, 3, 4, 6, 7, 3, 5, 6, 1, 2, 3, 4, 5, 6, 7, 6, 3, 6, 1, 2, 3, 5, 1, 2, 3, 4, 5, 6, 7, 1, 2, 4, 5, 1, 2, 3, 4, 5, 6, 7, 4, 2, 3, 4, 7, 2, 3, 5, 7, 1, 1, 4, 1, 4, 6, 1, 2, 3, 4, 5, 6, 7, 1, 2, 3, 4, 5, 6, 7, 3, 5, 2, 2, 7, 2, 2, 3, 4, 5, 6, 7, 4, 3, 5, 1, 2, 3, 4, 5, 6, 7, 5, 1, 2, 3, 4, 5, 6, 7, 3, 5, 3, 5, 1, 3, 4, 5, 2, 3, 6, 1, 3, 5, 6, 6, 1, 1, 2, 6, 7, 3, 4, 5, 6, 7, 5, 6, 1, 3, 4, 5, 1, 4, 5, 6, 2, 3, 2, 1, 2, 3, 4, 3, 2, 5, 1, 4, 5, 7, 1, 2, 3, 4, 5, 6, 7, 1, 2, 3, 4, 5, 6, 7, 1, 5, 5, 2, 4, 7, 2, 3, 4, 5, 7, 1, 2, 3, 4, 5, 6, 1, 2, 3, 4, 6, 5, 6, 7, 4, 1, 2, 3, 6, 1, 2, 3, 5, 5, 6, 1, 3, 4, 5, 6, 7, 1, 2, 4, 1, 2, 3, 4, 5, 6, 7, 7, 1, 2, 4, 7, 2, 3, 5, 1, 7, 6, 3, 5, 4, 5, 1, 5, 5, 1, 2, 3, 4, 5, 6, 7, 6, 1, 2, 3, 4, 5, 6, 7, 1, 2, 3, 4, 5, 6, 7, 1, 2, 3, 4, 5, 6, 7, 2, 3, 4, 5, 7, 1, 2, 3, 6, 5, 1, 2, 3, 4, 5, 6, 7, 1, 2, 4, 5, 7, 5, 6, 1, 3, 2, 2, 3, 5, 3, 1, 2, 3, 4, 5, 6, 7, 2, 1, 2, 3, 4, 5, 6, 7, 3, 5, 1, 2, 3, 4, 5, 6, 7, 3, 7, 1, 4, 5, 6, 7, 6, 6, 7, 1, 4, 6, 7, 5, 5, 3, 5, 7, 3, 3, 1, 2, 4, 5, 2, 3, 4, 5, 6, 2, 4, 4, 2, 4, 4, 4, 4, 7, 2, 3, 6, 7, 4, 6, 7, 1, 2, 1, 2, 3, 6, 7, 2, 3, 4, 5, 7, 1, 2, 3, 4, 5, 6, 7, 1, 1, 2, 3, 4, 5, 2, 3, 4, 6, 7, 1, 2, 3, 4, 5, 6, 1, 3, 5, 1, 2, 3, 4, 5, 6, 7, 4, 6, 1, 2, 7, 1, 2, 3, 4, 5, 6, 7, 1, 2, 3, 4, 7, 4, 1, 2, 3, 4, 6, 1, 2, 3, 4, 5, 6, 7, 1, 2, 3, 4, 5, 6, 7, 1, 2, 3, 4, 5, 6, 7, 1, 2, 3, 4, 5, 6, 7, 1, 2, 6, 7, 1, 2, 3, 4, 5, 6, 7, 5, 1, 2, 3, 4, 5, 6, 7, 1, 2, 3, 6, 1, 1, 2, 3, 4, 5, 6, 7, 1, 2, 3, 4, 5, 6, 7, 1, 2, 3, 4, 6, 7, 3, 1, 2, 3, 4, 5, 6, 7, 1, 2, 3, 4, 5, 6, 2, 1, 3, 3, 4, 5, 3, 3, 4, 5, 2, 4, 6, 1, 2, 3, 4, 5, 6, 7, 2, 4, 5, 7, 2, 4, 1, 2, 3, 4, 5, 7, 2, 6, 7, 7, 1, 6, 6, 6, 4, 1, 6, 1, 1, 2, 3, 4, 5, 6, 1, 4, 5, 6, 1, 1, 6, 7, 1, 6, 1, 2, 4, 6, 1, 2, 3, 4, 5, 6, 7, 1, 2, 3, 4, 5, 7, 1, 2, 3, 4, 5, 6, 7, 1, 2, 3, 4, 5, 6, 7, 1, 2, 3, 4, 5, 6, 7, 7, 2, 2, 2, 1, 3, 1, 2, 3, 4, 5, 6, 7, 2, 1, 2, 3, 7, 2, 3, 2, 3, 4, 5, 6, 7, 2, 4, 7, 1, 5, 6, 1, 7, 5, 5, 6, 1, 5, 4, 4, 1, 3, 6, 1, 6, 1, 2, 4, 6, 1, 1, 2, 3, 4, 5, 6, 7, 3, 5, 3, 4, 5, 1, 2, 3, 4, 5, 6, 7, 3, 3, 2, 3, 4, 6, 7, 2, 1, 2, 3, 4, 5, 6, 7, 3, 7, 4, 1, 1, 2, 3, 4, 5, 6, 1, 4, 5, 6, 6, 1, 2, 3, 4, 5, 6, 7, 6, 7, 2, 4, 7, 1, 2, 3, 4, 5, 6, 2, 4, 3, 4, 5, 6, 7, 6, 3, 6, 2, 1, 2, 3, 4, 5, 6, 7, 2, 6, 7, 1, 2, 3, 4, 6, 1, 6, 1, 3, 5, 3, 2, 3, 4, 5, 6, 7, 3, 2, 4, 7, 3, 3, 1, 2, 3, 4, 5, 6, 7, 1, 2, 7, 6, 1, 2, 3, 4, 5, 6, 7, 4, 4, 5, 2, 4, 3, 2, 3, 4, 5, 6, 7, 2, 3, 4, 5, 7, 2, 3, 2, 3, 1, 2, 3, 5, 6, 7, 3, 5, 6, 5, 7, 4, 6, 7, 2, 3, 4, 5, 6, 7, 1, 2, 3, 4, 5, 6, 7, 2, 7, 2, 6, 2, 4, 2, 6, 2, 2, 4, 1, 4, 1, 2, 3, 4, 5, 6, 7, 1, 2, 3, 4, 5, 6, 7, 1, 3, 5, 6, 1, 2, 5, 6, 5, 6, 7, 3, 1, 2, 3, 4, 5, 1, 2, 3, 4, 5, 6, 7, 2, 3, 2, 3, 2, 3, 4, 5, 3, 4, 6, 7, 1, 2, 3, 4, 5, 6, 7, 1, 2, 3, 4, 5, 6, 7, 1, 6, 4, 6, 7, 6, 7, 1, 5, 6, 4, 5, 1, 2, 3, 4, 5, 6, 1, 4, 6, 1, 6, 7, 1, 2, 6, 7, 6, 2, 3, 4, 6, 7, 4, 7, 1, 2, 3, 6, 7, 1, 4, 6, 1, 2, 3, 4, 5, 6, 7, 2, 3, 4, 5, 6, 7, 1, 2, 3, 4, 5, 6, 7, 3, 6, 7, 1, 2, 3, 4, 5, 6, 7, 1, 2, 3, 4, 5, 7, 1, 2, 3, 4, 5, 6, 7, 1, 3, 5, 6, 1, 3, 4, 5, 6, 1, 3, 4, 5, 6, 7, 7, 3, 3, 1, 4, 6, 7, 6, 2, 4, 5, 5, 2, 4, 2, 4, 1, 4, 2, 3, 1, 2, 5, 6, 1, 3, 4, 6, 6, 1, 2, 3, 4, 5, 6, 7, 1, 2, 3, 4, 5, 6, 7, 1, 2, 3, 4, 5, 6, 7, 1, 2, 3, 4, 5, 6, 7, 2, 1, 2, 3, 4, 5, 6, 7, 5, 2, 3, 4, 5, 6, 1, 5, 6, 4, 5, 7, 2, 3, 4, 5, 4, 1, 2, 3, 4, 5, 6, 7, 1, 2, 3, 4, 5, 6, 7, 7, 1, 2, 6, 1, 2, 3, 4, 5, 6, 7, 1, 2, 3, 4, 5, 6, 7, 1, 2, 3, 4, 5, 6, 7, 5, 5, 7, 1, 2, 3, 4, 6, 7, 7, 5, 6, 5, 6, 7, 2, 3, 4, 2, 2, 3, 2, 3, 2, 3, 1, 2, 3, 4, 5, 6, 1, 2, 3, 4, 5, 1, 2, 3, 4, 6, 7, 4, 5, 6, 1, 4, 5, 6, 7, 2, 6, 1, 2, 3, 4, 5, 6, 7, 1, 4, 5, 6, 1, 1, 2, 3, 4, 5, 6, 7, 1, 2, 3, 4, 5, 6, 1, 2, 3, 4, 5, 6, 7, 1, 2, 3, 6, 1, 2, 3, 4, 5, 6, 7, 4, 5, 6], \"Freq\": [0.14220826840381665, 0.8532496104228999, 0.9820357822126594, 0.9859925463030107, 0.008241378533061188, 0.1442241243285708, 0.18955170626040735, 0.304931005723264, 0.17306894919428495, 0.0700517175310201, 0.11125861019632605, 0.13987179936205268, 0.8392307961723161, 0.77126057335134, 0.18347167824216898, 0.04416910772496661, 0.032416845856477264, 0.9562969527660793, 0.9733046327101859, 0.05423218603293216, 0.903869767215536, 0.036154790688621444, 0.022860072856366705, 0.9601230599674017, 0.9657888465133558, 0.09967699061235481, 0.8970929155111933, 0.9474717053563593, 0.6485661341774219, 0.10436696412050468, 0.01863695787866155, 0.05218348206025234, 0.05963826521171696, 0.10809435569623699, 0.01490956630292924, 0.1526896448665382, 0.26354651031758647, 0.10458194853872478, 0.24890503752216497, 0.10876522648027377, 0.06902408603555836, 0.054382613240136886, 0.8140564160134537, 0.17366536874953678, 0.9125539084959036, 0.04932723829707587, 0.9597704843963393, 0.9400617729840537, 0.3603967189466823, 0.1029704911276235, 0.09504968411780632, 0.15643593844388956, 0.12277250865216649, 0.13267351741443797, 0.029703026286814475, 0.9574341069393906, 0.4220746560559158, 0.5740215322360456, 0.9491513470085433, 0.9133222719527272, 0.9644804422530238, 0.020172272169408163, 0.1882745402478095, 0.020172272169408163, 0.7127536166524218, 0.040344544338816325, 0.020172272169408163, 0.6178152460311275, 0.12654047207866467, 0.25308094415732935, 0.04757089411226358, 0.796812476380415, 0.02378544705613179, 0.11892723528065895, 0.08867012507907966, 0.798031125711717, 0.025715684286692866, 0.951480318607636, 0.372390582859338, 0.2090097342530672, 0.06329168009071753, 0.16485274814326425, 0.05446028286875695, 0.10156106805254674, 0.036797488424835774, 0.945564461086341, 0.027810719443715912, 0.04123437644439682, 0.9277734699989284, 0.9912038867295864, 0.0664343947875278, 0.04428959652501853, 0.0664343947875278, 0.8193575357128429, 0.09043377694555559, 0.06782533270916669, 0.8365124367463892, 0.9350914265753546, 0.9373744296851504, 0.9745841650349406, 0.3861028356296166, 0.12970642134432434, 0.10255856571411692, 0.0452464260503457, 0.32577426756248906, 0.00904928521006914, 0.06856471204384011, 0.39424709425208065, 0.5039506335222248, 0.03085412041972805, 0.0034282356021920054, 0.3763277472686544, 0.04741136973463363, 0.07704347581877964, 0.03259531669256062, 0.041484948517804425, 0.2696521653657288, 0.15408695163755928, 0.9596667059559665, 0.9348790741925588, 0.021151110275849747, 0.04230222055169949, 0.09920998548477329, 0.843284876620573, 0.2159782653093111, 0.7803085714400918, 0.9719120328793446, 0.11762083329079569, 0.03920694443026523, 0.03920694443026523, 0.07841388886053045, 0.7057249997447741, 0.1252537363020628, 0.8454627200389239, 0.020028660361624394, 0.13018629235055856, 0.8011464144649758, 0.04005732072324879, 0.1387197507704884, 0.08587413142934996, 0.11890264351756148, 0.303862311211546, 0.01321140483528461, 0.33028512088211526, 0.9739184526153974, 0.021483495278280824, 0.9462929618798243, 0.02150665822454146, 0.2787646681563992, 0.20387266775617255, 0.13106100070039664, 0.14146266742265035, 0.11649866728924146, 0.11233800060033998, 0.014562333411155183, 0.08178284661224558, 0.8587198894285786, 0.9375934603814529, 0.01971575033512401, 0.037240861744123124, 0.006571916778374669, 0.03455054414669189, 0.9535950184486961, 0.006910108829338377, 0.9016426155254416, 0.0909219444227336, 0.02287015960666361, 0.9148063842665444, 0.04574031921332722, 0.9744237382255674, 0.04429249048767299, 0.09261157101967989, 0.5576827211402463, 0.2939410732363753, 0.01006647511083477, 0.0916997892465707, 0.15561176356993817, 0.20007226744706336, 0.11670882267745361, 0.11948760416977394, 0.04446050387712519, 0.2750993677397121, 0.049533384424498485, 0.1832735223706444, 0.16841350704329486, 0.5052405211298845, 0.014860015327349546, 0.07430007663674773, 0.9743125007234074, 0.9523087304712511, 0.9396231310065106, 0.028473428212318505, 0.028473428212318505, 0.013400396535768327, 0.32160951685843986, 0.05360158614307331, 0.16080475842921993, 0.013400396535768327, 0.4422130856803548, 0.9514033671507176, 0.03964180696461323, 0.9309426725296458, 0.045411837684372965, 0.9903432487058916, 0.2016110600375375, 0.022401228893059722, 0.11480629807693107, 0.19041044559100764, 0.43962411702629706, 0.011200614446529861, 0.022401228893059722, 0.1680370512944282, 0.7642975558875605, 0.027102750208778743, 0.021682200167022995, 0.010841100083511497, 0.06672013904482928, 0.014826697565517617, 0.0074133487827588085, 0.8673618075827806, 0.03706674391379405, 0.9802665456559886, 0.3188485155549869, 0.03188485155549869, 0.04782727733324803, 0.5739273279989764, 0.3907562130618529, 0.5946290198767327, 0.9966160887375298, 0.15996351745155846, 0.03528607002607907, 0.1082106147466425, 0.4398996729917858, 0.05881011671013179, 0.12467744742547938, 0.07762935405737396, 0.9371938993985749, 0.019011549300461707, 0.2851732395069256, 0.6939215494668522, 0.9983888151036384, 0.9578903088796431, 0.9894192950853816, 0.9979349326010528, 0.9548912090435066, 0.8121385111493247, 0.1267499410464264, 0.05163886487076631, 0.00938888452195751, 0.004694442260978755, 0.94456091235669, 0.03615544162130871, 0.018077720810654355, 0.14556506225245375, 0.008086947902914097, 0.7305209605632401, 0.045826038116513215, 0.01347824650485683, 0.021565194407770924, 0.032347791611656386, 0.9413129627591867, 0.9756423134916787, 0.9571388266710662, 0.023753664089590242, 0.03563049613438536, 0.8670087392700438, 0.07126099226877072, 0.22894115580634894, 0.2393475719793648, 0.1644213755336506, 0.09365774555714275, 0.19251869920079343, 0.07388555482841261, 0.008325132938412689, 0.012439001962063333, 0.12024368563327889, 0.4395114026595711, 0.4229260667101533, 0.11842451681977623, 0.3002311694022496, 0.08006164517393323, 0.3536055995182051, 0.09006935082067488, 0.04336672446921383, 0.01501155847011248, 0.9663388940065323, 0.2676803381789051, 0.33923844838514705, 0.10601201512035845, 0.28623244082496785, 0.03469346499038707, 0.8499898922644833, 0.06938692998077414, 0.043366831237983836, 0.955260391853747, 0.9416806763959763, 0.045935642751023235, 0.4540406621010204, 0.04006241136185474, 0.49410307346287513, 0.39066932274008553, 0.19533466137004277, 0.05631269516974206, 0.1337426510281374, 0.07039086896217757, 0.13902196620030072, 0.015837945516489954, 0.14022185081266408, 0.009046571020171876, 0.045232855100859386, 0.13117527979249222, 0.15831499285300785, 0.26235055958498443, 0.25330398856481257, 0.9647643116506699, 0.9745932662453993, 0.9707202104555748, 0.9799294842775892, 0.01633215807129315, 0.9932465717317337, 0.44536678292619075, 0.16097594563597256, 0.1421954186451091, 0.115366094372447, 0.013414662136331048, 0.12341489165424563, 0.9543670743348601, 0.9582172793592946, 0.9640665097977628, 0.13141346036629045, 0.05411142485670784, 0.015460407101916524, 0.30147793848737225, 0.04638122130574958, 0.3555893633440801, 0.09276244261149916, 0.9661358021304259, 0.5279324126037533, 0.16751701553772944, 0.06345341497641266, 0.07106782477358219, 0.1192924201556558, 0.048224595382073625, 0.005076273198113013, 0.01676186496834352, 0.9777754564867054, 0.04376261514179089, 0.940896225548504, 0.0318442201752087, 0.1273768807008348, 0.07164949539421958, 0.772222339248811, 0.950764954162557, 0.036104998259337606, 0.012034999419779204, 0.025276487868518195, 0.05897847169320912, 0.8846770753981369, 0.025276487868518195, 0.9832510825516355, 0.9549448538022076, 0.23089337838537397, 0.025654819820597106, 0.07696445946179133, 0.6413704955149276, 0.022454366428520445, 0.022454366428520445, 0.07859028249982156, 0.8195843746409963, 0.04490873285704089, 0.08605987653756661, 0.9143861882116452, 0.05085128571675882, 0.6966626143195959, 0.005085128571675882, 0.24408617144044234, 0.9795384409712927, 0.9791394203108656, 0.030732374685407234, 0.9527036152476243, 0.9929307544127226, 0.005425851117009413, 0.9925123999201176, 0.9555807931653408, 0.12767291100288555, 0.8446054112498583, 0.01964198630813624, 0.9629606457526838, 0.03429328675255302, 0.9259187423189315, 0.9484030469319402, 0.18083516178344966, 0.07750078362147843, 0.7233406471337986, 0.35700494684463385, 0.23724290397343079, 0.13116795171607953, 0.06615427130028359, 0.12204322464017833, 0.07641958926067242, 0.010265317960388832, 0.5046993407724017, 0.11055318893109752, 0.11295651912525181, 0.07450323601878311, 0.09613320776617175, 0.09613320776617175, 0.0048066603883085875, 0.018696881388676572, 0.9722378322111818, 0.960030049843504, 0.8738163293816772, 0.09169677530548465, 0.026969639795730777, 0.2123563593059286, 0.4892260429579621, 0.051073048440666374, 0.03763277253522786, 0.2096683041248409, 0.7509834577861476, 0.09342377943751119, 0.02515255600240686, 0.043118667432697474, 0.08264411257933682, 0.0035932222860581226, 0.8039273346580391, 0.09205274824328692, 0.03682109929731477, 0.04909479906308636, 0.018410549648657386, 0.24189674607788555, 0.06047418651947139, 0.695453144973921, 0.9700903596063158, 0.8676449748915678, 0.007291134242786284, 0.014582268485572567, 0.10936701364179426, 0.0319059106780317, 0.0957177320340951, 0.8375301552983322, 0.0319059106780317, 0.9529037330649112, 0.038116149322596445, 0.318851279026161, 0.002452702146355085, 0.0662229579515873, 0.5911012172715755, 0.014716212878130509, 0.00981080858542034, 0.062067738616546214, 0.0975350178260012, 0.833481061422192, 0.0969994398228946, 0.6456525213211421, 0.05153095240591276, 0.06668711487824004, 0.006062464988930913, 0.01818739496679274, 0.11215560229522188, 0.9150595815170741, 0.7770975694283445, 0.09491268023552299, 0.09491268023552299, 0.029660212573600936, 0.017180467340512897, 0.7988917313338497, 0.1803949070753854, 0.9309264346732591, 0.05476037851019171, 0.9137465062003213, 0.9197658036037526, 0.03406540013347232, 0.03214670683365797, 0.9644012050097391, 0.019399804982017346, 0.9699902491008672, 0.9609755591617083, 0.4444973541514188, 0.09959256755751128, 0.17507325033794088, 0.059755540534506775, 0.16354147935759747, 0.051368798003347926, 0.006290056898369134, 0.9400703797500629, 0.4368265679900014, 0.1403458852979924, 0.1649064152251411, 0.1368372381655426, 0.06315564838409658, 0.04736673628807244, 0.010525941397349432, 0.3824162416895986, 0.27389271364255036, 0.1421141438711346, 0.0581376043109187, 0.0968960071848645, 0.037466456111480945, 0.00775168057478916, 0.5732466040777526, 0.1419722897949574, 0.0750042285709209, 0.06428933877507506, 0.050895726530267756, 0.08036167346884382, 0.013393612244807304, 0.32336181927675056, 0.21858536386864144, 0.4172993310219518, 0.028903849767754237, 0.01083894366290784, 0.0650436493492946, 0.0650436493492946, 0.043362432899529735, 0.8022050086413001, 0.9429926351668951, 0.14279325103137133, 0.10454505879082543, 0.20399035861624476, 0.3569831275784283, 0.15809252792758968, 0.020399035861624476, 0.015299276896218355, 0.09796924487964959, 0.04898462243982479, 0.19593848975929917, 0.024492311219912397, 0.61230778049781, 0.27141836827158117, 0.7237823153908831, 0.9170143473659793, 0.07053956518199841, 0.9595317405475775, 0.019323725561170662, 0.5096632616758762, 0.4698080777059617, 0.9772785789630898, 0.2318185143088998, 0.12828791568550765, 0.3038398003077813, 0.08102394674874168, 0.2138131928091794, 0.029258647437045603, 0.009002660749860185, 0.9934379596099351, 0.2460033792240159, 0.20561476472455062, 0.03671692227224118, 0.06241876786281001, 0.011015076681672354, 0.35248245381351534, 0.08444892122615472, 0.03428103074610623, 0.9255878301448682, 0.14150968144564824, 0.6367935665054171, 0.07420629636783993, 0.062126201610284586, 0.0017257278225079054, 0.0655776572553004, 0.017257278225079054, 0.171253863418702, 0.8220185444097696, 0.03492078953700945, 0.03492078953700945, 0.8380989488882268, 0.052381184305514174, 0.03492078953700945, 0.9579025387003195, 0.15971001520809067, 0.7985500760404534, 0.3261298683231695, 0.03623665203590772, 0.6160230846104312, 0.9031126671028129, 0.9756595614076813, 0.9695929020374522, 0.9273704823596979, 0.035668095475372995, 0.029723412896144163, 0.977028958407716, 0.959334568413953, 0.004946737640661707, 0.7815845472245498, 0.014840212921985122, 0.1978695056264683, 0.10574068003672947, 0.027826494746507755, 0.7123582655105986, 0.12243657688463412, 0.027826494746507755, 0.22408595852995647, 0.7639294040793971, 0.9856652952441642, 0.0668750506693479, 0.9295632043039358, 0.9837417489652402, 0.9850412222365131, 0.976234040666678, 0.9598011503797096, 0.09649807244162477, 0.048249036220812384, 0.048249036220812384, 0.7719845795329981, 0.9275191263138662, 0.017500360873846533, 0.035000721747693066, 0.9810949348537534, 0.9593732817590079, 0.9667810003588265, 0.04024767289242423, 0.020123836446212115, 0.020123836446212115, 0.9055726400795451, 0.5488568998822727, 0.10729533381157211, 0.06602789773019822, 0.004126743608137389, 0.26823833452893026, 0.0998020151458665, 0.06653467676391099, 0.14970302271879973, 0.04990100757293325, 0.04990100757293325, 0.0998020151458665, 0.4990100757293324, 0.9928274939801777, 0.6695133201219181, 0.012793248155195886, 0.06396624077597943, 0.02558649631039177, 0.226014050741794, 0.0077340293829496415, 0.015468058765899283, 0.7656689089120146, 0.10054238197834534, 0.11601044074424462, 0.6092218757925101, 0.14749582256029192, 0.08016077313059343, 0.038477171102684844, 0.051302894803579795, 0.07054148035492222, 0.9358591691048768, 0.018717183382097536, 0.03743436676419507, 0.5336563567787379, 0.23002429171497324, 0.04994813191525133, 0.03811831119848128, 0.08938086763781818, 0.0578346790597647, 0.0013144245240855614, 0.04973518502622505, 0.8952333304720509, 0.11170778756162789, 0.05585389378081394, 0.8098814598218022, 0.11895796439374982, 0.26224823968622124, 0.14599386539232934, 0.2243979782882099, 0.0770523178459516, 0.0878666782453834, 0.08245949804566749, 0.0047697708871788655, 0.22417923169740667, 0.6033760172281265, 0.09539541774357731, 0.07154656330768298, 0.9771868256784506, 0.16882145783751862, 0.08808076061087927, 0.0367003169211997, 0.5945451341234351, 0.11010095076359909, 0.16706295177932, 0.1330316097501993, 0.25059442766898005, 0.07425020079080889, 0.3217508700935052, 0.03093758366283704, 0.024750066930269633, 0.7114170159298722, 0.010555148604300775, 0.03377647553376248, 0.0654419213466648, 0.12877281297246945, 0.0422205944172031, 0.00844411888344062, 0.21468987770529788, 0.11710356965743521, 0.07806904643829014, 0.029275892414358802, 0.048793154023931334, 0.40010386299623696, 0.10734493885264894, 0.05775525927944435, 0.2310210371177774, 0.14851352386142835, 0.03712838096535709, 0.42903906893301524, 0.05775525927944435, 0.033003005302539634, 0.9098543052313874, 0.022746357630784683, 0.056865894076961715, 0.011373178815392342, 0.633067809858157, 0.14671957825038834, 0.038038409176026605, 0.035321379949167564, 0.08966196448634843, 0.05434058453718087, 0.005434058453718087, 0.9603300433645352, 0.4934792975923203, 0.14942002636261492, 0.10616686083659481, 0.017694476806099133, 0.1651484501902586, 0.06094764233211924, 0.007864211913821837, 0.9128226257268127, 0.02808685002236347, 0.018724566681575648, 0.037449133363151296, 0.9604020132246462, 0.4025146152352884, 0.25963063926432023, 0.1062917382223056, 0.05750208789075549, 0.04704716281970903, 0.09932178817494129, 0.02613731267761613, 0.44161357395730466, 0.2140335726541538, 0.1300457150303719, 0.029802143027793566, 0.13681892935487044, 0.0352207144873924, 0.012191785784097367, 0.4890090447805574, 0.11865660645410585, 0.017978273705167552, 0.19056970127477604, 0.04674351163343564, 0.1330392254182399, 0.9538797184443429, 0.16147532289179736, 0.31016052119810583, 0.1406913704403779, 0.05275926391514171, 0.2621975540025224, 0.0255802491709778, 0.04796296719558338, 0.706253841849299, 0.12213412302657049, 0.021240717048099215, 0.03717125483417363, 0.09558322671644646, 0.015930537786074412, 0.9552116936867684, 0.9630839112921048, 0.9935713973758873, 0.2314752156752771, 0.03522448934188999, 0.7296501363677212, 0.964340334703687, 0.039547111598766775, 0.039547111598766775, 0.9227659373045581, 0.22127394256062505, 0.7633951018341564, 0.011063697128031251, 0.008114774669835319, 0.1244265449374749, 0.40303380860182086, 0.13254131960731022, 0.22721369075538894, 0.0405738733491766, 0.06221327246873745, 0.0598117234674896, 0.7376779227657051, 0.0299058617337448, 0.16946654982455386, 0.9667145316899549, 0.9794396793293174, 0.1281774276748471, 0.049009016463912126, 0.5956480462537013, 0.15079697373511425, 0.06785863818080141, 0.007539848686755712, 0.015477373834896153, 0.030954747669792306, 0.9441198039286653, 0.9346374745452108, 0.28869740641008074, 0.6736272816235217, 0.9615675243645199, 0.9226837883541407, 0.9791308195586949, 0.9062511865327543, 0.08676873062547646, 0.9778110371886983, 0.3806197285253721, 0.18500241784898566, 0.11221458131823721, 0.06520577022546216, 0.17287111176052758, 0.08340272935814927, 0.13181993453894075, 0.029293318786431276, 0.014646659393215638, 0.8202129260200758, 0.9707094281961599, 0.7030537167990146, 0.1423906261871422, 0.15129004032383858, 0.9200807655066806, 0.06900605741300105, 0.04957310601302015, 0.12393276503255038, 0.8179562492148325, 0.9896833305431029, 0.0021208899428646704, 0.3711557400013173, 0.14634140605766224, 0.10816538708609819, 0.1357369563433389, 0.08907737760031616, 0.14846229600052693, 0.30233661579855825, 0.18006813146825895, 0.20007570163139884, 0.062245773840879634, 0.24453696866059857, 0.008892253405839948, 0.6163991570553152, 0.17942135087995092, 0.008681678268384722, 0.043408391341923605, 0.043408391341923605, 0.05787785512256481, 0.05498396236643657, 0.05594993725235628, 0.48165598156376277, 0.13865854014714382, 0.20190629530198137, 0.034056483544912516, 0.04378690741488753, 0.046219513382381276, 0.2590763557026506, 0.31863413862280016, 0.09827034181824677, 0.059557782920149564, 0.07742511779619443, 0.16973968132242626, 0.017867334876044867, 0.933991064946998, 0.9925004449897468, 0.993684801220003, 0.9574729482994304, 0.9570985955010646, 0.03544809612966906, 0.15488897661645037, 0.29088905364552875, 0.13788896698781558, 0.24555569463583599, 0.030222239339795197, 0.056666698762116, 0.08311115818443679, 0.9776058173152055, 0.012582723320467937, 0.9084726237377851, 0.040264714625497404, 0.037748169961403816, 0.03190889068787542, 0.9572667206362626, 0.09646862995989375, 0.07235147246992031, 0.20499583866477422, 0.10852720870488047, 0.024117157489973437, 0.49440172854445547, 0.05064242190425628, 0.28215063632371357, 0.6655861164559397, 0.877721979893399, 0.05401366030113224, 0.0675170753764153, 0.22386151000161253, 0.7355449614338697, 0.9429763991548618, 0.9598891567202272, 0.9131739505484588, 0.9574374532091006, 0.9745043925449022, 0.9802603451813537, 0.9448343018954819, 0.9516781651124882, 0.9735344595056642, 0.9355326355524645, 0.047403094222533505, 0.9006587902281367, 0.06018085366777175, 0.8656784335287167, 0.037034371487859534, 0.037034371487859534, 0.9483723135365475, 0.13823613325105585, 0.27273615479262375, 0.15318058008900784, 0.09713890444668791, 0.11955557470361589, 0.19427780889337581, 0.026152781966415975, 0.1738256050752798, 0.82172104217405, 0.19310832533869823, 0.028259754927614376, 0.7724333013547929, 0.06600281439471599, 0.10371870833455368, 0.7024585246294772, 0.04714486742479713, 0.028286920454878278, 0.018857946969918854, 0.033001407197357994, 0.9618659091316699, 0.9773606721754353, 0.030344225154077097, 0.015172112577038549, 0.9103267546223129, 0.030344225154077097, 0.015172112577038549, 0.9821866215611846, 0.013176748429712358, 0.266463134911961, 0.28403213281824413, 0.016104914747426216, 0.3982306192090846, 0.013176748429712358, 0.0073204157942846435, 0.96869499613582, 0.932206368237445, 0.9817889047051234, 0.9905139133358277, 0.045532523083184374, 0.12004028812839518, 0.6415946434448707, 0.09934368672694774, 0.08692572588607926, 0.012417960840868467, 0.14825427395087548, 0.01647269710565283, 0.13178157684522265, 0.691853278437419, 0.9662687568694037, 0.0391782701359681, 0.12406452209723232, 0.6399117455541457, 0.08488625196126422, 0.013059423378656032, 0.0391782701359681, 0.05223769351462413, 0.08201451952241062, 0.8201451952241062, 0.009269517948126133, 0.39549943245338165, 0.5932491486800725, 0.08454389011470718, 0.7129868066340307, 0.022545037363921917, 0.16626965055892415, 0.005636259340980479, 0.005636259340980479, 0.968841711126976, 0.027291315806393688, 0.09368172794757348, 0.11241807353708819, 0.7026129596068011, 0.03747269117902939, 0.04684086397378674, 0.9287010405030445, 0.9679573799221828, 0.928059562894939, 0.9813531433837587, 0.0010772065468762037, 0.8175997690790385, 0.06463239281257221, 0.07648166482821046, 0.012926478562514443, 0.0021544130937524073, 0.024775750578152685, 0.9857396192122377, 0.0041768627932721935, 0.008353725586544387, 0.10932394327192742, 0.06559436596315646, 0.7871323915578774, 0.014576525769590324, 0.021864788654385486, 0.1675775582218437, 0.8043722794648498, 0.04085805255617404, 0.8988771562358289, 0.061287078834261065, 0.9620260617146347, 0.07439080088622341, 0.5042043171177364, 0.07439080088622341, 0.30582884808780736, 0.033062578171654845, 0.004132822271456856, 0.964954735939534, 0.2693842168883004, 0.09795789705029104, 0.612236856564319, 0.9733341180848206, 0.9732453950256114, 0.06702267895037678, 0.24981180336049527, 0.4244769666857196, 0.06702267895037678, 0.09748753301872985, 0.03046485406835308, 0.06499168867915324, 0.9832580819329583, 0.9822443688124863, 0.93274022604491, 0.9575052773284654, 0.6610949184480611, 0.10170691053047094, 0.04265128506116524, 0.014763906367326428, 0.1345155913467519, 0.04593215314279333, 0.0016404340408140475, 0.9571550629244975, 0.9528437570281014, 0.01944579095975717, 0.04248190728074175, 0.9558429138166894, 0.9767514705555354, 0.21266479954888676, 0.22481707380882315, 0.3645682277980916, 0.1002562626444752, 0.006076137129968193, 0.0881039883845388, 0.2012942720261295, 0.052058863455033494, 0.6038828160783886, 0.07288240883704689, 0.06594122704304242, 0.9488661165120581, 0.045686146350580575, 0.923214848080227, 0.07575096189376221, 0.0037508632741962283, 0.02250517964517737, 0.2100483433549888, 0.7126640220972834, 0.033757769467766055, 0.01875431637098114, 0.020311842885521975, 0.9140329298484888, 0.06093552865656592, 0.08877120107317851, 0.7989408096586066, 0.06267129874405067, 0.06267129874405067, 0.8147268836726586, 0.14689149827251605, 0.20100941868870617, 0.5141202439538062, 0.007731131488027161, 0.01159669723204074, 0.11596697232040741, 0.024721915258584637, 0.05562430933181544, 0.24103867377120022, 0.06798526696110775, 0.6056869238353236, 0.9496509668159825, 0.9594730246198769, 0.9551643811432031, 0.9556750228894083, 0.9611009787652314, 0.024963661786109908, 0.9349233790096132, 0.06511904132405266, 0.9276011309174669, 0.06452877432469335, 0.9778648238947157, 0.9935541667076268, 0.9732929959669391, 0.9549344087134659, 0.9701072620758135, 0.31830095887172827, 0.20746401783603716, 0.16341343870646763, 0.14636160162405362, 0.10799496818862209, 0.02699874204715552, 0.02984071489422452, 0.4094435054228968, 0.0015869903310964993, 0.4618141863490813, 0.026978835628640487, 0.08728446821030746, 0.006347961324385997, 0.007934951655482496, 0.09468082845578352, 0.8205671799501238, 0.06312055230385567, 0.01578013807596392, 0.20795862924193567, 0.020795862924193567, 0.6585356592661297, 0.10397931462096784, 0.7116101255345617, 0.2729463495201059, 0.009748083911432353, 0.9585156663383696, 0.007799919310609586, 0.5420943920873662, 0.04289955620835272, 0.3821960462198697, 0.023399757931828757, 0.439862022810236, 0.16064526050460795, 0.09753462244922625, 0.0650230816328175, 0.08223507382973978, 0.13769593757537824, 0.01721199219692228, 0.9381754103684946, 0.06151969904055702, 0.8878963104894193, 0.10475181191167307, 0.09982790472211091, 0.8162399268454951, 0.058722296895359356, 0.023488918758143743, 0.06750676348139312, 0.216021643140458, 0.18901893774790074, 0.5130514024585877, 0.6512798182520146, 0.15152224343006057, 0.02924113469702923, 0.06911540928388728, 0.07443197922880168, 0.01860799480720042, 0.00797485491737161, 0.1533004255368902, 0.18352867845965726, 0.12307217261412311, 0.2202344141515887, 0.13602713815245185, 0.1489821036907806, 0.03670573569193145, 0.9525257683705006, 0.03887860279063268, 0.06540023210257045, 0.8175029012821307, 0.09810034815385568, 0.882078432527644, 0.1102598040659555, 0.9787130416988111, 0.04856486353752354, 0.9227324072129472, 0.9497535359551019, 0.04041504408319583, 0.6229501944862929, 0.17475500505391053, 0.06167823707785077, 0.008223764943713437, 0.08223764943713437, 0.04934258966228062, 0.7790562821509008, 0.019806515647904258, 0.19806515647904258, 0.8339336571343506, 0.02909070896980293, 0.13575664185908035, 0.28942674795211837, 0.05512890437183208, 0.6408735133225478, 0.01378222609295802, 0.9221770791878928, 0.147614667686514, 0.22142200152977098, 0.073807333843257, 0.147614667686514, 0.40594033613791347, 0.9739052952580963, 0.8285251329911475, 0.41679420080698, 0.10188302686392844, 0.03704837340506489, 0.39827001410444757, 0.04631046675633111, 0.12341376706802243, 0.052891614457723904, 0.8286352931710078, 0.006919262752021382, 0.44836822633098555, 0.2975282983369194, 0.10794049893153355, 0.0636572173185967, 0.0525863969153625, 0.023525493356872696, 0.43278135705928983, 0.13924269748864107, 0.24085223349386564, 0.030106529186733205, 0.026343213038391555, 0.12795274904361612, 0.0048446597444542746, 0.4190630678952948, 0.3657718107062978, 0.05086892731676988, 0.09447086501685836, 0.05086892731676988, 0.016956309105589963, 0.2580722992944967, 0.023461118117681517, 0.7038335435304456, 0.24425102367504314, 0.22287905910347686, 0.12365208073549058, 0.11907237404158352, 0.14502404530705687, 0.12823178742939764, 0.015265688979690197, 0.8891711237713673, 0.024360852706064858, 0.0426314922356135, 0.0060902131765162145, 0.030451065882581074, 0.0060902131765162145, 0.6131496272904974, 0.08029340357375561, 0.09002593734027144, 0.07786027013212665, 0.06326146948235291, 0.06812773636561083, 0.009732533766515832, 0.19944634256840604, 0.7377111707048272, 0.05767123158604512, 0.00480593596550376, 0.03541622002283549, 0.1593729901027597, 0.061978385039962114, 0.7171784554624188, 0.026562165017126618, 0.004323869470119334, 0.06053417258167068, 0.02161934735059667, 0.8388306772031509, 0.06053417258167068, 0.008647738940238668, 0.8731661909781555, 0.9618341968806757, 0.9488921946032525, 0.061339636491630864, 0.061339636491630864, 0.8383083653856218, 0.020446545497210287, 0.9236562678955311, 0.9193155959246438, 0.07581984296285722, 0.9720551871576696, 0.9857801572421837, 0.17151608539830537, 0.8218479092002132, 0.09611942238198375, 0.892537493546992, 0.9575322418837409, 0.9542393940634214, 0.09216931525856227, 0.9075132579304592, 0.013327606271294295, 0.1999140940694144, 0.06663803135647148, 0.7196907386498919, 0.863201299903625, 0.08092512186596484, 0.053950081243976565, 0.913721557648815, 0.9132373818848121, 0.6706424868500369, 0.18609451205786365, 0.05969069254686193, 0.007022434417277874, 0.03511217208638937, 0.028089737669111495, 0.010533651625916811, 0.6054356163572274, 0.18505008872048145, 0.07844514630542149, 0.016091312062650562, 0.07241090428192754, 0.03620545214096377, 0.0040228280156626404, 0.5408111523707158, 0.27728029422396866, 0.05499774430888634, 0.018332581436295448, 0.08593397548263491, 0.020624154115832377, 0.002291572679536931, 0.2433222391402357, 0.10230594145669002, 0.0967758905671392, 0.21290695924770625, 0.0940108651223638, 0.1880217302447276, 0.06636061067460974, 0.992492886161807, 0.1184686757349528, 0.3655604851249972, 0.08462048266782343, 0.31309578587094666, 0.01184686757349528, 0.04400265098726818, 0.06261915717418934, 0.9715616680957487, 0.022112118902574338, 0.1437287728667332, 0.08844847561029735, 0.718643864333666, 0.03316817835386151, 0.14440317977806344, 0.028880635955612688, 0.8086578067571553, 0.21936510461180805, 0.19742859415062725, 0.5813175272212914, 0.9903347934241615, 0.00915978862253033, 0.958987676834467, 0.02862649781595424, 0.9448167637481065, 0.28275742656993225, 0.18599155169933318, 0.09676587487059903, 0.18473485202568904, 0.09173907617602245, 0.09550917519695488, 0.060321584334918875, 0.0008937300679798996, 0.30654941331710556, 0.11171625849748745, 0.4164782116786332, 0.10903506829354775, 0.006256110475859297, 0.050048883806874375, 0.9132104608593976, 0.21266171883603158, 0.053165429709007894, 0.7177333010716066, 0.09841076028297785, 0.1252500585419718, 0.1968215205659557, 0.02683929825899396, 0.47117879165789395, 0.07157146202398389, 0.011928577003997316, 0.5470567790999639, 0.0802075728755586, 0.028792462057892834, 0.09666040833721165, 0.1131132437988647, 0.11105663936615807, 0.024679253192479572, 0.2719393487793908, 0.06537003576427663, 0.37914620743280447, 0.036607220027994915, 0.1725768944176903, 0.026148014305710652, 0.04968122718085024, 0.9886968184809465, 0.9644099169260286, 0.9419311944842435, 0.2861105981591821, 0.08803403020282527, 0.02641020906084758, 0.2729054936287583, 0.07482892567240149, 0.250896986078052, 0.959473023460682, 0.97228983347917, 0.024106359507748015, 0.9727778750988194, 0.17737948526811104, 0.7686444361618145, 0.928061701674901, 0.06914969541891419, 0.0036394576536270627, 0.9745732902666607, 0.9325674259315032, 0.0630721930581693, 0.9821307489544338, 0.013640704846589358, 0.9930425683596373, 0.9821756534088749, 0.45004447381248297, 0.24321552414546954, 0.20682894966701346, 0.038301657345743235, 0.04979215454946621, 0.009575414336435809, 0.7393954343483397, 0.08790015653092151, 0.06721776675893998, 0.08790015653092151, 0.010341194885990765, 0.04208224931731842, 0.09678917342983236, 0.004208224931731842, 0.744855812916536, 0.08416449863463683, 0.02524934959039105, 0.04823218675640384, 0.9324889439571409, 0.016077395585467946, 0.2345850074000347, 0.14228926678362763, 0.4653243589410525, 0.14998057850166155, 0.007691311718033925, 0.17955079337398763, 0.7900234908455456, 0.5335097063882184, 0.16786037103434187, 0.08978577985557822, 0.06376091612932366, 0.08197832073770185, 0.061158429756698204, 0.0026024863726254554, 0.02310809904550242, 0.11554049522751211, 0.16175669331851694, 0.6701348723195703, 0.9716298596884443, 0.1860537844368009, 0.5826959182910797, 0.12880646614855445, 0.02657911206240013, 0.00613364124516926, 0.04906912996135408, 0.022490017898953954, 0.1505584849693228, 0.16959461525280042, 0.29592529804315176, 0.21978077690924136, 0.15228904226782078, 0.01038334379098778, 0.3336200501838581, 0.10574564090649073, 0.004468125672105242, 0.22489565882929718, 0.20553378091684116, 0.08489438776999961, 0.04021313104894718, 0.8367474297486814, 0.08756659148532712, 0.04864810638073729, 0.019459242552294916, 0.14969463109941836, 0.14181596630471213, 0.27125117364631446, 0.11367787775218988, 0.14969463109941836, 0.13731387213630858, 0.036016753347228474, 0.9543677929532085, 0.9766373662278103, 0.017285617101377174], \"Term\": [\"abortion\", \"abortion\", \"abortions\", \"aca\", \"according\", \"according\", \"according\", \"according\", \"according\", \"according\", \"according\", \"acres\", \"acres\", \"administration\", \"administration\", \"administration\", \"affordable\", \"affordable\", \"afghan\", \"afghanistan\", \"afghanistan\", \"afghanistan\", \"agriculture\", \"agriculture\", \"airline\", \"airport\", \"airport\", \"alton\", \"always\", \"always\", \"always\", \"always\", \"always\", \"always\", \"always\", \"american\", \"american\", \"american\", \"american\", \"american\", \"american\", \"american\", \"animals\", \"animals\", \"app\", \"app\", \"arabia\", \"archive\", \"around\", \"around\", \"around\", \"around\", \"around\", \"around\", \"around\", \"arrest\", \"artist\", \"artist\", \"astronauts\", \"astronomer\", \"athletes\", \"attack\", \"attack\", \"attack\", \"attack\", \"attack\", \"attack\", \"attorney\", \"attorney\", \"attorney\", \"authorities\", \"authorities\", \"authorities\", \"authorities\", \"autonomous\", \"autonomous\", \"babies\", \"babies\", \"back\", \"back\", \"back\", \"back\", \"back\", \"back\", \"back\", \"bacteria\", \"bacteria\", \"baltimore\", \"baltimore\", \"bands\", \"bang\", \"bang\", \"bang\", \"bang\", \"bears\", \"bears\", \"bears\", \"beatles\", \"beijing\", \"bernie\", \"better\", \"better\", \"better\", \"better\", \"better\", \"better\", \"bill\", \"bill\", \"bill\", \"bill\", \"bill\", \"black\", \"black\", \"black\", \"black\", \"black\", \"black\", \"black\", \"boilen\", \"book\", \"book\", \"book\", \"bowie\", \"bowie\", \"brain\", \"brain\", \"brexit\", \"bridge\", \"bridge\", \"bridge\", \"bridge\", \"bridge\", \"britain\", \"britain\", \"budget\", \"budget\", \"budget\", \"budget\", \"building\", \"building\", \"building\", \"building\", \"building\", \"building\", \"bush\", \"bush\", \"butter\", \"butter\", \"called\", \"called\", \"called\", \"called\", \"called\", \"called\", \"called\", \"cameron\", \"cameron\", \"campaign\", \"campaign\", \"campaign\", \"campaign\", \"candidate\", \"candidate\", \"candidate\", \"candidates\", \"candidates\", \"carbon\", \"carbon\", \"carbon\", \"cardiovascular\", \"care\", \"care\", \"care\", \"care\", \"care\", \"case\", \"case\", \"case\", \"case\", \"case\", \"case\", \"case\", \"cases\", \"cases\", \"cases\", \"cases\", \"cases\", \"cases\", \"castile\", \"cdc\", \"character\", \"character\", \"character\", \"charges\", \"charges\", \"charges\", \"charges\", \"charges\", \"charges\", \"cheese\", \"cheese\", \"chess\", \"chess\", \"chicken\", \"children\", \"children\", \"children\", \"children\", \"children\", \"children\", \"children\", \"china\", \"china\", \"china\", \"china\", \"china\", \"chinese\", \"chinese\", \"chinese\", \"chinese\", \"chinese\", \"chocolate\", \"chris\", \"chris\", \"chris\", \"chris\", \"christie\", \"christie\", \"cia\", \"city\", \"city\", \"city\", \"city\", \"city\", \"city\", \"city\", \"civilian\", \"climate\", \"climate\", \"climate\", \"clinton\", \"colonial\", \"comedy\", \"comey\", \"comic\", \"committee\", \"committee\", \"committee\", \"committee\", \"committee\", \"companies\", \"companies\", \"companies\", \"company\", \"company\", \"company\", \"company\", \"company\", \"company\", \"company\", \"continents\", \"contraception\", \"cosmic\", \"costs\", \"costs\", \"costs\", \"costs\", \"could\", \"could\", \"could\", \"could\", \"could\", \"could\", \"could\", \"countries\", \"countries\", \"countries\", \"countries\", \"country\", \"country\", \"country\", \"country\", \"country\", \"country\", \"country\", \"coup\", \"court\", \"court\", \"court\", \"court\", \"coverage\", \"coverage\", \"coverage\", \"coverage\", \"culinary\", \"cup\", \"cup\", \"dark\", \"dark\", \"dark\", \"day\", \"day\", \"day\", \"day\", \"day\", \"day\", \"day\", \"death\", \"death\", \"death\", \"death\", \"death\", \"death\", \"death\", \"deductibles\", \"defects\", \"delegates\", \"democratic\", \"democratic\", \"democrats\", \"department\", \"department\", \"department\", \"department\", \"department\", \"department\", \"detained\", \"devos\", \"diarrhea\", \"died\", \"died\", \"died\", \"died\", \"died\", \"died\", \"died\", \"diet\", \"different\", \"different\", \"different\", \"different\", \"different\", \"different\", \"different\", \"disease\", \"disease\", \"diseases\", \"diseases\", \"doctors\", \"doctors\", \"doctors\", \"doctors\", \"donald\", \"donald\", \"donald\", \"dr\", \"dr\", \"dr\", \"dr\", \"drag\", \"dylan\", \"ears\", \"ears\", \"ears\", \"ears\", \"earth\", \"earth\", \"earth\", \"earth\", \"earth\", \"ebola\", \"ebola\", \"education\", \"education\", \"education\", \"education\", \"egg\", \"egypt\", \"einstein\", \"einstein\", \"election\", \"election\", \"elections\", \"emotions\", \"employees\", \"employees\", \"employees\", \"employers\", \"epa\", \"epa\", \"essay\", \"eu\", \"eu\", \"eu\", \"even\", \"even\", \"even\", \"even\", \"even\", \"even\", \"even\", \"every\", \"every\", \"every\", \"every\", \"every\", \"every\", \"every\", \"farmers\", \"farmers\", \"farming\", \"fbi\", \"fbi\", \"fbi\", \"federal\", \"federal\", \"federal\", \"federal\", \"federal\", \"feel\", \"feel\", \"feel\", \"feel\", \"feel\", \"feel\", \"felt\", \"felt\", \"felt\", \"felt\", \"felt\", \"fields\", \"fields\", \"fields\", \"fighters\", \"film\", \"film\", \"film\", \"film\", \"financial\", \"financial\", \"financial\", \"financial\", \"flint\", \"flint\", \"food\", \"food\", \"food\", \"food\", \"food\", \"food\", \"forces\", \"forces\", \"forces\", \"former\", \"former\", \"former\", \"former\", \"former\", \"former\", \"former\", \"freddie\", \"friends\", \"friends\", \"friends\", \"friends\", \"funding\", \"funding\", \"funding\", \"funny\", \"funny\", \"galaxy\", \"generic\", \"generic\", \"genes\", \"genes\", \"genetic\", \"genetic\", \"genetically\", \"get\", \"get\", \"get\", \"get\", \"get\", \"get\", \"get\", \"glimpse\", \"go\", \"go\", \"go\", \"go\", \"go\", \"go\", \"go\", \"going\", \"going\", \"going\", \"going\", \"going\", \"going\", \"going\", \"got\", \"got\", \"got\", \"got\", \"got\", \"got\", \"got\", \"government\", \"government\", \"government\", \"government\", \"government\", \"gray\", \"gray\", \"gray\", \"gray\", \"greenhouse\", \"group\", \"group\", \"group\", \"group\", \"group\", \"group\", \"group\", \"guilty\", \"guilty\", \"guilty\", \"guilty\", \"guilty\", \"guinea\", \"guinea\", \"guys\", \"guys\", \"hacking\", \"health\", \"health\", \"health\", \"healthcare\", \"help\", \"help\", \"help\", \"help\", \"help\", \"help\", \"help\", \"hillary\", \"history\", \"history\", \"history\", \"history\", \"history\", \"history\", \"history\", \"hiv\", \"hiv\", \"house\", \"house\", \"house\", \"house\", \"house\", \"house\", \"house\", \"howard\", \"howard\", \"humans\", \"humans\", \"humans\", \"humans\", \"humans\", \"humble\", \"hydrogen\", \"hydrogen\", \"ice\", \"ice\", \"ice\", \"indicted\", \"infected\", \"infection\", \"insurance\", \"insurance\", \"insurance\", \"insurer\", \"insurers\", \"intelligence\", \"intelligence\", \"intelligence\", \"intelligence\", \"international\", \"international\", \"international\", \"international\", \"international\", \"iraq\", \"iraq\", \"iraqi\", \"isis\", \"isis\", \"islamic\", \"israel\", \"israeli\", \"itunes\", \"jacob\", \"jacob\", \"jacob\", \"jacob\", \"japan\", \"japan\", \"japan\", \"jazz\", \"jeb\", \"jokes\", \"jury\", \"jury\", \"jury\", \"jury\", \"justice\", \"justice\", \"justice\", \"justice\", \"justice\", \"k\", \"k\", \"k\", \"k\", \"k\", \"k\", \"k\", \"kid\", \"kids\", \"kids\", \"kids\", \"kids\", \"kids\", \"killed\", \"killed\", \"killed\", \"killed\", \"killed\", \"kind\", \"kind\", \"kind\", \"kind\", \"kind\", \"kind\", \"kitchen\", \"kitchen\", \"kitchen\", \"know\", \"know\", \"know\", \"know\", \"know\", \"know\", \"know\", \"lamar\", \"lamar\", \"lands\", \"lands\", \"lands\", \"last\", \"last\", \"last\", \"last\", \"last\", \"last\", \"last\", \"law\", \"law\", \"law\", \"law\", \"law\", \"lebanon\", \"lee\", \"lee\", \"lee\", \"lee\", \"lee\", \"less\", \"less\", \"less\", \"less\", \"less\", \"less\", \"less\", \"life\", \"life\", \"life\", \"life\", \"life\", \"life\", \"life\", \"light\", \"light\", \"light\", \"light\", \"light\", \"light\", \"light\", \"likely\", \"likely\", \"likely\", \"likely\", \"likely\", \"likely\", \"likely\", \"listen\", \"listen\", \"listen\", \"listen\", \"little\", \"little\", \"little\", \"little\", \"little\", \"little\", \"little\", \"liver\", \"lot\", \"lot\", \"lot\", \"lot\", \"lot\", \"lot\", \"lot\", \"love\", \"love\", \"love\", \"love\", \"lucy\", \"made\", \"made\", \"made\", \"made\", \"made\", \"made\", \"made\", \"make\", \"make\", \"make\", \"make\", \"make\", \"make\", \"make\", \"man\", \"man\", \"man\", \"man\", \"man\", \"man\", \"marketplace\", \"may\", \"may\", \"may\", \"may\", \"may\", \"may\", \"may\", \"maybe\", \"maybe\", \"maybe\", \"maybe\", \"maybe\", \"maybe\", \"mcconnell\", \"meals\", \"medicaid\", \"medical\", \"medical\", \"medical\", \"medicare\", \"medicine\", \"medicine\", \"medicine\", \"military\", \"military\", \"military\", \"million\", \"million\", \"million\", \"million\", \"million\", \"million\", \"million\", \"minister\", \"minister\", \"minister\", \"minister\", \"missile\", \"missiles\", \"money\", \"money\", \"money\", \"money\", \"money\", \"money\", \"monument\", \"monument\", \"monument\", \"monuments\", \"moon\", \"moon\", \"mosquito\", \"mosquitoes\", \"mosul\", \"movie\", \"movie\", \"movies\", \"much\", \"much\", \"much\", \"much\", \"much\", \"much\", \"museum\", \"museum\", \"museum\", \"museum\", \"mushrooms\", \"music\", \"music\", \"music\", \"musical\", \"musical\", \"muslim\", \"muslim\", \"muslim\", \"nasa\", \"national\", \"national\", \"national\", \"national\", \"national\", \"national\", \"national\", \"need\", \"need\", \"need\", \"need\", \"need\", \"need\", \"never\", \"never\", \"never\", \"never\", \"never\", \"never\", \"never\", \"news\", \"news\", \"news\", \"news\", \"news\", \"news\", \"news\", \"next\", \"next\", \"next\", \"next\", \"next\", \"next\", \"next\", \"niki\", \"nomination\", \"nominee\", \"nominees\", \"novel\", \"novel\", \"npr\", \"npr\", \"npr\", \"npr\", \"npr\", \"npr\", \"npr\", \"nunes\", \"obama\", \"obama\", \"obama\", \"obama\", \"obamacare\", \"obamacare\", \"officer\", \"officer\", \"officer\", \"officer\", \"officer\", \"officer\", \"officers\", \"officers\", \"officers\", \"oh\", \"oh\", \"oh\", \"opera\", \"opera\", \"opioid\", \"opioids\", \"orbits\", \"oven\", \"overdose\", \"palestinian\", \"palestinians\", \"pan\", \"parenthood\", \"parker\", \"particles\", \"particles\", \"party\", \"party\", \"party\", \"party\", \"passion\", \"past\", \"past\", \"past\", \"past\", \"past\", \"past\", \"past\", \"patient\", \"patient\", \"patients\", \"patients\", \"patients\", \"pay\", \"pay\", \"pay\", \"pay\", \"pay\", \"pay\", \"pay\", \"payment\", \"payments\", \"peace\", \"peace\", \"peace\", \"peace\", \"peace\", \"pence\", \"percent\", \"percent\", \"percent\", \"percent\", \"percent\", \"percent\", \"percent\", \"petition\", \"philando\", \"philippines\", \"pie\", \"plan\", \"plan\", \"plan\", \"plan\", \"plan\", \"plan\", \"planet\", \"planet\", \"planet\", \"planet\", \"planets\", \"plans\", \"plans\", \"plans\", \"plans\", \"plans\", \"plans\", \"plans\", \"plea\", \"plea\", \"police\", \"police\", \"police\", \"political\", \"political\", \"political\", \"political\", \"political\", \"political\", \"polls\", \"polls\", \"population\", \"population\", \"population\", \"population\", \"population\", \"powell\", \"premium\", \"preservation\", \"presidency\", \"president\", \"president\", \"president\", \"president\", \"president\", \"president\", \"president\", \"presidential\", \"presidential\", \"presidential\", \"price\", \"price\", \"price\", \"price\", \"price\", \"prince\", \"prince\", \"privacy\", \"privacy\", \"privacy\", \"profits\", \"program\", \"program\", \"program\", \"program\", \"program\", \"program\", \"proposition\", \"prosecutors\", \"prosecutors\", \"prosecutors\", \"provider\", \"provisions\", \"public\", \"public\", \"public\", \"public\", \"public\", \"public\", \"public\", \"punk\", \"putin\", \"rangers\", \"rats\", \"really\", \"really\", \"really\", \"really\", \"really\", \"really\", \"really\", \"rebels\", \"refugee\", \"refugee\", \"refugees\", \"refugees\", \"repeal\", \"reported\", \"reported\", \"reported\", \"reported\", \"reported\", \"reported\", \"reports\", \"reports\", \"reports\", \"reports\", \"reports\", \"republican\", \"republican\", \"republicans\", \"republicans\", \"research\", \"research\", \"research\", \"research\", \"research\", \"research\", \"researchers\", \"researchers\", \"researchers\", \"retiring\", \"retiring\", \"reynolds\", \"reynolds\", \"reynolds\", \"rights\", \"rights\", \"rights\", \"rights\", \"rights\", \"rights\", \"risk\", \"risk\", \"risk\", \"risk\", \"risk\", \"rodents\", \"rogosin\", \"romney\", \"rouge\", \"rubio\", \"rubio\", \"russia\", \"russia\", \"russian\", \"russian\", \"sanctions\", \"sanders\", \"santos\", \"sauce\", \"saudi\", \"say\", \"say\", \"say\", \"say\", \"say\", \"say\", \"say\", \"school\", \"school\", \"school\", \"school\", \"school\", \"school\", \"school\", \"schools\", \"schools\", \"schools\", \"schools\", \"science\", \"science\", \"science\", \"science\", \"scientists\", \"scientists\", \"scientists\", \"securities\", \"security\", \"security\", \"security\", \"security\", \"security\", \"see\", \"see\", \"see\", \"see\", \"see\", \"see\", \"see\", \"sen\", \"sen\", \"senate\", \"senate\", \"services\", \"services\", \"services\", \"services\", \"shooting\", \"shooting\", \"shooting\", \"shooting\", \"show\", \"show\", \"show\", \"show\", \"show\", \"show\", \"show\", \"since\", \"since\", \"since\", \"since\", \"since\", \"since\", \"since\", \"singing\", \"singing\", \"sky\", \"sky\", \"sky\", \"smithsonian\", \"smithsonian\", \"soft\", \"solar\", \"solar\", \"somalia\", \"somalia\", \"something\", \"something\", \"something\", \"something\", \"something\", \"something\", \"song\", \"song\", \"song\", \"songs\", \"songs\", \"songs\", \"space\", \"space\", \"space\", \"space\", \"spencer\", \"st\", \"st\", \"st\", \"st\", \"st\", \"stadium\", \"standoff\", \"star\", \"star\", \"star\", \"star\", \"star\", \"stars\", \"stars\", \"stars\", \"state\", \"state\", \"state\", \"state\", \"state\", \"state\", \"state\", \"statement\", \"statement\", \"statement\", \"statement\", \"statement\", \"statement\", \"states\", \"states\", \"states\", \"states\", \"states\", \"states\", \"states\", \"sterling\", \"sterling\", \"sterling\", \"still\", \"still\", \"still\", \"still\", \"still\", \"still\", \"still\", \"stories\", \"stories\", \"stories\", \"stories\", \"stories\", \"stories\", \"story\", \"story\", \"story\", \"story\", \"story\", \"story\", \"story\", \"students\", \"students\", \"students\", \"students\", \"studies\", \"studies\", \"studies\", \"studies\", \"studies\", \"study\", \"study\", \"study\", \"study\", \"study\", \"study\", \"subscribe\", \"subsidies\", \"sued\", \"sun\", \"sun\", \"sun\", \"sun\", \"superpac\", \"supporters\", \"supporters\", \"sustainability\", \"symptoms\", \"syria\", \"syria\", \"syrian\", \"syrian\", \"tales\", \"taliban\", \"tax\", \"tax\", \"tea\", \"tea\", \"tea\", \"tea\", \"teacher\", \"teacher\", \"teacher\", \"telescope\", \"telescopes\", \"thing\", \"thing\", \"thing\", \"thing\", \"thing\", \"thing\", \"thing\", \"things\", \"things\", \"things\", \"things\", \"things\", \"things\", \"things\", \"think\", \"think\", \"think\", \"think\", \"think\", \"think\", \"think\", \"three\", \"three\", \"three\", \"three\", \"three\", \"three\", \"three\", \"tillerson\", \"told\", \"told\", \"told\", \"told\", \"told\", \"told\", \"told\", \"transmission\", \"treatment\", \"treatment\", \"treatment\", \"treatment\", \"treatment\", \"tree\", \"tree\", \"tree\", \"trial\", \"trial\", \"trial\", \"trump\", \"trump\", \"turkey\", \"turkey\", \"turkish\", \"two\", \"two\", \"two\", \"two\", \"two\", \"two\", \"two\", \"u\", \"u\", \"u\", \"u\", \"u\", \"u\", \"u\", \"unarmed\", \"universe\", \"universe\", \"universe\", \"university\", \"university\", \"university\", \"university\", \"university\", \"university\", \"university\", \"us\", \"us\", \"us\", \"us\", \"us\", \"us\", \"us\", \"use\", \"use\", \"use\", \"use\", \"use\", \"use\", \"use\", \"vaccine\", \"vaccines\", \"verdict\", \"video\", \"video\", \"video\", \"video\", \"video\", \"video\", \"videographers\", \"virus\", \"virus\", \"viruses\", \"vocals\", \"vocals\", \"vote\", \"vote\", \"vote\", \"voter\", \"voters\", \"voters\", \"votes\", \"votes\", \"voting\", \"vouchers\", \"want\", \"want\", \"want\", \"want\", \"want\", \"want\", \"wanted\", \"wanted\", \"wanted\", \"wanted\", \"wanted\", \"war\", \"war\", \"war\", \"war\", \"war\", \"war\", \"waste\", \"waste\", \"waste\", \"water\", \"water\", \"water\", \"water\", \"water\", \"waves\", \"waves\", \"way\", \"way\", \"way\", \"way\", \"way\", \"way\", \"way\", \"weather\", \"weather\", \"weather\", \"weather\", \"weird\", \"white\", \"white\", \"white\", \"white\", \"white\", \"white\", \"white\", \"women\", \"women\", \"women\", \"women\", \"women\", \"women\", \"world\", \"world\", \"world\", \"world\", \"world\", \"world\", \"world\", \"writing\", \"writing\", \"writing\", \"writing\", \"year\", \"year\", \"year\", \"year\", \"year\", \"year\", \"year\", \"yemen\", \"zika\", \"zika\"]}, \"R\": 30, \"lambda.step\": 0.01, \"plot.opts\": {\"xlab\": \"PC1\", \"ylab\": \"PC2\"}, \"topic.order\": [5, 1, 3, 2, 4, 7, 6]};\n",
       "\n",
       "function LDAvis_load_lib(url, callback){\n",
       "  var s = document.createElement('script');\n",
       "  s.src = url;\n",
       "  s.async = true;\n",
       "  s.onreadystatechange = s.onload = callback;\n",
       "  s.onerror = function(){console.warn(\"failed to load library \" + url);};\n",
       "  document.getElementsByTagName(\"head\")[0].appendChild(s);\n",
       "}\n",
       "\n",
       "if(typeof(LDAvis) !== \"undefined\"){\n",
       "   // already loaded: just create the visualization\n",
       "   !function(LDAvis){\n",
       "       new LDAvis(\"#\" + \"ldavis_el180481404604626544164939514084\", ldavis_el180481404604626544164939514084_data);\n",
       "   }(LDAvis);\n",
       "}else if(typeof define === \"function\" && define.amd){\n",
       "   // require.js is available: use it to load d3/LDAvis\n",
       "   require.config({paths: {d3: \"https://cdnjs.cloudflare.com/ajax/libs/d3/3.5.5/d3.min\"}});\n",
       "   require([\"d3\"], function(d3){\n",
       "      window.d3 = d3;\n",
       "      LDAvis_load_lib(\"https://cdn.rawgit.com/bmabey/pyLDAvis/files/ldavis.v1.0.0.js\", function(){\n",
       "        new LDAvis(\"#\" + \"ldavis_el180481404604626544164939514084\", ldavis_el180481404604626544164939514084_data);\n",
       "      });\n",
       "    });\n",
       "}else{\n",
       "    // require.js not available: dynamically load d3 & LDAvis\n",
       "    LDAvis_load_lib(\"https://cdnjs.cloudflare.com/ajax/libs/d3/3.5.5/d3.min.js\", function(){\n",
       "         LDAvis_load_lib(\"https://cdn.rawgit.com/bmabey/pyLDAvis/files/ldavis.v1.0.0.js\", function(){\n",
       "                 new LDAvis(\"#\" + \"ldavis_el180481404604626544164939514084\", ldavis_el180481404604626544164939514084_data);\n",
       "            })\n",
       "         });\n",
       "}\n",
       "</script>"
      ],
      "text/plain": [
       "<IPython.core.display.HTML object>"
      ]
     },
     "execution_count": 39,
     "metadata": {},
     "output_type": "execute_result"
    }
   ],
   "source": [
    "lda_display = pyLDAvis.gensim.prepare(model, corpus, dictionary, sort_topics=True)\n",
    "pyLDAvis.display(lda_display)"
   ]
  },
  {
   "cell_type": "markdown",
   "metadata": {
    "slideshow": {
     "slide_type": "notes"
    }
   },
   "source": [
    "Saliencia: una medida de cuánto te dice el término sobre el tema.\n",
    "\n",
    "Relevancia: un promedio ponderado de la probabilidad de la palabra dada el tema y la palabra dada el tema normalizada por la probabilidad del palabra.\n"
   ]
  },
  {
   "cell_type": "markdown",
   "metadata": {
    "slideshow": {
     "slide_type": "slide"
    }
   },
   "source": [
    "## 👩‍💻 Manos a la obra\n",
    "\n",
    "**Paso 4:** Resultados"
   ]
  },
  {
   "cell_type": "code",
   "execution_count": 42,
   "metadata": {
    "scrolled": true,
    "slideshow": {
     "slide_type": "fragment"
    }
   },
   "outputs": [
    {
     "name": "stderr",
     "output_type": "stream",
     "text": [
      "/opt/anaconda3/lib/python3.7/site-packages/ipykernel/ipkernel.py:287: DeprecationWarning: `should_run_async` will not call `transform_cell` automatically in the future. Please pass the result to `transformed_cell` argument and any exception that happen during thetransform in `preprocessing_exc_tuple` in IPython 7.17 and above.\n",
      "  and should_run_async(code)\n"
     ]
    },
    {
     "data": {
      "text/plain": [
       "[(0, 0.82849663),\n",
       " (1, 0.028579975),\n",
       " (2, 0.028589701),\n",
       " (3, 0.02857247),\n",
       " (4, 0.028589161),\n",
       " (5, 0.028582895),\n",
       " (6, 0.028589165)]"
      ]
     },
     "execution_count": 42,
     "metadata": {},
     "output_type": "execute_result"
    }
   ],
   "source": [
    "d = dictionary.doc2bow([\"trump\", \"clinton\", \"white\", \"house\"])\n",
    "topics = model.get_document_topics(d)\n",
    "topics"
   ]
  },
  {
   "cell_type": "code",
   "execution_count": 47,
   "metadata": {
    "slideshow": {
     "slide_type": "fragment"
    }
   },
   "outputs": [
    {
     "name": "stderr",
     "output_type": "stream",
     "text": [
      "/opt/anaconda3/lib/python3.7/site-packages/ipykernel/ipkernel.py:287: DeprecationWarning: `should_run_async` will not call `transform_cell` automatically in the future. Please pass the result to `transformed_cell` argument and any exception that happen during thetransform in `preprocessing_exc_tuple` in IPython 7.17 and above.\n",
      "  and should_run_async(code)\n"
     ]
    },
    {
     "data": {
      "text/plain": [
       "0.028579975"
      ]
     },
     "execution_count": 47,
     "metadata": {},
     "output_type": "execute_result"
    }
   ],
   "source": [
    "def get_doc_top_n(text_processed, n):\n",
    "    d = dictionary.doc2bow(text_processed)\n",
    "    topics = dict(model.get_document_topics(d))\n",
    "    try:\n",
    "        return topics[n]\n",
    "    except:\n",
    "        return None"
   ]
  },
  {
   "cell_type": "code",
   "execution_count": 51,
   "metadata": {
    "slideshow": {
     "slide_type": "slide"
    }
   },
   "outputs": [
    {
     "name": "stderr",
     "output_type": "stream",
     "text": [
      "/opt/anaconda3/lib/python3.7/site-packages/ipykernel/ipkernel.py:287: DeprecationWarning: `should_run_async` will not call `transform_cell` automatically in the future. Please pass the result to `transformed_cell` argument and any exception that happen during thetransform in `preprocessing_exc_tuple` in IPython 7.17 and above.\n",
      "  and should_run_async(code)\n"
     ]
    }
   ],
   "source": [
    "for t in range(0,7):\n",
    "    top_name = f\"topic_{t}\"\n",
    "    data[top_name] = data['Pre-Processed'].apply(lambda doc: get_doc_top_n(doc,t))"
   ]
  },
  {
   "cell_type": "code",
   "execution_count": 52,
   "metadata": {
    "slideshow": {
     "slide_type": "fragment"
    }
   },
   "outputs": [
    {
     "name": "stderr",
     "output_type": "stream",
     "text": [
      "/opt/anaconda3/lib/python3.7/site-packages/ipykernel/ipkernel.py:287: DeprecationWarning: `should_run_async` will not call `transform_cell` automatically in the future. Please pass the result to `transformed_cell` argument and any exception that happen during thetransform in `preprocessing_exc_tuple` in IPython 7.17 and above.\n",
      "  and should_run_async(code)\n"
     ]
    },
    {
     "data": {
      "text/html": [
       "<div>\n",
       "<style scoped>\n",
       "    .dataframe tbody tr th:only-of-type {\n",
       "        vertical-align: middle;\n",
       "    }\n",
       "\n",
       "    .dataframe tbody tr th {\n",
       "        vertical-align: top;\n",
       "    }\n",
       "\n",
       "    .dataframe thead th {\n",
       "        text-align: right;\n",
       "    }\n",
       "</style>\n",
       "<table border=\"1\" class=\"dataframe\">\n",
       "  <thead>\n",
       "    <tr style=\"text-align: right;\">\n",
       "      <th></th>\n",
       "      <th>Article</th>\n",
       "      <th>Pre-Processed</th>\n",
       "      <th>topic_0</th>\n",
       "      <th>topic_1</th>\n",
       "      <th>topic_2</th>\n",
       "      <th>topic_3</th>\n",
       "      <th>topic_4</th>\n",
       "      <th>topic_5</th>\n",
       "      <th>topic_6</th>\n",
       "    </tr>\n",
       "  </thead>\n",
       "  <tbody>\n",
       "    <tr>\n",
       "      <th>360</th>\n",
       "      <td>The U. S.  coalition fighting ISIS says it car...</td>\n",
       "      <td>[u, coalition, fighting, isis, says, carried, ...</td>\n",
       "      <td>NaN</td>\n",
       "      <td>0.994183</td>\n",
       "      <td>NaN</td>\n",
       "      <td>NaN</td>\n",
       "      <td>NaN</td>\n",
       "      <td>NaN</td>\n",
       "      <td>NaN</td>\n",
       "    </tr>\n",
       "    <tr>\n",
       "      <th>559</th>\n",
       "      <td>On Monday, a rare and beautiful thing happened...</td>\n",
       "      <td>[monday, rare, beautiful, thing, happened, dus...</td>\n",
       "      <td>NaN</td>\n",
       "      <td>NaN</td>\n",
       "      <td>NaN</td>\n",
       "      <td>NaN</td>\n",
       "      <td>NaN</td>\n",
       "      <td>NaN</td>\n",
       "      <td>0.988968</td>\n",
       "    </tr>\n",
       "    <tr>\n",
       "      <th>699</th>\n",
       "      <td>The Turkish government has cracked down on ind...</td>\n",
       "      <td>[turkish, government, cracked, independent, me...</td>\n",
       "      <td>0.301373</td>\n",
       "      <td>0.693357</td>\n",
       "      <td>NaN</td>\n",
       "      <td>NaN</td>\n",
       "      <td>NaN</td>\n",
       "      <td>NaN</td>\n",
       "      <td>NaN</td>\n",
       "    </tr>\n",
       "    <tr>\n",
       "      <th>920</th>\n",
       "      <td>Liberty University is a place where Donald Tru...</td>\n",
       "      <td>[liberty, university, place, donald, trump, st...</td>\n",
       "      <td>0.775398</td>\n",
       "      <td>NaN</td>\n",
       "      <td>NaN</td>\n",
       "      <td>NaN</td>\n",
       "      <td>0.221878</td>\n",
       "      <td>NaN</td>\n",
       "      <td>NaN</td>\n",
       "    </tr>\n",
       "    <tr>\n",
       "      <th>983</th>\n",
       "      <td>Updated at 4:40 a. m. ET Saturday, A suspect i...</td>\n",
       "      <td>[updated, et, saturday, suspect, friday, truck...</td>\n",
       "      <td>NaN</td>\n",
       "      <td>0.997269</td>\n",
       "      <td>NaN</td>\n",
       "      <td>NaN</td>\n",
       "      <td>NaN</td>\n",
       "      <td>NaN</td>\n",
       "      <td>NaN</td>\n",
       "    </tr>\n",
       "    <tr>\n",
       "      <th>...</th>\n",
       "      <td>...</td>\n",
       "      <td>...</td>\n",
       "      <td>...</td>\n",
       "      <td>...</td>\n",
       "      <td>...</td>\n",
       "      <td>...</td>\n",
       "      <td>...</td>\n",
       "      <td>...</td>\n",
       "      <td>...</td>\n",
       "    </tr>\n",
       "    <tr>\n",
       "      <th>976</th>\n",
       "      <td>One of the very first bills President Trump si...</td>\n",
       "      <td>[one, first, bills, president, trump, signed, ...</td>\n",
       "      <td>0.341016</td>\n",
       "      <td>0.221118</td>\n",
       "      <td>0.334838</td>\n",
       "      <td>0.101390</td>\n",
       "      <td>NaN</td>\n",
       "      <td>NaN</td>\n",
       "      <td>NaN</td>\n",
       "    </tr>\n",
       "    <tr>\n",
       "      <th>756</th>\n",
       "      <td>Refugees make headlines. Internally displaced ...</td>\n",
       "      <td>[refugees, make, headlines, internally, displa...</td>\n",
       "      <td>0.035831</td>\n",
       "      <td>0.631025</td>\n",
       "      <td>NaN</td>\n",
       "      <td>0.247150</td>\n",
       "      <td>0.056053</td>\n",
       "      <td>0.029237</td>\n",
       "      <td>NaN</td>\n",
       "    </tr>\n",
       "    <tr>\n",
       "      <th>464</th>\n",
       "      <td>”The system’s rigged!” ”The machines will be h...</td>\n",
       "      <td>[system, rigged, machines, hacked, voters, get...</td>\n",
       "      <td>0.585423</td>\n",
       "      <td>NaN</td>\n",
       "      <td>0.297540</td>\n",
       "      <td>NaN</td>\n",
       "      <td>0.115575</td>\n",
       "      <td>NaN</td>\n",
       "      <td>NaN</td>\n",
       "    </tr>\n",
       "    <tr>\n",
       "      <th>121</th>\n",
       "      <td>Looking back at the 1992 Los Angeles riots, pe...</td>\n",
       "      <td>[looking, back, los, angeles, riots, people, o...</td>\n",
       "      <td>0.157754</td>\n",
       "      <td>0.337224</td>\n",
       "      <td>NaN</td>\n",
       "      <td>NaN</td>\n",
       "      <td>0.164644</td>\n",
       "      <td>0.324572</td>\n",
       "      <td>0.010771</td>\n",
       "    </tr>\n",
       "    <tr>\n",
       "      <th>344</th>\n",
       "      <td>Championing ”stability” and protectionism, Don...</td>\n",
       "      <td>[championing, stability, protectionism, donald...</td>\n",
       "      <td>0.755301</td>\n",
       "      <td>0.223618</td>\n",
       "      <td>NaN</td>\n",
       "      <td>0.019725</td>\n",
       "      <td>NaN</td>\n",
       "      <td>NaN</td>\n",
       "      <td>NaN</td>\n",
       "    </tr>\n",
       "  </tbody>\n",
       "</table>\n",
       "<p>1000 rows × 9 columns</p>\n",
       "</div>"
      ],
      "text/plain": [
       "                                               Article  \\\n",
       "360  The U. S.  coalition fighting ISIS says it car...   \n",
       "559  On Monday, a rare and beautiful thing happened...   \n",
       "699  The Turkish government has cracked down on ind...   \n",
       "920  Liberty University is a place where Donald Tru...   \n",
       "983  Updated at 4:40 a. m. ET Saturday, A suspect i...   \n",
       "..                                                 ...   \n",
       "976  One of the very first bills President Trump si...   \n",
       "756  Refugees make headlines. Internally displaced ...   \n",
       "464  ”The system’s rigged!” ”The machines will be h...   \n",
       "121  Looking back at the 1992 Los Angeles riots, pe...   \n",
       "344  Championing ”stability” and protectionism, Don...   \n",
       "\n",
       "                                         Pre-Processed   topic_0   topic_1  \\\n",
       "360  [u, coalition, fighting, isis, says, carried, ...       NaN  0.994183   \n",
       "559  [monday, rare, beautiful, thing, happened, dus...       NaN       NaN   \n",
       "699  [turkish, government, cracked, independent, me...  0.301373  0.693357   \n",
       "920  [liberty, university, place, donald, trump, st...  0.775398       NaN   \n",
       "983  [updated, et, saturday, suspect, friday, truck...       NaN  0.997269   \n",
       "..                                                 ...       ...       ...   \n",
       "976  [one, first, bills, president, trump, signed, ...  0.341016  0.221118   \n",
       "756  [refugees, make, headlines, internally, displa...  0.035831  0.631025   \n",
       "464  [system, rigged, machines, hacked, voters, get...  0.585423       NaN   \n",
       "121  [looking, back, los, angeles, riots, people, o...  0.157754  0.337224   \n",
       "344  [championing, stability, protectionism, donald...  0.755301  0.223618   \n",
       "\n",
       "      topic_2   topic_3   topic_4   topic_5   topic_6  \n",
       "360       NaN       NaN       NaN       NaN       NaN  \n",
       "559       NaN       NaN       NaN       NaN  0.988968  \n",
       "699       NaN       NaN       NaN       NaN       NaN  \n",
       "920       NaN       NaN  0.221878       NaN       NaN  \n",
       "983       NaN       NaN       NaN       NaN       NaN  \n",
       "..        ...       ...       ...       ...       ...  \n",
       "976  0.334838  0.101390       NaN       NaN       NaN  \n",
       "756       NaN  0.247150  0.056053  0.029237       NaN  \n",
       "464  0.297540       NaN  0.115575       NaN       NaN  \n",
       "121       NaN       NaN  0.164644  0.324572  0.010771  \n",
       "344       NaN  0.019725       NaN       NaN       NaN  \n",
       "\n",
       "[1000 rows x 9 columns]"
      ]
     },
     "execution_count": 52,
     "metadata": {},
     "output_type": "execute_result"
    }
   ],
   "source": [
    "data"
   ]
  },
  {
   "cell_type": "code",
   "execution_count": 65,
   "metadata": {
    "slideshow": {
     "slide_type": "slide"
    }
   },
   "outputs": [
    {
     "name": "stdout",
     "output_type": "stream",
     "text": [
      "****************************** TOPIC 0 ******************************\n",
      "Article #1\n",
      "Updated at 4:20 p. m. ET on June 20, Attorney General Jeff Sessions’ appearance June 13 before the Senate Intelligence Committee was the latest chapter in a saga that began long before President Trump fired FBI Director James Comey on May 9. It began even before the announcement Comey made in late October 2016 that Hillary Clinton partly blames him for her 2016 electoral loss to Trump. In fact, it’s a story that has now continued past his termination, with a winding narrative that has seen the p\n",
      "\n",
      "Article #2\n",
      "Updated at 7:30 p. m. ET  Federal agents now have a search warrant they need to examine the thousands of emails found on a computer belonging to former U. S. Rep. Anthony Weiner that could be pertinent to the investigation of Hillary Clinton’s personal email server, sources familiar with the matter tell NPR’s Carrie Johnson. Weiner is the estranged husband of Clinton aide Huma Abedin. On Friday, FBI Director James Comey disclosed to lawmakers the emails had been found during an investigation int\n",
      "\n",
      "Article #3\n",
      "With less than two weeks to go before Election Day, Donald Trump and Hillary Clinton have each framed a closing argument to voters. Each is also focusing on battleground states in ways that reveal different paths to victory  —   earning 270 electoral votes on election night. (You can read more about the state of play here.) Here, we lay out what voters will see from each candidate in the final days of the 2016 presidential campaign. Draining The Swamp  Trump has ridden a wave of   sentiment all \n",
      "\n",
      "Article #4\n",
      "On July 27, Donald Trump created one of the most surreal moments of the presidential campaign, when he encouraged Russians to hack his opponent’s email. ”Russia, if you’re listening, I hope you’ll be able to find the 30, 000 emails that are missing,” Trump said, speaking about Hillary Clinton’s deleted emails from her private email account from her time as secretary of state. ”I think you’ll probably be rewarded mightily by our press.” So it was a bit of a surprise when on Monday morning, he imp\n",
      "\n",
      "Article #5\n",
      "Updated at 9:22 p. m. ET, The president has fired FBI Director James Comey, who was overseeing an investigation into Russian meddling in the 2016 elections and possible ties to the Trump campaign and top aides. The White House pointed to Comey’s handling of the probe into Democratic presidential nominee Hillary Clinton’s private email server while secretary of state as the reason for his dismissal. But Democrats were quick to call the move ”Nixonian,” saying that the decision by Trump was part o\n",
      "\n",
      "\n",
      "****************************** TOPIC 1 ******************************\n",
      "Article #1\n",
      "Updated at 9 p. m. ET, At least 36 people died in an attack on Istanbul’s Ataturk International Airport Tuesday night, according to Turkish Prime Minister Binali Yildirim. More than 140 people were injured in the attack, in which at least one explosion followed an outburst of gunfire. Providing an update hours after the attack, the prime minister said officials suspect the attack was committed by extremists loyal to ISIS. He also confirmed details about the attack, saying it was carried out by t\n",
      "\n",
      "Article #2\n",
      "Iraq’s war against the Islamic State is gaining momentum. Intensified U. S. airstrikes and more than a year of U. S. training of Iraqi soldiers seem to be paying off. ISIS supply lines have been cut and its access to oil has been reduced. When Iraqi forces with coalition airstrikes retook the western city of Ramadi, it was the latest in a series of successes. But ISIS is just one of many groups trying to carve out power for itself in a country where the central government is looking ever weaker.\n",
      "\n",
      "Article #3\n",
      "Updated at 4:40 a. m. ET Saturday, A suspect in Friday’s truck attack in Stockholm has been arrested, according to a Swedish prosecutor. Police in Sweden say the man they have arrested is ”likely” the driver of a truck which drove into pedestrians on a major shopping and tourist street in Stockholm, causing multiple injuries and fatalities. The vehicle, a stolen beer delivery truck, plowed through the pedestrian street and crashed into an upscale department store. Four people died and 15 were in\n",
      "\n",
      "Article #4\n",
      "For two weeks, a battle has raged in Aleppo, generating tragic images of injured civilians amid the rubble. The city  —   once Syria’s most populous and a commercial hub  —   is a key prize in the civil war. For four years, it has been divided between government and rebel forces and was in effect a military stalemate. Russia is among the supporters of Syrian President Bashar Assad, while the U. S. supports rebel forces. They were talking to try to find a way to calm the violence in Syria, but th\n",
      "\n",
      "Article #5\n",
      "Updated at 4 a. m. ET Saturday, A government spokesman has increased the death toll from Thursday’s bombing using the ”Mother of All Bombs” in Afghanistan to 94, up from 36. Ataullah Khogyani, the spokesman for the governor of Nangarhar province, said in a tweet Saturday that 94 ISIS members were killed in the attack on an ISIS underground complex, including four top commanders. ”Fortunately there is no report of civilians being killed in the attack,” Khogyani told The Associated Press on Saturd\n",
      "\n",
      "\n",
      "****************************** TOPIC 2 ******************************\n",
      "Article #1\n",
      "With her infant son in a sling, Monique Black strolls through a weekend open house in the gentrified Shaw neighborhood of Washington, D. C. There are lots of factors to consider when looking for a home  —   in this one, Monique notices, the tiny window in the second bedroom doesn’t let in enough light. But for parents like Black and her husband, Jonny, there’s a more important question: How good are the nearby schools? It’s well known in the real estate industry that highly rated schools transla\n",
      "\n",
      "Article #2\n",
      "The Affordable Care Act changed women’s health care in some big ways: It stopped insurance companies from charging women extra, forced insurers to cover maternity care and contraceptives and allowed many women to get those contraceptives (as well as a variety of preventive services, like Pap smears and mammograms) at zero cost. Now Republicans have the opportunity to repeal that law, also known as Obamacare. But that doesn’t mean all those things will go away. In fact, many will remain. Confused\n",
      "\n",
      "Article #3\n",
      "Town hall meetings got loud for some Republican members of Congress this week, as they defended the passage of the American Health Care Act by the House of Representatives. Constituents have been asking a lot of questions, and we’ve been   the answers given by some leading GOP lawmakers. Tom Reed,  . Y. at a town hall meeting in his district, ”The   reform is not repealed by this legislation.” Fact check: That’s not the whole truth, Reed was responding to a constituent who was concerned about a \n",
      "\n",
      "Article #4\n",
      "The Justice Department has joined a California whistleblower’s lawsuit that accuses insurance giant UnitedHealth Group of fraud in its popular Medicare Advantage health plans. Justice officials filed legal papers to intervene in the suit, first brought by whistleblower James Swoben in 2009, on Friday in federal court in Los Angeles. On Monday, they sought a court order to combine Swoben’s case with that of another whistleblower. Swoben has accused the insurer of ”gaming” the Medicare Advantage p\n",
      "\n",
      "Article #5\n",
      "For the first time in her life,    freelance designer Susannah Lohr had to shop for health insurance this year. She called up a major insurer in the St. Louis area where she lives, and it offered her a plan with a hefty $6, 000 deductible  —   that’s the amount she would have to cover herself before the insurance kicks in. When she balked, the salesman on the phone suggested that she could buy a ”gap plan,” a separate policy for $50 a month to cover her deductible. ”After I got off the phone wit\n",
      "\n",
      "\n",
      "****************************** TOPIC 3 ******************************\n",
      "Article #1\n",
      "How do you get rid of river blindness? It’s all about the worm. Specifically, about ”breaking the life cycle” of onchocerca volvulu, the parasitic worm that causes the disease, says Dr. Frank O. Richards Jr. who directs the Carter Center’s river blindness elimination and other tropical disease programs. But that cycle of transmission and infection is so complex that until recently, many experts believed elimination as a goal was unattainable. Now the World Health Organization target date to achi\n",
      "\n",
      "Article #2\n",
      "Meat has a greater impact on the environment than pretty much any other food we eat. As The Salt has reported, billions of cows, pigs, sheep and poultry we raise as livestock guzzle massive quantities of water and generate at least 10 percent of the total greenhouse gases attributed to human activity. But scientists say we’ve been slow to acknowledge yet another side effect of our taste for meat: nitrogen pollution. Nitrogen is an essential nutrient and a major component of the air we breathe ev\n",
      "\n",
      "Article #3\n",
      "The odds of getting Alzheimer’s disease or other forms of dementia are declining for people who are more educated and avoiding heart disease, a study finds. The results suggest that people may have some control over their risk of dementia as they age. This isn’t the first study to find that the incidence of dementia is waning, but it may be the best so far. Researchers looked at 30 years of records from more than 5, 000 people in the famed Framingham Heart Study, which has closely tracked the he\n",
      "\n",
      "Article #4\n",
      "Nearly 1 in 5 children each year suffers a psychiatric illness, according to research estimates. But a national shortage of medical specialists and inpatient facilities means that many still go untreated  —   despite national efforts to improve mental health care. New research is driving home the consequences. Scientific abstracts presented Monday in Las Vegas, at the annual meeting of the American College of Emergency Physicians, offer insights into how frequently patients with mental health is\n",
      "\n",
      "Article #5\n",
      "Many men over 65 with low testosterone levels say their sense of   not to mention sexual function, isn’t what it used to be. That’s why some doctors prescribe testosterone replacement. But the effectiveness of testosterone has been controversial. Studies of the risks and benefits have been mixed, and the Food and Drug Administration beefed up its warnings about cardiac side effects of testosterone supplementation in 2015. And the findings of five studies released Tuesday aren’t likely to clear u\n",
      "\n",
      "\n",
      "****************************** TOPIC 4 ******************************\n",
      "Article #1\n",
      "In 1977, Deborah Barsel, a bored assistant registrar at the George Eastman Museum in Rochester, N. Y. decided to try a fun side project. She would create a cookbook made up of recipes and images from famous photographers of the day. She sent letters to various artists and put an ad in the museum’s magazine asking for submissions. In return, she received 120 photos, recipes and even a postcard from urban photographer John Gossage saying simply: ”I eat out.” Then, like the projects of so many who \n",
      "\n",
      "Article #2\n",
      "”Why is a welder like a woman in love?” I’m 7 years old, standing between the two dogwood trees in my backyard. It’s autumn there’s a crispness in the golden, late afternoon air. I’ve taken the hood of my parka and thrown it over my head, but my arms are not in the sleeves. The coat falls over my narrow,   shoulders and down my back. Like a cape, you see. I’m cold, sure, but the important thing is that I’ve achieved the necessary look. My next door   friend Eric is here too. He’s done the same t\n",
      "\n",
      "Article #3\n",
      "With apologies to Andy Williams, now is the most wonderful time of the year . .. for it is Girl Scout cookie season. But after plowing through several sleeves of Thin Mints, fatigue can set in. So we wondered, when you’re starting to feel sick of Girl Scout cookies, is there a way to rekindle the love? We turned to Dan Pashman, host of The Sporkful podcast at WNYC studios, for advice. His book, Eat More Better, tackles this pressing public interest matter. He suggests mixing it up  —   quite lit\n",
      "\n",
      "Article #4\n",
      "Comic W. Kamau Bell finds humor in the parts of America that make him uncomfortable. Speaking to Fresh Air’s Terry Gross, Bell likens his new CNN series, United Shades of America, to a travel show that takes him ”to all sorts of different places that I [am] either afraid to go, or you wouldn’t expect me to go.” ”I’ve always been a fan of [Parts Unknown host Anthony] Bourdain,” Bell says. ”I always thought if I had a show like that, you would replace food with racism. Instead of sampling the food\n",
      "\n",
      "Article #5\n",
      "Bad Boy Records and its founder, Sean ”Diddy” Combs, helped shape much of what we take for granted in pop culture: Bigger is better, reaching for money and power is nothing to be ashamed of, everybody wants to be a millionaire. The new documentary Can’t Stop Won’t Stop, available on Apple Music June 25, tells the label’s story around a concert that reunited some of its stars last year. We know Combs for grandiosity  —   we know him by his stage names, P. Diddy and Puff Daddy. Everybody’s heard B\n",
      "\n",
      "\n",
      "****************************** TOPIC 5 ******************************\n",
      "Article #1\n",
      "Updated at 8:45 p. m. ET, The Justice Department is investigating the killing of Alton Sterling, a    black man who was shot to death early Tuesday after police were called to a convenience store in Baton Rouge, La. Witnesses captured the encounter on a cellphone video that shows two officers had Sterling on the ground at the time of the shooting. The FBI is opening a civil rights investigation into Sterling’s death, NPR’s Carrie Johnson reports, citing a statement from the Justice Department th\n",
      "\n",
      "Article #2\n",
      "Nearly five years after a federal jury found them guilty of either gunning down unarmed civilians or covering up the incident on New Orleans’ Danziger Bridge, five former police officers have entered guilty pleas as part of a deal with the government. The deal sharply reduces the penalties they faced before their initial convictions were overturned in 2013 over prosecutorial misconduct. The judge in the case accepted the terms of the deal shortly before 1 p. m. local time, after a hearing on the\n",
      "\n",
      "Article #3\n",
      "The mother of Philando Castile, a black motorist who was shot to death by a police officer last summer in Minnesota, has reached a settlement deal in the city of St. Anthony worth nearly $3 million. ”No amount of money could ever replace Philando,” the Minneapolis suburb said in a statement. Officials in St. Anthony said the settlement was reached quickly ”in order to allow the process of healing to move forward for the Castile family, for the people of St. Anthony Village, and for all those imp\n",
      "\n",
      "Article #4\n",
      "In 1955, a block of four rare postage stamps was stolen from a display case at a convention. Over the years, two were recovered, but there were no signs of the others  —   until now. Six decades after the heist, one of the ”inverted Jenny” stamps has surfaced at a New York auction house. ”It’s one of the most notorious crimes in philatelic history, and there’s a piece of the puzzle now that’s in place,” said Scott English, the administrator of the American Philatelic Research Library, according \n",
      "\n",
      "Article #5\n",
      "Overcoats’ music has been undeniable for me from the first time I saw the duo perform. The deep friendship between Hana Elion and JJ Mitchell comes across in their vibrant harmonies and the bountiful dance parties that pop up as they go. Behind those rich voices lies a spare electronic backdrop that feels spacious and refreshing. Not long ago, these songs would likely be backed by a   guitar, but their healthy energy feels more urgent with an underpinning drone and Joao Gonzalez’s drumming at th\n",
      "\n",
      "\n",
      "****************************** TOPIC 6 ******************************\n",
      "Article #1\n",
      "Around this time of year, we often pause and take stock of where we are on many levels: emotionally, financially, professionally, politically and, at least here at 13. 7, cosmically. Where do things stand these days, when it comes to the universe? It is a remarkable feat of modern science that we have, during the past 50 years or so, learned an enormous amount about the cosmos. This has happened around our local neighborhood  —   from the planets of the solar system all the way to demoted Pluto,\n",
      "\n",
      "Article #2\n",
      "In Chicago, one neighborhood’s rat problem is about to get a lot worse. Crews are preparing to tear down an old hospital and when the wrecking ball starts swinging, the rodents living in and underneath the aging structure will scurry. The city and the developer are setting poison baits and traps to help control the problem, but some residents are turning to one of the rats’ worst enemies instead  —   cats. Construction On Old Buildings Worsens Rat Problem, Chicago’s upscale Lincoln Park neighbor\n",
      "\n",
      "Article #3\n",
      "Far from our galaxy, in the vast darkness of space, two massive black holes merged into a single, larger hole. And now researchers say they have detected rumblings from that cataclysmic collision as ripples in the very fabric of   itself. The discovery comes a century after Albert Einstein first predicted such ripples should exist. ”It’s a really big event,” says Saul Teukolsky, a theoretical astrophysicist at Cornell University. ”This is probably the most exciting episode of my professional car\n",
      "\n",
      "Article #4\n",
      "Scientists have found a shockingly hot, massive,   planet that has a tail like a comet. ”It is so hot that it is hotter than most stars that we know of out there,” says Scott Gaudi of Ohio State University in Columbus, Ohio, whose team describes the scorching world called   in the journal Nature. The planet, which is around three times more massive than Jupiter, orbits a blue star about 650   away from Earth. This star is nearly twice as hot as our own sun, and this planet whips around it once e\n",
      "\n",
      "Article #5\n",
      "It’s a mission that’s been in the works for nearly 60 years. NASA says it will launch a spacecraft in 2018 to ”touch the sun,” sending it closer to the star’s surface than ever before. The spacecraft is small  —   its instruments would fit into a refrigerator  —   but it’s built to withstand temperatures of more than 2, 000 degrees Fahrenheit, all the while maintaining room temperature inside the probe. ”Even though the sun is so close to us, there’s actually a lot about it we don’t understand,”\n",
      "\n",
      "\n"
     ]
    },
    {
     "name": "stderr",
     "output_type": "stream",
     "text": [
      "/opt/anaconda3/lib/python3.7/site-packages/ipykernel/ipkernel.py:287: DeprecationWarning: `should_run_async` will not call `transform_cell` automatically in the future. Please pass the result to `transformed_cell` argument and any exception that happen during thetransform in `preprocessing_exc_tuple` in IPython 7.17 and above.\n",
      "  and should_run_async(code)\n"
     ]
    }
   ],
   "source": [
    "for t in range(0,7):\n",
    "    print(f\"****************************** TOPIC {t} ******************************\")\n",
    "    for i,row in enumerate(data.sort_values(f\"topic_{t}\", ascending=False)['Article'].head()):\n",
    "        print(f\"Article #{i+1}\")\n",
    "        print(row[:500])\n",
    "        print()\n",
    "    print()"
   ]
  },
  {
   "cell_type": "markdown",
   "metadata": {
    "slideshow": {
     "slide_type": "notes"
    }
   },
   "source": [
    "Que no se pierda tu buen modelo\n",
    "```python\n",
    "pickle.dump(corpus, open('corpus.pkl', 'wb'))\n",
    "dictionary.save('dictionary.gensim')\n",
    "model.save('model.gensim')\n",
    "\n",
    "\n",
    "dictionary = gensim.corpora.Dictionary.load('dictionary.gensim')\n",
    "corpus = pickle.load(open('corpus.pkl', 'rb'))\n",
    "lda = gensim.models.ldamodel.LdaModel.load('model.gensim')\n",
    "```"
   ]
  },
  {
   "cell_type": "markdown",
   "metadata": {
    "slideshow": {
     "slide_type": "slide"
    }
   },
   "source": [
    "## Cosas a considerar:\n",
    "\n",
    "- LDA por lo general funciona bien con documentos largos\n",
    "- Para textos cortos está [GSDMM](https://github.com/rwalk/gsdmm)\n",
    "- Para seleccionar los mejores parámetros, se usa la [puntuación de coherencia](https://towardsdatascience.com/evaluate-topic-model-in-python-latent-dirichlet-allocation-lda-7d57484bb5d0)\n",
    "- Si LDA se ejecuta rápidamente, dará algunos problemas para obtener buenos resultados con él. \n",
    "- [Documentación](https://radimrehurek.com/gensim/models/ldamodel.html)"
   ]
  },
  {
   "cell_type": "markdown",
   "metadata": {
    "slideshow": {
     "slide_type": "slide"
    }
   },
   "source": [
    "## Recapitulando:\n",
    "\n",
    "<br>\n",
    "<center><img src='img/comp.png'>"
   ]
  },
  {
   "cell_type": "markdown",
   "metadata": {
    "slideshow": {
     "slide_type": "slide"
    }
   },
   "source": [
    "# ¡Tiempo de taller!\n",
    "\n",
    "<center>\n",
    "<img src='img/Taller.gif'>\n",
    "    \n",
    "**Fecha de entrega:** 🎃 Octubre 31, 2020. (Antes del inicio de la próxima clase) \n",
    "# x2"
   ]
  },
  {
   "cell_type": "markdown",
   "metadata": {
    "slideshow": {
     "slide_type": "slide"
    }
   },
   "source": [
    "<img src='https://em.wattpad.com/4351d69516cf246fcc10d58b60a26ee31f3540e0/68747470733a2f2f73332e616d617a6f6e6177732e636f6d2f776174747061642d6d656469612d736572766963652f53746f7279496d6167652f4f5050796635665155554f4256413d3d2d32302e313563356661313962333531663161373333363230343436313939392e6a7067?s=fit&w=720&h=720'>\n",
    "\n",
    "# Evaluación docente\n",
    "13 de octubre al 7 de noviembre\n",
    "\n",
    "# [http://virtual2.konradlorenz.edu.co/login/index.php](http://virtual2.konradlorenz.edu.co/login/index.php)\n",
    "\n",
    "Cualquier duda o requerimiento puede ser remitido al correo [evaluacion.docente@konradlorenz.edu.co](mailto:evaluacion.docente@konradlorenz.edu.co)"
   ]
  },
  {
   "cell_type": "markdown",
   "metadata": {
    "slideshow": {
     "slide_type": "slide"
    }
   },
   "source": [
    "<center>\n",
    "    <img src='img/fin.gif'>\n",
    "\n",
    "### Próxima clase: Visualizaciones para NLP"
   ]
  }
 ],
 "metadata": {
  "celltoolbar": "Slideshow",
  "kernelspec": {
   "display_name": "Python 3",
   "language": "python",
   "name": "python3"
  },
  "language_info": {
   "codemirror_mode": {
    "name": "ipython",
    "version": 3
   },
   "file_extension": ".py",
   "mimetype": "text/x-python",
   "name": "python",
   "nbconvert_exporter": "python",
   "pygments_lexer": "ipython3",
   "version": "3.7.4"
  }
 },
 "nbformat": 4,
 "nbformat_minor": 2
}
