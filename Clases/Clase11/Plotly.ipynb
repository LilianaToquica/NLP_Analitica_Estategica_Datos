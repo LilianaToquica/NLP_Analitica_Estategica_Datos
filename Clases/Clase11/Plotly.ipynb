{
 "cells": [
  {
   "cell_type": "code",
   "execution_count": 1,
   "metadata": {},
   "outputs": [],
   "source": [
    "import plotly.io as pio\n",
    "import plotly.express as px\n",
    "import plotly.graph_objs as go\n",
    "from plotly.offline import init_notebook_mode, download_plotlyjs, plot, iplot\n",
    "\n",
    "import seaborn as sns\n",
    "sns.set()"
   ]
  },
  {
   "cell_type": "code",
   "execution_count": 2,
   "metadata": {},
   "outputs": [
    {
     "ename": "NameError",
     "evalue": "name 'data' is not defined",
     "output_type": "error",
     "traceback": [
      "\u001b[0;31m---------------------------------------------------------------------------\u001b[0m",
      "\u001b[0;31mNameError\u001b[0m                                 Traceback (most recent call last)",
      "\u001b[0;32m<ipython-input-2-9daf240376b1>\u001b[0m in \u001b[0;36m<module>\u001b[0;34m\u001b[0m\n\u001b[1;32m     12\u001b[0m     \u001b[0;32mreturn\u001b[0m \u001b[0memoji_list\u001b[0m\u001b[0;34m\u001b[0m\u001b[0;34m\u001b[0m\u001b[0m\n\u001b[1;32m     13\u001b[0m \u001b[0;34m\u001b[0m\u001b[0m\n\u001b[0;32m---> 14\u001b[0;31m \u001b[0mdata\u001b[0m\u001b[0;34m[\u001b[0m\u001b[0;34m'emojis'\u001b[0m\u001b[0;34m]\u001b[0m \u001b[0;34m=\u001b[0m \u001b[0mdata\u001b[0m\u001b[0;34m[\u001b[0m\u001b[0;34m'texto'\u001b[0m\u001b[0;34m]\u001b[0m\u001b[0;34m.\u001b[0m\u001b[0mapply\u001b[0m\u001b[0;34m(\u001b[0m\u001b[0;32mlambda\u001b[0m \u001b[0mtext\u001b[0m\u001b[0;34m:\u001b[0m \u001b[0mget_emojis\u001b[0m\u001b[0;34m(\u001b[0m\u001b[0mtext\u001b[0m\u001b[0;34m)\u001b[0m\u001b[0;34m)\u001b[0m\u001b[0;34m\u001b[0m\u001b[0;34m\u001b[0m\u001b[0m\n\u001b[0m\u001b[1;32m     15\u001b[0m \u001b[0;34m\u001b[0m\u001b[0m\n\u001b[1;32m     16\u001b[0m \u001b[0;34m\u001b[0m\u001b[0m\n",
      "\u001b[0;31mNameError\u001b[0m: name 'data' is not defined"
     ]
    }
   ],
   "source": [
    "import re\n",
    "import regex\n",
    "import emoji\n",
    "\n",
    "def get_emojis(text):\n",
    "    emoji_list = []\n",
    "    data = regex.findall(r'\\X', text)\n",
    "    for word in data:\n",
    "        if any(char in emoji.UNICODE_EMOJI for char in word):\n",
    "            emoji_list.append(word)\n",
    "\n",
    "    return emoji_list\n",
    "\n",
    "data['emojis'] = data['texto'].apply(lambda text: get_emojis(text))\n",
    "\n",
    "\n",
    "def pre_procesado(texto):\n",
    "    texto = texto.lower()\n",
    "    texto = re.sub(r\"[\\W\\d_]+\", \" \", texto)\n",
    "    texto = \" \".join([palabra for palabra in texto.split() if palabra not in stopwords])\n",
    "    return texto\n",
    "\n",
    "data['pp'] = data['texto'].apply(lambda texto: pre_procesado(texto))\n",
    "\n",
    "\n",
    "data"
   ]
  },
  {
   "cell_type": "code",
   "execution_count": null,
   "metadata": {},
   "outputs": [],
   "source": [
    "from collections import Counter\n",
    "from nltk.util import ngrams "
   ]
  },
  {
   "cell_type": "code",
   "execution_count": null,
   "metadata": {},
   "outputs": [],
   "source": [
    "palabras_pp = data.pp.str.cat(sep=\" \").split()\n",
    "bigramas = pd.DataFrame(Counter(ngrams(palabras_pp,2)).most_common())\n",
    "bigramas.columns = ['texto', 'cnt']\n",
    "bigramas.texto = bigramas.texto.apply(lambda val: \" \".join(val))\n",
    "bigramas = bigramas[bigramas['cnt']>25]"
   ]
  },
  {
   "cell_type": "code",
   "execution_count": null,
   "metadata": {},
   "outputs": [],
   "source": [
    "trace1 = go.Bar(x = bigramas.texto.values,\n",
    "                y = bigramas.cnt.values)\n",
    "\n",
    "traces = [trace1]\n",
    "\n",
    "layout = go.Layout(title='Bigramas',\n",
    "                   xaxis=dict(title='Bigrama'),\n",
    "                   yaxis=dict(title='Cuántas ocurrencias')\n",
    "                  )\n",
    "\n",
    "fig = go.Figure(data=traces, layout=layout)\n",
    "iplot(fig)"
   ]
  },
  {
   "cell_type": "code",
   "execution_count": null,
   "metadata": {},
   "outputs": [],
   "source": [
    "trace1 = go.Bar(x = bigramas.texto.values,\n",
    "                y = bigramas.cnt.values,\n",
    "                marker=dict(color='rgb(224,180,158)', line=dict(color='rgb(90,55,6)',width=1.5)),\n",
    "                hovertemplate =\n",
    "                '<i>Bigrama</i>: %{x}'+\n",
    "                '<br><b>Contador</b>: %{y}<br>',\n",
    "                text = [f'Custom text {i+1}' for i in range(5)],\n",
    "                name='Bigramas'\n",
    "               )\n",
    "\n",
    "traces = [trace1]\n",
    "\n",
    "layout = go.Layout(title='Bigramas',\n",
    "                   xaxis=dict(title='Bigrama'),\n",
    "                   yaxis=dict(title='Cuántas ocurrencias'),\n",
    "                  )\n",
    "\n",
    "fig = go.Figure(data=traces, layout=layout)\n",
    "iplot(fig)"
   ]
  },
  {
   "cell_type": "code",
   "execution_count": null,
   "metadata": {},
   "outputs": [],
   "source": [
    "emojis_ciudad = []\n",
    "\n",
    "for ciudad in data.ciudad.unique():\n",
    "    try:\n",
    "        temp = data[data.ciudad == ciudad]\n",
    "        palabras_pp = temp.emojis.apply(lambda val: \" \".join(val)).str.cat(sep=\" \").split()\n",
    "        bigramas = pd.DataFrame(Counter(ngrams(palabras_pp,1)).most_common())\n",
    "        bigramas.columns = ['texto', 'cnt']\n",
    "        bigramas.texto = bigramas.texto.apply(lambda val: \" \".join(val))\n",
    "        bigramas = bigramas.head(10)\n",
    "        bigramas['ciudad'] = ciudad\n",
    "        emojis_ciudad.append(bigramas)\n",
    "    except:\n",
    "        Noneb"
   ]
  },
  {
   "cell_type": "code",
   "execution_count": null,
   "metadata": {},
   "outputs": [],
   "source": [
    "listOfFrames = []\n",
    "traces = []\n",
    "\n",
    "for ec in emojis_ciudad:\n",
    "    ciudad = ec.ciudad.unique()[0]\n",
    "    trace1 = go.Bar(x = ec.texto.values,\n",
    "                    y = ec.cnt.values,\n",
    "                    textposition = \"outside\",\n",
    "                    texttemplate = \"%{x}<br>%{y}\",\n",
    "                    textfont = {'size': [14]*10},\n",
    "                    marker=dict(color='orange', line=dict(color='rgb(224,180,158)',width=1.5)),\n",
    "                    hovertemplate =\n",
    "                    '<br><i>Bigrama</i>: %{x}'+\n",
    "                    '<br><b>Contador</b>: %{y}<br>',\n",
    "                    text = [f'Custom text {i+1}' for i in range(5)],\n",
    "                    name=ciudad\n",
    "                   )\n",
    "    traces.append(trace1)\n",
    "    \n",
    "    layout = go.Layout(title=f'Emojis en {ciudad}',\n",
    "                       xaxis = {\"range\":[-1,10],\"autorange\": False, \"showline\":False,\"tickangle\":-90, \"visible\":False},\n",
    "                       yaxis = {\"range\":[-1,30],\"autorange\": False, \"showline\":False, \"visible\":False},\n",
    "                       plot_bgcolor= '#FFFFFF')\n",
    "    listOfFrames.append(go.Frame(data=[trace1], layout=layout))\n",
    "    \n",
    "frames=list(listOfFrames)\n",
    "\n",
    "\n",
    "\n",
    "\n",
    "layout = go.Layout(title=f'Emojis in {ciudad}',\n",
    "                   xaxis = {\"range\":[-1,10],\"autorange\": False, \"showline\":False,\"tickangle\":-90, \"visible\":False},\n",
    "                   yaxis = {\"range\":[-1,30],\"autorange\": False, \"showline\":False, \"visible\":False},\n",
    "                   plot_bgcolor= '#FFFFFF',\n",
    "                   updatemenus=[dict(type=\"buttons\",\n",
    "                                     buttons=[dict(label=\"▶️\",\n",
    "                                                   method=\"animate\",\n",
    "                                                   args=[None, {\"frame\": {\"duration\": 800, \"redraw\": True},\n",
    "                                                                \"fromcurrent\": True}]),\n",
    "                                              {\n",
    "                \"args\": [[None], {\"frame\": {\"duration\": 0, \"redraw\": True},\n",
    "                                  \"mode\": \"immediate\",\n",
    "                                  \"transition\": {\"duration\": 0}}],\n",
    "                \"label\": \"⏸️\",\n",
    "                \"method\": \"animate\"\n",
    "            }\n",
    "                                             ]\n",
    "                                    )\n",
    "                               ]\n",
    "                  )\n",
    "\n",
    "fig = go.Figure(data=[traces[0]], layout=layout, frames=frames)\n",
    "\n",
    "fig.show()"
   ]
  }
 ],
 "metadata": {
  "kernelspec": {
   "display_name": "Python 3",
   "language": "python",
   "name": "python3"
  },
  "language_info": {
   "codemirror_mode": {
    "name": "ipython",
    "version": 3
   },
   "file_extension": ".py",
   "mimetype": "text/x-python",
   "name": "python",
   "nbconvert_exporter": "python",
   "pygments_lexer": "ipython3",
   "version": "3.7.4"
  }
 },
 "nbformat": 4,
 "nbformat_minor": 4
}
