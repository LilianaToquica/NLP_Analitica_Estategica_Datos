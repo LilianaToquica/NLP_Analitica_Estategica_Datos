{
 "cells": [
  {
   "cell_type": "markdown",
   "metadata": {
    "slideshow": {
     "slide_type": "slide"
    }
   },
   "source": [
    "# Bienvenidos, comenzamos a las 7:30 a.m.\n",
    "\n",
    "<img src='https://i.imgflip.com/2x2jm9.jpg'> \n",
    "Ayer fue viernes 13... y hoy es la clase #13..."
   ]
  },
  {
   "cell_type": "markdown",
   "metadata": {
    "slideshow": {
     "slide_type": "slide"
    }
   },
   "source": [
    "- Medium [(1)](https://medium.com/@odyssa.abille/how-to-receive-medium-payments-if-your-country-is-not-supported-by-stripe-fc154b39cf5)"
   ]
  },
  {
   "cell_type": "markdown",
   "metadata": {
    "slideshow": {
     "slide_type": "slide"
    }
   },
   "source": [
    "<center><img src='img/intro.jpg' style='height:300px; float: center; margin: 0px 15px 15px 0px'></center>\n",
    "\n",
    "### Análisis de sentimiento\n",
    "#### NLP - Analítica Estratégica de Datos\n",
    "<br><b>Fundación Universitaria Konrad Lorenz</b>\n",
    "<br>Docente: Viviana Márquez [vivianam.penama@konradlorenz.edu.co](mailto:vivianama.penam@konradlorenz.edu.co)\n",
    "<br>Clase #13: Noviembre 14, 2020"
   ]
  },
  {
   "cell_type": "markdown",
   "metadata": {
    "slideshow": {
     "slide_type": "slide"
    }
   },
   "source": [
    "# Retroalimentación taller 10\n",
    "\n",
    "- Borrar llaves vs. leerlas desde un archivo\n",
    "\n",
    "- NB Viewer\n",
    "\n",
    "- Ustedes 👏\n",
    "\n",
    "https://twitter.com/NLP05980324"
   ]
  },
  {
   "cell_type": "markdown",
   "metadata": {
    "slideshow": {
     "slide_type": "slide"
    }
   },
   "source": [
    "### 🚀 Hoy veremos...\n",
    "\n",
    "- Análisis de Sentimiento: Etiquetados vs No etiquetados\n",
    "- Límitaciones\n",
    "- Librerias de Python:\n",
    "    - VADER\n",
    "    - TextBlob\n",
    "    - Flair\n",
    " "
   ]
  },
  {
   "cell_type": "markdown",
   "metadata": {
    "slideshow": {
     "slide_type": "slide"
    }
   },
   "source": [
    "### 🥺 Análisis de sentimiento\n",
    "\n",
    "- Muy útil en un contexto de negocio \n",
    "- Idea general: Asignar un puntaje de sentimiento de -1 a 1\n",
    "- Podemos aplicar los modelos que ya conocemos de clasificación (etiquetados)\n",
    "- ¿Y si no tenemos etiquetas? 🤔"
   ]
  },
  {
   "cell_type": "markdown",
   "metadata": {
    "slideshow": {
     "slide_type": "slide"
    }
   },
   "source": [
    "### 😭 Limitaciones \n",
    "\n",
    "<br>\n",
    "<center><img src='img/posneg.jpg' style='height:300px; float: center; margin: 0px 15px 15px 0px'></center>\n",
    " "
   ]
  },
  {
   "cell_type": "markdown",
   "metadata": {
    "slideshow": {
     "slide_type": "slide"
    }
   },
   "source": [
    "### 😭 Limitaciones \n",
    "\n",
    "<br>\n",
    "<center><img src='img/tragicom.jpg' style='height:300px; float: center; margin: 0px 15px 15px 0px'></center>\n",
    "\n",
    "#### \"El hotel estaba horrible, pero los empleados fueron muy amables\"\n",
    " "
   ]
  },
  {
   "cell_type": "markdown",
   "metadata": {
    "slideshow": {
     "slide_type": "slide"
    }
   },
   "source": [
    "### 😭 Limitaciones \n",
    "\n",
    "<br>\n",
    "<center><img src='img/sarcasmo2.png' style='height:350px; float: center; margin: 0px 15px 15px 0px'></center>\n",
    "\n",
    " "
   ]
  },
  {
   "cell_type": "markdown",
   "metadata": {
    "slideshow": {
     "slide_type": "slide"
    }
   },
   "source": [
    "### 😭 Limitaciones \n",
    "\n",
    "<br>\n",
    "<center><img src='img/ingles.jpg' style='height:450px; float: center; margin: 0px 15px 15px 0px'></center>"
   ]
  },
  {
   "cell_type": "markdown",
   "metadata": {
    "slideshow": {
     "slide_type": "slide"
    }
   },
   "source": [
    "### 😭 Limitaciones \n",
    "\n",
    "<br>\n",
    "<center><img src='img/callar.jpeg' style='height:250px; float: center; margin: 0px 15px 15px 0px'></center>\n",
    "\n",
    " Referencia [(1)](https://towardsdatascience.com/fine-grained-sentiment-analysis-in-python-part-1-2697bb111ed4)"
   ]
  },
  {
   "cell_type": "markdown",
   "metadata": {
    "slideshow": {
     "slide_type": "slide"
    }
   },
   "source": [
    "### Modelos basados en reglas\n",
    "\n",
    "Utilizan puntuaciones pre-definidas para cada palabra y determinar el resultado de una frase sacando el promedio. (También son capaces de detectar modificadores). \n",
    "\n",
    "- [**Textblob**](https://textblob.readthedocs.io/en/dev/): También ofrece puntuación de subjetividad\n",
    "- [**Vader**](https://github.com/cjhutto/vaderSentiment) (Valence Aware Dictionary and sEntiment Reasoner): Se enfoca en textos de redes sociales, es decir, toma en cuenta vocabulario repetitivo, uso copioso de la puntuación, mayúsculas y emojis. \n",
    "\n",
    "`pip install vaderSentiment`\n",
    "\n",
    "`pip install textblob`\n"
   ]
  },
  {
   "cell_type": "code",
   "execution_count": 1,
   "metadata": {
    "slideshow": {
     "slide_type": "slide"
    }
   },
   "outputs": [],
   "source": [
    "ejemplo1 = \"At least it isn't a horrible book.\"\n",
    "ejemplo2 = \"Make sure you :) or :D today!\"\n",
    "ejemplo3 = \"Goku is very funny\"\n",
    "ejemplo4 = \"Goku is SO FUNNY!!!!!\"\n",
    "ejemplo5 = \"Bogota has a metro\""
   ]
  },
  {
   "cell_type": "code",
   "execution_count": 2,
   "metadata": {
    "slideshow": {
     "slide_type": "fragment"
    }
   },
   "outputs": [
    {
     "data": {
      "text/plain": [
       "Sentiment(polarity=0.0, subjectivity=0.0)"
      ]
     },
     "execution_count": 2,
     "metadata": {},
     "output_type": "execute_result"
    }
   ],
   "source": [
    "from textblob import TextBlob \n",
    "\n",
    "TextBlob(ejemplo5).sentiment"
   ]
  },
  {
   "cell_type": "code",
   "execution_count": 3,
   "metadata": {
    "slideshow": {
     "slide_type": "fragment"
    }
   },
   "outputs": [
    {
     "data": {
      "text/plain": [
       "0.0"
      ]
     },
     "execution_count": 3,
     "metadata": {},
     "output_type": "execute_result"
    }
   ],
   "source": [
    "from vaderSentiment.vaderSentiment import SentimentIntensityAnalyzer\n",
    "\n",
    "vader = SentimentIntensityAnalyzer()\n",
    "vader.polarity_scores(ejemplo5)['compound']"
   ]
  },
  {
   "cell_type": "code",
   "execution_count": 4,
   "metadata": {
    "slideshow": {
     "slide_type": "slide"
    }
   },
   "outputs": [
    {
     "data": {
      "text/html": [
       "<div>\n",
       "<style scoped>\n",
       "    .dataframe tbody tr th:only-of-type {\n",
       "        vertical-align: middle;\n",
       "    }\n",
       "\n",
       "    .dataframe tbody tr th {\n",
       "        vertical-align: top;\n",
       "    }\n",
       "\n",
       "    .dataframe thead th {\n",
       "        text-align: right;\n",
       "    }\n",
       "</style>\n",
       "<table border=\"1\" class=\"dataframe\">\n",
       "  <thead>\n",
       "    <tr style=\"text-align: right;\">\n",
       "      <th></th>\n",
       "      <th>texto</th>\n",
       "      <th>fecha</th>\n",
       "      <th>ciudad</th>\n",
       "      <th>departamento</th>\n",
       "      <th>lat</th>\n",
       "      <th>lon</th>\n",
       "    </tr>\n",
       "  </thead>\n",
       "  <tbody>\n",
       "    <tr>\n",
       "      <th>824</th>\n",
       "      <td>🔵[#ATLÁNTICO] Alcaldes del Atlántico unifican ...</td>\n",
       "      <td>2020-10-30 22:42:05</td>\n",
       "      <td>Santa Marta</td>\n",
       "      <td>Magdalena</td>\n",
       "      <td>11.240791</td>\n",
       "      <td>-74.199040</td>\n",
       "    </tr>\n",
       "    <tr>\n",
       "      <th>257</th>\n",
       "      <td>| Espere esta y más información en nuestra emi...</td>\n",
       "      <td>2020-10-30 23:05:01</td>\n",
       "      <td>Cali</td>\n",
       "      <td>Valle del Cauca</td>\n",
       "      <td>3.437222</td>\n",
       "      <td>-76.522500</td>\n",
       "    </tr>\n",
       "    <tr>\n",
       "      <th>2001</th>\n",
       "      <td>No tengo plan pa halloween y hasta mejor, ese ...</td>\n",
       "      <td>2020-10-29 06:09:30</td>\n",
       "      <td>Ríohacha</td>\n",
       "      <td>La Guajira</td>\n",
       "      <td>11.544444</td>\n",
       "      <td>-72.907222</td>\n",
       "    </tr>\n",
       "    <tr>\n",
       "      <th>1030</th>\n",
       "      <td>Socialización del decreto 244 del 28 de Octubr...</td>\n",
       "      <td>2020-10-28 20:28:12</td>\n",
       "      <td>Pasto</td>\n",
       "      <td>Nariño</td>\n",
       "      <td>1.213611</td>\n",
       "      <td>-77.281111</td>\n",
       "    </tr>\n",
       "    <tr>\n",
       "      <th>1379</th>\n",
       "      <td>Quería ser Hannah Montana este Halloween pero ...</td>\n",
       "      <td>2020-10-30 20:34:06</td>\n",
       "      <td>Armenia</td>\n",
       "      <td>Quindío</td>\n",
       "      <td>4.533889</td>\n",
       "      <td>-75.681111</td>\n",
       "    </tr>\n",
       "  </tbody>\n",
       "</table>\n",
       "</div>"
      ],
      "text/plain": [
       "                                                  texto                fecha  \\\n",
       "824   🔵[#ATLÁNTICO] Alcaldes del Atlántico unifican ...  2020-10-30 22:42:05   \n",
       "257   | Espere esta y más información en nuestra emi...  2020-10-30 23:05:01   \n",
       "2001  No tengo plan pa halloween y hasta mejor, ese ...  2020-10-29 06:09:30   \n",
       "1030  Socialización del decreto 244 del 28 de Octubr...  2020-10-28 20:28:12   \n",
       "1379  Quería ser Hannah Montana este Halloween pero ...  2020-10-30 20:34:06   \n",
       "\n",
       "           ciudad     departamento        lat        lon  \n",
       "824   Santa Marta        Magdalena  11.240791 -74.199040  \n",
       "257          Cali  Valle del Cauca   3.437222 -76.522500  \n",
       "2001     Ríohacha       La Guajira  11.544444 -72.907222  \n",
       "1030        Pasto           Nariño   1.213611 -77.281111  \n",
       "1379      Armenia          Quindío   4.533889 -75.681111  "
      ]
     },
     "execution_count": 4,
     "metadata": {},
     "output_type": "execute_result"
    }
   ],
   "source": [
    "# pip install googletrans\n",
    "from googletrans import Translator\n",
    "import pandas as pd\n",
    "\n",
    "data = pd.read_csv(\"archivos/hween_clean.csv\")\n",
    "data = data.sample(50)\n",
    "data.head()"
   ]
  },
  {
   "cell_type": "code",
   "execution_count": 5,
   "metadata": {
    "slideshow": {
     "slide_type": "fragment"
    }
   },
   "outputs": [
    {
     "data": {
      "text/html": [
       "<div>\n",
       "<style scoped>\n",
       "    .dataframe tbody tr th:only-of-type {\n",
       "        vertical-align: middle;\n",
       "    }\n",
       "\n",
       "    .dataframe tbody tr th {\n",
       "        vertical-align: top;\n",
       "    }\n",
       "\n",
       "    .dataframe thead th {\n",
       "        text-align: right;\n",
       "    }\n",
       "</style>\n",
       "<table border=\"1\" class=\"dataframe\">\n",
       "  <thead>\n",
       "    <tr style=\"text-align: right;\">\n",
       "      <th></th>\n",
       "      <th>texto</th>\n",
       "      <th>fecha</th>\n",
       "      <th>ciudad</th>\n",
       "      <th>departamento</th>\n",
       "      <th>lat</th>\n",
       "      <th>lon</th>\n",
       "      <th>ing</th>\n",
       "    </tr>\n",
       "  </thead>\n",
       "  <tbody>\n",
       "    <tr>\n",
       "      <th>824</th>\n",
       "      <td>🔵[#ATLÁNTICO] Alcaldes del Atlántico unifican ...</td>\n",
       "      <td>2020-10-30 22:42:05</td>\n",
       "      <td>Santa Marta</td>\n",
       "      <td>Magdalena</td>\n",
       "      <td>11.240791</td>\n",
       "      <td>-74.199040</td>\n",
       "      <td>Translated(src=es, dest=en, text=🔵 [# ATLÁNTIC...</td>\n",
       "    </tr>\n",
       "    <tr>\n",
       "      <th>257</th>\n",
       "      <td>| Espere esta y más información en nuestra emi...</td>\n",
       "      <td>2020-10-30 23:05:01</td>\n",
       "      <td>Cali</td>\n",
       "      <td>Valle del Cauca</td>\n",
       "      <td>3.437222</td>\n",
       "      <td>-76.522500</td>\n",
       "      <td>Translated(src=es, dest=en, text=| Expect this...</td>\n",
       "    </tr>\n",
       "    <tr>\n",
       "      <th>2001</th>\n",
       "      <td>No tengo plan pa halloween y hasta mejor, ese ...</td>\n",
       "      <td>2020-10-29 06:09:30</td>\n",
       "      <td>Ríohacha</td>\n",
       "      <td>La Guajira</td>\n",
       "      <td>11.544444</td>\n",
       "      <td>-72.907222</td>\n",
       "      <td>Translated(src=es, dest=en, text=I have no pla...</td>\n",
       "    </tr>\n",
       "    <tr>\n",
       "      <th>1030</th>\n",
       "      <td>Socialización del decreto 244 del 28 de Octubr...</td>\n",
       "      <td>2020-10-28 20:28:12</td>\n",
       "      <td>Pasto</td>\n",
       "      <td>Nariño</td>\n",
       "      <td>1.213611</td>\n",
       "      <td>-77.281111</td>\n",
       "      <td>Translated(src=es, dest=en, text=Socialization...</td>\n",
       "    </tr>\n",
       "    <tr>\n",
       "      <th>1379</th>\n",
       "      <td>Quería ser Hannah Montana este Halloween pero ...</td>\n",
       "      <td>2020-10-30 20:34:06</td>\n",
       "      <td>Armenia</td>\n",
       "      <td>Quindío</td>\n",
       "      <td>4.533889</td>\n",
       "      <td>-75.681111</td>\n",
       "      <td>Translated(src=es, dest=en, text=I wanted to b...</td>\n",
       "    </tr>\n",
       "  </tbody>\n",
       "</table>\n",
       "</div>"
      ],
      "text/plain": [
       "                                                  texto                fecha  \\\n",
       "824   🔵[#ATLÁNTICO] Alcaldes del Atlántico unifican ...  2020-10-30 22:42:05   \n",
       "257   | Espere esta y más información en nuestra emi...  2020-10-30 23:05:01   \n",
       "2001  No tengo plan pa halloween y hasta mejor, ese ...  2020-10-29 06:09:30   \n",
       "1030  Socialización del decreto 244 del 28 de Octubr...  2020-10-28 20:28:12   \n",
       "1379  Quería ser Hannah Montana este Halloween pero ...  2020-10-30 20:34:06   \n",
       "\n",
       "           ciudad     departamento        lat        lon  \\\n",
       "824   Santa Marta        Magdalena  11.240791 -74.199040   \n",
       "257          Cali  Valle del Cauca   3.437222 -76.522500   \n",
       "2001     Ríohacha       La Guajira  11.544444 -72.907222   \n",
       "1030        Pasto           Nariño   1.213611 -77.281111   \n",
       "1379      Armenia          Quindío   4.533889 -75.681111   \n",
       "\n",
       "                                                    ing  \n",
       "824   Translated(src=es, dest=en, text=🔵 [# ATLÁNTIC...  \n",
       "257   Translated(src=es, dest=en, text=| Expect this...  \n",
       "2001  Translated(src=es, dest=en, text=I have no pla...  \n",
       "1030  Translated(src=es, dest=en, text=Socialization...  \n",
       "1379  Translated(src=es, dest=en, text=I wanted to b...  "
      ]
     },
     "execution_count": 5,
     "metadata": {},
     "output_type": "execute_result"
    }
   ],
   "source": [
    "translator = Translator()\n",
    "data['ing'] = data['texto'].apply(lambda valor: translator.translate(valor, src='es', dest='en'))\n",
    "data.head()"
   ]
  },
  {
   "cell_type": "code",
   "execution_count": 6,
   "metadata": {
    "slideshow": {
     "slide_type": "fragment"
    }
   },
   "outputs": [
    {
     "data": {
      "text/html": [
       "<div>\n",
       "<style scoped>\n",
       "    .dataframe tbody tr th:only-of-type {\n",
       "        vertical-align: middle;\n",
       "    }\n",
       "\n",
       "    .dataframe tbody tr th {\n",
       "        vertical-align: top;\n",
       "    }\n",
       "\n",
       "    .dataframe thead th {\n",
       "        text-align: right;\n",
       "    }\n",
       "</style>\n",
       "<table border=\"1\" class=\"dataframe\">\n",
       "  <thead>\n",
       "    <tr style=\"text-align: right;\">\n",
       "      <th></th>\n",
       "      <th>texto</th>\n",
       "      <th>fecha</th>\n",
       "      <th>ciudad</th>\n",
       "      <th>departamento</th>\n",
       "      <th>lat</th>\n",
       "      <th>lon</th>\n",
       "      <th>ing</th>\n",
       "      <th>ingles</th>\n",
       "    </tr>\n",
       "  </thead>\n",
       "  <tbody>\n",
       "    <tr>\n",
       "      <th>824</th>\n",
       "      <td>🔵[#ATLÁNTICO] Alcaldes del Atlántico unifican ...</td>\n",
       "      <td>2020-10-30 22:42:05</td>\n",
       "      <td>Santa Marta</td>\n",
       "      <td>Magdalena</td>\n",
       "      <td>11.240791</td>\n",
       "      <td>-74.199040</td>\n",
       "      <td>Translated(src=es, dest=en, text=🔵 [# ATLÁNTIC...</td>\n",
       "      <td>🔵 [# ATLÁNTICO] Mayors of the Atlantic unify m...</td>\n",
       "    </tr>\n",
       "    <tr>\n",
       "      <th>257</th>\n",
       "      <td>| Espere esta y más información en nuestra emi...</td>\n",
       "      <td>2020-10-30 23:05:01</td>\n",
       "      <td>Cali</td>\n",
       "      <td>Valle del Cauca</td>\n",
       "      <td>3.437222</td>\n",
       "      <td>-76.522500</td>\n",
       "      <td>Translated(src=es, dest=en, text=| Expect this...</td>\n",
       "      <td>| Expect this and more information on our 7:00...</td>\n",
       "    </tr>\n",
       "    <tr>\n",
       "      <th>2001</th>\n",
       "      <td>No tengo plan pa halloween y hasta mejor, ese ...</td>\n",
       "      <td>2020-10-29 06:09:30</td>\n",
       "      <td>Ríohacha</td>\n",
       "      <td>La Guajira</td>\n",
       "      <td>11.544444</td>\n",
       "      <td>-72.907222</td>\n",
       "      <td>Translated(src=es, dest=en, text=I have no pla...</td>\n",
       "      <td>I have no plan for Halloween and even better, ...</td>\n",
       "    </tr>\n",
       "    <tr>\n",
       "      <th>1030</th>\n",
       "      <td>Socialización del decreto 244 del 28 de Octubr...</td>\n",
       "      <td>2020-10-28 20:28:12</td>\n",
       "      <td>Pasto</td>\n",
       "      <td>Nariño</td>\n",
       "      <td>1.213611</td>\n",
       "      <td>-77.281111</td>\n",
       "      <td>Translated(src=es, dest=en, text=Socialization...</td>\n",
       "      <td>Socialization of decree 244 of October 28, 202...</td>\n",
       "    </tr>\n",
       "    <tr>\n",
       "      <th>1379</th>\n",
       "      <td>Quería ser Hannah Montana este Halloween pero ...</td>\n",
       "      <td>2020-10-30 20:34:06</td>\n",
       "      <td>Armenia</td>\n",
       "      <td>Quindío</td>\n",
       "      <td>4.533889</td>\n",
       "      <td>-75.681111</td>\n",
       "      <td>Translated(src=es, dest=en, text=I wanted to b...</td>\n",
       "      <td>I wanted to be Hannah Montana this Halloween b...</td>\n",
       "    </tr>\n",
       "  </tbody>\n",
       "</table>\n",
       "</div>"
      ],
      "text/plain": [
       "                                                  texto                fecha  \\\n",
       "824   🔵[#ATLÁNTICO] Alcaldes del Atlántico unifican ...  2020-10-30 22:42:05   \n",
       "257   | Espere esta y más información en nuestra emi...  2020-10-30 23:05:01   \n",
       "2001  No tengo plan pa halloween y hasta mejor, ese ...  2020-10-29 06:09:30   \n",
       "1030  Socialización del decreto 244 del 28 de Octubr...  2020-10-28 20:28:12   \n",
       "1379  Quería ser Hannah Montana este Halloween pero ...  2020-10-30 20:34:06   \n",
       "\n",
       "           ciudad     departamento        lat        lon  \\\n",
       "824   Santa Marta        Magdalena  11.240791 -74.199040   \n",
       "257          Cali  Valle del Cauca   3.437222 -76.522500   \n",
       "2001     Ríohacha       La Guajira  11.544444 -72.907222   \n",
       "1030        Pasto           Nariño   1.213611 -77.281111   \n",
       "1379      Armenia          Quindío   4.533889 -75.681111   \n",
       "\n",
       "                                                    ing  \\\n",
       "824   Translated(src=es, dest=en, text=🔵 [# ATLÁNTIC...   \n",
       "257   Translated(src=es, dest=en, text=| Expect this...   \n",
       "2001  Translated(src=es, dest=en, text=I have no pla...   \n",
       "1030  Translated(src=es, dest=en, text=Socialization...   \n",
       "1379  Translated(src=es, dest=en, text=I wanted to b...   \n",
       "\n",
       "                                                 ingles  \n",
       "824   🔵 [# ATLÁNTICO] Mayors of the Atlantic unify m...  \n",
       "257   | Expect this and more information on our 7:00...  \n",
       "2001  I have no plan for Halloween and even better, ...  \n",
       "1030  Socialization of decree 244 of October 28, 202...  \n",
       "1379  I wanted to be Hannah Montana this Halloween b...  "
      ]
     },
     "execution_count": 6,
     "metadata": {},
     "output_type": "execute_result"
    }
   ],
   "source": [
    "data['ingles'] = data['ing'].apply(lambda valor: valor.text)\n",
    "data.head()"
   ]
  },
  {
   "cell_type": "code",
   "execution_count": 7,
   "metadata": {
    "slideshow": {
     "slide_type": "slide"
    }
   },
   "outputs": [
    {
     "data": {
      "text/html": [
       "<div>\n",
       "<style scoped>\n",
       "    .dataframe tbody tr th:only-of-type {\n",
       "        vertical-align: middle;\n",
       "    }\n",
       "\n",
       "    .dataframe tbody tr th {\n",
       "        vertical-align: top;\n",
       "    }\n",
       "\n",
       "    .dataframe thead th {\n",
       "        text-align: right;\n",
       "    }\n",
       "</style>\n",
       "<table border=\"1\" class=\"dataframe\">\n",
       "  <thead>\n",
       "    <tr style=\"text-align: right;\">\n",
       "      <th></th>\n",
       "      <th>texto</th>\n",
       "      <th>fecha</th>\n",
       "      <th>ciudad</th>\n",
       "      <th>departamento</th>\n",
       "      <th>lat</th>\n",
       "      <th>lon</th>\n",
       "      <th>ing</th>\n",
       "      <th>ingles</th>\n",
       "      <th>sentimiento</th>\n",
       "    </tr>\n",
       "  </thead>\n",
       "  <tbody>\n",
       "    <tr>\n",
       "      <th>824</th>\n",
       "      <td>🔵[#ATLÁNTICO] Alcaldes del Atlántico unifican ...</td>\n",
       "      <td>2020-10-30 22:42:05</td>\n",
       "      <td>Santa Marta</td>\n",
       "      <td>Magdalena</td>\n",
       "      <td>11.240791</td>\n",
       "      <td>-74.199040</td>\n",
       "      <td>Translated(src=es, dest=en, text=🔵 [# ATLÁNTIC...</td>\n",
       "      <td>🔵 [# ATLÁNTICO] Mayors of the Atlantic unify m...</td>\n",
       "      <td>0.0000</td>\n",
       "    </tr>\n",
       "    <tr>\n",
       "      <th>257</th>\n",
       "      <td>| Espere esta y más información en nuestra emi...</td>\n",
       "      <td>2020-10-30 23:05:01</td>\n",
       "      <td>Cali</td>\n",
       "      <td>Valle del Cauca</td>\n",
       "      <td>3.437222</td>\n",
       "      <td>-76.522500</td>\n",
       "      <td>Translated(src=es, dest=en, text=| Expect this...</td>\n",
       "      <td>| Expect this and more information on our 7:00...</td>\n",
       "      <td>0.7579</td>\n",
       "    </tr>\n",
       "    <tr>\n",
       "      <th>2001</th>\n",
       "      <td>No tengo plan pa halloween y hasta mejor, ese ...</td>\n",
       "      <td>2020-10-29 06:09:30</td>\n",
       "      <td>Ríohacha</td>\n",
       "      <td>La Guajira</td>\n",
       "      <td>11.544444</td>\n",
       "      <td>-72.907222</td>\n",
       "      <td>Translated(src=es, dest=en, text=I have no pla...</td>\n",
       "      <td>I have no plan for Halloween and even better, ...</td>\n",
       "      <td>0.1779</td>\n",
       "    </tr>\n",
       "    <tr>\n",
       "      <th>1030</th>\n",
       "      <td>Socialización del decreto 244 del 28 de Octubr...</td>\n",
       "      <td>2020-10-28 20:28:12</td>\n",
       "      <td>Pasto</td>\n",
       "      <td>Nariño</td>\n",
       "      <td>1.213611</td>\n",
       "      <td>-77.281111</td>\n",
       "      <td>Translated(src=es, dest=en, text=Socialization...</td>\n",
       "      <td>Socialization of decree 244 of October 28, 202...</td>\n",
       "      <td>0.1280</td>\n",
       "    </tr>\n",
       "    <tr>\n",
       "      <th>1379</th>\n",
       "      <td>Quería ser Hannah Montana este Halloween pero ...</td>\n",
       "      <td>2020-10-30 20:34:06</td>\n",
       "      <td>Armenia</td>\n",
       "      <td>Quindío</td>\n",
       "      <td>4.533889</td>\n",
       "      <td>-75.681111</td>\n",
       "      <td>Translated(src=es, dest=en, text=I wanted to b...</td>\n",
       "      <td>I wanted to be Hannah Montana this Halloween b...</td>\n",
       "      <td>-0.5504</td>\n",
       "    </tr>\n",
       "  </tbody>\n",
       "</table>\n",
       "</div>"
      ],
      "text/plain": [
       "                                                  texto                fecha  \\\n",
       "824   🔵[#ATLÁNTICO] Alcaldes del Atlántico unifican ...  2020-10-30 22:42:05   \n",
       "257   | Espere esta y más información en nuestra emi...  2020-10-30 23:05:01   \n",
       "2001  No tengo plan pa halloween y hasta mejor, ese ...  2020-10-29 06:09:30   \n",
       "1030  Socialización del decreto 244 del 28 de Octubr...  2020-10-28 20:28:12   \n",
       "1379  Quería ser Hannah Montana este Halloween pero ...  2020-10-30 20:34:06   \n",
       "\n",
       "           ciudad     departamento        lat        lon  \\\n",
       "824   Santa Marta        Magdalena  11.240791 -74.199040   \n",
       "257          Cali  Valle del Cauca   3.437222 -76.522500   \n",
       "2001     Ríohacha       La Guajira  11.544444 -72.907222   \n",
       "1030        Pasto           Nariño   1.213611 -77.281111   \n",
       "1379      Armenia          Quindío   4.533889 -75.681111   \n",
       "\n",
       "                                                    ing  \\\n",
       "824   Translated(src=es, dest=en, text=🔵 [# ATLÁNTIC...   \n",
       "257   Translated(src=es, dest=en, text=| Expect this...   \n",
       "2001  Translated(src=es, dest=en, text=I have no pla...   \n",
       "1030  Translated(src=es, dest=en, text=Socialization...   \n",
       "1379  Translated(src=es, dest=en, text=I wanted to b...   \n",
       "\n",
       "                                                 ingles  sentimiento  \n",
       "824   🔵 [# ATLÁNTICO] Mayors of the Atlantic unify m...       0.0000  \n",
       "257   | Expect this and more information on our 7:00...       0.7579  \n",
       "2001  I have no plan for Halloween and even better, ...       0.1779  \n",
       "1030  Socialization of decree 244 of October 28, 202...       0.1280  \n",
       "1379  I wanted to be Hannah Montana this Halloween b...      -0.5504  "
      ]
     },
     "execution_count": 7,
     "metadata": {},
     "output_type": "execute_result"
    }
   ],
   "source": [
    "data['sentimiento'] = data['ingles'].apply(lambda valor: vader.polarity_scores(valor)['compound'])\n",
    "data.head()"
   ]
  },
  {
   "cell_type": "code",
   "execution_count": 9,
   "metadata": {
    "slideshow": {
     "slide_type": "fragment"
    }
   },
   "outputs": [
    {
     "data": {
      "text/html": [
       "<div>\n",
       "<style scoped>\n",
       "    .dataframe tbody tr th:only-of-type {\n",
       "        vertical-align: middle;\n",
       "    }\n",
       "\n",
       "    .dataframe tbody tr th {\n",
       "        vertical-align: top;\n",
       "    }\n",
       "\n",
       "    .dataframe thead th {\n",
       "        text-align: right;\n",
       "    }\n",
       "</style>\n",
       "<table border=\"1\" class=\"dataframe\">\n",
       "  <thead>\n",
       "    <tr style=\"text-align: right;\">\n",
       "      <th></th>\n",
       "      <th>texto</th>\n",
       "      <th>sentimiento</th>\n",
       "    </tr>\n",
       "  </thead>\n",
       "  <tbody>\n",
       "    <tr>\n",
       "      <th>389</th>\n",
       "      <td>Si usted no celebra Halloween esta bien Es res...</td>\n",
       "      <td>-0.7391</td>\n",
       "    </tr>\n",
       "    <tr>\n",
       "      <th>315</th>\n",
       "      <td>Como mañana es halloween me dedicare a ver un ...</td>\n",
       "      <td>-0.5719</td>\n",
       "    </tr>\n",
       "    <tr>\n",
       "      <th>1379</th>\n",
       "      <td>Quería ser Hannah Montana este Halloween pero ...</td>\n",
       "      <td>-0.5504</td>\n",
       "    </tr>\n",
       "    <tr>\n",
       "      <th>195</th>\n",
       "      <td>La preocupación aumenta porque las autoridades...</td>\n",
       "      <td>-0.4767</td>\n",
       "    </tr>\n",
       "    <tr>\n",
       "      <th>1613</th>\n",
       "      <td>mi débil intento por poner mi cuenta modo hall...</td>\n",
       "      <td>-0.4404</td>\n",
       "    </tr>\n",
       "    <tr>\n",
       "      <th>915</th>\n",
       "      <td>Han cambiado el tono de llamada en Discord por...</td>\n",
       "      <td>-0.4019</td>\n",
       "    </tr>\n",
       "    <tr>\n",
       "      <th>1774</th>\n",
       "      <td>Mañana el Halloween coincide con una luna llen...</td>\n",
       "      <td>-0.3182</td>\n",
       "    </tr>\n",
       "    <tr>\n",
       "      <th>2102</th>\n",
       "      <td>Carolina Patrocínio surpreende ao disfarçar-se...</td>\n",
       "      <td>-0.2960</td>\n",
       "    </tr>\n",
       "    <tr>\n",
       "      <th>2138</th>\n",
       "      <td>Luis Eduardo Castro advierte que será judicial...</td>\n",
       "      <td>-0.1280</td>\n",
       "    </tr>\n",
       "    <tr>\n",
       "      <th>173</th>\n",
       "      <td>Hay sonidos que te transportan a otros mundos:...</td>\n",
       "      <td>-0.1027</td>\n",
       "    </tr>\n",
       "    <tr>\n",
       "      <th>1366</th>\n",
       "      <td>Si así va a ser el día de halloween no me quie...</td>\n",
       "      <td>-0.0572</td>\n",
       "    </tr>\n",
       "    <tr>\n",
       "      <th>1326</th>\n",
       "      <td>En halloween disfrazate de helado pa pasarte l...</td>\n",
       "      <td>0.0000</td>\n",
       "    </tr>\n",
       "    <tr>\n",
       "      <th>1992</th>\n",
       "      <td>| Medidas planteadas en el Decreto 266 del 202...</td>\n",
       "      <td>0.0000</td>\n",
       "    </tr>\n",
       "    <tr>\n",
       "      <th>1656</th>\n",
       "      <td>| Previo a Halloween, reportan 93 nuevos casos...</td>\n",
       "      <td>0.0000</td>\n",
       "    </tr>\n",
       "    <tr>\n",
       "      <th>192</th>\n",
       "      <td>mañana es Halloween y saben lo que significa a...</td>\n",
       "      <td>0.0000</td>\n",
       "    </tr>\n",
       "    <tr>\n",
       "      <th>824</th>\n",
       "      <td>🔵[#ATLÁNTICO] Alcaldes del Atlántico unifican ...</td>\n",
       "      <td>0.0000</td>\n",
       "    </tr>\n",
       "    <tr>\n",
       "      <th>740</th>\n",
       "      <td>| Mediante el decreto 078 de 2020 la alcaldía ...</td>\n",
       "      <td>0.0000</td>\n",
       "    </tr>\n",
       "    <tr>\n",
       "      <th>1694</th>\n",
       "      <td>De comercial de Halloween...</td>\n",
       "      <td>0.0000</td>\n",
       "    </tr>\n",
       "    <tr>\n",
       "      <th>1303</th>\n",
       "      <td>| Autoridades de tránsito frustran rodada de H...</td>\n",
       "      <td>0.0000</td>\n",
       "    </tr>\n",
       "    <tr>\n",
       "      <th>956</th>\n",
       "      <td>REGIONAL: durante la noche del jueves 29 de oc...</td>\n",
       "      <td>0.0000</td>\n",
       "    </tr>\n",
       "    <tr>\n",
       "      <th>1030</th>\n",
       "      <td>Socialización del decreto 244 del 28 de Octubr...</td>\n",
       "      <td>0.1280</td>\n",
       "    </tr>\n",
       "    <tr>\n",
       "      <th>59</th>\n",
       "      <td>EN VIVO | Mitos Populares sobre la Fauna Silve...</td>\n",
       "      <td>0.1280</td>\n",
       "    </tr>\n",
       "    <tr>\n",
       "      <th>2001</th>\n",
       "      <td>No tengo plan pa halloween y hasta mejor, ese ...</td>\n",
       "      <td>0.1779</td>\n",
       "    </tr>\n",
       "    <tr>\n",
       "      <th>1382</th>\n",
       "      <td>Mis recomendados para ver mañana son: Midsomma...</td>\n",
       "      <td>0.2023</td>\n",
       "    </tr>\n",
       "    <tr>\n",
       "      <th>1964</th>\n",
       "      <td>¡Gran promoción en disfraces! El Cuartico de S...</td>\n",
       "      <td>0.2225</td>\n",
       "    </tr>\n",
       "    <tr>\n",
       "      <th>861</th>\n",
       "      <td>¡Gran promoción en disfraces! El Cuartico de S...</td>\n",
       "      <td>0.2225</td>\n",
       "    </tr>\n",
       "    <tr>\n",
       "      <th>478</th>\n",
       "      <td>¡Llegó el fin de semana de 👻🎃! No te pierdas e...</td>\n",
       "      <td>0.2815</td>\n",
       "    </tr>\n",
       "    <tr>\n",
       "      <th>1344</th>\n",
       "      <td>Me disfrace para tenerte como papa en tenedor 🤭</td>\n",
       "      <td>0.2960</td>\n",
       "    </tr>\n",
       "    <tr>\n",
       "      <th>1921</th>\n",
       "      <td>¡Toque de Queda en Suesca! La Administración M...</td>\n",
       "      <td>0.3164</td>\n",
       "    </tr>\n",
       "    <tr>\n",
       "      <th>51</th>\n",
       "      <td>🎥 Diego Play 🎃 Halloween Live | OCT 2020 | 🔴 T...</td>\n",
       "      <td>0.3400</td>\n",
       "    </tr>\n",
       "    <tr>\n",
       "      <th>993</th>\n",
       "      <td>Hoy seguimos con RE7 y como se acerca Hallowee...</td>\n",
       "      <td>0.4215</td>\n",
       "    </tr>\n",
       "    <tr>\n",
       "      <th>65</th>\n",
       "      <td>Obten en casa el espacio extra que necesitas g...</td>\n",
       "      <td>0.4404</td>\n",
       "    </tr>\n",
       "    <tr>\n",
       "      <th>592</th>\n",
       "      <td>HALLOWEEN SAMHAIN &amp;lt;I&amp;gt; Víspera de Todos l...</td>\n",
       "      <td>0.4767</td>\n",
       "    </tr>\n",
       "    <tr>\n",
       "      <th>1546</th>\n",
       "      <td>Nuevas restricciones en el marco de las festiv...</td>\n",
       "      <td>0.4767</td>\n",
       "    </tr>\n",
       "    <tr>\n",
       "      <th>487</th>\n",
       "      <td>será prudente maquillar de drag queen a mi nov...</td>\n",
       "      <td>0.4871</td>\n",
       "    </tr>\n",
       "    <tr>\n",
       "      <th>2199</th>\n",
       "      <td>((🔴)) || Ramon Guevara - Alcalde del Municipio...</td>\n",
       "      <td>0.5423</td>\n",
       "    </tr>\n",
       "    <tr>\n",
       "      <th>1257</th>\n",
       "      <td>30 de octubre del 2020 faltando solo 5 horas p...</td>\n",
       "      <td>0.5719</td>\n",
       "    </tr>\n",
       "    <tr>\n",
       "      <th>2217</th>\n",
       "      <td>Un resumen de nuestro día celebrando Halloween...</td>\n",
       "      <td>0.5719</td>\n",
       "    </tr>\n",
       "    <tr>\n",
       "      <th>598</th>\n",
       "      <td>Director del ICBF Atlántico hace llamado para ...</td>\n",
       "      <td>0.5719</td>\n",
       "    </tr>\n",
       "    <tr>\n",
       "      <th>856</th>\n",
       "      <td>Para proteger la vida y mantener estables los ...</td>\n",
       "      <td>0.6705</td>\n",
       "    </tr>\n",
       "    <tr>\n",
       "      <th>234</th>\n",
       "      <td>En JLV Home Design celebramos el Halloween con...</td>\n",
       "      <td>0.6720</td>\n",
       "    </tr>\n",
       "    <tr>\n",
       "      <th>479</th>\n",
       "      <td>Bueno desde mañana empiezo a celebrar Hallowee...</td>\n",
       "      <td>0.7003</td>\n",
       "    </tr>\n",
       "    <tr>\n",
       "      <th>1094</th>\n",
       "      <td>Ya que cancelaron Halloween vengase pa’ mi cas...</td>\n",
       "      <td>0.7430</td>\n",
       "    </tr>\n",
       "    <tr>\n",
       "      <th>257</th>\n",
       "      <td>| Espere esta y más información en nuestra emi...</td>\n",
       "      <td>0.7579</td>\n",
       "    </tr>\n",
       "    <tr>\n",
       "      <th>1654</th>\n",
       "      <td>🎥 El gobierno del municipio de se acogió a la ...</td>\n",
       "      <td>0.7717</td>\n",
       "    </tr>\n",
       "    <tr>\n",
       "      <th>1236</th>\n",
       "      <td>¡Ya estamos empezando a contar todos los punto...</td>\n",
       "      <td>0.7840</td>\n",
       "    </tr>\n",
       "    <tr>\n",
       "      <th>689</th>\n",
       "      <td>Seguimos activas para brindar el mejor servici...</td>\n",
       "      <td>0.7845</td>\n",
       "    </tr>\n",
       "    <tr>\n",
       "      <th>1433</th>\n",
       "      <td>🏡 | Queremos proponerte algunas alternativas p...</td>\n",
       "      <td>0.8172</td>\n",
       "    </tr>\n",
       "    <tr>\n",
       "      <th>2107</th>\n",
       "      <td>Queremos que nuestros niños y niñas vivan el m...</td>\n",
       "      <td>0.8387</td>\n",
       "    </tr>\n",
       "    <tr>\n",
       "      <th>1869</th>\n",
       "      <td>Halloween Candy que consta de un recorrido lle...</td>\n",
       "      <td>0.8519</td>\n",
       "    </tr>\n",
       "  </tbody>\n",
       "</table>\n",
       "</div>"
      ],
      "text/plain": [
       "                                                  texto  sentimiento\n",
       "389   Si usted no celebra Halloween esta bien Es res...      -0.7391\n",
       "315   Como mañana es halloween me dedicare a ver un ...      -0.5719\n",
       "1379  Quería ser Hannah Montana este Halloween pero ...      -0.5504\n",
       "195   La preocupación aumenta porque las autoridades...      -0.4767\n",
       "1613  mi débil intento por poner mi cuenta modo hall...      -0.4404\n",
       "915   Han cambiado el tono de llamada en Discord por...      -0.4019\n",
       "1774  Mañana el Halloween coincide con una luna llen...      -0.3182\n",
       "2102  Carolina Patrocínio surpreende ao disfarçar-se...      -0.2960\n",
       "2138  Luis Eduardo Castro advierte que será judicial...      -0.1280\n",
       "173   Hay sonidos que te transportan a otros mundos:...      -0.1027\n",
       "1366  Si así va a ser el día de halloween no me quie...      -0.0572\n",
       "1326  En halloween disfrazate de helado pa pasarte l...       0.0000\n",
       "1992  | Medidas planteadas en el Decreto 266 del 202...       0.0000\n",
       "1656  | Previo a Halloween, reportan 93 nuevos casos...       0.0000\n",
       "192   mañana es Halloween y saben lo que significa a...       0.0000\n",
       "824   🔵[#ATLÁNTICO] Alcaldes del Atlántico unifican ...       0.0000\n",
       "740   | Mediante el decreto 078 de 2020 la alcaldía ...       0.0000\n",
       "1694                       De comercial de Halloween...       0.0000\n",
       "1303  | Autoridades de tránsito frustran rodada de H...       0.0000\n",
       "956   REGIONAL: durante la noche del jueves 29 de oc...       0.0000\n",
       "1030  Socialización del decreto 244 del 28 de Octubr...       0.1280\n",
       "59    EN VIVO | Mitos Populares sobre la Fauna Silve...       0.1280\n",
       "2001  No tengo plan pa halloween y hasta mejor, ese ...       0.1779\n",
       "1382  Mis recomendados para ver mañana son: Midsomma...       0.2023\n",
       "1964  ¡Gran promoción en disfraces! El Cuartico de S...       0.2225\n",
       "861   ¡Gran promoción en disfraces! El Cuartico de S...       0.2225\n",
       "478   ¡Llegó el fin de semana de 👻🎃! No te pierdas e...       0.2815\n",
       "1344    Me disfrace para tenerte como papa en tenedor 🤭       0.2960\n",
       "1921  ¡Toque de Queda en Suesca! La Administración M...       0.3164\n",
       "51    🎥 Diego Play 🎃 Halloween Live | OCT 2020 | 🔴 T...       0.3400\n",
       "993   Hoy seguimos con RE7 y como se acerca Hallowee...       0.4215\n",
       "65    Obten en casa el espacio extra que necesitas g...       0.4404\n",
       "592   HALLOWEEN SAMHAIN &lt;I&gt; Víspera de Todos l...       0.4767\n",
       "1546  Nuevas restricciones en el marco de las festiv...       0.4767\n",
       "487   será prudente maquillar de drag queen a mi nov...       0.4871\n",
       "2199  ((🔴)) || Ramon Guevara - Alcalde del Municipio...       0.5423\n",
       "1257  30 de octubre del 2020 faltando solo 5 horas p...       0.5719\n",
       "2217  Un resumen de nuestro día celebrando Halloween...       0.5719\n",
       "598   Director del ICBF Atlántico hace llamado para ...       0.5719\n",
       "856   Para proteger la vida y mantener estables los ...       0.6705\n",
       "234   En JLV Home Design celebramos el Halloween con...       0.6720\n",
       "479   Bueno desde mañana empiezo a celebrar Hallowee...       0.7003\n",
       "1094  Ya que cancelaron Halloween vengase pa’ mi cas...       0.7430\n",
       "257   | Espere esta y más información en nuestra emi...       0.7579\n",
       "1654  🎥 El gobierno del municipio de se acogió a la ...       0.7717\n",
       "1236  ¡Ya estamos empezando a contar todos los punto...       0.7840\n",
       "689   Seguimos activas para brindar el mejor servici...       0.7845\n",
       "1433  🏡 | Queremos proponerte algunas alternativas p...       0.8172\n",
       "2107  Queremos que nuestros niños y niñas vivan el m...       0.8387\n",
       "1869  Halloween Candy que consta de un recorrido lle...       0.8519"
      ]
     },
     "execution_count": 9,
     "metadata": {},
     "output_type": "execute_result"
    }
   ],
   "source": [
    "data[['texto', 'sentimiento']].sort_values('sentimiento')"
   ]
  },
  {
   "cell_type": "code",
   "execution_count": 11,
   "metadata": {
    "slideshow": {
     "slide_type": "fragment"
    }
   },
   "outputs": [
    {
     "data": {
      "text/plain": [
       "'Halloween Candy que consta de un recorrido lleno de felicidad los días 03,04 de noviembre del 2020, por las escuelas veredales, recorrido que iniciará a partir de las 8:00 am 😁. De escuela escuela serán de 30 a 40 minutos, de intervalo ⏱️. Te esperamos🎉…..'"
      ]
     },
     "execution_count": 11,
     "metadata": {},
     "output_type": "execute_result"
    }
   ],
   "source": [
    "data.loc[1869]['texto']"
   ]
  },
  {
   "cell_type": "markdown",
   "metadata": {
    "slideshow": {
     "slide_type": "slide"
    }
   },
   "source": [
    "### Modelos basados en redes neuronales\n",
    "\n",
    "Estos modelos aprenden los *embeddings* para considerar las similitudes entre las palabras y hacerlos resistentes a los errores de ortografía.\n",
    "\n",
    "- [**Flair**](https://github.com/flairNLP/flair)\n",
    "\n",
    "- [**sentiment_analysis_spanish**](https://github.com/sentiment-analysis-spanish/sentiment-analysis-model-neural-network)\n",
    "\n",
    "`pip install flair` https://aka.ms/vs/16/release/vc_redist.x64.exe\n",
    "https://pytorch.org/\n",
    "Opción: [Google Colab](https://colab.research.google.com/notebooks/intro.ipynb#recent=true)\n",
    "\n",
    "(`pip install sentiment-analysis-spanish`)\n",
    "\n",
    "Más:\n",
    "\n",
    "`conda install -c pytorch pytorch`\n",
    "\n",
    "(`pip install tensorflow`\n",
    "`pip install Keras`)"
   ]
  },
  {
   "cell_type": "code",
   "execution_count": 22,
   "metadata": {
    "slideshow": {
     "slide_type": "slide"
    }
   },
   "outputs": [
    {
     "name": "stdout",
     "output_type": "stream",
     "text": [
      "2020-11-14 08:43:44,012 loading file /Users/vivianamarquez/.flair/models/sentiment-en-mix-distillbert_3.1.pt\n",
      "At least it isn't a horrible book.\n"
     ]
    },
    {
     "data": {
      "text/plain": [
       "('POSITIVE', 0.8074595928192139)"
      ]
     },
     "execution_count": 22,
     "metadata": {},
     "output_type": "execute_result"
    }
   ],
   "source": [
    "from flair.models import TextClassifier\n",
    "from flair.data import Sentence\n",
    "\n",
    "classifier = TextClassifier.load('en-sentiment')\n",
    "sentence = Sentence(ejemplo1)\n",
    "\n",
    "print(ejemplo1)\n",
    "\n",
    "classifier.predict(sentence, multi_class_prob=False)\n",
    "l = sentence.labels\n",
    "\n",
    "l[0].value, l[0].score"
   ]
  },
  {
   "cell_type": "code",
   "execution_count": 24,
   "metadata": {
    "slideshow": {
     "slide_type": "fragment"
    }
   },
   "outputs": [
    {
     "name": "stdout",
     "output_type": "stream",
     "text": [
      "2020-11-14 08:48:23,591 loading file /Users/vivianamarquez/.flair/models/sentiment-en-mix-distillbert_3.1.pt\n"
     ]
    },
    {
     "data": {
      "text/plain": [
       "[NEGATIVE (0.9438)]"
      ]
     },
     "execution_count": 24,
     "metadata": {},
     "output_type": "execute_result"
    }
   ],
   "source": [
    "classifier = TextClassifier.load('sentiment')\n",
    "sentence = Sentence(\"Instalar Pytorch es un dolor de cabeza, lo odio\")\n",
    "classifier.predict(sentence)\n",
    "sentence.labels"
   ]
  },
  {
   "cell_type": "code",
   "execution_count": 25,
   "metadata": {
    "slideshow": {
     "slide_type": "fragment"
    }
   },
   "outputs": [
    {
     "data": {
      "text/plain": [
       "0.87237686"
      ]
     },
     "execution_count": 25,
     "metadata": {},
     "output_type": "execute_result"
    }
   ],
   "source": [
    "# Otra libreria\n",
    "from sentiment_analysis_spanish import sentiment_analysis\n",
    "\n",
    "sentiment = sentiment_analysis.SentimentAnalysisSpanish()\n",
    "sentiment.sentiment(\"me encanta la clase!\")"
   ]
  },
  {
   "cell_type": "code",
   "execution_count": 28,
   "metadata": {
    "slideshow": {
     "slide_type": "fragment"
    }
   },
   "outputs": [
    {
     "name": "stdout",
     "output_type": "stream",
     "text": [
      "2020-11-14 08:53:57,526 loading file /Users/vivianamarquez/.flair/models/sentiment-en-mix-distillbert_3.1.pt\n"
     ]
    },
    {
     "data": {
      "text/html": [
       "<div>\n",
       "<style scoped>\n",
       "    .dataframe tbody tr th:only-of-type {\n",
       "        vertical-align: middle;\n",
       "    }\n",
       "\n",
       "    .dataframe tbody tr th {\n",
       "        vertical-align: top;\n",
       "    }\n",
       "\n",
       "    .dataframe thead th {\n",
       "        text-align: right;\n",
       "    }\n",
       "</style>\n",
       "<table border=\"1\" class=\"dataframe\">\n",
       "  <thead>\n",
       "    <tr style=\"text-align: right;\">\n",
       "      <th></th>\n",
       "      <th>texto</th>\n",
       "      <th>fecha</th>\n",
       "      <th>ciudad</th>\n",
       "      <th>departamento</th>\n",
       "      <th>lat</th>\n",
       "      <th>lon</th>\n",
       "      <th>ing</th>\n",
       "      <th>ingles</th>\n",
       "      <th>sentimiento</th>\n",
       "      <th>sent_flair</th>\n",
       "    </tr>\n",
       "  </thead>\n",
       "  <tbody>\n",
       "    <tr>\n",
       "      <th>824</th>\n",
       "      <td>🔵[#ATLÁNTICO] Alcaldes del Atlántico unifican ...</td>\n",
       "      <td>2020-10-30 22:42:05</td>\n",
       "      <td>Santa Marta</td>\n",
       "      <td>Magdalena</td>\n",
       "      <td>11.240791</td>\n",
       "      <td>-74.199040</td>\n",
       "      <td>Translated(src=es, dest=en, text=🔵 [# ATLÁNTIC...</td>\n",
       "      <td>🔵 [# ATLÁNTICO] Mayors of the Atlantic unify m...</td>\n",
       "      <td>0.0000</td>\n",
       "      <td>0.668218</td>\n",
       "    </tr>\n",
       "    <tr>\n",
       "      <th>257</th>\n",
       "      <td>| Espere esta y más información en nuestra emi...</td>\n",
       "      <td>2020-10-30 23:05:01</td>\n",
       "      <td>Cali</td>\n",
       "      <td>Valle del Cauca</td>\n",
       "      <td>3.437222</td>\n",
       "      <td>-76.522500</td>\n",
       "      <td>Translated(src=es, dest=en, text=| Expect this...</td>\n",
       "      <td>| Expect this and more information on our 7:00...</td>\n",
       "      <td>0.7579</td>\n",
       "      <td>0.881070</td>\n",
       "    </tr>\n",
       "    <tr>\n",
       "      <th>2001</th>\n",
       "      <td>No tengo plan pa halloween y hasta mejor, ese ...</td>\n",
       "      <td>2020-10-29 06:09:30</td>\n",
       "      <td>Ríohacha</td>\n",
       "      <td>La Guajira</td>\n",
       "      <td>11.544444</td>\n",
       "      <td>-72.907222</td>\n",
       "      <td>Translated(src=es, dest=en, text=I have no pla...</td>\n",
       "      <td>I have no plan for Halloween and even better, ...</td>\n",
       "      <td>0.1779</td>\n",
       "      <td>-0.996559</td>\n",
       "    </tr>\n",
       "    <tr>\n",
       "      <th>1030</th>\n",
       "      <td>Socialización del decreto 244 del 28 de Octubr...</td>\n",
       "      <td>2020-10-28 20:28:12</td>\n",
       "      <td>Pasto</td>\n",
       "      <td>Nariño</td>\n",
       "      <td>1.213611</td>\n",
       "      <td>-77.281111</td>\n",
       "      <td>Translated(src=es, dest=en, text=Socialization...</td>\n",
       "      <td>Socialization of decree 244 of October 28, 202...</td>\n",
       "      <td>0.1280</td>\n",
       "      <td>0.992235</td>\n",
       "    </tr>\n",
       "    <tr>\n",
       "      <th>1379</th>\n",
       "      <td>Quería ser Hannah Montana este Halloween pero ...</td>\n",
       "      <td>2020-10-30 20:34:06</td>\n",
       "      <td>Armenia</td>\n",
       "      <td>Quindío</td>\n",
       "      <td>4.533889</td>\n",
       "      <td>-75.681111</td>\n",
       "      <td>Translated(src=es, dest=en, text=I wanted to b...</td>\n",
       "      <td>I wanted to be Hannah Montana this Halloween b...</td>\n",
       "      <td>-0.5504</td>\n",
       "      <td>-0.982313</td>\n",
       "    </tr>\n",
       "  </tbody>\n",
       "</table>\n",
       "</div>"
      ],
      "text/plain": [
       "                                                  texto                fecha  \\\n",
       "824   🔵[#ATLÁNTICO] Alcaldes del Atlántico unifican ...  2020-10-30 22:42:05   \n",
       "257   | Espere esta y más información en nuestra emi...  2020-10-30 23:05:01   \n",
       "2001  No tengo plan pa halloween y hasta mejor, ese ...  2020-10-29 06:09:30   \n",
       "1030  Socialización del decreto 244 del 28 de Octubr...  2020-10-28 20:28:12   \n",
       "1379  Quería ser Hannah Montana este Halloween pero ...  2020-10-30 20:34:06   \n",
       "\n",
       "           ciudad     departamento        lat        lon  \\\n",
       "824   Santa Marta        Magdalena  11.240791 -74.199040   \n",
       "257          Cali  Valle del Cauca   3.437222 -76.522500   \n",
       "2001     Ríohacha       La Guajira  11.544444 -72.907222   \n",
       "1030        Pasto           Nariño   1.213611 -77.281111   \n",
       "1379      Armenia          Quindío   4.533889 -75.681111   \n",
       "\n",
       "                                                    ing  \\\n",
       "824   Translated(src=es, dest=en, text=🔵 [# ATLÁNTIC...   \n",
       "257   Translated(src=es, dest=en, text=| Expect this...   \n",
       "2001  Translated(src=es, dest=en, text=I have no pla...   \n",
       "1030  Translated(src=es, dest=en, text=Socialization...   \n",
       "1379  Translated(src=es, dest=en, text=I wanted to b...   \n",
       "\n",
       "                                                 ingles  sentimiento  \\\n",
       "824   🔵 [# ATLÁNTICO] Mayors of the Atlantic unify m...       0.0000   \n",
       "257   | Expect this and more information on our 7:00...       0.7579   \n",
       "2001  I have no plan for Halloween and even better, ...       0.1779   \n",
       "1030  Socialization of decree 244 of October 28, 202...       0.1280   \n",
       "1379  I wanted to be Hannah Montana this Halloween b...      -0.5504   \n",
       "\n",
       "      sent_flair  \n",
       "824     0.668218  \n",
       "257     0.881070  \n",
       "2001   -0.996559  \n",
       "1030    0.992235  \n",
       "1379   -0.982313  "
      ]
     },
     "execution_count": 28,
     "metadata": {},
     "output_type": "execute_result"
    }
   ],
   "source": [
    "classifier = TextClassifier.load('sentiment')\n",
    "\n",
    "def sent_flair(texto):\n",
    "    sentence = Sentence(texto)\n",
    "    classifier.predict(sentence)\n",
    "    result = sentence.labels[0]\n",
    "    label = result.value\n",
    "    score = result.score\n",
    "    if label == 'POSITIVE':\n",
    "        return score\n",
    "    if label == 'NEGATIVE':\n",
    "        return -1 * score\n",
    "    return score\n",
    "\n",
    "data['sent_flair'] = data['texto'].apply(lambda valor: sent_flair(valor))\n",
    "data.head()\n"
   ]
  },
  {
   "cell_type": "code",
   "execution_count": 36,
   "metadata": {
    "slideshow": {
     "slide_type": "fragment"
    }
   },
   "outputs": [
    {
     "data": {
      "text/plain": [
       "'🏡 | Queremos proponerte algunas alternativas para celebrar Halloween en casa ¡Cuida a tus niños mientras pasan un momento en familia!'"
      ]
     },
     "execution_count": 36,
     "metadata": {},
     "output_type": "execute_result"
    }
   ],
   "source": [
    "data.loc[1433]['texto']"
   ]
  },
  {
   "cell_type": "code",
   "execution_count": 34,
   "metadata": {
    "slideshow": {
     "slide_type": "fragment"
    }
   },
   "outputs": [
    {
     "data": {
      "text/html": [
       "<div>\n",
       "<style scoped>\n",
       "    .dataframe tbody tr th:only-of-type {\n",
       "        vertical-align: middle;\n",
       "    }\n",
       "\n",
       "    .dataframe tbody tr th {\n",
       "        vertical-align: top;\n",
       "    }\n",
       "\n",
       "    .dataframe thead th {\n",
       "        text-align: right;\n",
       "    }\n",
       "</style>\n",
       "<table border=\"1\" class=\"dataframe\">\n",
       "  <thead>\n",
       "    <tr style=\"text-align: right;\">\n",
       "      <th></th>\n",
       "      <th>texto</th>\n",
       "      <th>sent_flair</th>\n",
       "    </tr>\n",
       "  </thead>\n",
       "  <tbody>\n",
       "    <tr>\n",
       "      <th>487</th>\n",
       "      <td>será prudente maquillar de drag queen a mi nov...</td>\n",
       "      <td>-0.999732</td>\n",
       "    </tr>\n",
       "    <tr>\n",
       "      <th>2001</th>\n",
       "      <td>No tengo plan pa halloween y hasta mejor, ese ...</td>\n",
       "      <td>-0.996559</td>\n",
       "    </tr>\n",
       "    <tr>\n",
       "      <th>234</th>\n",
       "      <td>En JLV Home Design celebramos el Halloween con...</td>\n",
       "      <td>-0.993685</td>\n",
       "    </tr>\n",
       "    <tr>\n",
       "      <th>479</th>\n",
       "      <td>Bueno desde mañana empiezo a celebrar Hallowee...</td>\n",
       "      <td>-0.985152</td>\n",
       "    </tr>\n",
       "    <tr>\n",
       "      <th>1379</th>\n",
       "      <td>Quería ser Hannah Montana este Halloween pero ...</td>\n",
       "      <td>-0.982313</td>\n",
       "    </tr>\n",
       "    <tr>\n",
       "      <th>1366</th>\n",
       "      <td>Si así va a ser el día de halloween no me quie...</td>\n",
       "      <td>-0.980143</td>\n",
       "    </tr>\n",
       "    <tr>\n",
       "      <th>65</th>\n",
       "      <td>Obten en casa el espacio extra que necesitas g...</td>\n",
       "      <td>-0.969819</td>\n",
       "    </tr>\n",
       "    <tr>\n",
       "      <th>740</th>\n",
       "      <td>| Mediante el decreto 078 de 2020 la alcaldía ...</td>\n",
       "      <td>-0.968707</td>\n",
       "    </tr>\n",
       "    <tr>\n",
       "      <th>2102</th>\n",
       "      <td>Carolina Patrocínio surpreende ao disfarçar-se...</td>\n",
       "      <td>-0.930027</td>\n",
       "    </tr>\n",
       "    <tr>\n",
       "      <th>1382</th>\n",
       "      <td>Mis recomendados para ver mañana son: Midsomma...</td>\n",
       "      <td>-0.904006</td>\n",
       "    </tr>\n",
       "    <tr>\n",
       "      <th>1992</th>\n",
       "      <td>| Medidas planteadas en el Decreto 266 del 202...</td>\n",
       "      <td>-0.876954</td>\n",
       "    </tr>\n",
       "    <tr>\n",
       "      <th>1326</th>\n",
       "      <td>En halloween disfrazate de helado pa pasarte l...</td>\n",
       "      <td>-0.815754</td>\n",
       "    </tr>\n",
       "    <tr>\n",
       "      <th>1344</th>\n",
       "      <td>Me disfrace para tenerte como papa en tenedor 🤭</td>\n",
       "      <td>-0.742932</td>\n",
       "    </tr>\n",
       "    <tr>\n",
       "      <th>1613</th>\n",
       "      <td>mi débil intento por poner mi cuenta modo hall...</td>\n",
       "      <td>-0.689305</td>\n",
       "    </tr>\n",
       "    <tr>\n",
       "      <th>315</th>\n",
       "      <td>Como mañana es halloween me dedicare a ver un ...</td>\n",
       "      <td>-0.681694</td>\n",
       "    </tr>\n",
       "    <tr>\n",
       "      <th>1094</th>\n",
       "      <td>Ya que cancelaron Halloween vengase pa’ mi cas...</td>\n",
       "      <td>-0.591757</td>\n",
       "    </tr>\n",
       "    <tr>\n",
       "      <th>1656</th>\n",
       "      <td>| Previo a Halloween, reportan 93 nuevos casos...</td>\n",
       "      <td>0.585070</td>\n",
       "    </tr>\n",
       "    <tr>\n",
       "      <th>824</th>\n",
       "      <td>🔵[#ATLÁNTICO] Alcaldes del Atlántico unifican ...</td>\n",
       "      <td>0.668218</td>\n",
       "    </tr>\n",
       "    <tr>\n",
       "      <th>592</th>\n",
       "      <td>HALLOWEEN SAMHAIN &amp;lt;I&amp;gt; Víspera de Todos l...</td>\n",
       "      <td>0.735014</td>\n",
       "    </tr>\n",
       "    <tr>\n",
       "      <th>915</th>\n",
       "      <td>Han cambiado el tono de llamada en Discord por...</td>\n",
       "      <td>0.775819</td>\n",
       "    </tr>\n",
       "    <tr>\n",
       "      <th>2138</th>\n",
       "      <td>Luis Eduardo Castro advierte que será judicial...</td>\n",
       "      <td>0.872476</td>\n",
       "    </tr>\n",
       "    <tr>\n",
       "      <th>257</th>\n",
       "      <td>| Espere esta y más información en nuestra emi...</td>\n",
       "      <td>0.881070</td>\n",
       "    </tr>\n",
       "    <tr>\n",
       "      <th>1236</th>\n",
       "      <td>¡Ya estamos empezando a contar todos los punto...</td>\n",
       "      <td>0.889350</td>\n",
       "    </tr>\n",
       "    <tr>\n",
       "      <th>2199</th>\n",
       "      <td>((🔴)) || Ramon Guevara - Alcalde del Municipio...</td>\n",
       "      <td>0.901292</td>\n",
       "    </tr>\n",
       "    <tr>\n",
       "      <th>173</th>\n",
       "      <td>Hay sonidos que te transportan a otros mundos:...</td>\n",
       "      <td>0.930720</td>\n",
       "    </tr>\n",
       "    <tr>\n",
       "      <th>956</th>\n",
       "      <td>REGIONAL: durante la noche del jueves 29 de oc...</td>\n",
       "      <td>0.937730</td>\n",
       "    </tr>\n",
       "    <tr>\n",
       "      <th>993</th>\n",
       "      <td>Hoy seguimos con RE7 y como se acerca Hallowee...</td>\n",
       "      <td>0.940059</td>\n",
       "    </tr>\n",
       "    <tr>\n",
       "      <th>51</th>\n",
       "      <td>🎥 Diego Play 🎃 Halloween Live | OCT 2020 | 🔴 T...</td>\n",
       "      <td>0.951380</td>\n",
       "    </tr>\n",
       "    <tr>\n",
       "      <th>1694</th>\n",
       "      <td>De comercial de Halloween...</td>\n",
       "      <td>0.952444</td>\n",
       "    </tr>\n",
       "    <tr>\n",
       "      <th>2217</th>\n",
       "      <td>Un resumen de nuestro día celebrando Halloween...</td>\n",
       "      <td>0.952857</td>\n",
       "    </tr>\n",
       "    <tr>\n",
       "      <th>389</th>\n",
       "      <td>Si usted no celebra Halloween esta bien Es res...</td>\n",
       "      <td>0.962044</td>\n",
       "    </tr>\n",
       "    <tr>\n",
       "      <th>192</th>\n",
       "      <td>mañana es Halloween y saben lo que significa a...</td>\n",
       "      <td>0.968026</td>\n",
       "    </tr>\n",
       "    <tr>\n",
       "      <th>59</th>\n",
       "      <td>EN VIVO | Mitos Populares sobre la Fauna Silve...</td>\n",
       "      <td>0.971488</td>\n",
       "    </tr>\n",
       "    <tr>\n",
       "      <th>1774</th>\n",
       "      <td>Mañana el Halloween coincide con una luna llen...</td>\n",
       "      <td>0.976070</td>\n",
       "    </tr>\n",
       "    <tr>\n",
       "      <th>598</th>\n",
       "      <td>Director del ICBF Atlántico hace llamado para ...</td>\n",
       "      <td>0.978493</td>\n",
       "    </tr>\n",
       "    <tr>\n",
       "      <th>1546</th>\n",
       "      <td>Nuevas restricciones en el marco de las festiv...</td>\n",
       "      <td>0.981310</td>\n",
       "    </tr>\n",
       "    <tr>\n",
       "      <th>1921</th>\n",
       "      <td>¡Toque de Queda en Suesca! La Administración M...</td>\n",
       "      <td>0.986151</td>\n",
       "    </tr>\n",
       "    <tr>\n",
       "      <th>856</th>\n",
       "      <td>Para proteger la vida y mantener estables los ...</td>\n",
       "      <td>0.987104</td>\n",
       "    </tr>\n",
       "    <tr>\n",
       "      <th>478</th>\n",
       "      <td>¡Llegó el fin de semana de 👻🎃! No te pierdas e...</td>\n",
       "      <td>0.989036</td>\n",
       "    </tr>\n",
       "    <tr>\n",
       "      <th>1030</th>\n",
       "      <td>Socialización del decreto 244 del 28 de Octubr...</td>\n",
       "      <td>0.992235</td>\n",
       "    </tr>\n",
       "    <tr>\n",
       "      <th>1257</th>\n",
       "      <td>30 de octubre del 2020 faltando solo 5 horas p...</td>\n",
       "      <td>0.993111</td>\n",
       "    </tr>\n",
       "    <tr>\n",
       "      <th>2107</th>\n",
       "      <td>Queremos que nuestros niños y niñas vivan el m...</td>\n",
       "      <td>0.994175</td>\n",
       "    </tr>\n",
       "    <tr>\n",
       "      <th>195</th>\n",
       "      <td>La preocupación aumenta porque las autoridades...</td>\n",
       "      <td>0.995202</td>\n",
       "    </tr>\n",
       "    <tr>\n",
       "      <th>1303</th>\n",
       "      <td>| Autoridades de tránsito frustran rodada de H...</td>\n",
       "      <td>0.996929</td>\n",
       "    </tr>\n",
       "    <tr>\n",
       "      <th>689</th>\n",
       "      <td>Seguimos activas para brindar el mejor servici...</td>\n",
       "      <td>0.997613</td>\n",
       "    </tr>\n",
       "    <tr>\n",
       "      <th>1869</th>\n",
       "      <td>Halloween Candy que consta de un recorrido lle...</td>\n",
       "      <td>0.998105</td>\n",
       "    </tr>\n",
       "    <tr>\n",
       "      <th>1654</th>\n",
       "      <td>🎥 El gobierno del municipio de se acogió a la ...</td>\n",
       "      <td>0.998769</td>\n",
       "    </tr>\n",
       "    <tr>\n",
       "      <th>861</th>\n",
       "      <td>¡Gran promoción en disfraces! El Cuartico de S...</td>\n",
       "      <td>0.999760</td>\n",
       "    </tr>\n",
       "    <tr>\n",
       "      <th>1964</th>\n",
       "      <td>¡Gran promoción en disfraces! El Cuartico de S...</td>\n",
       "      <td>0.999760</td>\n",
       "    </tr>\n",
       "    <tr>\n",
       "      <th>1433</th>\n",
       "      <td>🏡 | Queremos proponerte algunas alternativas p...</td>\n",
       "      <td>0.999831</td>\n",
       "    </tr>\n",
       "  </tbody>\n",
       "</table>\n",
       "</div>"
      ],
      "text/plain": [
       "                                                  texto  sent_flair\n",
       "487   será prudente maquillar de drag queen a mi nov...   -0.999732\n",
       "2001  No tengo plan pa halloween y hasta mejor, ese ...   -0.996559\n",
       "234   En JLV Home Design celebramos el Halloween con...   -0.993685\n",
       "479   Bueno desde mañana empiezo a celebrar Hallowee...   -0.985152\n",
       "1379  Quería ser Hannah Montana este Halloween pero ...   -0.982313\n",
       "1366  Si así va a ser el día de halloween no me quie...   -0.980143\n",
       "65    Obten en casa el espacio extra que necesitas g...   -0.969819\n",
       "740   | Mediante el decreto 078 de 2020 la alcaldía ...   -0.968707\n",
       "2102  Carolina Patrocínio surpreende ao disfarçar-se...   -0.930027\n",
       "1382  Mis recomendados para ver mañana son: Midsomma...   -0.904006\n",
       "1992  | Medidas planteadas en el Decreto 266 del 202...   -0.876954\n",
       "1326  En halloween disfrazate de helado pa pasarte l...   -0.815754\n",
       "1344    Me disfrace para tenerte como papa en tenedor 🤭   -0.742932\n",
       "1613  mi débil intento por poner mi cuenta modo hall...   -0.689305\n",
       "315   Como mañana es halloween me dedicare a ver un ...   -0.681694\n",
       "1094  Ya que cancelaron Halloween vengase pa’ mi cas...   -0.591757\n",
       "1656  | Previo a Halloween, reportan 93 nuevos casos...    0.585070\n",
       "824   🔵[#ATLÁNTICO] Alcaldes del Atlántico unifican ...    0.668218\n",
       "592   HALLOWEEN SAMHAIN &lt;I&gt; Víspera de Todos l...    0.735014\n",
       "915   Han cambiado el tono de llamada en Discord por...    0.775819\n",
       "2138  Luis Eduardo Castro advierte que será judicial...    0.872476\n",
       "257   | Espere esta y más información en nuestra emi...    0.881070\n",
       "1236  ¡Ya estamos empezando a contar todos los punto...    0.889350\n",
       "2199  ((🔴)) || Ramon Guevara - Alcalde del Municipio...    0.901292\n",
       "173   Hay sonidos que te transportan a otros mundos:...    0.930720\n",
       "956   REGIONAL: durante la noche del jueves 29 de oc...    0.937730\n",
       "993   Hoy seguimos con RE7 y como se acerca Hallowee...    0.940059\n",
       "51    🎥 Diego Play 🎃 Halloween Live | OCT 2020 | 🔴 T...    0.951380\n",
       "1694                       De comercial de Halloween...    0.952444\n",
       "2217  Un resumen de nuestro día celebrando Halloween...    0.952857\n",
       "389   Si usted no celebra Halloween esta bien Es res...    0.962044\n",
       "192   mañana es Halloween y saben lo que significa a...    0.968026\n",
       "59    EN VIVO | Mitos Populares sobre la Fauna Silve...    0.971488\n",
       "1774  Mañana el Halloween coincide con una luna llen...    0.976070\n",
       "598   Director del ICBF Atlántico hace llamado para ...    0.978493\n",
       "1546  Nuevas restricciones en el marco de las festiv...    0.981310\n",
       "1921  ¡Toque de Queda en Suesca! La Administración M...    0.986151\n",
       "856   Para proteger la vida y mantener estables los ...    0.987104\n",
       "478   ¡Llegó el fin de semana de 👻🎃! No te pierdas e...    0.989036\n",
       "1030  Socialización del decreto 244 del 28 de Octubr...    0.992235\n",
       "1257  30 de octubre del 2020 faltando solo 5 horas p...    0.993111\n",
       "2107  Queremos que nuestros niños y niñas vivan el m...    0.994175\n",
       "195   La preocupación aumenta porque las autoridades...    0.995202\n",
       "1303  | Autoridades de tránsito frustran rodada de H...    0.996929\n",
       "689   Seguimos activas para brindar el mejor servici...    0.997613\n",
       "1869  Halloween Candy que consta de un recorrido lle...    0.998105\n",
       "1654  🎥 El gobierno del municipio de se acogió a la ...    0.998769\n",
       "861   ¡Gran promoción en disfraces! El Cuartico de S...    0.999760\n",
       "1964  ¡Gran promoción en disfraces! El Cuartico de S...    0.999760\n",
       "1433  🏡 | Queremos proponerte algunas alternativas p...    0.999831"
      ]
     },
     "execution_count": 34,
     "metadata": {},
     "output_type": "execute_result"
    }
   ],
   "source": [
    "data[['texto', 'sent_flair']].sort_values('sent_flair')"
   ]
  },
  {
   "cell_type": "markdown",
   "metadata": {
    "slideshow": {
     "slide_type": "slide"
    }
   },
   "source": [
    "### ⏳ Hoy vimos\n",
    "\n",
    "- Análisis de Sentimiento: Etiquetados vs No etiquetados\n",
    "- Límitaciones\n",
    "- Librerias de Python:\n",
    "    - VADER\n",
    "    - TextBlob\n",
    "    - Flair\n",
    " "
   ]
  },
  {
   "cell_type": "markdown",
   "metadata": {
    "slideshow": {
     "slide_type": "slide"
    }
   },
   "source": [
    "### Regresamos de descanso a las 9:15 a.m.\n",
    "\n",
    "<br>\n",
    "<img src='img/adm.jpg'>\n",
    "\n",
    "Soluciones:\n",
    "1. Falta `asmjit.dd`: https://aka.ms/vs/16/release/vc_redist.x64.exe\n",
    "2. Instalar como administrador\n",
    "3. Seguir instrucciones de Pytorch: https://pytorch.org/get-started/locally/\n",
    "4. Google Colab https://colab.research.google.com/notebooks/intro.ipynb#recent=true"
   ]
  },
  {
   "cell_type": "markdown",
   "metadata": {
    "slideshow": {
     "slide_type": "slide"
    }
   },
   "source": [
    "# ¡Tiempo de taller!\n",
    "\n",
    "<center>\n",
    "<img src='img/Taller.gif'>\n",
    "</center>  \n",
    "    \n",
    "**Fecha de entrega:** Noviembre 21, 2020. (Antes del inicio de la próxima clase)\n",
    "    \n",
    "# ¡Último taller del semestre! 🥳\n",
    "    \n",
    "    \n",
    "- 🚧 ✋ 8% Portafolio [Fecha de entrega: Noviembre 28]\n",
    "    - Repositorio con lista de enlaces a los talleres y pequeña descripción (elegante)\n",
    "    - Voy a revisar que todos los talleres estén \n",
    "- 🚧 ✋ 15% Proyecto Final [Fecha de entrega: Noviembre 28]\n",
    "    - Título, pequeña descripción del proyecto y los autores\n",
    "    - Exposición de 5 minutos por grupo\n",
    "        - ¿Cuál es el objetivo?\n",
    "        - ¿Cómo consiguieron los datos?\n",
    "        - Problemas que tuvieron\n",
    "        - Resultados\n",
    "    - Github con código\n",
    "        - Pre-procesamiento del texto\n",
    "        - Modelo de NLP\n",
    "        - Visualización"
   ]
  },
  {
   "cell_type": "markdown",
   "metadata": {
    "slideshow": {
     "slide_type": "slide"
    }
   },
   "source": [
    "<center>\n",
    "    <img src='img/fin.gif'>\n",
    "\n",
    "### Próxima clase: Redes neuronales para predecir texto"
   ]
  }
 ],
 "metadata": {
  "celltoolbar": "Slideshow",
  "kernelspec": {
   "display_name": "Python 3",
   "language": "python",
   "name": "python3"
  },
  "language_info": {
   "codemirror_mode": {
    "name": "ipython",
    "version": 3
   },
   "file_extension": ".py",
   "mimetype": "text/x-python",
   "name": "python",
   "nbconvert_exporter": "python",
   "pygments_lexer": "ipython3",
   "version": "3.7.4"
  }
 },
 "nbformat": 4,
 "nbformat_minor": 2
}
