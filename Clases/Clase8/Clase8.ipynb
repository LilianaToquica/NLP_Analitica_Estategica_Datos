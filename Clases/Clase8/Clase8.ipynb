{
 "cells": [
  {
   "cell_type": "markdown",
   "metadata": {
    "slideshow": {
     "slide_type": "slide"
    }
   },
   "source": [
    "<img src='img/cl5.png'>"
   ]
  },
  {
   "cell_type": "markdown",
   "metadata": {
    "slideshow": {
     "slide_type": "slide"
    }
   },
   "source": [
    "<center><img src='img/spam.png' style='height:200px; float: center; margin: 0px 15px 15px 0px'></center>\n",
    "\n",
    "### ¿Correo basura o no?\n",
    "### Clasificación de Textos (Parte 2)\n",
    "#### NLP - Analítica Estratégica de Datos\n",
    "<br><b>Fundación Universitaria Konrad Lorenz</b>\n",
    "<br>Docente: Viviana Márquez [vivianam.penam@konradlorenz.edu.co](mailto:vivianam.penam@konradlorenz.edu.co)\n",
    "<br>Clase #8 🥳: Octubre 3, 2020"
   ]
  },
  {
   "cell_type": "markdown",
   "metadata": {
    "slideshow": {
     "slide_type": "slide"
    }
   },
   "source": [
    "# Retroalimentación Taller 6\n",
    "\n",
    "# Sobre el proyecto"
   ]
  },
  {
   "cell_type": "markdown",
   "metadata": {
    "slideshow": {
     "slide_type": "slide"
    }
   },
   "source": [
    "### ⌛ En la clase anterior\n",
    "\n",
    "- Repaso de modelos en Machine Learning\n",
    "- Modelos de clasificación \n",
    "- Medidas de rendimiento para modelos de clasificación"
   ]
  },
  {
   "cell_type": "markdown",
   "metadata": {
    "slideshow": {
     "slide_type": "slide"
    }
   },
   "source": [
    "### Flujo de datos en un proyecto de NLP (pipeline)\n",
    "\n",
    "<br><center><img src='img/pipeline4.png'><center>"
   ]
  },
  {
   "cell_type": "markdown",
   "metadata": {
    "slideshow": {
     "slide_type": "slide"
    }
   },
   "source": [
    "### Modelos de clasificación en el contexto de Machine Learning"
   ]
  },
  {
   "cell_type": "markdown",
   "metadata": {
    "slideshow": {
     "slide_type": "fragment"
    }
   },
   "source": [
    "<center><img src='img/img3.png' style='height:600px; float: center; margin: 0px 0px 0px 0px'></center>"
   ]
  },
  {
   "cell_type": "markdown",
   "metadata": {
    "slideshow": {
     "slide_type": "slide"
    }
   },
   "source": [
    "### Modelos de clasificación\n",
    "\n",
    "Se dividen en tres categorías:\n",
    "- Binarios\n",
    "- Multiclase (clasificar más de dos clases)\n",
    "- Multietiqueta (un documento puede tener más de una etiqueta)\n",
    "\n",
    "<br>\n",
    "<center><img src='img/clas2.png' style='height:400px; float: center; margin: 0px 0px 0px 0px'></center>\n"
   ]
  },
  {
   "cell_type": "markdown",
   "metadata": {
    "slideshow": {
     "slide_type": "slide"
    }
   },
   "source": [
    "### Algunas medidas de rendimiento para modelos de clasificación"
   ]
  },
  {
   "cell_type": "markdown",
   "metadata": {
    "slideshow": {
     "slide_type": "fragment"
    }
   },
   "source": [
    "- **Exactitud** $= \\dfrac{\\text{VP+VN}}{\\text{VP}+\\text{VN}+\\text{FP}+\\text{FN}} = \\dfrac{\\text{clasificado correcto}}{\\text{número total de datos}}$"
   ]
  },
  {
   "cell_type": "markdown",
   "metadata": {
    "slideshow": {
     "slide_type": "fragment"
    }
   },
   "source": [
    "- **Sensibilidad** $= \\dfrac{\\text{VP}}{\\text{VP}+\\text{FN}} = \\dfrac{\\text{VP}}{\\text{lo que realmente es positivo}} $ "
   ]
  },
  {
   "cell_type": "markdown",
   "metadata": {
    "slideshow": {
     "slide_type": "fragment"
    }
   },
   "source": [
    "- **Precisión** $= \\dfrac{\\text{VP}}{\\text{VP}+\\text{FP}} = \\dfrac{\\text{VP}}{\\text{lo que fue clasificado positivo}} $"
   ]
  },
  {
   "cell_type": "markdown",
   "metadata": {
    "slideshow": {
     "slide_type": "fragment"
    }
   },
   "source": [
    "- **F1** $= 2 \\cdot \\dfrac{\\text{precisión}\\cdot\\text{sensibilidad}}{\\text{precisión}+\\text{sensibilidad}} $"
   ]
  },
  {
   "cell_type": "markdown",
   "metadata": {
    "slideshow": {
     "slide_type": "slide"
    }
   },
   "source": [
    "<center><img src=\"img/matconf.png\" style='height:800px; float: center; margin: 0px 0px 0px 0px'></center>"
   ]
  },
  {
   "cell_type": "markdown",
   "metadata": {
    "slideshow": {
     "slide_type": "slide"
    }
   },
   "source": [
    "### 🚀 Hoy veremos...\n",
    "\n",
    "- Modelos de clasificación para NLP\n",
    "    - Regresión logística\n",
    "    - Bayesiano ingenuo (Naive Bayes)\n",
    "    - Máquinas de vectores de soporte (SVM)\n",
    " "
   ]
  },
  {
   "cell_type": "markdown",
   "metadata": {
    "slideshow": {
     "slide_type": "slide"
    }
   },
   "source": [
    "### Regresión Logística\n",
    "\n",
    "<br>\n",
    "<center><img src='img/rm.png' style='height:500px; float: center; margin: 0px 0px 0px 0px'></center>"
   ]
  },
  {
   "cell_type": "markdown",
   "metadata": {
    "slideshow": {
     "slide_type": "slide"
    }
   },
   "source": [
    "### Regresión Logística\n",
    "\n",
    "<br>\n",
    "<center><img src='img/rm2.png' style='height:500px; float: center; margin: 0px 0px 0px 0px'></center>"
   ]
  },
  {
   "cell_type": "markdown",
   "metadata": {
    "slideshow": {
     "slide_type": "slide"
    }
   },
   "source": [
    "### Regresión Logística"
   ]
  },
  {
   "cell_type": "markdown",
   "metadata": {
    "slideshow": {
     "slide_type": "fragment"
    }
   },
   "source": [
    "• Es el modelo más famoso de Machine Learning después de la regresión lineal"
   ]
  },
  {
   "cell_type": "markdown",
   "metadata": {
    "slideshow": {
     "slide_type": "fragment"
    }
   },
   "source": [
    "• Mientras que la regresión lineal se usa para predecir/pronosticar valores **continuos**, la regresión logística se usa para clasificar valores **discretos**."
   ]
  },
  {
   "cell_type": "markdown",
   "metadata": {
    "slideshow": {
     "slide_type": "fragment"
    }
   },
   "source": [
    "• Las predicciones están mapeados entre 0 y 1 a través de la función logística, lo que significa que las predicciones pueden ser interpretadas como probabilidades. "
   ]
  },
  {
   "cell_type": "markdown",
   "metadata": {
    "slideshow": {
     "slide_type": "slide"
    }
   },
   "source": [
    "### Regresión Logística"
   ]
  },
  {
   "cell_type": "markdown",
   "metadata": {
    "slideshow": {
     "slide_type": "fragment"
    }
   },
   "source": [
    "**👍 VENTAJAS:** \n",
    "- Los resultados tienen una elegante representación probabilistica\n",
    "- El modelo puede ser regularizado para evitar [sobreajuste](https://es.wikipedia.org/wiki/Sobreajuste) (`overfitting`)"
   ]
  },
  {
   "cell_type": "markdown",
   "metadata": {
    "slideshow": {
     "slide_type": "fragment"
    }
   },
   "source": [
    "**👎 DESVENTAJAS:** \n",
    "- Tiende a tener un rendimiento inferior cuando hay multiples lineas de decisión o estas no son lineales\n",
    "- No es lo suficientemente flexible para capturar relaciones más complejas"
   ]
  },
  {
   "cell_type": "markdown",
   "metadata": {
    "slideshow": {
     "slide_type": "slide"
    }
   },
   "source": [
    "### Máquinas de vectores de soporte (support vector machines - SVM)\n",
    "\n",
    "<br>\n",
    "\n",
    "<center><img src='img/svm1.png' style='height:400px; float: center; margin: 0px 0px 0px 0px'></center>"
   ]
  },
  {
   "cell_type": "markdown",
   "metadata": {
    "slideshow": {
     "slide_type": "slide"
    }
   },
   "source": [
    "### Máquinas de vectores de soporte (support vector machines - SVM)\n",
    "\n",
    "¿Cómo separarían estos datos de 1-dimensión en dos clases?\n",
    "<br>\n",
    "\n",
    "<center><img src='img/svm2.png' style='height:400px; float: center; margin: 0px 0px 0px 0px'></center>"
   ]
  },
  {
   "cell_type": "markdown",
   "metadata": {
    "slideshow": {
     "slide_type": "slide"
    }
   },
   "source": [
    "### Máquinas de vectores de soporte (support vector machines - SVM)\n",
    "\n",
    "¿Cómo separarían estos datos de 2-dimensión en dos clases?\n",
    "<br>\n",
    "\n",
    "<center><img src='img/svm3.png' style='height:400px; float: center; margin: 0px 0px 0px 0px'></center>"
   ]
  },
  {
   "cell_type": "markdown",
   "metadata": {
    "slideshow": {
     "slide_type": "slide"
    }
   },
   "source": [
    "### Máquinas de vectores de soporte (support vector machines - SVM)\n",
    "\n",
    "¿Cómo separarían datos de $n$-dimensión en dos clases?\n",
    "<br>\n",
    "\n",
    "- Un punto/escalar en 1 dimensión\n",
    "\n",
    "- Una línea o una curva en 2 dimensiones\n",
    "\n",
    "- Un ________ en dimensiones más altas."
   ]
  },
  {
   "cell_type": "markdown",
   "metadata": {
    "slideshow": {
     "slide_type": "slide"
    }
   },
   "source": [
    "### Máquinas de vectores de soporte (support vector machines - SVM)\n",
    "\n",
    "¿Cuál es la separación perfecta?\n",
    "\n",
    "<center><img src='img/svm4.png' style='height:400px; float: center; margin: 0px 0px 0px 0px'></center>"
   ]
  },
  {
   "cell_type": "markdown",
   "metadata": {
    "slideshow": {
     "slide_type": "slide"
    }
   },
   "source": [
    "### Máquinas de vectores de soporte (support vector machines - SVM)\n",
    "\n",
    "Las MVS usan un mecanismo llamado kernel (ó núcleo) que esencialmente calcula la distancia entre dos observaciones. Con esto, el modelo encuentra un límite de decisión (hiperplano) óptimo para separar las clases. \n",
    "\n",
    "<center><img src='img/svm5.png' style='height:400px; float: center; margin: 0px 0px 0px 0px'></center>"
   ]
  },
  {
   "cell_type": "markdown",
   "metadata": {
    "slideshow": {
     "slide_type": "slide"
    }
   },
   "source": [
    "### Máquinas de vectores de soporte (support vector machines - SVM)\n",
    "\n",
    "Una MVS con un núcleo lineal es muy similar a la regresión logística, así que por lo general se usa con núcleos no-lineales con datos no-lineales\n",
    "\n",
    "<br>\n",
    "<center><img src='img/svm7.png' style='height:400px;'></center>"
   ]
  },
  {
   "cell_type": "markdown",
   "metadata": {
    "slideshow": {
     "slide_type": "slide"
    }
   },
   "source": [
    "### Máquinas de vectores de soporte (support vector machines - SVM)"
   ]
  },
  {
   "cell_type": "markdown",
   "metadata": {
    "slideshow": {
     "slide_type": "fragment"
    }
   },
   "source": [
    "**👍 VENTAJAS:** \n",
    "- Puede modelar relaciones no lineales\n",
    "- Hay muchos núcleos de dónde escoger\n",
    "- Son buenos evitando sobreajuste"
   ]
  },
  {
   "cell_type": "markdown",
   "metadata": {
    "slideshow": {
     "slide_type": "fragment"
    }
   },
   "source": [
    "**👎 DESVENTAJAS:** \n",
    "- Intensos con la memoria\n",
    "- Difícil de ajustar, difícil de eligir núcleo\n",
    "- No le va bien con grandes conjuntos de datos"
   ]
  },
  {
   "cell_type": "markdown",
   "metadata": {
    "slideshow": {
     "slide_type": "slide"
    }
   },
   "source": [
    "### Clasificador bayesiano ingenuo (Naive Bayes)\n",
    "\n",
    "<br>\n",
    "<center><img src='img/bayes.jpg' style='height:400px; float: center; margin: 0px 0px 0px 0px'></center>\n",
    "\n",
    "- Modelo basado en el teorema de Bayes que explica la probabilidad condicional. El modelo se actualiza a través de tus datos de entrenamiento\n",
    "- Se le llama \"ingenuo\" porque asume independencia condicional (todas los atríbutos son independientes)"
   ]
  },
  {
   "cell_type": "markdown",
   "metadata": {
    "slideshow": {
     "slide_type": "slide"
    }
   },
   "source": [
    "### Clasificador bayesiano ingenuo (Naive Bayes)"
   ]
  },
  {
   "cell_type": "markdown",
   "metadata": {
    "slideshow": {
     "slide_type": "fragment"
    }
   },
   "source": [
    "**👍 VENTAJAS:** \n",
    "- Aunque la suposición de independencia condicional rara vez es cierta, sorprendentemente tiene muy buenos resultados en la práctica\n",
    "- El modelo es fácil de implementar"
   ]
  },
  {
   "cell_type": "markdown",
   "metadata": {
    "slideshow": {
     "slide_type": "fragment"
    }
   },
   "source": [
    "**👎 DESVENTAJAS:** \n",
    "- Debido a su simplicidad, aunque tiene buenos resultados, otros modelos por lo general tienen mejores resultados"
   ]
  },
  {
   "cell_type": "markdown",
   "metadata": {
    "slideshow": {
     "slide_type": "slide"
    }
   },
   "source": [
    "### ⏳ Recapitulando\n",
    "\n",
    "- Vimos tres modelos de clasificación, pero existen muchos más\n",
    "    - Regresión logística\n",
    "    - Bayesiano ingenuo (Naive Bayes)\n",
    "    - Máquinas de vectores de soporte (SVM)\n",
    " "
   ]
  },
  {
   "cell_type": "markdown",
   "metadata": {
    "slideshow": {
     "slide_type": "slide"
    }
   },
   "source": [
    "### Modelos de clasificación\n",
    "\n",
    "Pasos para un modelo de clasificación:\n",
    "\n",
    "1. Adquirir datos **etiquetados**\n",
    "2. Dividir el conjunto de datos en dos:\n",
    "    - Entrenamiento (`training`) y prueba (`test`)\n",
    "3. Feature Engineering (Pre-procesamiento, TF-IDF, etc...)\n",
    "4. **Entrenar el modelo** 🚀 \n",
    "5. Obtener medidas de rendimiento en el conjunto de datos de prueba y mejorar modelo\n",
    "6. Poner en producción"
   ]
  },
  {
   "cell_type": "markdown",
   "metadata": {
    "slideshow": {
     "slide_type": "slide"
    }
   },
   "source": [
    "#### 1. Adquirir datos etiquetados"
   ]
  },
  {
   "cell_type": "code",
   "execution_count": 1,
   "metadata": {
    "slideshow": {
     "slide_type": "fragment"
    }
   },
   "outputs": [
    {
     "data": {
      "text/html": [
       "<div>\n",
       "<style scoped>\n",
       "    .dataframe tbody tr th:only-of-type {\n",
       "        vertical-align: middle;\n",
       "    }\n",
       "\n",
       "    .dataframe tbody tr th {\n",
       "        vertical-align: top;\n",
       "    }\n",
       "\n",
       "    .dataframe thead th {\n",
       "        text-align: right;\n",
       "    }\n",
       "</style>\n",
       "<table border=\"1\" class=\"dataframe\">\n",
       "  <thead>\n",
       "    <tr style=\"text-align: right;\">\n",
       "      <th></th>\n",
       "      <th>mensaje</th>\n",
       "      <th>etiqueta</th>\n",
       "    </tr>\n",
       "  </thead>\n",
       "  <tbody>\n",
       "    <tr>\n",
       "      <th>0</th>\n",
       "      <td>¡3 TEXTOS DEL TAROT GRATIS! ¡Descubre ahora tu...</td>\n",
       "      <td>basura</td>\n",
       "    </tr>\n",
       "    <tr>\n",
       "      <th>1</th>\n",
       "      <td>¡No 1 tono POLIFÓNICO 4 ur mob cada semana! Si...</td>\n",
       "      <td>basura</td>\n",
       "    </tr>\n",
       "    <tr>\n",
       "      <th>2</th>\n",
       "      <td>Bienvenido a Select, un servicio O2 con benefi...</td>\n",
       "      <td>basura</td>\n",
       "    </tr>\n",
       "    <tr>\n",
       "      <th>3</th>\n",
       "      <td>Última oportunidad 2 reclame su valor de £ 150...</td>\n",
       "      <td>basura</td>\n",
       "    </tr>\n",
       "    <tr>\n",
       "      <th>4</th>\n",
       "      <td>Dorothy@kiefer.com (Bank of Granite emite Stro...</td>\n",
       "      <td>basura</td>\n",
       "    </tr>\n",
       "  </tbody>\n",
       "</table>\n",
       "</div>"
      ],
      "text/plain": [
       "                                             mensaje etiqueta\n",
       "0  ¡3 TEXTOS DEL TAROT GRATIS! ¡Descubre ahora tu...   basura\n",
       "1  ¡No 1 tono POLIFÓNICO 4 ur mob cada semana! Si...   basura\n",
       "2  Bienvenido a Select, un servicio O2 con benefi...   basura\n",
       "3  Última oportunidad 2 reclame su valor de £ 150...   basura\n",
       "4  Dorothy@kiefer.com (Bank of Granite emite Stro...   basura"
      ]
     },
     "execution_count": 1,
     "metadata": {},
     "output_type": "execute_result"
    }
   ],
   "source": [
    "import pandas as pd\n",
    "\n",
    "data = pd.read_csv(\"archivos/basura.csv\")\n",
    "data.head()"
   ]
  },
  {
   "cell_type": "markdown",
   "metadata": {
    "slideshow": {
     "slide_type": "slide"
    }
   },
   "source": [
    "#### 2. Dividir el conjunto de datos en dos:\n",
    "Entrenamiento (`training`) y prueba (`test`)"
   ]
  },
  {
   "cell_type": "markdown",
   "metadata": {
    "slideshow": {
     "slide_type": "fragment"
    }
   },
   "source": [
    "- Antes de este paso, es buena práctica revisar que los datos estén balanceados"
   ]
  },
  {
   "cell_type": "code",
   "execution_count": 2,
   "metadata": {
    "slideshow": {
     "slide_type": "fragment"
    }
   },
   "outputs": [
    {
     "data": {
      "text/plain": [
       "basura      0.550069\n",
       "legítimo    0.449931\n",
       "Name: etiqueta, dtype: float64"
      ]
     },
     "execution_count": 2,
     "metadata": {},
     "output_type": "execute_result"
    }
   ],
   "source": [
    "data.etiqueta.value_counts(normalize=True)"
   ]
  },
  {
   "cell_type": "markdown",
   "metadata": {
    "slideshow": {
     "slide_type": "fragment"
    }
   },
   "source": [
    "Estrategias para equilibrar el conjunto de datos:\n",
    "- Remuestreo: submuestreo y sobremuestreo\n",
    "- Ensamblar diferentes conjuntos de datos remuestreados\n",
    "- Agrupar la clase abundante"
   ]
  },
  {
   "cell_type": "markdown",
   "metadata": {
    "slideshow": {
     "slide_type": "slide"
    }
   },
   "source": [
    "#### 2. Dividir el conjunto de datos en dos:\n",
    "Entrenamiento (`training`) y prueba (`test`). Usualmente 80% training y 20% test."
   ]
  },
  {
   "cell_type": "code",
   "execution_count": 3,
   "metadata": {
    "slideshow": {
     "slide_type": "fragment"
    }
   },
   "outputs": [
    {
     "name": "stdout",
     "output_type": "stream",
     "text": [
      "El cojunto de datos de entrenamiento tiene 583 registros\n",
      "El cojunto de datos de prueba tiene 146 registros\n"
     ]
    }
   ],
   "source": [
    "from sklearn.model_selection import train_test_split\n",
    "\n",
    "train, test = train_test_split(data, test_size=0.2, random_state=42)\n",
    "\n",
    "print(f\"El cojunto de datos de entrenamiento tiene {train.shape[0]} registros\")\n",
    "print(f\"El cojunto de datos de prueba tiene {test.shape[0]} registros\")"
   ]
  },
  {
   "cell_type": "markdown",
   "metadata": {
    "slideshow": {
     "slide_type": "slide"
    }
   },
   "source": [
    "#### 3. Feature Engineering (Pre-procesamiento, TF-IDF, etc...)"
   ]
  },
  {
   "cell_type": "code",
   "execution_count": 4,
   "metadata": {
    "slideshow": {
     "slide_type": "fragment"
    }
   },
   "outputs": [],
   "source": [
    "import re\n",
    "from nltk.corpus import stopwords\n",
    "from sklearn.feature_extraction.text import TfidfVectorizer\n",
    "stopwords_sp = stopwords.words('spanish')\n",
    "\n",
    "def pre_procesado(texto):\n",
    "    texto = texto.lower()\n",
    "    texto = re.sub(r\"[\\W\\d_]+\", \" \", texto)\n",
    "    texto = \" \".join([palabra for palabra in texto.split() if palabra not in stopwords_sp])\n",
    "    return texto\n",
    "\n",
    "tfidf_vect = TfidfVectorizer(preprocessor=pre_procesado)"
   ]
  },
  {
   "cell_type": "code",
   "execution_count": 5,
   "metadata": {
    "slideshow": {
     "slide_type": "fragment"
    }
   },
   "outputs": [],
   "source": [
    "X_train = tfidf_vect.fit_transform(train.mensaje.values)\n",
    "y_train = train.etiqueta.values\n",
    "\n",
    "X_test = tfidf_vect.transform(test.mensaje.values)\n",
    "y_test = test.etiqueta.values"
   ]
  },
  {
   "cell_type": "markdown",
   "metadata": {
    "slideshow": {
     "slide_type": "slide"
    }
   },
   "source": [
    "#### 4. Entrenar el modelo"
   ]
  },
  {
   "cell_type": "code",
   "execution_count": 77,
   "metadata": {
    "slideshow": {
     "slide_type": "fragment"
    }
   },
   "outputs": [],
   "source": [
    "from sklearn.naive_bayes import MultinomialNB\n",
    "from sklearn.linear_model import LogisticRegression\n",
    "from sklearn.svm import LinearSVC"
   ]
  },
  {
   "cell_type": "code",
   "execution_count": 78,
   "metadata": {
    "slideshow": {
     "slide_type": "fragment"
    }
   },
   "outputs": [],
   "source": [
    "# Inicializamos los clasificadores\n",
    "nb = MultinomialNB()\n",
    "logreg = LogisticRegression(class_weight=\"balanced\")\n",
    "svm = LinearSVC(class_weight='balanced')"
   ]
  },
  {
   "cell_type": "code",
   "execution_count": 79,
   "metadata": {
    "slideshow": {
     "slide_type": "fragment"
    }
   },
   "outputs": [],
   "source": [
    "# Entrenamos los modelos\n",
    "nb.fit(X_train, y_train)\n",
    "logreg.fit(X_train, y_train)\n",
    "svm.fit(X_train, y_train);"
   ]
  },
  {
   "cell_type": "markdown",
   "metadata": {
    "slideshow": {
     "slide_type": "slide"
    }
   },
   "source": [
    "#### 5. Obtener medidas de rendimiento en el conjunto de datos de prueba y mejorar modelo"
   ]
  },
  {
   "cell_type": "code",
   "execution_count": 80,
   "metadata": {
    "slideshow": {
     "slide_type": "fragment"
    }
   },
   "outputs": [],
   "source": [
    "# Hacemos las predicciones para los datos de prueba (test)\n",
    "y_pred_nb = nb.predict(X_test)\n",
    "y_pred_logreg = logreg.predict(X_test)\n",
    "y_pred_svm = svm.predict(X_test)"
   ]
  },
  {
   "cell_type": "code",
   "execution_count": 81,
   "metadata": {
    "slideshow": {
     "slide_type": "fragment"
    }
   },
   "outputs": [],
   "source": [
    "from sklearn.metrics import accuracy_score, f1_score\n",
    "from sklearn.metrics import precision_score, recall_score\n",
    "from sklearn.metrics import confusion_matrix, classification_report\n",
    "\n",
    "import matplotlib.pyplot as plt\n",
    "from sklearn.metrics import plot_confusion_matrix"
   ]
  },
  {
   "cell_type": "markdown",
   "metadata": {
    "slideshow": {
     "slide_type": "slide"
    }
   },
   "source": [
    "#### Exactitud "
   ]
  },
  {
   "cell_type": "code",
   "execution_count": 82,
   "metadata": {
    "slideshow": {
     "slide_type": "fragment"
    }
   },
   "outputs": [
    {
     "name": "stdout",
     "output_type": "stream",
     "text": [
      "Naive Bayes:            0.91\n",
      "Regresión Logística:    0.97\n",
      "SVM:                    0.97\n"
     ]
    }
   ],
   "source": [
    "print(f\"Naive Bayes: {accuracy_score(y_test, y_pred_nb):>15.2f}\")\n",
    "print(f\"Regresión Logística: {accuracy_score(y_test, y_pred_logreg):>7.2f}\")\n",
    "print(f\"SVM: {accuracy_score(y_test, y_pred_svm):>23.2f}\")"
   ]
  },
  {
   "cell_type": "markdown",
   "metadata": {
    "slideshow": {
     "slide_type": "slide"
    }
   },
   "source": [
    "#### Otras métricas"
   ]
  },
  {
   "cell_type": "code",
   "execution_count": 83,
   "metadata": {
    "slideshow": {
     "slide_type": "fragment"
    }
   },
   "outputs": [
    {
     "name": "stdout",
     "output_type": "stream",
     "text": [
      "precision_score\n",
      "Naive Bayes:            0.88\n",
      "Regresión Logística:    0.98\n",
      "SVM:                    0.99\n",
      "\n",
      "recall_score\n",
      "Naive Bayes:            0.99\n",
      "Regresión Logística:    0.98\n",
      "SVM:                    0.97\n",
      "\n",
      "f1_score\n",
      "Naive Bayes:            0.93\n",
      "Regresión Logística:    0.98\n",
      "SVM:                    0.98\n",
      "\n"
     ]
    }
   ],
   "source": [
    "metricas = [precision_score, recall_score, f1_score]\n",
    "\n",
    "for metrica in metricas:\n",
    "    print(metrica.__name__)\n",
    "    print(f\"Naive Bayes: {metrica(y_test, y_pred_nb, pos_label='basura'):>15.2f}\")\n",
    "    print(f\"Regresión Logística: {metrica(y_test, y_pred_logreg, pos_label='basura'):>7.2f}\")\n",
    "    print(f\"SVM: {metrica(y_test, y_pred_svm, pos_label='basura'):>23.2f}\")\n",
    "    print()"
   ]
  },
  {
   "cell_type": "code",
   "execution_count": 84,
   "metadata": {
    "slideshow": {
     "slide_type": "notes"
    }
   },
   "outputs": [
    {
     "name": "stdout",
     "output_type": "stream",
     "text": [
      "Naive Bayes\n",
      "              precision    recall  f1-score   support\n",
      "\n",
      "      basura       0.88      0.99      0.93        86\n",
      "    legítimo       0.98      0.80      0.88        60\n",
      "\n",
      "    accuracy                           0.91       146\n",
      "   macro avg       0.93      0.89      0.90       146\n",
      "weighted avg       0.92      0.91      0.91       146\n",
      "\n",
      "\n",
      "Regresión Logística\n",
      "              precision    recall  f1-score   support\n",
      "\n",
      "      basura       0.98      0.98      0.98        86\n",
      "    legítimo       0.97      0.97      0.97        60\n",
      "\n",
      "    accuracy                           0.97       146\n",
      "   macro avg       0.97      0.97      0.97       146\n",
      "weighted avg       0.97      0.97      0.97       146\n",
      "\n",
      "\n",
      "SVM\n",
      "              precision    recall  f1-score   support\n",
      "\n",
      "      basura       0.99      0.97      0.98        86\n",
      "    legítimo       0.95      0.98      0.97        60\n",
      "\n",
      "    accuracy                           0.97       146\n",
      "   macro avg       0.97      0.97      0.97       146\n",
      "weighted avg       0.97      0.97      0.97       146\n",
      "\n"
     ]
    }
   ],
   "source": [
    "print(\"Naive Bayes\")\n",
    "print(classification_report(y_test, y_pred_nb))\n",
    "print()\n",
    "print(\"Regresión Logística\")\n",
    "print(classification_report(y_test, y_pred_logreg))\n",
    "print()\n",
    "print(\"SVM\")\n",
    "print(classification_report(y_test, y_pred_svm))"
   ]
  },
  {
   "cell_type": "code",
   "execution_count": 85,
   "metadata": {
    "slideshow": {
     "slide_type": "notes"
    }
   },
   "outputs": [
    {
     "name": "stdout",
     "output_type": "stream",
     "text": [
      "Naive Bayes\n",
      "[[85  1]\n",
      " [12 48]]\n",
      "\n",
      "Regresión Logística\n",
      "[[84  2]\n",
      " [ 2 58]]\n",
      "\n",
      "SVM\n",
      "[[83  3]\n",
      " [ 1 59]]\n"
     ]
    }
   ],
   "source": [
    "print(\"Naive Bayes\")\n",
    "print(confusion_matrix(y_test, y_pred_nb))\n",
    "print()\n",
    "print(\"Regresión Logística\")\n",
    "print(confusion_matrix(y_test, y_pred_logreg))\n",
    "print()\n",
    "print(\"SVM\")\n",
    "print(confusion_matrix(y_test, y_pred_svm))"
   ]
  },
  {
   "cell_type": "code",
   "execution_count": 86,
   "metadata": {
    "slideshow": {
     "slide_type": "slide"
    }
   },
   "outputs": [
    {
     "data": {
      "image/svg+xml": [
       "<?xml version=\"1.0\" encoding=\"utf-8\" standalone=\"no\"?>\n",
       "<!DOCTYPE svg PUBLIC \"-//W3C//DTD SVG 1.1//EN\"\n",
       "  \"http://www.w3.org/Graphics/SVG/1.1/DTD/svg11.dtd\">\n",
       "<!-- Created with matplotlib (https://matplotlib.org/) -->\n",
       "<svg height=\"257.695551pt\" version=\"1.1\" viewBox=\"0 0 863.458456 257.695551\" width=\"863.458456pt\" xmlns=\"http://www.w3.org/2000/svg\" xmlns:xlink=\"http://www.w3.org/1999/xlink\">\n",
       " <metadata>\n",
       "  <rdf:RDF xmlns:cc=\"http://creativecommons.org/ns#\" xmlns:dc=\"http://purl.org/dc/elements/1.1/\" xmlns:rdf=\"http://www.w3.org/1999/02/22-rdf-syntax-ns#\">\n",
       "   <cc:Work>\n",
       "    <dc:type rdf:resource=\"http://purl.org/dc/dcmitype/StillImage\"/>\n",
       "    <dc:date>2020-10-03T02:08:42.872005</dc:date>\n",
       "    <dc:format>image/svg+xml</dc:format>\n",
       "    <dc:creator>\n",
       "     <cc:Agent>\n",
       "      <dc:title>Matplotlib v3.3.1, https://matplotlib.org/</dc:title>\n",
       "     </cc:Agent>\n",
       "    </dc:creator>\n",
       "   </cc:Work>\n",
       "  </rdf:RDF>\n",
       " </metadata>\n",
       " <defs>\n",
       "  <style type=\"text/css\">*{stroke-linecap:butt;stroke-linejoin:round;}</style>\n",
       " </defs>\n",
       " <g id=\"figure_1\">\n",
       "  <g id=\"patch_1\">\n",
       "   <path d=\"M 0 257.695551 \n",
       "L 863.458456 257.695551 \n",
       "L 863.458456 0 \n",
       "L 0 0 \n",
       "z\n",
       "\" style=\"fill:none;\"/>\n",
       "  </g>\n",
       "  <g id=\"axes_1\">\n",
       "   <g id=\"patch_2\">\n",
       "    <path d=\"M 68.49375 219.739301 \n",
       "L 265.434926 219.739301 \n",
       "L 265.434926 22.798125 \n",
       "L 68.49375 22.798125 \n",
       "z\n",
       "\" style=\"fill:#ffffff;\"/>\n",
       "   </g>\n",
       "   <g clip-path=\"url(#p6d3149b94b)\">\n",
       "    <image height=\"197\" id=\"image0f457db4f3\" transform=\"scale(1 -1)translate(0 -197)\" width=\"197\" x=\"68.49375\" xlink:href=\"data:image/png;base64,\n",
       "iVBORw0KGgoAAAANSUhEUgAAAMUAAADFCAYAAADkODbwAAACGElEQVR4nO3VMRXCQABEwQsVcvCFA3RECyZigAYDNHS0SZPqGziKGQXb/LfL+/PbB9M9nq/ZEzhdZg+AfyMKCFFAiAJCFBCigBAFhCggRAEhCghRQIgCQhQQooAQBYQoIEQBIQoIUUCIAkIUEKKAEAWEKCBEASEKCFFAiAJCFBCigBAFhCggRAEhCghRQIgCQhQQooAQBYQoIEQBIQoIUUCIAkIUEKKAEAWEKCBEASEKCFFAiAJCFBCigBAFhCggRAEhCghRQIgCQhQQooAQBYQoIEQBIQoIUUCIAkIUEKKAEAWEKCBEASEKCFFAiAJCFBCigBAFhCggRAEhCghRQIgCQhQQooAQBYQoIEQBIQoIUUCIAkIUEKKAEAWEKCBEASEKiOV6u++zRzDGd1tnT+DkKSBEASEKCFFAiAJCFBCigBAFhCggRAEhCghRQIgCQhQQooAQBYQoIEQBIQoIUUCIAkIUEKKAEAWEKCBEASEKCFFAiAJCFBCigBAFhCggRAEhCghRQIgCQhQQooAQBYQoIEQBIQoIUUCIAkIUEKKAEAWEKCBEASEKCFFAiAJCFBCigBAFhCggRAEhCghRQIgCQhQQooAQBYQoIEQBIQoIUUCIAkIUEKKAEAWEKCBEASEKCFFAiAJCFBCigBAFhCggRAEhCghRQIgCQhQQooAQBYQoIEQBIQoIUUCIAkIUEKKAEAWEKCAOzb0LPSWDdwsAAAAASUVORK5CYII=\" y=\"-22.739301\"/>\n",
       "   </g>\n",
       "   <g id=\"matplotlib.axis_1\">\n",
       "    <g id=\"xtick_1\">\n",
       "     <g id=\"line2d_1\">\n",
       "      <defs>\n",
       "       <path d=\"M 0 0 \n",
       "L 0 3.5 \n",
       "\" id=\"m70d9aec622\" style=\"stroke:#000000;stroke-width:0.8;\"/>\n",
       "      </defs>\n",
       "      <g>\n",
       "       <use style=\"stroke:#000000;stroke-width:0.8;\" x=\"117.729044\" xlink:href=\"#m70d9aec622\" y=\"219.739301\"/>\n",
       "      </g>\n",
       "     </g>\n",
       "     <g id=\"text_1\">\n",
       "      <!-- basura -->\n",
       "      <g transform=\"translate(100.597794 234.337739)scale(0.1 -0.1)\">\n",
       "       <defs>\n",
       "        <path d=\"M 48.6875 27.296875 \n",
       "Q 48.6875 37.203125 44.609375 42.84375 \n",
       "Q 40.53125 48.484375 33.40625 48.484375 \n",
       "Q 26.265625 48.484375 22.1875 42.84375 \n",
       "Q 18.109375 37.203125 18.109375 27.296875 \n",
       "Q 18.109375 17.390625 22.1875 11.75 \n",
       "Q 26.265625 6.109375 33.40625 6.109375 \n",
       "Q 40.53125 6.109375 44.609375 11.75 \n",
       "Q 48.6875 17.390625 48.6875 27.296875 \n",
       "z\n",
       "M 18.109375 46.390625 \n",
       "Q 20.953125 51.265625 25.265625 53.625 \n",
       "Q 29.59375 56 35.59375 56 \n",
       "Q 45.5625 56 51.78125 48.09375 \n",
       "Q 58.015625 40.1875 58.015625 27.296875 \n",
       "Q 58.015625 14.40625 51.78125 6.484375 \n",
       "Q 45.5625 -1.421875 35.59375 -1.421875 \n",
       "Q 29.59375 -1.421875 25.265625 0.953125 \n",
       "Q 20.953125 3.328125 18.109375 8.203125 \n",
       "L 18.109375 0 \n",
       "L 9.078125 0 \n",
       "L 9.078125 75.984375 \n",
       "L 18.109375 75.984375 \n",
       "z\n",
       "\" id=\"DejaVuSans-98\"/>\n",
       "        <path d=\"M 34.28125 27.484375 \n",
       "Q 23.390625 27.484375 19.1875 25 \n",
       "Q 14.984375 22.515625 14.984375 16.5 \n",
       "Q 14.984375 11.71875 18.140625 8.90625 \n",
       "Q 21.296875 6.109375 26.703125 6.109375 \n",
       "Q 34.1875 6.109375 38.703125 11.40625 \n",
       "Q 43.21875 16.703125 43.21875 25.484375 \n",
       "L 43.21875 27.484375 \n",
       "z\n",
       "M 52.203125 31.203125 \n",
       "L 52.203125 0 \n",
       "L 43.21875 0 \n",
       "L 43.21875 8.296875 \n",
       "Q 40.140625 3.328125 35.546875 0.953125 \n",
       "Q 30.953125 -1.421875 24.3125 -1.421875 \n",
       "Q 15.921875 -1.421875 10.953125 3.296875 \n",
       "Q 6 8.015625 6 15.921875 \n",
       "Q 6 25.140625 12.171875 29.828125 \n",
       "Q 18.359375 34.515625 30.609375 34.515625 \n",
       "L 43.21875 34.515625 \n",
       "L 43.21875 35.40625 \n",
       "Q 43.21875 41.609375 39.140625 45 \n",
       "Q 35.0625 48.390625 27.6875 48.390625 \n",
       "Q 23 48.390625 18.546875 47.265625 \n",
       "Q 14.109375 46.140625 10.015625 43.890625 \n",
       "L 10.015625 52.203125 \n",
       "Q 14.9375 54.109375 19.578125 55.046875 \n",
       "Q 24.21875 56 28.609375 56 \n",
       "Q 40.484375 56 46.34375 49.84375 \n",
       "Q 52.203125 43.703125 52.203125 31.203125 \n",
       "z\n",
       "\" id=\"DejaVuSans-97\"/>\n",
       "        <path d=\"M 44.28125 53.078125 \n",
       "L 44.28125 44.578125 \n",
       "Q 40.484375 46.53125 36.375 47.5 \n",
       "Q 32.28125 48.484375 27.875 48.484375 \n",
       "Q 21.1875 48.484375 17.84375 46.4375 \n",
       "Q 14.5 44.390625 14.5 40.28125 \n",
       "Q 14.5 37.15625 16.890625 35.375 \n",
       "Q 19.28125 33.59375 26.515625 31.984375 \n",
       "L 29.59375 31.296875 \n",
       "Q 39.15625 29.25 43.1875 25.515625 \n",
       "Q 47.21875 21.78125 47.21875 15.09375 \n",
       "Q 47.21875 7.46875 41.1875 3.015625 \n",
       "Q 35.15625 -1.421875 24.609375 -1.421875 \n",
       "Q 20.21875 -1.421875 15.453125 -0.5625 \n",
       "Q 10.6875 0.296875 5.421875 2 \n",
       "L 5.421875 11.28125 \n",
       "Q 10.40625 8.6875 15.234375 7.390625 \n",
       "Q 20.0625 6.109375 24.8125 6.109375 \n",
       "Q 31.15625 6.109375 34.5625 8.28125 \n",
       "Q 37.984375 10.453125 37.984375 14.40625 \n",
       "Q 37.984375 18.0625 35.515625 20.015625 \n",
       "Q 33.0625 21.96875 24.703125 23.78125 \n",
       "L 21.578125 24.515625 \n",
       "Q 13.234375 26.265625 9.515625 29.90625 \n",
       "Q 5.8125 33.546875 5.8125 39.890625 \n",
       "Q 5.8125 47.609375 11.28125 51.796875 \n",
       "Q 16.75 56 26.8125 56 \n",
       "Q 31.78125 56 36.171875 55.265625 \n",
       "Q 40.578125 54.546875 44.28125 53.078125 \n",
       "z\n",
       "\" id=\"DejaVuSans-115\"/>\n",
       "        <path d=\"M 8.5 21.578125 \n",
       "L 8.5 54.6875 \n",
       "L 17.484375 54.6875 \n",
       "L 17.484375 21.921875 \n",
       "Q 17.484375 14.15625 20.5 10.265625 \n",
       "Q 23.53125 6.390625 29.59375 6.390625 \n",
       "Q 36.859375 6.390625 41.078125 11.03125 \n",
       "Q 45.3125 15.671875 45.3125 23.6875 \n",
       "L 45.3125 54.6875 \n",
       "L 54.296875 54.6875 \n",
       "L 54.296875 0 \n",
       "L 45.3125 0 \n",
       "L 45.3125 8.40625 \n",
       "Q 42.046875 3.421875 37.71875 1 \n",
       "Q 33.40625 -1.421875 27.6875 -1.421875 \n",
       "Q 18.265625 -1.421875 13.375 4.4375 \n",
       "Q 8.5 10.296875 8.5 21.578125 \n",
       "z\n",
       "M 31.109375 56 \n",
       "z\n",
       "\" id=\"DejaVuSans-117\"/>\n",
       "        <path d=\"M 41.109375 46.296875 \n",
       "Q 39.59375 47.171875 37.8125 47.578125 \n",
       "Q 36.03125 48 33.890625 48 \n",
       "Q 26.265625 48 22.1875 43.046875 \n",
       "Q 18.109375 38.09375 18.109375 28.8125 \n",
       "L 18.109375 0 \n",
       "L 9.078125 0 \n",
       "L 9.078125 54.6875 \n",
       "L 18.109375 54.6875 \n",
       "L 18.109375 46.1875 \n",
       "Q 20.953125 51.171875 25.484375 53.578125 \n",
       "Q 30.03125 56 36.53125 56 \n",
       "Q 37.453125 56 38.578125 55.875 \n",
       "Q 39.703125 55.765625 41.0625 55.515625 \n",
       "z\n",
       "\" id=\"DejaVuSans-114\"/>\n",
       "       </defs>\n",
       "       <use xlink:href=\"#DejaVuSans-98\"/>\n",
       "       <use x=\"63.476562\" xlink:href=\"#DejaVuSans-97\"/>\n",
       "       <use x=\"124.755859\" xlink:href=\"#DejaVuSans-115\"/>\n",
       "       <use x=\"176.855469\" xlink:href=\"#DejaVuSans-117\"/>\n",
       "       <use x=\"240.234375\" xlink:href=\"#DejaVuSans-114\"/>\n",
       "       <use x=\"281.347656\" xlink:href=\"#DejaVuSans-97\"/>\n",
       "      </g>\n",
       "     </g>\n",
       "    </g>\n",
       "    <g id=\"xtick_2\">\n",
       "     <g id=\"line2d_2\">\n",
       "      <g>\n",
       "       <use style=\"stroke:#000000;stroke-width:0.8;\" x=\"216.199632\" xlink:href=\"#m70d9aec622\" y=\"219.739301\"/>\n",
       "      </g>\n",
       "     </g>\n",
       "     <g id=\"text_2\">\n",
       "      <!-- legítimo -->\n",
       "      <g transform=\"translate(195.89182 234.737739)scale(0.1 -0.1)\">\n",
       "       <defs>\n",
       "        <path d=\"M 9.421875 75.984375 \n",
       "L 18.40625 75.984375 \n",
       "L 18.40625 0 \n",
       "L 9.421875 0 \n",
       "z\n",
       "\" id=\"DejaVuSans-108\"/>\n",
       "        <path d=\"M 56.203125 29.59375 \n",
       "L 56.203125 25.203125 \n",
       "L 14.890625 25.203125 \n",
       "Q 15.484375 15.921875 20.484375 11.0625 \n",
       "Q 25.484375 6.203125 34.421875 6.203125 \n",
       "Q 39.59375 6.203125 44.453125 7.46875 \n",
       "Q 49.3125 8.734375 54.109375 11.28125 \n",
       "L 54.109375 2.78125 \n",
       "Q 49.265625 0.734375 44.1875 -0.34375 \n",
       "Q 39.109375 -1.421875 33.890625 -1.421875 \n",
       "Q 20.796875 -1.421875 13.15625 6.1875 \n",
       "Q 5.515625 13.8125 5.515625 26.8125 \n",
       "Q 5.515625 40.234375 12.765625 48.109375 \n",
       "Q 20.015625 56 32.328125 56 \n",
       "Q 43.359375 56 49.78125 48.890625 \n",
       "Q 56.203125 41.796875 56.203125 29.59375 \n",
       "z\n",
       "M 47.21875 32.234375 \n",
       "Q 47.125 39.59375 43.09375 43.984375 \n",
       "Q 39.0625 48.390625 32.421875 48.390625 \n",
       "Q 24.90625 48.390625 20.390625 44.140625 \n",
       "Q 15.875 39.890625 15.1875 32.171875 \n",
       "z\n",
       "\" id=\"DejaVuSans-101\"/>\n",
       "        <path d=\"M 45.40625 27.984375 \n",
       "Q 45.40625 37.75 41.375 43.109375 \n",
       "Q 37.359375 48.484375 30.078125 48.484375 \n",
       "Q 22.859375 48.484375 18.828125 43.109375 \n",
       "Q 14.796875 37.75 14.796875 27.984375 \n",
       "Q 14.796875 18.265625 18.828125 12.890625 \n",
       "Q 22.859375 7.515625 30.078125 7.515625 \n",
       "Q 37.359375 7.515625 41.375 12.890625 \n",
       "Q 45.40625 18.265625 45.40625 27.984375 \n",
       "z\n",
       "M 54.390625 6.78125 \n",
       "Q 54.390625 -7.171875 48.1875 -13.984375 \n",
       "Q 42 -20.796875 29.203125 -20.796875 \n",
       "Q 24.46875 -20.796875 20.265625 -20.09375 \n",
       "Q 16.0625 -19.390625 12.109375 -17.921875 \n",
       "L 12.109375 -9.1875 \n",
       "Q 16.0625 -11.328125 19.921875 -12.34375 \n",
       "Q 23.78125 -13.375 27.78125 -13.375 \n",
       "Q 36.625 -13.375 41.015625 -8.765625 \n",
       "Q 45.40625 -4.15625 45.40625 5.171875 \n",
       "L 45.40625 9.625 \n",
       "Q 42.625 4.78125 38.28125 2.390625 \n",
       "Q 33.9375 0 27.875 0 \n",
       "Q 17.828125 0 11.671875 7.65625 \n",
       "Q 5.515625 15.328125 5.515625 27.984375 \n",
       "Q 5.515625 40.671875 11.671875 48.328125 \n",
       "Q 17.828125 56 27.875 56 \n",
       "Q 33.9375 56 38.28125 53.609375 \n",
       "Q 42.625 51.21875 45.40625 46.390625 \n",
       "L 45.40625 54.6875 \n",
       "L 54.390625 54.6875 \n",
       "z\n",
       "\" id=\"DejaVuSans-103\"/>\n",
       "        <path d=\"M 20.703125 79.984375 \n",
       "L 30.421875 79.984375 \n",
       "L 14.5 61.625 \n",
       "L 7.03125 61.625 \n",
       "z\n",
       "M 9.421875 54.6875 \n",
       "L 18.40625 54.6875 \n",
       "L 18.40625 0 \n",
       "L 9.421875 0 \n",
       "z\n",
       "M 13.921875 56 \n",
       "z\n",
       "\" id=\"DejaVuSans-237\"/>\n",
       "        <path d=\"M 18.3125 70.21875 \n",
       "L 18.3125 54.6875 \n",
       "L 36.8125 54.6875 \n",
       "L 36.8125 47.703125 \n",
       "L 18.3125 47.703125 \n",
       "L 18.3125 18.015625 \n",
       "Q 18.3125 11.328125 20.140625 9.421875 \n",
       "Q 21.96875 7.515625 27.59375 7.515625 \n",
       "L 36.8125 7.515625 \n",
       "L 36.8125 0 \n",
       "L 27.59375 0 \n",
       "Q 17.1875 0 13.234375 3.875 \n",
       "Q 9.28125 7.765625 9.28125 18.015625 \n",
       "L 9.28125 47.703125 \n",
       "L 2.6875 47.703125 \n",
       "L 2.6875 54.6875 \n",
       "L 9.28125 54.6875 \n",
       "L 9.28125 70.21875 \n",
       "z\n",
       "\" id=\"DejaVuSans-116\"/>\n",
       "        <path d=\"M 9.421875 54.6875 \n",
       "L 18.40625 54.6875 \n",
       "L 18.40625 0 \n",
       "L 9.421875 0 \n",
       "z\n",
       "M 9.421875 75.984375 \n",
       "L 18.40625 75.984375 \n",
       "L 18.40625 64.59375 \n",
       "L 9.421875 64.59375 \n",
       "z\n",
       "\" id=\"DejaVuSans-105\"/>\n",
       "        <path d=\"M 52 44.1875 \n",
       "Q 55.375 50.25 60.0625 53.125 \n",
       "Q 64.75 56 71.09375 56 \n",
       "Q 79.640625 56 84.28125 50.015625 \n",
       "Q 88.921875 44.046875 88.921875 33.015625 \n",
       "L 88.921875 0 \n",
       "L 79.890625 0 \n",
       "L 79.890625 32.71875 \n",
       "Q 79.890625 40.578125 77.09375 44.375 \n",
       "Q 74.3125 48.1875 68.609375 48.1875 \n",
       "Q 61.625 48.1875 57.5625 43.546875 \n",
       "Q 53.515625 38.921875 53.515625 30.90625 \n",
       "L 53.515625 0 \n",
       "L 44.484375 0 \n",
       "L 44.484375 32.71875 \n",
       "Q 44.484375 40.625 41.703125 44.40625 \n",
       "Q 38.921875 48.1875 33.109375 48.1875 \n",
       "Q 26.21875 48.1875 22.15625 43.53125 \n",
       "Q 18.109375 38.875 18.109375 30.90625 \n",
       "L 18.109375 0 \n",
       "L 9.078125 0 \n",
       "L 9.078125 54.6875 \n",
       "L 18.109375 54.6875 \n",
       "L 18.109375 46.1875 \n",
       "Q 21.1875 51.21875 25.484375 53.609375 \n",
       "Q 29.78125 56 35.6875 56 \n",
       "Q 41.65625 56 45.828125 52.96875 \n",
       "Q 50 49.953125 52 44.1875 \n",
       "z\n",
       "\" id=\"DejaVuSans-109\"/>\n",
       "        <path d=\"M 30.609375 48.390625 \n",
       "Q 23.390625 48.390625 19.1875 42.75 \n",
       "Q 14.984375 37.109375 14.984375 27.296875 \n",
       "Q 14.984375 17.484375 19.15625 11.84375 \n",
       "Q 23.34375 6.203125 30.609375 6.203125 \n",
       "Q 37.796875 6.203125 41.984375 11.859375 \n",
       "Q 46.1875 17.53125 46.1875 27.296875 \n",
       "Q 46.1875 37.015625 41.984375 42.703125 \n",
       "Q 37.796875 48.390625 30.609375 48.390625 \n",
       "z\n",
       "M 30.609375 56 \n",
       "Q 42.328125 56 49.015625 48.375 \n",
       "Q 55.71875 40.765625 55.71875 27.296875 \n",
       "Q 55.71875 13.875 49.015625 6.21875 \n",
       "Q 42.328125 -1.421875 30.609375 -1.421875 \n",
       "Q 18.84375 -1.421875 12.171875 6.21875 \n",
       "Q 5.515625 13.875 5.515625 27.296875 \n",
       "Q 5.515625 40.765625 12.171875 48.375 \n",
       "Q 18.84375 56 30.609375 56 \n",
       "z\n",
       "\" id=\"DejaVuSans-111\"/>\n",
       "       </defs>\n",
       "       <use xlink:href=\"#DejaVuSans-108\"/>\n",
       "       <use x=\"27.783203\" xlink:href=\"#DejaVuSans-101\"/>\n",
       "       <use x=\"89.306641\" xlink:href=\"#DejaVuSans-103\"/>\n",
       "       <use x=\"152.783203\" xlink:href=\"#DejaVuSans-237\"/>\n",
       "       <use x=\"180.566406\" xlink:href=\"#DejaVuSans-116\"/>\n",
       "       <use x=\"219.775391\" xlink:href=\"#DejaVuSans-105\"/>\n",
       "       <use x=\"247.558594\" xlink:href=\"#DejaVuSans-109\"/>\n",
       "       <use x=\"344.970703\" xlink:href=\"#DejaVuSans-111\"/>\n",
       "      </g>\n",
       "     </g>\n",
       "    </g>\n",
       "    <g id=\"text_3\">\n",
       "     <!-- Predicted label -->\n",
       "     <g transform=\"translate(129.811994 248.415864)scale(0.1 -0.1)\">\n",
       "      <defs>\n",
       "       <path d=\"M 19.671875 64.796875 \n",
       "L 19.671875 37.40625 \n",
       "L 32.078125 37.40625 \n",
       "Q 38.96875 37.40625 42.71875 40.96875 \n",
       "Q 46.484375 44.53125 46.484375 51.125 \n",
       "Q 46.484375 57.671875 42.71875 61.234375 \n",
       "Q 38.96875 64.796875 32.078125 64.796875 \n",
       "z\n",
       "M 9.8125 72.90625 \n",
       "L 32.078125 72.90625 \n",
       "Q 44.34375 72.90625 50.609375 67.359375 \n",
       "Q 56.890625 61.8125 56.890625 51.125 \n",
       "Q 56.890625 40.328125 50.609375 34.8125 \n",
       "Q 44.34375 29.296875 32.078125 29.296875 \n",
       "L 19.671875 29.296875 \n",
       "L 19.671875 0 \n",
       "L 9.8125 0 \n",
       "z\n",
       "\" id=\"DejaVuSans-80\"/>\n",
       "       <path d=\"M 45.40625 46.390625 \n",
       "L 45.40625 75.984375 \n",
       "L 54.390625 75.984375 \n",
       "L 54.390625 0 \n",
       "L 45.40625 0 \n",
       "L 45.40625 8.203125 \n",
       "Q 42.578125 3.328125 38.25 0.953125 \n",
       "Q 33.9375 -1.421875 27.875 -1.421875 \n",
       "Q 17.96875 -1.421875 11.734375 6.484375 \n",
       "Q 5.515625 14.40625 5.515625 27.296875 \n",
       "Q 5.515625 40.1875 11.734375 48.09375 \n",
       "Q 17.96875 56 27.875 56 \n",
       "Q 33.9375 56 38.25 53.625 \n",
       "Q 42.578125 51.265625 45.40625 46.390625 \n",
       "z\n",
       "M 14.796875 27.296875 \n",
       "Q 14.796875 17.390625 18.875 11.75 \n",
       "Q 22.953125 6.109375 30.078125 6.109375 \n",
       "Q 37.203125 6.109375 41.296875 11.75 \n",
       "Q 45.40625 17.390625 45.40625 27.296875 \n",
       "Q 45.40625 37.203125 41.296875 42.84375 \n",
       "Q 37.203125 48.484375 30.078125 48.484375 \n",
       "Q 22.953125 48.484375 18.875 42.84375 \n",
       "Q 14.796875 37.203125 14.796875 27.296875 \n",
       "z\n",
       "\" id=\"DejaVuSans-100\"/>\n",
       "       <path d=\"M 48.78125 52.59375 \n",
       "L 48.78125 44.1875 \n",
       "Q 44.96875 46.296875 41.140625 47.34375 \n",
       "Q 37.3125 48.390625 33.40625 48.390625 \n",
       "Q 24.65625 48.390625 19.8125 42.84375 \n",
       "Q 14.984375 37.3125 14.984375 27.296875 \n",
       "Q 14.984375 17.28125 19.8125 11.734375 \n",
       "Q 24.65625 6.203125 33.40625 6.203125 \n",
       "Q 37.3125 6.203125 41.140625 7.25 \n",
       "Q 44.96875 8.296875 48.78125 10.40625 \n",
       "L 48.78125 2.09375 \n",
       "Q 45.015625 0.34375 40.984375 -0.53125 \n",
       "Q 36.96875 -1.421875 32.421875 -1.421875 \n",
       "Q 20.0625 -1.421875 12.78125 6.34375 \n",
       "Q 5.515625 14.109375 5.515625 27.296875 \n",
       "Q 5.515625 40.671875 12.859375 48.328125 \n",
       "Q 20.21875 56 33.015625 56 \n",
       "Q 37.15625 56 41.109375 55.140625 \n",
       "Q 45.0625 54.296875 48.78125 52.59375 \n",
       "z\n",
       "\" id=\"DejaVuSans-99\"/>\n",
       "       <path id=\"DejaVuSans-32\"/>\n",
       "      </defs>\n",
       "      <use xlink:href=\"#DejaVuSans-80\"/>\n",
       "      <use x=\"58.552734\" xlink:href=\"#DejaVuSans-114\"/>\n",
       "      <use x=\"97.416016\" xlink:href=\"#DejaVuSans-101\"/>\n",
       "      <use x=\"158.939453\" xlink:href=\"#DejaVuSans-100\"/>\n",
       "      <use x=\"222.416016\" xlink:href=\"#DejaVuSans-105\"/>\n",
       "      <use x=\"250.199219\" xlink:href=\"#DejaVuSans-99\"/>\n",
       "      <use x=\"305.179688\" xlink:href=\"#DejaVuSans-116\"/>\n",
       "      <use x=\"344.388672\" xlink:href=\"#DejaVuSans-101\"/>\n",
       "      <use x=\"405.912109\" xlink:href=\"#DejaVuSans-100\"/>\n",
       "      <use x=\"469.388672\" xlink:href=\"#DejaVuSans-32\"/>\n",
       "      <use x=\"501.175781\" xlink:href=\"#DejaVuSans-108\"/>\n",
       "      <use x=\"528.958984\" xlink:href=\"#DejaVuSans-97\"/>\n",
       "      <use x=\"590.238281\" xlink:href=\"#DejaVuSans-98\"/>\n",
       "      <use x=\"653.714844\" xlink:href=\"#DejaVuSans-101\"/>\n",
       "      <use x=\"715.238281\" xlink:href=\"#DejaVuSans-108\"/>\n",
       "     </g>\n",
       "    </g>\n",
       "   </g>\n",
       "   <g id=\"matplotlib.axis_2\">\n",
       "    <g id=\"ytick_1\">\n",
       "     <g id=\"line2d_3\">\n",
       "      <defs>\n",
       "       <path d=\"M 0 0 \n",
       "L -3.5 0 \n",
       "\" id=\"m1b2a667acb\" style=\"stroke:#000000;stroke-width:0.8;\"/>\n",
       "      </defs>\n",
       "      <g>\n",
       "       <use style=\"stroke:#000000;stroke-width:0.8;\" x=\"68.49375\" xlink:href=\"#m1b2a667acb\" y=\"72.033419\"/>\n",
       "      </g>\n",
       "     </g>\n",
       "     <g id=\"text_4\">\n",
       "      <!-- basura -->\n",
       "      <g transform=\"translate(27.23125 75.832638)scale(0.1 -0.1)\">\n",
       "       <use xlink:href=\"#DejaVuSans-98\"/>\n",
       "       <use x=\"63.476562\" xlink:href=\"#DejaVuSans-97\"/>\n",
       "       <use x=\"124.755859\" xlink:href=\"#DejaVuSans-115\"/>\n",
       "       <use x=\"176.855469\" xlink:href=\"#DejaVuSans-117\"/>\n",
       "       <use x=\"240.234375\" xlink:href=\"#DejaVuSans-114\"/>\n",
       "       <use x=\"281.347656\" xlink:href=\"#DejaVuSans-97\"/>\n",
       "      </g>\n",
       "     </g>\n",
       "    </g>\n",
       "    <g id=\"ytick_2\">\n",
       "     <g id=\"line2d_4\">\n",
       "      <g>\n",
       "       <use style=\"stroke:#000000;stroke-width:0.8;\" x=\"68.49375\" xlink:href=\"#m1b2a667acb\" y=\"170.504007\"/>\n",
       "      </g>\n",
       "     </g>\n",
       "     <g id=\"text_5\">\n",
       "      <!-- legítimo -->\n",
       "      <g transform=\"translate(20.878125 174.503226)scale(0.1 -0.1)\">\n",
       "       <use xlink:href=\"#DejaVuSans-108\"/>\n",
       "       <use x=\"27.783203\" xlink:href=\"#DejaVuSans-101\"/>\n",
       "       <use x=\"89.306641\" xlink:href=\"#DejaVuSans-103\"/>\n",
       "       <use x=\"152.783203\" xlink:href=\"#DejaVuSans-237\"/>\n",
       "       <use x=\"180.566406\" xlink:href=\"#DejaVuSans-116\"/>\n",
       "       <use x=\"219.775391\" xlink:href=\"#DejaVuSans-105\"/>\n",
       "       <use x=\"247.558594\" xlink:href=\"#DejaVuSans-109\"/>\n",
       "       <use x=\"344.970703\" xlink:href=\"#DejaVuSans-111\"/>\n",
       "      </g>\n",
       "     </g>\n",
       "    </g>\n",
       "    <g id=\"text_6\">\n",
       "     <!-- True label -->\n",
       "     <g transform=\"translate(14.798438 145.567932)rotate(-90)scale(0.1 -0.1)\">\n",
       "      <defs>\n",
       "       <path d=\"M -0.296875 72.90625 \n",
       "L 61.375 72.90625 \n",
       "L 61.375 64.59375 \n",
       "L 35.5 64.59375 \n",
       "L 35.5 0 \n",
       "L 25.59375 0 \n",
       "L 25.59375 64.59375 \n",
       "L -0.296875 64.59375 \n",
       "z\n",
       "\" id=\"DejaVuSans-84\"/>\n",
       "      </defs>\n",
       "      <use xlink:href=\"#DejaVuSans-84\"/>\n",
       "      <use x=\"46.333984\" xlink:href=\"#DejaVuSans-114\"/>\n",
       "      <use x=\"87.447266\" xlink:href=\"#DejaVuSans-117\"/>\n",
       "      <use x=\"150.826172\" xlink:href=\"#DejaVuSans-101\"/>\n",
       "      <use x=\"212.349609\" xlink:href=\"#DejaVuSans-32\"/>\n",
       "      <use x=\"244.136719\" xlink:href=\"#DejaVuSans-108\"/>\n",
       "      <use x=\"271.919922\" xlink:href=\"#DejaVuSans-97\"/>\n",
       "      <use x=\"333.199219\" xlink:href=\"#DejaVuSans-98\"/>\n",
       "      <use x=\"396.675781\" xlink:href=\"#DejaVuSans-101\"/>\n",
       "      <use x=\"458.199219\" xlink:href=\"#DejaVuSans-108\"/>\n",
       "     </g>\n",
       "    </g>\n",
       "   </g>\n",
       "   <g id=\"patch_3\">\n",
       "    <path d=\"M 68.49375 219.739301 \n",
       "L 68.49375 22.798125 \n",
       "\" style=\"fill:none;stroke:#000000;stroke-linecap:square;stroke-linejoin:miter;stroke-width:0.8;\"/>\n",
       "   </g>\n",
       "   <g id=\"patch_4\">\n",
       "    <path d=\"M 265.434926 219.739301 \n",
       "L 265.434926 22.798125 \n",
       "\" style=\"fill:none;stroke:#000000;stroke-linecap:square;stroke-linejoin:miter;stroke-width:0.8;\"/>\n",
       "   </g>\n",
       "   <g id=\"patch_5\">\n",
       "    <path d=\"M 68.49375 219.739301 \n",
       "L 265.434926 219.739301 \n",
       "\" style=\"fill:none;stroke:#000000;stroke-linecap:square;stroke-linejoin:miter;stroke-width:0.8;\"/>\n",
       "   </g>\n",
       "   <g id=\"patch_6\">\n",
       "    <path d=\"M 68.49375 22.798125 \n",
       "L 265.434926 22.798125 \n",
       "\" style=\"fill:none;stroke:#000000;stroke-linecap:square;stroke-linejoin:miter;stroke-width:0.8;\"/>\n",
       "   </g>\n",
       "   <g id=\"text_7\">\n",
       "    <!-- 85 -->\n",
       "    <g style=\"fill:#f7fbff;\" transform=\"translate(111.366544 74.792794)scale(0.1 -0.1)\">\n",
       "     <defs>\n",
       "      <path d=\"M 31.78125 34.625 \n",
       "Q 24.75 34.625 20.71875 30.859375 \n",
       "Q 16.703125 27.09375 16.703125 20.515625 \n",
       "Q 16.703125 13.921875 20.71875 10.15625 \n",
       "Q 24.75 6.390625 31.78125 6.390625 \n",
       "Q 38.8125 6.390625 42.859375 10.171875 \n",
       "Q 46.921875 13.96875 46.921875 20.515625 \n",
       "Q 46.921875 27.09375 42.890625 30.859375 \n",
       "Q 38.875 34.625 31.78125 34.625 \n",
       "z\n",
       "M 21.921875 38.8125 \n",
       "Q 15.578125 40.375 12.03125 44.71875 \n",
       "Q 8.5 49.078125 8.5 55.328125 \n",
       "Q 8.5 64.0625 14.71875 69.140625 \n",
       "Q 20.953125 74.21875 31.78125 74.21875 \n",
       "Q 42.671875 74.21875 48.875 69.140625 \n",
       "Q 55.078125 64.0625 55.078125 55.328125 \n",
       "Q 55.078125 49.078125 51.53125 44.71875 \n",
       "Q 48 40.375 41.703125 38.8125 \n",
       "Q 48.828125 37.15625 52.796875 32.3125 \n",
       "Q 56.78125 27.484375 56.78125 20.515625 \n",
       "Q 56.78125 9.90625 50.3125 4.234375 \n",
       "Q 43.84375 -1.421875 31.78125 -1.421875 \n",
       "Q 19.734375 -1.421875 13.25 4.234375 \n",
       "Q 6.78125 9.90625 6.78125 20.515625 \n",
       "Q 6.78125 27.484375 10.78125 32.3125 \n",
       "Q 14.796875 37.15625 21.921875 38.8125 \n",
       "z\n",
       "M 18.3125 54.390625 \n",
       "Q 18.3125 48.734375 21.84375 45.5625 \n",
       "Q 25.390625 42.390625 31.78125 42.390625 \n",
       "Q 38.140625 42.390625 41.71875 45.5625 \n",
       "Q 45.3125 48.734375 45.3125 54.390625 \n",
       "Q 45.3125 60.0625 41.71875 63.234375 \n",
       "Q 38.140625 66.40625 31.78125 66.40625 \n",
       "Q 25.390625 66.40625 21.84375 63.234375 \n",
       "Q 18.3125 60.0625 18.3125 54.390625 \n",
       "z\n",
       "\" id=\"DejaVuSans-56\"/>\n",
       "      <path d=\"M 10.796875 72.90625 \n",
       "L 49.515625 72.90625 \n",
       "L 49.515625 64.59375 \n",
       "L 19.828125 64.59375 \n",
       "L 19.828125 46.734375 \n",
       "Q 21.96875 47.46875 24.109375 47.828125 \n",
       "Q 26.265625 48.1875 28.421875 48.1875 \n",
       "Q 40.625 48.1875 47.75 41.5 \n",
       "Q 54.890625 34.8125 54.890625 23.390625 \n",
       "Q 54.890625 11.625 47.5625 5.09375 \n",
       "Q 40.234375 -1.421875 26.90625 -1.421875 \n",
       "Q 22.3125 -1.421875 17.546875 -0.640625 \n",
       "Q 12.796875 0.140625 7.71875 1.703125 \n",
       "L 7.71875 11.625 \n",
       "Q 12.109375 9.234375 16.796875 8.0625 \n",
       "Q 21.484375 6.890625 26.703125 6.890625 \n",
       "Q 35.15625 6.890625 40.078125 11.328125 \n",
       "Q 45.015625 15.765625 45.015625 23.390625 \n",
       "Q 45.015625 31 40.078125 35.4375 \n",
       "Q 35.15625 39.890625 26.703125 39.890625 \n",
       "Q 22.75 39.890625 18.8125 39.015625 \n",
       "Q 14.890625 38.140625 10.796875 36.28125 \n",
       "z\n",
       "\" id=\"DejaVuSans-53\"/>\n",
       "     </defs>\n",
       "     <use xlink:href=\"#DejaVuSans-56\"/>\n",
       "     <use x=\"63.623047\" xlink:href=\"#DejaVuSans-53\"/>\n",
       "    </g>\n",
       "   </g>\n",
       "   <g id=\"text_8\">\n",
       "    <!-- 1 -->\n",
       "    <g style=\"fill:#08306b;\" transform=\"translate(213.018382 74.792794)scale(0.1 -0.1)\">\n",
       "     <defs>\n",
       "      <path d=\"M 12.40625 8.296875 \n",
       "L 28.515625 8.296875 \n",
       "L 28.515625 63.921875 \n",
       "L 10.984375 60.40625 \n",
       "L 10.984375 69.390625 \n",
       "L 28.421875 72.90625 \n",
       "L 38.28125 72.90625 \n",
       "L 38.28125 8.296875 \n",
       "L 54.390625 8.296875 \n",
       "L 54.390625 0 \n",
       "L 12.40625 0 \n",
       "z\n",
       "\" id=\"DejaVuSans-49\"/>\n",
       "     </defs>\n",
       "     <use xlink:href=\"#DejaVuSans-49\"/>\n",
       "    </g>\n",
       "   </g>\n",
       "   <g id=\"text_9\">\n",
       "    <!-- 12 -->\n",
       "    <g style=\"fill:#08306b;\" transform=\"translate(111.366544 173.263382)scale(0.1 -0.1)\">\n",
       "     <defs>\n",
       "      <path d=\"M 19.1875 8.296875 \n",
       "L 53.609375 8.296875 \n",
       "L 53.609375 0 \n",
       "L 7.328125 0 \n",
       "L 7.328125 8.296875 \n",
       "Q 12.9375 14.109375 22.625 23.890625 \n",
       "Q 32.328125 33.6875 34.8125 36.53125 \n",
       "Q 39.546875 41.84375 41.421875 45.53125 \n",
       "Q 43.3125 49.21875 43.3125 52.78125 \n",
       "Q 43.3125 58.59375 39.234375 62.25 \n",
       "Q 35.15625 65.921875 28.609375 65.921875 \n",
       "Q 23.96875 65.921875 18.8125 64.3125 \n",
       "Q 13.671875 62.703125 7.8125 59.421875 \n",
       "L 7.8125 69.390625 \n",
       "Q 13.765625 71.78125 18.9375 73 \n",
       "Q 24.125 74.21875 28.421875 74.21875 \n",
       "Q 39.75 74.21875 46.484375 68.546875 \n",
       "Q 53.21875 62.890625 53.21875 53.421875 \n",
       "Q 53.21875 48.921875 51.53125 44.890625 \n",
       "Q 49.859375 40.875 45.40625 35.40625 \n",
       "Q 44.1875 33.984375 37.640625 27.21875 \n",
       "Q 31.109375 20.453125 19.1875 8.296875 \n",
       "z\n",
       "\" id=\"DejaVuSans-50\"/>\n",
       "     </defs>\n",
       "     <use xlink:href=\"#DejaVuSans-49\"/>\n",
       "     <use x=\"63.623047\" xlink:href=\"#DejaVuSans-50\"/>\n",
       "    </g>\n",
       "   </g>\n",
       "   <g id=\"text_10\">\n",
       "    <!-- 48 -->\n",
       "    <g style=\"fill:#f7fbff;\" transform=\"translate(209.837132 173.263382)scale(0.1 -0.1)\">\n",
       "     <defs>\n",
       "      <path d=\"M 37.796875 64.3125 \n",
       "L 12.890625 25.390625 \n",
       "L 37.796875 25.390625 \n",
       "z\n",
       "M 35.203125 72.90625 \n",
       "L 47.609375 72.90625 \n",
       "L 47.609375 25.390625 \n",
       "L 58.015625 25.390625 \n",
       "L 58.015625 17.1875 \n",
       "L 47.609375 17.1875 \n",
       "L 47.609375 0 \n",
       "L 37.796875 0 \n",
       "L 37.796875 17.1875 \n",
       "L 4.890625 17.1875 \n",
       "L 4.890625 26.703125 \n",
       "z\n",
       "\" id=\"DejaVuSans-52\"/>\n",
       "     </defs>\n",
       "     <use xlink:href=\"#DejaVuSans-52\"/>\n",
       "     <use x=\"63.623047\" xlink:href=\"#DejaVuSans-56\"/>\n",
       "    </g>\n",
       "   </g>\n",
       "   <g id=\"text_11\">\n",
       "    <!-- Naive Bayes -->\n",
       "    <g transform=\"translate(129.819651 16.798125)scale(0.12 -0.12)\">\n",
       "     <defs>\n",
       "      <path d=\"M 9.8125 72.90625 \n",
       "L 23.09375 72.90625 \n",
       "L 55.421875 11.921875 \n",
       "L 55.421875 72.90625 \n",
       "L 64.984375 72.90625 \n",
       "L 64.984375 0 \n",
       "L 51.703125 0 \n",
       "L 19.390625 60.984375 \n",
       "L 19.390625 0 \n",
       "L 9.8125 0 \n",
       "z\n",
       "\" id=\"DejaVuSans-78\"/>\n",
       "      <path d=\"M 2.984375 54.6875 \n",
       "L 12.5 54.6875 \n",
       "L 29.59375 8.796875 \n",
       "L 46.6875 54.6875 \n",
       "L 56.203125 54.6875 \n",
       "L 35.6875 0 \n",
       "L 23.484375 0 \n",
       "z\n",
       "\" id=\"DejaVuSans-118\"/>\n",
       "      <path d=\"M 19.671875 34.8125 \n",
       "L 19.671875 8.109375 \n",
       "L 35.5 8.109375 \n",
       "Q 43.453125 8.109375 47.28125 11.40625 \n",
       "Q 51.125 14.703125 51.125 21.484375 \n",
       "Q 51.125 28.328125 47.28125 31.5625 \n",
       "Q 43.453125 34.8125 35.5 34.8125 \n",
       "z\n",
       "M 19.671875 64.796875 \n",
       "L 19.671875 42.828125 \n",
       "L 34.28125 42.828125 \n",
       "Q 41.5 42.828125 45.03125 45.53125 \n",
       "Q 48.578125 48.25 48.578125 53.8125 \n",
       "Q 48.578125 59.328125 45.03125 62.0625 \n",
       "Q 41.5 64.796875 34.28125 64.796875 \n",
       "z\n",
       "M 9.8125 72.90625 \n",
       "L 35.015625 72.90625 \n",
       "Q 46.296875 72.90625 52.390625 68.21875 \n",
       "Q 58.5 63.53125 58.5 54.890625 \n",
       "Q 58.5 48.1875 55.375 44.234375 \n",
       "Q 52.25 40.28125 46.1875 39.3125 \n",
       "Q 53.46875 37.75 57.5 32.78125 \n",
       "Q 61.53125 27.828125 61.53125 20.40625 \n",
       "Q 61.53125 10.640625 54.890625 5.3125 \n",
       "Q 48.25 0 35.984375 0 \n",
       "L 9.8125 0 \n",
       "z\n",
       "\" id=\"DejaVuSans-66\"/>\n",
       "      <path d=\"M 32.171875 -5.078125 \n",
       "Q 28.375 -14.84375 24.75 -17.8125 \n",
       "Q 21.140625 -20.796875 15.09375 -20.796875 \n",
       "L 7.90625 -20.796875 \n",
       "L 7.90625 -13.28125 \n",
       "L 13.1875 -13.28125 \n",
       "Q 16.890625 -13.28125 18.9375 -11.515625 \n",
       "Q 21 -9.765625 23.484375 -3.21875 \n",
       "L 25.09375 0.875 \n",
       "L 2.984375 54.6875 \n",
       "L 12.5 54.6875 \n",
       "L 29.59375 11.921875 \n",
       "L 46.6875 54.6875 \n",
       "L 56.203125 54.6875 \n",
       "z\n",
       "\" id=\"DejaVuSans-121\"/>\n",
       "     </defs>\n",
       "     <use xlink:href=\"#DejaVuSans-78\"/>\n",
       "     <use x=\"74.804688\" xlink:href=\"#DejaVuSans-97\"/>\n",
       "     <use x=\"136.083984\" xlink:href=\"#DejaVuSans-105\"/>\n",
       "     <use x=\"163.867188\" xlink:href=\"#DejaVuSans-118\"/>\n",
       "     <use x=\"223.046875\" xlink:href=\"#DejaVuSans-101\"/>\n",
       "     <use x=\"284.570312\" xlink:href=\"#DejaVuSans-32\"/>\n",
       "     <use x=\"316.357422\" xlink:href=\"#DejaVuSans-66\"/>\n",
       "     <use x=\"384.960938\" xlink:href=\"#DejaVuSans-97\"/>\n",
       "     <use x=\"446.240234\" xlink:href=\"#DejaVuSans-121\"/>\n",
       "     <use x=\"505.419922\" xlink:href=\"#DejaVuSans-101\"/>\n",
       "     <use x=\"566.943359\" xlink:href=\"#DejaVuSans-115\"/>\n",
       "    </g>\n",
       "   </g>\n",
       "  </g>\n",
       "  <g id=\"axes_2\">\n",
       "   <g id=\"patch_7\">\n",
       "    <path d=\"M 363.905515 219.739301 \n",
       "L 560.846691 219.739301 \n",
       "L 560.846691 22.798125 \n",
       "L 363.905515 22.798125 \n",
       "z\n",
       "\" style=\"fill:#ffffff;\"/>\n",
       "   </g>\n",
       "   <g clip-path=\"url(#pc37e65c84d)\">\n",
       "    <image height=\"197\" id=\"imagefc445ac7ba\" transform=\"scale(1 -1)translate(0 -197)\" width=\"197\" x=\"363.905515\" xlink:href=\"data:image/png;base64,\n",
       "iVBORw0KGgoAAAANSUhEUgAAAMUAAADFCAYAAADkODbwAAACFklEQVR4nO3VIRUCQQBF0VkUcfBEIggF6LMBNgwSgRjMqldgEPcm+Oadv32+cw6Wuz/31RM4XVYPgH8jCghRQIgCQhQQooAQBYQoIEQBIQoIUUCIAkIUEKKAEAWEKCBEASEKCFFAiAJCFBCigBAFhCggRAEhCghRQIgCQhQQooAQBYQoIEQBIQoIUUCIAkIUEKKAEAWEKCBEASEKCFFAiAJCFBCigBAFhCggRAEhCghRQIgCQhQQooAQBYQoIEQBIQoIUUCIAkIUEKKAEAWEKCBEASEKCFFAiAJCFBCigBAFhCggRAEhCghRQIgCQhQQooAQBYQoIEQBIQoIUUCIAkIUEKKAEAWEKCBEASEKCFFAiAJCFBCigBAFhCggRAEhCojtenvM1SMY4328Vk/g5CkgRAEhCghRQIgCQhQQooAQBYQoIEQBIQoIUUCIAkIUEKKAEAWEKCBEASEKCFFAiAJCFBCigBAFhCggRAEhCghRQIgCQhQQooAQBYQoIEQBIQoIUUCIAkIUEKKAEAWEKCBEASEKCFFAiAJCFBCigBAFhCggRAEhCghRQIgCQhQQooAQBYQoIEQBIQoIUUCIAkIUEKKAEAWEKCBEASEKCFFAiAJCFBCigBAFhCggRAEhCghRQIgCQhQQooAQBYQoIEQBIQoIUUCIAkIUEKKAEAWEKCBEASEKCFFAiAJCFBCigBAFhCggfrc/CurnXkixAAAAAElFTkSuQmCC\" y=\"-22.739301\"/>\n",
       "   </g>\n",
       "   <g id=\"matplotlib.axis_3\">\n",
       "    <g id=\"xtick_3\">\n",
       "     <g id=\"line2d_5\">\n",
       "      <g>\n",
       "       <use style=\"stroke:#000000;stroke-width:0.8;\" x=\"413.140809\" xlink:href=\"#m70d9aec622\" y=\"219.739301\"/>\n",
       "      </g>\n",
       "     </g>\n",
       "     <g id=\"text_12\">\n",
       "      <!-- basura -->\n",
       "      <g transform=\"translate(396.009559 234.337739)scale(0.1 -0.1)\">\n",
       "       <use xlink:href=\"#DejaVuSans-98\"/>\n",
       "       <use x=\"63.476562\" xlink:href=\"#DejaVuSans-97\"/>\n",
       "       <use x=\"124.755859\" xlink:href=\"#DejaVuSans-115\"/>\n",
       "       <use x=\"176.855469\" xlink:href=\"#DejaVuSans-117\"/>\n",
       "       <use x=\"240.234375\" xlink:href=\"#DejaVuSans-114\"/>\n",
       "       <use x=\"281.347656\" xlink:href=\"#DejaVuSans-97\"/>\n",
       "      </g>\n",
       "     </g>\n",
       "    </g>\n",
       "    <g id=\"xtick_4\">\n",
       "     <g id=\"line2d_6\">\n",
       "      <g>\n",
       "       <use style=\"stroke:#000000;stroke-width:0.8;\" x=\"511.611397\" xlink:href=\"#m70d9aec622\" y=\"219.739301\"/>\n",
       "      </g>\n",
       "     </g>\n",
       "     <g id=\"text_13\">\n",
       "      <!-- legítimo -->\n",
       "      <g transform=\"translate(491.303585 234.737739)scale(0.1 -0.1)\">\n",
       "       <use xlink:href=\"#DejaVuSans-108\"/>\n",
       "       <use x=\"27.783203\" xlink:href=\"#DejaVuSans-101\"/>\n",
       "       <use x=\"89.306641\" xlink:href=\"#DejaVuSans-103\"/>\n",
       "       <use x=\"152.783203\" xlink:href=\"#DejaVuSans-237\"/>\n",
       "       <use x=\"180.566406\" xlink:href=\"#DejaVuSans-116\"/>\n",
       "       <use x=\"219.775391\" xlink:href=\"#DejaVuSans-105\"/>\n",
       "       <use x=\"247.558594\" xlink:href=\"#DejaVuSans-109\"/>\n",
       "       <use x=\"344.970703\" xlink:href=\"#DejaVuSans-111\"/>\n",
       "      </g>\n",
       "     </g>\n",
       "    </g>\n",
       "    <g id=\"text_14\">\n",
       "     <!-- Predicted label -->\n",
       "     <g transform=\"translate(425.223759 248.415864)scale(0.1 -0.1)\">\n",
       "      <use xlink:href=\"#DejaVuSans-80\"/>\n",
       "      <use x=\"58.552734\" xlink:href=\"#DejaVuSans-114\"/>\n",
       "      <use x=\"97.416016\" xlink:href=\"#DejaVuSans-101\"/>\n",
       "      <use x=\"158.939453\" xlink:href=\"#DejaVuSans-100\"/>\n",
       "      <use x=\"222.416016\" xlink:href=\"#DejaVuSans-105\"/>\n",
       "      <use x=\"250.199219\" xlink:href=\"#DejaVuSans-99\"/>\n",
       "      <use x=\"305.179688\" xlink:href=\"#DejaVuSans-116\"/>\n",
       "      <use x=\"344.388672\" xlink:href=\"#DejaVuSans-101\"/>\n",
       "      <use x=\"405.912109\" xlink:href=\"#DejaVuSans-100\"/>\n",
       "      <use x=\"469.388672\" xlink:href=\"#DejaVuSans-32\"/>\n",
       "      <use x=\"501.175781\" xlink:href=\"#DejaVuSans-108\"/>\n",
       "      <use x=\"528.958984\" xlink:href=\"#DejaVuSans-97\"/>\n",
       "      <use x=\"590.238281\" xlink:href=\"#DejaVuSans-98\"/>\n",
       "      <use x=\"653.714844\" xlink:href=\"#DejaVuSans-101\"/>\n",
       "      <use x=\"715.238281\" xlink:href=\"#DejaVuSans-108\"/>\n",
       "     </g>\n",
       "    </g>\n",
       "   </g>\n",
       "   <g id=\"matplotlib.axis_4\">\n",
       "    <g id=\"ytick_3\">\n",
       "     <g id=\"line2d_7\">\n",
       "      <g>\n",
       "       <use style=\"stroke:#000000;stroke-width:0.8;\" x=\"363.905515\" xlink:href=\"#m1b2a667acb\" y=\"72.033419\"/>\n",
       "      </g>\n",
       "     </g>\n",
       "     <g id=\"text_15\">\n",
       "      <!-- basura -->\n",
       "      <g transform=\"translate(322.643015 75.832638)scale(0.1 -0.1)\">\n",
       "       <use xlink:href=\"#DejaVuSans-98\"/>\n",
       "       <use x=\"63.476562\" xlink:href=\"#DejaVuSans-97\"/>\n",
       "       <use x=\"124.755859\" xlink:href=\"#DejaVuSans-115\"/>\n",
       "       <use x=\"176.855469\" xlink:href=\"#DejaVuSans-117\"/>\n",
       "       <use x=\"240.234375\" xlink:href=\"#DejaVuSans-114\"/>\n",
       "       <use x=\"281.347656\" xlink:href=\"#DejaVuSans-97\"/>\n",
       "      </g>\n",
       "     </g>\n",
       "    </g>\n",
       "    <g id=\"ytick_4\">\n",
       "     <g id=\"line2d_8\">\n",
       "      <g>\n",
       "       <use style=\"stroke:#000000;stroke-width:0.8;\" x=\"363.905515\" xlink:href=\"#m1b2a667acb\" y=\"170.504007\"/>\n",
       "      </g>\n",
       "     </g>\n",
       "     <g id=\"text_16\">\n",
       "      <!-- legítimo -->\n",
       "      <g transform=\"translate(316.28989 174.503226)scale(0.1 -0.1)\">\n",
       "       <use xlink:href=\"#DejaVuSans-108\"/>\n",
       "       <use x=\"27.783203\" xlink:href=\"#DejaVuSans-101\"/>\n",
       "       <use x=\"89.306641\" xlink:href=\"#DejaVuSans-103\"/>\n",
       "       <use x=\"152.783203\" xlink:href=\"#DejaVuSans-237\"/>\n",
       "       <use x=\"180.566406\" xlink:href=\"#DejaVuSans-116\"/>\n",
       "       <use x=\"219.775391\" xlink:href=\"#DejaVuSans-105\"/>\n",
       "       <use x=\"247.558594\" xlink:href=\"#DejaVuSans-109\"/>\n",
       "       <use x=\"344.970703\" xlink:href=\"#DejaVuSans-111\"/>\n",
       "      </g>\n",
       "     </g>\n",
       "    </g>\n",
       "    <g id=\"text_17\">\n",
       "     <!-- True label -->\n",
       "     <g transform=\"translate(310.210202 145.567932)rotate(-90)scale(0.1 -0.1)\">\n",
       "      <use xlink:href=\"#DejaVuSans-84\"/>\n",
       "      <use x=\"46.333984\" xlink:href=\"#DejaVuSans-114\"/>\n",
       "      <use x=\"87.447266\" xlink:href=\"#DejaVuSans-117\"/>\n",
       "      <use x=\"150.826172\" xlink:href=\"#DejaVuSans-101\"/>\n",
       "      <use x=\"212.349609\" xlink:href=\"#DejaVuSans-32\"/>\n",
       "      <use x=\"244.136719\" xlink:href=\"#DejaVuSans-108\"/>\n",
       "      <use x=\"271.919922\" xlink:href=\"#DejaVuSans-97\"/>\n",
       "      <use x=\"333.199219\" xlink:href=\"#DejaVuSans-98\"/>\n",
       "      <use x=\"396.675781\" xlink:href=\"#DejaVuSans-101\"/>\n",
       "      <use x=\"458.199219\" xlink:href=\"#DejaVuSans-108\"/>\n",
       "     </g>\n",
       "    </g>\n",
       "   </g>\n",
       "   <g id=\"patch_8\">\n",
       "    <path d=\"M 363.905515 219.739301 \n",
       "L 363.905515 22.798125 \n",
       "\" style=\"fill:none;stroke:#000000;stroke-linecap:square;stroke-linejoin:miter;stroke-width:0.8;\"/>\n",
       "   </g>\n",
       "   <g id=\"patch_9\">\n",
       "    <path d=\"M 560.846691 219.739301 \n",
       "L 560.846691 22.798125 \n",
       "\" style=\"fill:none;stroke:#000000;stroke-linecap:square;stroke-linejoin:miter;stroke-width:0.8;\"/>\n",
       "   </g>\n",
       "   <g id=\"patch_10\">\n",
       "    <path d=\"M 363.905515 219.739301 \n",
       "L 560.846691 219.739301 \n",
       "\" style=\"fill:none;stroke:#000000;stroke-linecap:square;stroke-linejoin:miter;stroke-width:0.8;\"/>\n",
       "   </g>\n",
       "   <g id=\"patch_11\">\n",
       "    <path d=\"M 363.905515 22.798125 \n",
       "L 560.846691 22.798125 \n",
       "\" style=\"fill:none;stroke:#000000;stroke-linecap:square;stroke-linejoin:miter;stroke-width:0.8;\"/>\n",
       "   </g>\n",
       "   <g id=\"text_18\">\n",
       "    <!-- 84 -->\n",
       "    <g style=\"fill:#f7fbff;\" transform=\"translate(406.778309 74.792794)scale(0.1 -0.1)\">\n",
       "     <use xlink:href=\"#DejaVuSans-56\"/>\n",
       "     <use x=\"63.623047\" xlink:href=\"#DejaVuSans-52\"/>\n",
       "    </g>\n",
       "   </g>\n",
       "   <g id=\"text_19\">\n",
       "    <!-- 2 -->\n",
       "    <g style=\"fill:#08306b;\" transform=\"translate(508.430147 74.792794)scale(0.1 -0.1)\">\n",
       "     <use xlink:href=\"#DejaVuSans-50\"/>\n",
       "    </g>\n",
       "   </g>\n",
       "   <g id=\"text_20\">\n",
       "    <!-- 2 -->\n",
       "    <g style=\"fill:#08306b;\" transform=\"translate(409.959559 173.263382)scale(0.1 -0.1)\">\n",
       "     <use xlink:href=\"#DejaVuSans-50\"/>\n",
       "    </g>\n",
       "   </g>\n",
       "   <g id=\"text_21\">\n",
       "    <!-- 58 -->\n",
       "    <g style=\"fill:#f7fbff;\" transform=\"translate(505.248897 173.263382)scale(0.1 -0.1)\">\n",
       "     <use xlink:href=\"#DejaVuSans-53\"/>\n",
       "     <use x=\"63.623047\" xlink:href=\"#DejaVuSans-56\"/>\n",
       "    </g>\n",
       "   </g>\n",
       "   <g id=\"text_22\">\n",
       "    <!-- Regresión Logística -->\n",
       "    <g transform=\"translate(404.273603 16.798125)scale(0.12 -0.12)\">\n",
       "     <defs>\n",
       "      <path d=\"M 44.390625 34.1875 \n",
       "Q 47.5625 33.109375 50.5625 29.59375 \n",
       "Q 53.5625 26.078125 56.59375 19.921875 \n",
       "L 66.609375 0 \n",
       "L 56 0 \n",
       "L 46.6875 18.703125 \n",
       "Q 43.0625 26.03125 39.671875 28.421875 \n",
       "Q 36.28125 30.8125 30.421875 30.8125 \n",
       "L 19.671875 30.8125 \n",
       "L 19.671875 0 \n",
       "L 9.8125 0 \n",
       "L 9.8125 72.90625 \n",
       "L 32.078125 72.90625 \n",
       "Q 44.578125 72.90625 50.734375 67.671875 \n",
       "Q 56.890625 62.453125 56.890625 51.90625 \n",
       "Q 56.890625 45.015625 53.6875 40.46875 \n",
       "Q 50.484375 35.9375 44.390625 34.1875 \n",
       "z\n",
       "M 19.671875 64.796875 \n",
       "L 19.671875 38.921875 \n",
       "L 32.078125 38.921875 \n",
       "Q 39.203125 38.921875 42.84375 42.21875 \n",
       "Q 46.484375 45.515625 46.484375 51.90625 \n",
       "Q 46.484375 58.296875 42.84375 61.546875 \n",
       "Q 39.203125 64.796875 32.078125 64.796875 \n",
       "z\n",
       "\" id=\"DejaVuSans-82\"/>\n",
       "      <path d=\"M 30.609375 48.390625 \n",
       "Q 23.390625 48.390625 19.1875 42.75 \n",
       "Q 14.984375 37.109375 14.984375 27.296875 \n",
       "Q 14.984375 17.484375 19.15625 11.84375 \n",
       "Q 23.34375 6.203125 30.609375 6.203125 \n",
       "Q 37.796875 6.203125 41.984375 11.859375 \n",
       "Q 46.1875 17.53125 46.1875 27.296875 \n",
       "Q 46.1875 37.015625 41.984375 42.703125 \n",
       "Q 37.796875 48.390625 30.609375 48.390625 \n",
       "z\n",
       "M 30.609375 56 \n",
       "Q 42.328125 56 49.015625 48.375 \n",
       "Q 55.71875 40.765625 55.71875 27.296875 \n",
       "Q 55.71875 13.875 49.015625 6.21875 \n",
       "Q 42.328125 -1.421875 30.609375 -1.421875 \n",
       "Q 18.84375 -1.421875 12.171875 6.21875 \n",
       "Q 5.515625 13.875 5.515625 27.296875 \n",
       "Q 5.515625 40.765625 12.171875 48.375 \n",
       "Q 18.84375 56 30.609375 56 \n",
       "z\n",
       "M 37.40625 79.984375 \n",
       "L 47.125 79.984375 \n",
       "L 31.203125 61.625 \n",
       "L 23.734375 61.625 \n",
       "z\n",
       "\" id=\"DejaVuSans-243\"/>\n",
       "      <path d=\"M 54.890625 33.015625 \n",
       "L 54.890625 0 \n",
       "L 45.90625 0 \n",
       "L 45.90625 32.71875 \n",
       "Q 45.90625 40.484375 42.875 44.328125 \n",
       "Q 39.84375 48.1875 33.796875 48.1875 \n",
       "Q 26.515625 48.1875 22.3125 43.546875 \n",
       "Q 18.109375 38.921875 18.109375 30.90625 \n",
       "L 18.109375 0 \n",
       "L 9.078125 0 \n",
       "L 9.078125 54.6875 \n",
       "L 18.109375 54.6875 \n",
       "L 18.109375 46.1875 \n",
       "Q 21.34375 51.125 25.703125 53.5625 \n",
       "Q 30.078125 56 35.796875 56 \n",
       "Q 45.21875 56 50.046875 50.171875 \n",
       "Q 54.890625 44.34375 54.890625 33.015625 \n",
       "z\n",
       "\" id=\"DejaVuSans-110\"/>\n",
       "      <path d=\"M 9.8125 72.90625 \n",
       "L 19.671875 72.90625 \n",
       "L 19.671875 8.296875 \n",
       "L 55.171875 8.296875 \n",
       "L 55.171875 0 \n",
       "L 9.8125 0 \n",
       "z\n",
       "\" id=\"DejaVuSans-76\"/>\n",
       "     </defs>\n",
       "     <use xlink:href=\"#DejaVuSans-82\"/>\n",
       "     <use x=\"64.982422\" xlink:href=\"#DejaVuSans-101\"/>\n",
       "     <use x=\"126.505859\" xlink:href=\"#DejaVuSans-103\"/>\n",
       "     <use x=\"189.982422\" xlink:href=\"#DejaVuSans-114\"/>\n",
       "     <use x=\"228.845703\" xlink:href=\"#DejaVuSans-101\"/>\n",
       "     <use x=\"290.369141\" xlink:href=\"#DejaVuSans-115\"/>\n",
       "     <use x=\"342.46875\" xlink:href=\"#DejaVuSans-105\"/>\n",
       "     <use x=\"370.251953\" xlink:href=\"#DejaVuSans-243\"/>\n",
       "     <use x=\"431.433594\" xlink:href=\"#DejaVuSans-110\"/>\n",
       "     <use x=\"494.8125\" xlink:href=\"#DejaVuSans-32\"/>\n",
       "     <use x=\"526.599609\" xlink:href=\"#DejaVuSans-76\"/>\n",
       "     <use x=\"580.5625\" xlink:href=\"#DejaVuSans-111\"/>\n",
       "     <use x=\"641.744141\" xlink:href=\"#DejaVuSans-103\"/>\n",
       "     <use x=\"705.220703\" xlink:href=\"#DejaVuSans-237\"/>\n",
       "     <use x=\"733.003906\" xlink:href=\"#DejaVuSans-115\"/>\n",
       "     <use x=\"785.103516\" xlink:href=\"#DejaVuSans-116\"/>\n",
       "     <use x=\"824.3125\" xlink:href=\"#DejaVuSans-105\"/>\n",
       "     <use x=\"852.095703\" xlink:href=\"#DejaVuSans-99\"/>\n",
       "     <use x=\"907.076172\" xlink:href=\"#DejaVuSans-97\"/>\n",
       "    </g>\n",
       "   </g>\n",
       "  </g>\n",
       "  <g id=\"axes_3\">\n",
       "   <g id=\"patch_12\">\n",
       "    <path d=\"M 659.317279 219.739301 \n",
       "L 856.258456 219.739301 \n",
       "L 856.258456 22.798125 \n",
       "L 659.317279 22.798125 \n",
       "z\n",
       "\" style=\"fill:#ffffff;\"/>\n",
       "   </g>\n",
       "   <g clip-path=\"url(#p9d7e945cbd)\">\n",
       "    <image height=\"197\" id=\"imagea7b81c3499\" transform=\"scale(1 -1)translate(0 -197)\" width=\"197\" x=\"659.317279\" xlink:href=\"data:image/png;base64,\n",
       "iVBORw0KGgoAAAANSUhEUgAAAMUAAADFCAYAAADkODbwAAACF0lEQVR4nO3VMRXCQABEwQsVcihwhQk0YCcC4gUDFBRHk+obOIoZBdv8t9vnO+dguftzXz2B02X1APg3ooAQBYQoIEQBIQoIUUCIAkIUEKKAEAWEKCBEASEKCFFAiAJCFBCigBAFhCggRAEhCghRQIgCQhQQooAQBYQoIEQBIQoIUUCIAkIUEKKAEAWEKCBEASEKCFFAiAJCFBCigBAFhCggRAEhCghRQIgCQhQQooAQBYQoIEQBIQoIUUCIAkIUEKKAEAWEKCBEASEKCFFAiAJCFBCigBAFhCggRAEhCghRQIgCQhQQooAQBYQoIEQBIQoIUUCIAkIUEKKAEAWEKCBEASEKCFFAiAJCFBCigBAFhCggRAEhCghRQIgCQhQQooDYrrfHXD2CMd7Ha/UETp4CQhQQooAQBYQoIEQBIQoIUUCIAkIUEKKAEAWEKCBEASEKCFFAiAJCFBCigBAFhCggRAEhCghRQIgCQhQQooAQBYQoIEQBIQoIUUCIAkIUEKKAEAWEKCBEASEKCFFAiAJCFBCigBAFhCggRAEhCghRQIgCQhQQooAQBYQoIEQBIQoIUUCIAkIUEKKAEAWEKCBEASEKCFFAiAJCFBCigBAFhCggRAEhCghRQIgCQhQQooAQBYQoIEQBIQoIUUCIAkIUEKKAEAWEKCBEASEKCFFAiAJCFBCigBAFhCggRAEhCghRQIgC4gc1UgrNLWIhIAAAAABJRU5ErkJggg==\" y=\"-22.739301\"/>\n",
       "   </g>\n",
       "   <g id=\"matplotlib.axis_5\">\n",
       "    <g id=\"xtick_5\">\n",
       "     <g id=\"line2d_9\">\n",
       "      <g>\n",
       "       <use style=\"stroke:#000000;stroke-width:0.8;\" x=\"708.552574\" xlink:href=\"#m70d9aec622\" y=\"219.739301\"/>\n",
       "      </g>\n",
       "     </g>\n",
       "     <g id=\"text_23\">\n",
       "      <!-- basura -->\n",
       "      <g transform=\"translate(691.421324 234.337739)scale(0.1 -0.1)\">\n",
       "       <use xlink:href=\"#DejaVuSans-98\"/>\n",
       "       <use x=\"63.476562\" xlink:href=\"#DejaVuSans-97\"/>\n",
       "       <use x=\"124.755859\" xlink:href=\"#DejaVuSans-115\"/>\n",
       "       <use x=\"176.855469\" xlink:href=\"#DejaVuSans-117\"/>\n",
       "       <use x=\"240.234375\" xlink:href=\"#DejaVuSans-114\"/>\n",
       "       <use x=\"281.347656\" xlink:href=\"#DejaVuSans-97\"/>\n",
       "      </g>\n",
       "     </g>\n",
       "    </g>\n",
       "    <g id=\"xtick_6\">\n",
       "     <g id=\"line2d_10\">\n",
       "      <g>\n",
       "       <use style=\"stroke:#000000;stroke-width:0.8;\" x=\"807.023162\" xlink:href=\"#m70d9aec622\" y=\"219.739301\"/>\n",
       "      </g>\n",
       "     </g>\n",
       "     <g id=\"text_24\">\n",
       "      <!-- legítimo -->\n",
       "      <g transform=\"translate(786.715349 234.737739)scale(0.1 -0.1)\">\n",
       "       <use xlink:href=\"#DejaVuSans-108\"/>\n",
       "       <use x=\"27.783203\" xlink:href=\"#DejaVuSans-101\"/>\n",
       "       <use x=\"89.306641\" xlink:href=\"#DejaVuSans-103\"/>\n",
       "       <use x=\"152.783203\" xlink:href=\"#DejaVuSans-237\"/>\n",
       "       <use x=\"180.566406\" xlink:href=\"#DejaVuSans-116\"/>\n",
       "       <use x=\"219.775391\" xlink:href=\"#DejaVuSans-105\"/>\n",
       "       <use x=\"247.558594\" xlink:href=\"#DejaVuSans-109\"/>\n",
       "       <use x=\"344.970703\" xlink:href=\"#DejaVuSans-111\"/>\n",
       "      </g>\n",
       "     </g>\n",
       "    </g>\n",
       "    <g id=\"text_25\">\n",
       "     <!-- Predicted label -->\n",
       "     <g transform=\"translate(720.635524 248.415864)scale(0.1 -0.1)\">\n",
       "      <use xlink:href=\"#DejaVuSans-80\"/>\n",
       "      <use x=\"58.552734\" xlink:href=\"#DejaVuSans-114\"/>\n",
       "      <use x=\"97.416016\" xlink:href=\"#DejaVuSans-101\"/>\n",
       "      <use x=\"158.939453\" xlink:href=\"#DejaVuSans-100\"/>\n",
       "      <use x=\"222.416016\" xlink:href=\"#DejaVuSans-105\"/>\n",
       "      <use x=\"250.199219\" xlink:href=\"#DejaVuSans-99\"/>\n",
       "      <use x=\"305.179688\" xlink:href=\"#DejaVuSans-116\"/>\n",
       "      <use x=\"344.388672\" xlink:href=\"#DejaVuSans-101\"/>\n",
       "      <use x=\"405.912109\" xlink:href=\"#DejaVuSans-100\"/>\n",
       "      <use x=\"469.388672\" xlink:href=\"#DejaVuSans-32\"/>\n",
       "      <use x=\"501.175781\" xlink:href=\"#DejaVuSans-108\"/>\n",
       "      <use x=\"528.958984\" xlink:href=\"#DejaVuSans-97\"/>\n",
       "      <use x=\"590.238281\" xlink:href=\"#DejaVuSans-98\"/>\n",
       "      <use x=\"653.714844\" xlink:href=\"#DejaVuSans-101\"/>\n",
       "      <use x=\"715.238281\" xlink:href=\"#DejaVuSans-108\"/>\n",
       "     </g>\n",
       "    </g>\n",
       "   </g>\n",
       "   <g id=\"matplotlib.axis_6\">\n",
       "    <g id=\"ytick_5\">\n",
       "     <g id=\"line2d_11\">\n",
       "      <g>\n",
       "       <use style=\"stroke:#000000;stroke-width:0.8;\" x=\"659.317279\" xlink:href=\"#m1b2a667acb\" y=\"72.033419\"/>\n",
       "      </g>\n",
       "     </g>\n",
       "     <g id=\"text_26\">\n",
       "      <!-- basura -->\n",
       "      <g transform=\"translate(618.054779 75.832638)scale(0.1 -0.1)\">\n",
       "       <use xlink:href=\"#DejaVuSans-98\"/>\n",
       "       <use x=\"63.476562\" xlink:href=\"#DejaVuSans-97\"/>\n",
       "       <use x=\"124.755859\" xlink:href=\"#DejaVuSans-115\"/>\n",
       "       <use x=\"176.855469\" xlink:href=\"#DejaVuSans-117\"/>\n",
       "       <use x=\"240.234375\" xlink:href=\"#DejaVuSans-114\"/>\n",
       "       <use x=\"281.347656\" xlink:href=\"#DejaVuSans-97\"/>\n",
       "      </g>\n",
       "     </g>\n",
       "    </g>\n",
       "    <g id=\"ytick_6\">\n",
       "     <g id=\"line2d_12\">\n",
       "      <g>\n",
       "       <use style=\"stroke:#000000;stroke-width:0.8;\" x=\"659.317279\" xlink:href=\"#m1b2a667acb\" y=\"170.504007\"/>\n",
       "      </g>\n",
       "     </g>\n",
       "     <g id=\"text_27\">\n",
       "      <!-- legítimo -->\n",
       "      <g transform=\"translate(611.701654 174.503226)scale(0.1 -0.1)\">\n",
       "       <use xlink:href=\"#DejaVuSans-108\"/>\n",
       "       <use x=\"27.783203\" xlink:href=\"#DejaVuSans-101\"/>\n",
       "       <use x=\"89.306641\" xlink:href=\"#DejaVuSans-103\"/>\n",
       "       <use x=\"152.783203\" xlink:href=\"#DejaVuSans-237\"/>\n",
       "       <use x=\"180.566406\" xlink:href=\"#DejaVuSans-116\"/>\n",
       "       <use x=\"219.775391\" xlink:href=\"#DejaVuSans-105\"/>\n",
       "       <use x=\"247.558594\" xlink:href=\"#DejaVuSans-109\"/>\n",
       "       <use x=\"344.970703\" xlink:href=\"#DejaVuSans-111\"/>\n",
       "      </g>\n",
       "     </g>\n",
       "    </g>\n",
       "    <g id=\"text_28\">\n",
       "     <!-- True label -->\n",
       "     <g transform=\"translate(605.621967 145.567932)rotate(-90)scale(0.1 -0.1)\">\n",
       "      <use xlink:href=\"#DejaVuSans-84\"/>\n",
       "      <use x=\"46.333984\" xlink:href=\"#DejaVuSans-114\"/>\n",
       "      <use x=\"87.447266\" xlink:href=\"#DejaVuSans-117\"/>\n",
       "      <use x=\"150.826172\" xlink:href=\"#DejaVuSans-101\"/>\n",
       "      <use x=\"212.349609\" xlink:href=\"#DejaVuSans-32\"/>\n",
       "      <use x=\"244.136719\" xlink:href=\"#DejaVuSans-108\"/>\n",
       "      <use x=\"271.919922\" xlink:href=\"#DejaVuSans-97\"/>\n",
       "      <use x=\"333.199219\" xlink:href=\"#DejaVuSans-98\"/>\n",
       "      <use x=\"396.675781\" xlink:href=\"#DejaVuSans-101\"/>\n",
       "      <use x=\"458.199219\" xlink:href=\"#DejaVuSans-108\"/>\n",
       "     </g>\n",
       "    </g>\n",
       "   </g>\n",
       "   <g id=\"patch_13\">\n",
       "    <path d=\"M 659.317279 219.739301 \n",
       "L 659.317279 22.798125 \n",
       "\" style=\"fill:none;stroke:#000000;stroke-linecap:square;stroke-linejoin:miter;stroke-width:0.8;\"/>\n",
       "   </g>\n",
       "   <g id=\"patch_14\">\n",
       "    <path d=\"M 856.258456 219.739301 \n",
       "L 856.258456 22.798125 \n",
       "\" style=\"fill:none;stroke:#000000;stroke-linecap:square;stroke-linejoin:miter;stroke-width:0.8;\"/>\n",
       "   </g>\n",
       "   <g id=\"patch_15\">\n",
       "    <path d=\"M 659.317279 219.739301 \n",
       "L 856.258456 219.739301 \n",
       "\" style=\"fill:none;stroke:#000000;stroke-linecap:square;stroke-linejoin:miter;stroke-width:0.8;\"/>\n",
       "   </g>\n",
       "   <g id=\"patch_16\">\n",
       "    <path d=\"M 659.317279 22.798125 \n",
       "L 856.258456 22.798125 \n",
       "\" style=\"fill:none;stroke:#000000;stroke-linecap:square;stroke-linejoin:miter;stroke-width:0.8;\"/>\n",
       "   </g>\n",
       "   <g id=\"text_29\">\n",
       "    <!-- 83 -->\n",
       "    <g style=\"fill:#f7fbff;\" transform=\"translate(702.190074 74.792794)scale(0.1 -0.1)\">\n",
       "     <defs>\n",
       "      <path d=\"M 40.578125 39.3125 \n",
       "Q 47.65625 37.796875 51.625 33 \n",
       "Q 55.609375 28.21875 55.609375 21.1875 \n",
       "Q 55.609375 10.40625 48.1875 4.484375 \n",
       "Q 40.765625 -1.421875 27.09375 -1.421875 \n",
       "Q 22.515625 -1.421875 17.65625 -0.515625 \n",
       "Q 12.796875 0.390625 7.625 2.203125 \n",
       "L 7.625 11.71875 \n",
       "Q 11.71875 9.328125 16.59375 8.109375 \n",
       "Q 21.484375 6.890625 26.8125 6.890625 \n",
       "Q 36.078125 6.890625 40.9375 10.546875 \n",
       "Q 45.796875 14.203125 45.796875 21.1875 \n",
       "Q 45.796875 27.640625 41.28125 31.265625 \n",
       "Q 36.765625 34.90625 28.71875 34.90625 \n",
       "L 20.21875 34.90625 \n",
       "L 20.21875 43.015625 \n",
       "L 29.109375 43.015625 \n",
       "Q 36.375 43.015625 40.234375 45.921875 \n",
       "Q 44.09375 48.828125 44.09375 54.296875 \n",
       "Q 44.09375 59.90625 40.109375 62.90625 \n",
       "Q 36.140625 65.921875 28.71875 65.921875 \n",
       "Q 24.65625 65.921875 20.015625 65.03125 \n",
       "Q 15.375 64.15625 9.8125 62.3125 \n",
       "L 9.8125 71.09375 \n",
       "Q 15.4375 72.65625 20.34375 73.4375 \n",
       "Q 25.25 74.21875 29.59375 74.21875 \n",
       "Q 40.828125 74.21875 47.359375 69.109375 \n",
       "Q 53.90625 64.015625 53.90625 55.328125 \n",
       "Q 53.90625 49.265625 50.4375 45.09375 \n",
       "Q 46.96875 40.921875 40.578125 39.3125 \n",
       "z\n",
       "\" id=\"DejaVuSans-51\"/>\n",
       "     </defs>\n",
       "     <use xlink:href=\"#DejaVuSans-56\"/>\n",
       "     <use x=\"63.623047\" xlink:href=\"#DejaVuSans-51\"/>\n",
       "    </g>\n",
       "   </g>\n",
       "   <g id=\"text_30\">\n",
       "    <!-- 3 -->\n",
       "    <g style=\"fill:#08306b;\" transform=\"translate(803.841912 74.792794)scale(0.1 -0.1)\">\n",
       "     <use xlink:href=\"#DejaVuSans-51\"/>\n",
       "    </g>\n",
       "   </g>\n",
       "   <g id=\"text_31\">\n",
       "    <!-- 1 -->\n",
       "    <g style=\"fill:#08306b;\" transform=\"translate(705.371324 173.263382)scale(0.1 -0.1)\">\n",
       "     <use xlink:href=\"#DejaVuSans-49\"/>\n",
       "    </g>\n",
       "   </g>\n",
       "   <g id=\"text_32\">\n",
       "    <!-- 59 -->\n",
       "    <g style=\"fill:#f7fbff;\" transform=\"translate(800.660662 173.263382)scale(0.1 -0.1)\">\n",
       "     <defs>\n",
       "      <path d=\"M 10.984375 1.515625 \n",
       "L 10.984375 10.5 \n",
       "Q 14.703125 8.734375 18.5 7.8125 \n",
       "Q 22.3125 6.890625 25.984375 6.890625 \n",
       "Q 35.75 6.890625 40.890625 13.453125 \n",
       "Q 46.046875 20.015625 46.78125 33.40625 \n",
       "Q 43.953125 29.203125 39.59375 26.953125 \n",
       "Q 35.25 24.703125 29.984375 24.703125 \n",
       "Q 19.046875 24.703125 12.671875 31.3125 \n",
       "Q 6.296875 37.9375 6.296875 49.421875 \n",
       "Q 6.296875 60.640625 12.9375 67.421875 \n",
       "Q 19.578125 74.21875 30.609375 74.21875 \n",
       "Q 43.265625 74.21875 49.921875 64.515625 \n",
       "Q 56.59375 54.828125 56.59375 36.375 \n",
       "Q 56.59375 19.140625 48.40625 8.859375 \n",
       "Q 40.234375 -1.421875 26.421875 -1.421875 \n",
       "Q 22.703125 -1.421875 18.890625 -0.6875 \n",
       "Q 15.09375 0.046875 10.984375 1.515625 \n",
       "z\n",
       "M 30.609375 32.421875 \n",
       "Q 37.25 32.421875 41.125 36.953125 \n",
       "Q 45.015625 41.5 45.015625 49.421875 \n",
       "Q 45.015625 57.28125 41.125 61.84375 \n",
       "Q 37.25 66.40625 30.609375 66.40625 \n",
       "Q 23.96875 66.40625 20.09375 61.84375 \n",
       "Q 16.21875 57.28125 16.21875 49.421875 \n",
       "Q 16.21875 41.5 20.09375 36.953125 \n",
       "Q 23.96875 32.421875 30.609375 32.421875 \n",
       "z\n",
       "\" id=\"DejaVuSans-57\"/>\n",
       "     </defs>\n",
       "     <use xlink:href=\"#DejaVuSans-53\"/>\n",
       "     <use x=\"63.623047\" xlink:href=\"#DejaVuSans-57\"/>\n",
       "    </g>\n",
       "   </g>\n",
       "   <g id=\"text_33\">\n",
       "    <!-- SVM -->\n",
       "    <g transform=\"translate(744.697555 16.798125)scale(0.12 -0.12)\">\n",
       "     <defs>\n",
       "      <path d=\"M 53.515625 70.515625 \n",
       "L 53.515625 60.890625 \n",
       "Q 47.90625 63.578125 42.921875 64.890625 \n",
       "Q 37.9375 66.21875 33.296875 66.21875 \n",
       "Q 25.25 66.21875 20.875 63.09375 \n",
       "Q 16.5 59.96875 16.5 54.203125 \n",
       "Q 16.5 49.359375 19.40625 46.890625 \n",
       "Q 22.3125 44.4375 30.421875 42.921875 \n",
       "L 36.375 41.703125 \n",
       "Q 47.40625 39.59375 52.65625 34.296875 \n",
       "Q 57.90625 29 57.90625 20.125 \n",
       "Q 57.90625 9.515625 50.796875 4.046875 \n",
       "Q 43.703125 -1.421875 29.984375 -1.421875 \n",
       "Q 24.8125 -1.421875 18.96875 -0.25 \n",
       "Q 13.140625 0.921875 6.890625 3.21875 \n",
       "L 6.890625 13.375 \n",
       "Q 12.890625 10.015625 18.65625 8.296875 \n",
       "Q 24.421875 6.59375 29.984375 6.59375 \n",
       "Q 38.421875 6.59375 43.015625 9.90625 \n",
       "Q 47.609375 13.234375 47.609375 19.390625 \n",
       "Q 47.609375 24.75 44.3125 27.78125 \n",
       "Q 41.015625 30.8125 33.5 32.328125 \n",
       "L 27.484375 33.5 \n",
       "Q 16.453125 35.6875 11.515625 40.375 \n",
       "Q 6.59375 45.0625 6.59375 53.421875 \n",
       "Q 6.59375 63.09375 13.40625 68.65625 \n",
       "Q 20.21875 74.21875 32.171875 74.21875 \n",
       "Q 37.3125 74.21875 42.625 73.28125 \n",
       "Q 47.953125 72.359375 53.515625 70.515625 \n",
       "z\n",
       "\" id=\"DejaVuSans-83\"/>\n",
       "      <path d=\"M 28.609375 0 \n",
       "L 0.78125 72.90625 \n",
       "L 11.078125 72.90625 \n",
       "L 34.1875 11.53125 \n",
       "L 57.328125 72.90625 \n",
       "L 67.578125 72.90625 \n",
       "L 39.796875 0 \n",
       "z\n",
       "\" id=\"DejaVuSans-86\"/>\n",
       "      <path d=\"M 9.8125 72.90625 \n",
       "L 24.515625 72.90625 \n",
       "L 43.109375 23.296875 \n",
       "L 61.8125 72.90625 \n",
       "L 76.515625 72.90625 \n",
       "L 76.515625 0 \n",
       "L 66.890625 0 \n",
       "L 66.890625 64.015625 \n",
       "L 48.09375 14.015625 \n",
       "L 38.1875 14.015625 \n",
       "L 19.390625 64.015625 \n",
       "L 19.390625 0 \n",
       "L 9.8125 0 \n",
       "z\n",
       "\" id=\"DejaVuSans-77\"/>\n",
       "     </defs>\n",
       "     <use xlink:href=\"#DejaVuSans-83\"/>\n",
       "     <use x=\"63.476562\" xlink:href=\"#DejaVuSans-86\"/>\n",
       "     <use x=\"131.884766\" xlink:href=\"#DejaVuSans-77\"/>\n",
       "    </g>\n",
       "   </g>\n",
       "  </g>\n",
       " </g>\n",
       " <defs>\n",
       "  <clipPath id=\"p6d3149b94b\">\n",
       "   <rect height=\"196.941176\" width=\"196.941176\" x=\"68.49375\" y=\"22.798125\"/>\n",
       "  </clipPath>\n",
       "  <clipPath id=\"pc37e65c84d\">\n",
       "   <rect height=\"196.941176\" width=\"196.941176\" x=\"363.905515\" y=\"22.798125\"/>\n",
       "  </clipPath>\n",
       "  <clipPath id=\"p9d7e945cbd\">\n",
       "   <rect height=\"196.941176\" width=\"196.941176\" x=\"659.317279\" y=\"22.798125\"/>\n",
       "  </clipPath>\n",
       " </defs>\n",
       "</svg>\n"
      ],
      "text/plain": [
       "<Figure size 1080x1080 with 3 Axes>"
      ]
     },
     "metadata": {
      "needs_background": "light"
     },
     "output_type": "display_data"
    }
   ],
   "source": [
    "%config InlineBackend.figure_format = 'svg'\n",
    "\n",
    "fig = plt.figure(figsize=(15,15))\n",
    "\n",
    "ax1 = fig.add_subplot(1,3,1)\n",
    "plot_confusion_matrix(nb, X_test, y_test, cmap = 'Blues', ax=ax1).im_.colorbar.remove()\n",
    "plt.title(\"Naive Bayes\")\n",
    "\n",
    "ax2 = fig.add_subplot(1,3,2)\n",
    "plot_confusion_matrix(logreg, X_test, y_test, cmap = 'Blues', ax=ax2).im_.colorbar.remove()\n",
    "plt.title(\"Regresión Logística\")\n",
    "\n",
    "ax3 = fig.add_subplot(1,3,3)\n",
    "plot_confusion_matrix(svm, X_test, y_test, cmap = 'Blues', ax=ax3).im_.colorbar.remove() # normalize='true'\n",
    "plt.title(\"SVM\");"
   ]
  },
  {
   "cell_type": "markdown",
   "metadata": {
    "slideshow": {
     "slide_type": "slide"
    }
   },
   "source": [
    "#### 6. Poner el modelo en producción\n",
    "\n",
    "Resultados & explicación"
   ]
  },
  {
   "cell_type": "code",
   "execution_count": 98,
   "metadata": {
    "slideshow": {
     "slide_type": "fragment"
    }
   },
   "outputs": [
    {
     "data": {
      "text/plain": [
       "array(['legítimo', 'basura'], dtype=object)"
      ]
     },
     "execution_count": 98,
     "metadata": {},
     "output_type": "execute_result"
    }
   ],
   "source": [
    "# Resultados\n",
    "nuevo = ['Hola, estás?', 'ENTRADAS GRATIS']\n",
    "nuevo_trans = tfidf_vect.transform(nuevo)\n",
    "logreg.predict(nuevo_trans)\n",
    "# nb.predict_proba(nuevo_trans)"
   ]
  },
  {
   "cell_type": "code",
   "execution_count": null,
   "metadata": {
    "slideshow": {
     "slide_type": "fragment"
    }
   },
   "outputs": [],
   "source": [
    "# Explicación\n",
    "vocab = {value:key for key, value in tfidf_vect.vocabulary_.items()}"
   ]
  },
  {
   "cell_type": "code",
   "execution_count": 107,
   "metadata": {
    "slideshow": {
     "slide_type": "fragment"
    }
   },
   "outputs": [
    {
     "data": {
      "text/plain": [
       "[('móvil', 0.7),\n",
       " ('envíe', 0.73),\n",
       " ('solo', 0.73),\n",
       " ('teléfono', 0.75),\n",
       " ('premio', 0.83),\n",
       " ('texto', 0.87),\n",
       " ('mensaje', 0.91),\n",
       " ('gratis', 1.01),\n",
       " ('ahora', 1.01),\n",
       " ('llame', 1.02)]"
      ]
     },
     "execution_count": 107,
     "metadata": {},
     "output_type": "execute_result"
    }
   ],
   "source": [
    "[(vocab[e[0]],round(e[1],2)) for e in zip(nb.feature_log_prob_[0, :].argsort(),sorted(logreg.coef_[0]))][-10:]"
   ]
  },
  {
   "cell_type": "code",
   "execution_count": 106,
   "metadata": {
    "slideshow": {
     "slide_type": "fragment"
    }
   },
   "outputs": [
    {
     "data": {
      "text/plain": [
       "[('llame', -3.06),\n",
       " ('gratis', -1.74),\n",
       " ('envíe', -1.55),\n",
       " ('txt', -1.5),\n",
       " ('premio', -1.49),\n",
       " ('texto', -1.47),\n",
       " ('www', -1.45),\n",
       " ('envía', -1.3),\n",
       " ('mensaje', -1.24),\n",
       " ('móvil', -1.23)]"
      ]
     },
     "execution_count": 106,
     "metadata": {},
     "output_type": "execute_result"
    }
   ],
   "source": [
    "[(vocab[e[0]],round(e[1],2)) for e in zip(logreg.coef_[0].argsort(),sorted(logreg.coef_[0]))][:10]"
   ]
  },
  {
   "cell_type": "markdown",
   "metadata": {
    "slideshow": {
     "slide_type": "slide"
    }
   },
   "source": [
    "### 🤓 Recapitulando: Hoy aprendímos...\n",
    "- Modelos de clasificación para NLP:\n",
    "    - Regresión logística\n",
    "    - Bayesiano ingenuo (Naive Bayes)\n",
    "    - Máquinas de vectores de soporte (SVM)\n",
    "- ¿Cómo implementar modelos de clasificación?\n",
    "- Métricas de evaluación para los modelos de clasificación\n",
    "- Examinar resultados"
   ]
  },
  {
   "cell_type": "markdown",
   "metadata": {
    "slideshow": {
     "slide_type": "fragment"
    }
   },
   "source": [
    "### 🚀 Próxima clase: ¡Sin etiquetas!"
   ]
  },
  {
   "cell_type": "markdown",
   "metadata": {
    "slideshow": {
     "slide_type": "slide"
    }
   },
   "source": [
    "# ¡Tiempo de taller!\n",
    "\n",
    "<center>\n",
    "<img src='img/Taller.gif'>"
   ]
  },
  {
   "cell_type": "markdown",
   "metadata": {
    "slideshow": {
     "slide_type": "fragment"
    }
   },
   "source": [
    "- Mentira, hoy no hay taller. ¡A trabajar en el projecto final!\n",
    "\n",
    "### Feliz semana de receso, nos vemos el 17 de octubre"
   ]
  },
  {
   "cell_type": "markdown",
   "metadata": {
    "slideshow": {
     "slide_type": "slide"
    }
   },
   "source": [
    "<center>\n",
    "    <img src='img/fin.gif'>\n",
    "\n",
    "### Próxima clase: Agrupación de textos"
   ]
  },
  {
   "cell_type": "code",
   "execution_count": null,
   "metadata": {
    "slideshow": {
     "slide_type": "notes"
    }
   },
   "outputs": [],
   "source": [
    "import pickle\n",
    "\n",
    "with open('mimodelo.pkl', 'wb') as f:\n",
    "    pickle.dump(logreg, f)\n",
    "\n",
    "\n",
    "with open('mimodelo.pkl', 'rb') as f:\n",
    "    mimodelo = pickle.load(f)"
   ]
  },
  {
   "cell_type": "markdown",
   "metadata": {
    "slideshow": {
     "slide_type": "notes"
    }
   },
   "source": [
    "https://github.com/practical-nlp/practical-nlp/blob/master/Ch2/05_Data_Augmentation_Using_NLPaug.ipynb"
   ]
  }
 ],
 "metadata": {
  "celltoolbar": "Slideshow",
  "kernelspec": {
   "display_name": "Python 3",
   "language": "python",
   "name": "python3"
  },
  "language_info": {
   "codemirror_mode": {
    "name": "ipython",
    "version": 3
   },
   "file_extension": ".py",
   "mimetype": "text/x-python",
   "name": "python",
   "nbconvert_exporter": "python",
   "pygments_lexer": "ipython3",
   "version": "3.7.4"
  }
 },
 "nbformat": 4,
 "nbformat_minor": 2
}
