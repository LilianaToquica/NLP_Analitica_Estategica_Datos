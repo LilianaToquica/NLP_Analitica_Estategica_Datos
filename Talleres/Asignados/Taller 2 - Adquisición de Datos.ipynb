{
 "cells": [
  {
   "cell_type": "markdown",
   "metadata": {},
   "source": [
    "<img src='https://encrypted-tbn0.gstatic.com/images?q=tbn%3AANd9GcQ-VfNtOyJbsaxu43Kztf_cv1mgBG6ZIQZEVw&usqp=CAU'>\n",
    "\n",
    "# Procesamiento de Lenguage Natural\n",
    "\n",
    "## Taller #2: Adquisición de textos\n",
    "`Fecha de entrega: Agosto 29, 2020. (Antes del inicio de la próxima clase).`"
   ]
  },
  {
   "cell_type": "markdown",
   "metadata": {},
   "source": [
    "# Punto 1:\n",
    "\n",
    "- Descomprimir el archivo `.zip` de los poemas\n",
    "- Leer cada uno de sus archivos\n",
    "- Responder: ¿Cuál archivo tiene el mayor número de palabras?"
   ]
  },
  {
   "cell_type": "markdown",
   "metadata": {},
   "source": [
    "# Punto 2:\n",
    "\n",
    "- Hacer Web Scraping de 10 biografías en Wikipedia (en búcle)\n",
    "- Obtener el **encabezado** de cada biografía\n",
    "- Obtener todos los **contenidos** y **etiquetas de título** asociados a los **links** del primer párrafo"
   ]
  },
  {
   "cell_type": "markdown",
   "metadata": {},
   "source": [
    "<img src='img/carlsagan.png'>"
   ]
  },
  {
   "cell_type": "code",
   "execution_count": 22,
   "metadata": {},
   "outputs": [
    {
     "data": {
      "text/plain": [
       "['Carl Sagan']"
      ]
     },
     "execution_count": 22,
     "metadata": {},
     "output_type": "execute_result"
    }
   ],
   "source": [
    "# Encabezado, no título"
   ]
  },
  {
   "cell_type": "code",
   "execution_count": 6,
   "metadata": {},
   "outputs": [
    {
     "name": "stdout",
     "output_type": "stream",
     "text": [
      "<a href=\"/wiki/Nueva_York\" title=\"Nueva York\">Nueva York</a>\n",
      "Contenido: \n",
      "['Nueva York']\n",
      "Título: \n",
      "Nueva York\n",
      "\n",
      "<a href=\"/wiki/9_de_noviembre\" title=\"9 de noviembre\">9 de noviembre</a>\n",
      "Contenido: \n",
      "['9 de noviembre']\n",
      "Título: \n",
      "9 de noviembre\n",
      "\n",
      "<a href=\"/wiki/1934\" title=\"1934\">1934</a>\n",
      "Contenido: \n",
      "['1934']\n",
      "Título: \n",
      "1934\n",
      "\n",
      "<a href=\"/wiki/Seattle\" title=\"Seattle\">Seattle</a>\n",
      "Contenido: \n",
      "['Seattle']\n",
      "Título: \n",
      "Seattle\n",
      "\n",
      "<a href=\"/wiki/20_de_diciembre\" title=\"20 de diciembre\">20 de diciembre</a>\n",
      "Contenido: \n",
      "['20 de diciembre']\n",
      "Título: \n",
      "20 de diciembre\n",
      "\n",
      "<a href=\"/wiki/1996\" title=\"1996\">1996</a>\n",
      "Contenido: \n",
      "['1996']\n",
      "Título: \n",
      "1996\n",
      "\n",
      "<a href=\"/wiki/Astronom%C3%ADa\" title=\"Astronomía\">astrónomo</a>\n",
      "Contenido: \n",
      "['astrónomo']\n",
      "Título: \n",
      "Astronomía\n",
      "\n",
      "<a href=\"/wiki/Astrof%C3%ADsica\" title=\"Astrofísica\">astrofísico</a>\n",
      "Contenido: \n",
      "['astrofísico']\n",
      "Título: \n",
      "Astrofísica\n",
      "\n",
      "<a href=\"/wiki/Cosmolog%C3%ADa\" title=\"Cosmología\">cosmólogo</a>\n",
      "Contenido: \n",
      "['cosmólogo']\n",
      "Título: \n",
      "Cosmología\n",
      "\n",
      "<a href=\"/wiki/Astrobiolog%C3%ADa\" title=\"Astrobiología\">astrobiólogo</a>\n",
      "Contenido: \n",
      "['astrobiólogo']\n",
      "Título: \n",
      "Astrobiología\n",
      "\n",
      "<a href=\"/wiki/Nacionalidad_estadounidense\" title=\"Nacionalidad estadounidense\">estadounidense</a>\n",
      "Contenido: \n",
      "['estadounidense']\n",
      "Título: \n",
      "Nacionalidad estadounidense\n",
      "\n",
      "<a href=\"/wiki/Universidad_de_Harvard\" title=\"Universidad de Harvard\">Universidad de Harvard</a>\n",
      "Contenido: \n",
      "['Universidad de Harvard']\n",
      "Título: \n",
      "Universidad de Harvard\n",
      "\n",
      "<a class=\"mw-redirect\" href=\"/wiki/Universidad_de_Cornell\" title=\"Universidad de Cornell\">Universidad de Cornell</a>\n",
      "Contenido: \n",
      "['Universidad de Cornell']\n",
      "Título: \n",
      "Universidad de Cornell\n",
      "\n",
      "<a class=\"new\" href=\"/w/index.php?title=C%C3%A1tedra_David_Duncan_de_Astronom%C3%ADa_y_Ciencias_del_Espacio&amp;action=edit&amp;redlink=1\" title=\"Cátedra David Duncan de Astronomía y Ciencias del Espacio (aún no redactado)\">Cátedra David Duncan de Astronomía y Ciencias del Espacio</a>\n",
      "Contenido: \n",
      "['Cátedra David Duncan de Astronomía y Ciencias del Espacio']\n",
      "Título: \n",
      "Cátedra David Duncan de Astronomía y Ciencias del Espacio (aún no redactado)\n",
      "\n",
      "<a href=\"/wiki/1976\" title=\"1976\">1976</a>\n",
      "Contenido: \n",
      "['1976']\n",
      "Título: \n",
      "1976\n",
      "\n",
      "<a class=\"new\" href=\"/w/index.php?title=Laboratorio_de_Estudios_Planetarios&amp;action=edit&amp;redlink=1\" title=\"Laboratorio de Estudios Planetarios (aún no redactado)\">Laboratorio de Estudios Planetarios</a>\n",
      "Contenido: \n",
      "['Laboratorio de Estudios Planetarios']\n",
      "Título: \n",
      "Laboratorio de Estudios Planetarios (aún no redactado)\n",
      "\n"
     ]
    }
   ],
   "source": []
  }
 ],
 "metadata": {
  "kernelspec": {
   "display_name": "Python 3",
   "language": "python",
   "name": "python3"
  },
  "language_info": {
   "codemirror_mode": {
    "name": "ipython",
    "version": 3
   },
   "file_extension": ".py",
   "mimetype": "text/x-python",
   "name": "python",
   "nbconvert_exporter": "python",
   "pygments_lexer": "ipython3",
   "version": "3.7.4"
  }
 },
 "nbformat": 4,
 "nbformat_minor": 2
}
