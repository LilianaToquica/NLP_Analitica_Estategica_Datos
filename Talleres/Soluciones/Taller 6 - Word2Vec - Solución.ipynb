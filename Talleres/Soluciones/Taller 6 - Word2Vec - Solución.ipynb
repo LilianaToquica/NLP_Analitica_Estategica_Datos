{
 "cells": [
  {
   "cell_type": "markdown",
   "metadata": {},
   "source": [
    "<img src='https://encrypted-tbn0.gstatic.com/images?q=tbn%3AANd9GcQ-VfNtOyJbsaxu43Kztf_cv1mgBG6ZIQZEVw&usqp=CAU'>\n",
    "\n",
    "# Procesamiento de Lenguage Natural\n",
    "\n",
    "## Taller #6: Word2Vec\n",
    "`Fecha de entrega: Septiembre 19, 2020. (Antes del inicio de la próxima clase).`\n",
    "\n",
    "`Modo de entrega: Subir link de GitHub al aula virtual.`\n",
    "\n",
    "\n",
    "\n",
    "## Libre elección\n",
    "\n",
    "Expectativas:\n",
    "- Uso de Word2Vec \n",
    "- Responder:\n",
    "    - ¿Su modelo da buenos resultados? ¿Por qué sí o por qué no?\n",
    "    - ¿Qué problemas encontró al realizar este taller?\n",
    "    \n",
    "    \n",
    "Ideas algunas por si están varados: \n",
    "- Hacer más visualizaciones\n",
    "- Jugar con los parámetros de la funcion word2vec de gensim\n",
    "- Usar alguna función de gensim que no hayamos visto en clase (https://radimrehurek.com/gensim/models/word2vec.html#module-gensim.models.word2vec)\n",
    "- Comparar palabras del inglés y el español\n",
    "- Encontrar analogías y similutdes interesantes\n",
    "\n",
    "\n",
    "### Enviar código con explicaciones del por qué escogieron ese camino"
   ]
  },
  {
   "cell_type": "code",
   "execution_count": 1,
   "metadata": {},
   "outputs": [],
   "source": [
    "import re\n",
    "import pandas as pd\n",
    "\n",
    "from nltk.corpus import stopwords\n",
    "stopwords_sp = stopwords.words('spanish')\n",
    "\n",
    "import gensim.models.word2vec as w2v\n",
    "from sklearn.decomposition import PCA\n",
    "import matplotlib.pyplot as plt\n",
    "import plotly.graph_objs as go\n",
    "from plotly.offline import iplot"
   ]
  },
  {
   "cell_type": "code",
   "execution_count": 2,
   "metadata": {},
   "outputs": [],
   "source": [
    "data = pd.read_csv(\"archivos/Simpsons.csv\")"
   ]
  },
  {
   "cell_type": "code",
   "execution_count": 3,
   "metadata": {},
   "outputs": [
    {
     "data": {
      "text/html": [
       "<div>\n",
       "<style scoped>\n",
       "    .dataframe tbody tr th:only-of-type {\n",
       "        vertical-align: middle;\n",
       "    }\n",
       "\n",
       "    .dataframe tbody tr th {\n",
       "        vertical-align: top;\n",
       "    }\n",
       "\n",
       "    .dataframe thead th {\n",
       "        text-align: right;\n",
       "    }\n",
       "</style>\n",
       "<table border=\"1\" class=\"dataframe\">\n",
       "  <thead>\n",
       "    <tr style=\"text-align: right;\">\n",
       "      <th></th>\n",
       "      <th>Personaje</th>\n",
       "      <th>Descripción</th>\n",
       "    </tr>\n",
       "  </thead>\n",
       "  <tbody>\n",
       "    <tr>\n",
       "      <td>0</td>\n",
       "      <td>Homer</td>\n",
       "      <td>Rol en Los Simpson\\nHomer Simpson realiza las ...</td>\n",
       "    </tr>\n",
       "    <tr>\n",
       "      <td>1</td>\n",
       "      <td>Marge</td>\n",
       "      <td>Papel en Los Simpson\\nMarge hace el típico pap...</td>\n",
       "    </tr>\n",
       "    <tr>\n",
       "      <td>2</td>\n",
       "      <td>Bart</td>\n",
       "      <td>Papel en Los Simpson\\nBart es el problemático ...</td>\n",
       "    </tr>\n",
       "    <tr>\n",
       "      <td>3</td>\n",
       "      <td>Lisa</td>\n",
       "      <td>Papel en Los Simpson\\nLisa Simpson desempeña l...</td>\n",
       "    </tr>\n",
       "    <tr>\n",
       "      <td>4</td>\n",
       "      <td>Maggie</td>\n",
       "      <td>Papel en Los Simpson\\nEl rol que Maggie desemp...</td>\n",
       "    </tr>\n",
       "    <tr>\n",
       "      <td>5</td>\n",
       "      <td>Abraham</td>\n",
       "      <td>Papel en Los Simpson\\nAbraham Simpson es el ab...</td>\n",
       "    </tr>\n",
       "    <tr>\n",
       "      <td>6</td>\n",
       "      <td>Patty y Selma</td>\n",
       "      <td>Papel en Los Simpson\\nLas hermanas mayores de ...</td>\n",
       "    </tr>\n",
       "    <tr>\n",
       "      <td>7</td>\n",
       "      <td>Smithers</td>\n",
       "      <td>Papel en Los Simpson\\nWaylon Smithers es el fi...</td>\n",
       "    </tr>\n",
       "    <tr>\n",
       "      <td>8</td>\n",
       "      <td>Lenny</td>\n",
       "      <td>Información general\\nLenny es uno de los perso...</td>\n",
       "    </tr>\n",
       "    <tr>\n",
       "      <td>9</td>\n",
       "      <td>Carl</td>\n",
       "      <td>Carlton \"Carl\" Carlson (en algunos episodios d...</td>\n",
       "    </tr>\n",
       "    <tr>\n",
       "      <td>10</td>\n",
       "      <td>Burns</td>\n",
       "      <td>Papel en Los Simpson\\nOriginalmente, este pers...</td>\n",
       "    </tr>\n",
       "    <tr>\n",
       "      <td>11</td>\n",
       "      <td>Flanders</td>\n",
       "      <td>Nedward «Ned» Flanders2​ es un personaje ficti...</td>\n",
       "    </tr>\n",
       "    <tr>\n",
       "      <td>12</td>\n",
       "      <td>Milhouse</td>\n",
       "      <td>Milhouse Mussolini Van Houten es un personaje ...</td>\n",
       "    </tr>\n",
       "    <tr>\n",
       "      <td>13</td>\n",
       "      <td>Skinner</td>\n",
       "      <td>Seymour Skinner (cuyo nombre original era Armi...</td>\n",
       "    </tr>\n",
       "    <tr>\n",
       "      <td>14</td>\n",
       "      <td>Krusty</td>\n",
       "      <td>Papel en Los Simpson\\n\\nDan Castellaneta basó ...</td>\n",
       "    </tr>\n",
       "    <tr>\n",
       "      <td>15</td>\n",
       "      <td>Gordo Tony</td>\n",
       "      <td>Papel en Los Simpson\\nFat Tony hace la satiriz...</td>\n",
       "    </tr>\n",
       "  </tbody>\n",
       "</table>\n",
       "</div>"
      ],
      "text/plain": [
       "        Personaje                                        Descripción\n",
       "0           Homer  Rol en Los Simpson\\nHomer Simpson realiza las ...\n",
       "1           Marge  Papel en Los Simpson\\nMarge hace el típico pap...\n",
       "2            Bart  Papel en Los Simpson\\nBart es el problemático ...\n",
       "3            Lisa  Papel en Los Simpson\\nLisa Simpson desempeña l...\n",
       "4          Maggie  Papel en Los Simpson\\nEl rol que Maggie desemp...\n",
       "5         Abraham  Papel en Los Simpson\\nAbraham Simpson es el ab...\n",
       "6   Patty y Selma  Papel en Los Simpson\\nLas hermanas mayores de ...\n",
       "7        Smithers  Papel en Los Simpson\\nWaylon Smithers es el fi...\n",
       "8           Lenny  Información general\\nLenny es uno de los perso...\n",
       "9            Carl  Carlton \"Carl\" Carlson (en algunos episodios d...\n",
       "10          Burns  Papel en Los Simpson\\nOriginalmente, este pers...\n",
       "11       Flanders  Nedward «Ned» Flanders2​ es un personaje ficti...\n",
       "12       Milhouse  Milhouse Mussolini Van Houten es un personaje ...\n",
       "13        Skinner  Seymour Skinner (cuyo nombre original era Armi...\n",
       "14         Krusty  Papel en Los Simpson\\n\\nDan Castellaneta basó ...\n",
       "15     Gordo Tony  Papel en Los Simpson\\nFat Tony hace la satiriz..."
      ]
     },
     "execution_count": 3,
     "metadata": {},
     "output_type": "execute_result"
    }
   ],
   "source": [
    "data"
   ]
  },
  {
   "cell_type": "code",
   "execution_count": 4,
   "metadata": {},
   "outputs": [
    {
     "data": {
      "text/html": [
       "<div>\n",
       "<style scoped>\n",
       "    .dataframe tbody tr th:only-of-type {\n",
       "        vertical-align: middle;\n",
       "    }\n",
       "\n",
       "    .dataframe tbody tr th {\n",
       "        vertical-align: top;\n",
       "    }\n",
       "\n",
       "    .dataframe thead th {\n",
       "        text-align: right;\n",
       "    }\n",
       "</style>\n",
       "<table border=\"1\" class=\"dataframe\">\n",
       "  <thead>\n",
       "    <tr style=\"text-align: right;\">\n",
       "      <th></th>\n",
       "      <th>Personaje</th>\n",
       "      <th>Descripción</th>\n",
       "      <th>pp</th>\n",
       "    </tr>\n",
       "  </thead>\n",
       "  <tbody>\n",
       "    <tr>\n",
       "      <td>0</td>\n",
       "      <td>Homer</td>\n",
       "      <td>Rol en Los Simpson\\nHomer Simpson realiza las ...</td>\n",
       "      <td>[rol, simpson, homer, simpson, realiza, típica...</td>\n",
       "    </tr>\n",
       "    <tr>\n",
       "      <td>1</td>\n",
       "      <td>Marge</td>\n",
       "      <td>Papel en Los Simpson\\nMarge hace el típico pap...</td>\n",
       "      <td>[papel, simpson, marge, hace, típico, papel, m...</td>\n",
       "    </tr>\n",
       "    <tr>\n",
       "      <td>2</td>\n",
       "      <td>Bart</td>\n",
       "      <td>Papel en Los Simpson\\nBart es el problemático ...</td>\n",
       "      <td>[papel, simpson, bart, problemático, familia, ...</td>\n",
       "    </tr>\n",
       "    <tr>\n",
       "      <td>3</td>\n",
       "      <td>Lisa</td>\n",
       "      <td>Papel en Los Simpson\\nLisa Simpson desempeña l...</td>\n",
       "      <td>[papel, simpson, lisa, simpson, desempeña, fun...</td>\n",
       "    </tr>\n",
       "    <tr>\n",
       "      <td>4</td>\n",
       "      <td>Maggie</td>\n",
       "      <td>Papel en Los Simpson\\nEl rol que Maggie desemp...</td>\n",
       "      <td>[papel, simpson, rol, maggie, desempeña, serie...</td>\n",
       "    </tr>\n",
       "  </tbody>\n",
       "</table>\n",
       "</div>"
      ],
      "text/plain": [
       "  Personaje                                        Descripción  \\\n",
       "0     Homer  Rol en Los Simpson\\nHomer Simpson realiza las ...   \n",
       "1     Marge  Papel en Los Simpson\\nMarge hace el típico pap...   \n",
       "2      Bart  Papel en Los Simpson\\nBart es el problemático ...   \n",
       "3      Lisa  Papel en Los Simpson\\nLisa Simpson desempeña l...   \n",
       "4    Maggie  Papel en Los Simpson\\nEl rol que Maggie desemp...   \n",
       "\n",
       "                                                  pp  \n",
       "0  [rol, simpson, homer, simpson, realiza, típica...  \n",
       "1  [papel, simpson, marge, hace, típico, papel, m...  \n",
       "2  [papel, simpson, bart, problemático, familia, ...  \n",
       "3  [papel, simpson, lisa, simpson, desempeña, fun...  \n",
       "4  [papel, simpson, rol, maggie, desempeña, serie...  "
      ]
     },
     "execution_count": 4,
     "metadata": {},
     "output_type": "execute_result"
    }
   ],
   "source": [
    "def pre_procesado(texto):\n",
    "    texto = texto.lower()\n",
    "    texto = re.sub(r\"[\\W\\d_]+\", \" \", texto)\n",
    "    texto = \" \".join([palabra for palabra in texto.split() if palabra not in stopwords_sp])\n",
    "    return texto.split()\n",
    "\n",
    "data['pp'] = data['Descripción'].apply(lambda texto: pre_procesado(texto))\n",
    "\n",
    "data.head()"
   ]
  },
  {
   "cell_type": "code",
   "execution_count": 34,
   "metadata": {},
   "outputs": [],
   "source": [
    "mi_modelo = w2v.Word2Vec(data['pp'].values,\n",
    "                         sg=1, # 1 para usar skip-gram, 0 para usar CBOW\n",
    "                         seed=1, # 1 para tener resultados reproducibles y debugear\n",
    "                         size=50, # el tamaño de los vectores de palabras, o neuronas\n",
    "                         window=7) "
   ]
  },
  {
   "cell_type": "code",
   "execution_count": 40,
   "metadata": {},
   "outputs": [
    {
     "data": {
      "text/plain": [
       "337"
      ]
     },
     "execution_count": 40,
     "metadata": {},
     "output_type": "execute_result"
    }
   ],
   "source": [
    "len(mi_modelo.wv.vocab.keys())"
   ]
  },
  {
   "cell_type": "code",
   "execution_count": 27,
   "metadata": {},
   "outputs": [
    {
     "name": "stderr",
     "output_type": "stream",
     "text": [
      "/opt/anaconda3/lib/python3.7/site-packages/ipykernel_launcher.py:1: DeprecationWarning:\n",
      "\n",
      "Call to deprecated `__getitem__` (Method will be removed in 4.0.0, use self.wv.__getitem__() instead).\n",
      "\n"
     ]
    }
   ],
   "source": [
    "X = mi_modelo[mi_modelo.wv.vocab]\n",
    "matrix = pd.DataFrame(X)\n",
    "matrix.index = mi_modelo.wv.vocab.keys()"
   ]
  },
  {
   "cell_type": "code",
   "execution_count": 28,
   "metadata": {},
   "outputs": [
    {
     "data": {
      "application/vnd.plotly.v1+json": {
       "config": {
        "linkText": "Export to plot.ly",
        "plotlyServerURL": "https://plot.ly",
        "showLink": false
       },
       "data": [
        {
         "marker": {
          "color": [
           "#2f64d6",
           "#2f64d6",
           "#2f64d6",
           "#2f64d6",
           "#2f64d6",
           "#2f64d6",
           "#2f64d6",
           "#2f64d6",
           "#2f64d6",
           "#2f64d6",
           "#2f64d6",
           "#2f64d6",
           "#2f64d6",
           "#2f64d6",
           "#2f64d6",
           "#2f64d6",
           "#2f64d6",
           "#2f64d6",
           "#2f64d6",
           "#2f64d6",
           "#2f64d6",
           "#2f64d6",
           "#2f64d6",
           "#2f64d6",
           "#2f64d6",
           "#2f64d6",
           "#2f64d6",
           "#2f64d6",
           "#2f64d6",
           "#2f64d6",
           "#2f64d6",
           "#2f64d6",
           "#2f64d6",
           "#2f64d6",
           "#2f64d6",
           "#2f64d6",
           "#2f64d6",
           "#2f64d6",
           "#2f64d6",
           "#2f64d6",
           "#2f64d6",
           "#2f64d6",
           "#2f64d6",
           "#2f64d6",
           "#2f64d6",
           "#2f64d6",
           "#2f64d6",
           "#2f64d6",
           "#2f64d6",
           "#2f64d6",
           "#2f64d6",
           "#2f64d6",
           "#2f64d6",
           "#2f64d6",
           "#2f64d6",
           "#2f64d6",
           "#2f64d6",
           "#2f64d6",
           "#2f64d6",
           "#2f64d6",
           "#2f64d6",
           "#2f64d6",
           "#2f64d6",
           "#2f64d6",
           "#2f64d6",
           "#2f64d6",
           "#2f64d6",
           "#2f64d6",
           "#2f64d6",
           "#2f64d6",
           "#2f64d6",
           "#2f64d6",
           "#2f64d6",
           "#2f64d6",
           "#2f64d6",
           "#2f64d6",
           "#2f64d6",
           "#2f64d6",
           "#2f64d6",
           "#2f64d6",
           "#2f64d6",
           "#2f64d6",
           "#2f64d6",
           "#2f64d6",
           "#2f64d6",
           "#2f64d6",
           "#2f64d6",
           "#2f64d6",
           "#2f64d6",
           "#2f64d6",
           "#2f64d6",
           "#2f64d6",
           "#2f64d6",
           "#2f64d6",
           "#2f64d6",
           "#2f64d6",
           "#2f64d6",
           "#2f64d6",
           "#2f64d6",
           "#2f64d6",
           "#2f64d6",
           "#2f64d6",
           "#2f64d6",
           "#2f64d6",
           "#2f64d6",
           "#2f64d6",
           "#2f64d6",
           "#2f64d6",
           "#2f64d6",
           "#2f64d6",
           "#2f64d6",
           "#2f64d6",
           "#2f64d6",
           "#2f64d6",
           "#2f64d6",
           "#2f64d6",
           "#2f64d6",
           "#2f64d6",
           "#2f64d6",
           "#2f64d6",
           "#2f64d6",
           "#2f64d6",
           "#2f64d6",
           "#2f64d6",
           "#2f64d6",
           "#2f64d6",
           "#2f64d6",
           "#2f64d6",
           "#2f64d6",
           "#2f64d6",
           "#2f64d6",
           "#2f64d6",
           "#2f64d6",
           "#2f64d6",
           "#2f64d6",
           "#2f64d6",
           "#2f64d6",
           "#2f64d6",
           "#2f64d6",
           "#2f64d6",
           "#2f64d6",
           "#2f64d6",
           "#2f64d6",
           "#2f64d6",
           "#2f64d6",
           "#2f64d6",
           "#2f64d6",
           "#2f64d6",
           "#2f64d6",
           "#2f64d6",
           "#2f64d6",
           "#2f64d6",
           "#2f64d6",
           "#2f64d6",
           "#2f64d6",
           "#2f64d6",
           "#2f64d6",
           "#2f64d6",
           "#2f64d6",
           "#2f64d6",
           "#2f64d6",
           "#2f64d6",
           "#2f64d6",
           "#2f64d6",
           "#2f64d6",
           "#2f64d6",
           "#2f64d6",
           "#2f64d6",
           "#2f64d6",
           "#2f64d6",
           "#2f64d6",
           "#2f64d6",
           "#2f64d6",
           "#2f64d6",
           "#2f64d6",
           "#2f64d6",
           "#2f64d6",
           "#2f64d6",
           "#2f64d6",
           "#2f64d6",
           "#2f64d6",
           "#2f64d6",
           "#2f64d6",
           "#2f64d6",
           "#2f64d6",
           "#2f64d6",
           "#2f64d6",
           "#2f64d6",
           "#2f64d6",
           "#2f64d6",
           "#2f64d6",
           "#2f64d6",
           "#2f64d6",
           "#2f64d6",
           "#2f64d6",
           "#2f64d6",
           "#2f64d6",
           "#2f64d6",
           "#2f64d6",
           "#2f64d6",
           "#2f64d6",
           "#2f64d6",
           "#2f64d6",
           "#2f64d6",
           "#2f64d6",
           "#2f64d6",
           "#2f64d6",
           "#2f64d6",
           "#2f64d6",
           "#2f64d6",
           "#2f64d6",
           "#2f64d6",
           "#2f64d6",
           "#2f64d6",
           "#2f64d6",
           "#2f64d6",
           "#2f64d6",
           "#2f64d6",
           "#2f64d6",
           "#2f64d6",
           "#2f64d6",
           "#2f64d6",
           "#2f64d6",
           "#2f64d6",
           "#2f64d6",
           "#2f64d6",
           "#2f64d6",
           "#2f64d6",
           "#2f64d6",
           "#2f64d6",
           "#2f64d6",
           "#2f64d6",
           "#2f64d6",
           "#2f64d6",
           "#2f64d6",
           "#2f64d6",
           "#2f64d6",
           "#2f64d6",
           "#2f64d6",
           "#2f64d6",
           "#2f64d6",
           "#2f64d6",
           "#2f64d6",
           "#2f64d6",
           "#2f64d6",
           "#2f64d6",
           "#2f64d6",
           "#2f64d6",
           "#2f64d6",
           "#2f64d6",
           "#2f64d6",
           "#2f64d6",
           "#2f64d6",
           "#2f64d6",
           "#2f64d6",
           "#2f64d6",
           "#2f64d6",
           "#2f64d6",
           "#2f64d6",
           "#2f64d6",
           "#2f64d6",
           "#2f64d6",
           "#2f64d6",
           "#2f64d6",
           "#2f64d6",
           "#2f64d6",
           "#2f64d6",
           "#2f64d6",
           "#2f64d6",
           "#2f64d6",
           "#2f64d6",
           "#2f64d6",
           "#2f64d6",
           "#2f64d6",
           "#2f64d6",
           "#2f64d6",
           "#2f64d6",
           "#2f64d6",
           "#2f64d6",
           "#2f64d6",
           "#2f64d6",
           "#2f64d6",
           "#2f64d6",
           "#2f64d6",
           "#2f64d6",
           "#2f64d6",
           "#2f64d6",
           "#2f64d6",
           "#2f64d6",
           "#2f64d6",
           "#2f64d6",
           "#2f64d6",
           "#2f64d6",
           "#2f64d6",
           "#2f64d6",
           "#2f64d6",
           "#2f64d6",
           "#2f64d6",
           "#2f64d6",
           "#2f64d6",
           "#2f64d6",
           "#2f64d6",
           "#2f64d6",
           "#2f64d6",
           "#2f64d6",
           "#2f64d6",
           "#2f64d6",
           "#2f64d6",
           "#2f64d6",
           "#2f64d6",
           "#2f64d6",
           "#2f64d6",
           "#2f64d6",
           "#2f64d6",
           "#2f64d6",
           "#2f64d6",
           "#2f64d6",
           "#2f64d6",
           "#2f64d6",
           "#2f64d6",
           "#2f64d6",
           "#2f64d6"
          ],
          "size": 10
         },
         "mode": "markers",
         "name": "Palabras",
         "text": [
          "rol",
          "simpson",
          "cabeza",
          "familia",
          "lleva",
          "dinero",
          "hogar",
          "representa",
          "estereotipo",
          "medio",
          "ir",
          "amigos",
          "ver",
          "televisión",
          "algún",
          "partido",
          "pesar",
          "tener",
          "gran",
          "episodios",
          "personaje",
          "serie",
          "estupidez",
          "bajo",
          "nivel",
          "inteligencia",
          "director",
          "física",
          "hombre",
          "dedica",
          "además",
          "grandes",
          "futuro",
          "acostumbra",
          "familiares",
          "suele",
          "capítulos",
          "cada",
          "vez",
          "biografía",
          "debido",
          "personajes",
          "tal",
          "año",
          "largo",
          "alguna",
          "ser",
          "ello",
          "edad",
          "muchas",
          "suelen",
          "episodio",
          "incluso",
          "parece",
          "haber",
          "aunque",
          "dado",
          "acerca",
          "primera",
          "especial",
          "da",
          "nació",
          "s",
          "años",
          "padres",
          "mona",
          "mientras",
          "pasa",
          "montgomery",
          "período",
          "campamento",
          "amor",
          "tiempo",
          "tarde",
          "esposa",
          "escuela",
          "springfield",
          "último",
          "segunda",
          "tras",
          "mal",
          "va",
          "cuenta",
          "ido",
          "así",
          "quedó",
          "embarazada",
          "después",
          "dos",
          "pequeña",
          "lado",
          "mantener",
          "hijo",
          "trabajo",
          "planta",
          "nuclear",
          "seguridad",
          "capítulo",
          "llegó",
          "central",
          "recurrente",
          "primeras",
          "temporadas",
          "cabo",
          "queda",
          "pareja",
          "dio",
          "casa",
          "padre",
          "propia",
          "vivir",
          "barney",
          "poder",
          "universidad",
          "ayuda",
          "ve",
          "hijos",
          "vida",
          "cotidiana",
          "marca",
          "energía",
          "puesto",
          "resto",
          "día",
          "bien",
          "parte",
          "moe",
          "pasar",
          "programa",
          "productos",
          "atención",
          "ocasiones",
          "generalmente",
          "cualquier",
          "caso",
          "matrimonio",
          "protagonista",
          "especialmente",
          "familiar",
          "hacer",
          "toda",
          "salud",
          "bastante",
          "ocasión",
          "sólo",
          "casi",
          "sido",
          "sufre",
          "varios",
          "problemas",
          "gen",
          "cerebro",
          "menos",
          "veces",
          "gafas",
          "casado",
          "hermano",
          "madre",
          "hija",
          "mujer",
          "guerra",
          "mundial",
          "según",
          "the",
          "varias",
          "cosas",
          "ned",
          "muestra",
          "acciones",
          "gente",
          "hace",
          "naturaleza",
          "capaz",
          "cosa",
          "intelectual",
          "alcohol",
          "falta",
          "mismo",
          "niño",
          "realizar",
          "menudo",
          "marido",
          "maneras",
          "manera",
          "guionistas",
          "misma",
          "cierta",
          "todas",
          "siempre",
          "voz",
          "persona",
          "pantalones",
          "azules",
          "papel",
          "típico",
          "ama",
          "principal",
          "realidad",
          "mayores",
          "feliz",
          "presencia",
          "joven",
          "podría",
          "nombre",
          "sabe",
          "ciudad",
          "relación",
          "actualmente",
          "entonces",
          "normalmente",
          "general",
          "niños",
          "éxito",
          "tan",
          "gusta",
          "si",
          "valores",
          "unas",
          "situaciones",
          "mayor",
          "éste",
          "muestras",
          "personas",
          "dar",
          "hecho",
          "demostrado",
          "salida",
          "verde",
          "zapatos",
          "especiales",
          "pelo",
          "azul",
          "travesuras",
          "típicos",
          "hermanos",
          "rebelde",
          "empieza",
          "hacia",
          "original",
          "españa",
          "usa",
          "hizo",
          "aún",
          "embargo",
          "ambos",
          "centro",
          "hermana",
          "constantemente",
          "llegando",
          "desarrollar",
          "primaria",
          "cambio",
          "mujeres",
          "abuelo",
          "mejor",
          "amigo",
          "haciendo",
          "payaso",
          "nunca",
          "actividades",
          "diez",
          "cariño",
          "luego",
          "ejemplo",
          "niña",
          "mundo",
          "solo",
          "ficticio",
          "budista",
          "escribir",
          "tipo",
          "juntos",
          "ambas",
          "descubre",
          "puede",
          "vuelto",
          "puntas",
          "entender",
          "visto",
          "bebé",
          "características",
          "temporada",
          "señor",
          "volvió",
          "película",
          "nueva",
          "of",
          "junto",
          "muerte",
          "dice",
          "anciano",
          "vive",
          "chistes",
          "ocasionalmente",
          "abe",
          "lugar",
          "veterano",
          "política",
          "momento",
          "and",
          "aspecto",
          "hermanas",
          "finalmente",
          "aparece",
          "dando",
          "viviendo",
          "bob",
          "responde",
          "duda",
          "doblado",
          "hispanoamérica",
          "menciona",
          "fortuna",
          "josé",
          "reemplazado",
          "decidió",
          "seymour",
          "edna",
          "krabappel",
          "beatles",
          "vietnam",
          "carrera"
         ],
         "type": "scatter",
         "x": [
          -0.012563943169236045,
          0.046391784503528086,
          -0.00940555418441922,
          0.022234410600214395,
          -0.012825818809301648,
          -0.015392526129124926,
          0.00019679734562525253,
          -0.013645687441795363,
          -0.012211652012462014,
          -0.008427904752602352,
          0.007878033666284189,
          0.010322390166673337,
          0.008417811343825219,
          0.006770280828828651,
          0.00377710264958214,
          -0.0065086702571266215,
          0.004278834260474477,
          -0.003994552458930116,
          0.009789529557038157,
          0.008492166411152703,
          0.014933249629149405,
          0.03902327963489357,
          -0.006099913992601488,
          -0.01487020135962903,
          -0.012428715818695788,
          -0.009615546641296982,
          0.014424460643560117,
          -0.010038974139212306,
          0.008007183883545765,
          -0.009142493006775734,
          0.008496846000096227,
          0.00044370333939834156,
          -0.005379171418764194,
          -0.006434069502200522,
          -0.004705328052388897,
          0.02460389926056673,
          0.004854450151549327,
          -0.005967397022343006,
          0.006927485727394267,
          -0.0014593363301426113,
          0.0168718668824527,
          0.005542380953102276,
          -0.006688012116856332,
          -0.008183621846206373,
          -0.0038098097413431166,
          -0.0017306291085891342,
          0.021808982063100807,
          -0.009818271503707942,
          0.021982955442657288,
          -0.011419896228257759,
          -0.007099814243654487,
          0.03696484541256031,
          0.007959285559688617,
          0.01678176382547458,
          -0.008048886107020167,
          0.02941425710133269,
          0.0067276002174238994,
          -0.015667533003906876,
          0.021043464179194345,
          0.009675990840455997,
          0.004143831805280994,
          -6.7400098948640875e-06,
          -0.007988896999951405,
          0.022360379815002985,
          0.0034094024086488888,
          -0.006049325797613828,
          0.016667521668214485,
          -0.0076357051903517045,
          -0.00690454882681437,
          -0.011284519163885618,
          -0.009851474535598653,
          0.014922506066227036,
          0.014503071028763269,
          -0.004157358265814134,
          -0.0018841144454636379,
          0.021592715311003454,
          0.03383860944509907,
          -0.0071213601641755735,
          0.010941763123139877,
          0.0042183823075216354,
          -0.008480740685190702,
          -0.002649759367299469,
          -0.0005435964097818602,
          -0.0013663318085412536,
          8.990568216383361e-05,
          -0.011018829277900821,
          -0.001962127217916498,
          0.014265999076582025,
          0.030172484287373336,
          -0.011932826444231494,
          -0.01147250636876569,
          -0.009169538229879967,
          0.002723646132588224,
          0.004608603338600963,
          0.0016113153854551215,
          0.0038176065079656854,
          -0.012495075616843897,
          0.018764448114741362,
          -0.0044304354454391,
          0.00417161283830103,
          -0.009613218543602428,
          -0.002168279488820047,
          0.006582635069984966,
          -0.013277512251891931,
          -0.007115561464588349,
          0.006391600050943525,
          -0.011779601541721764,
          0.02258169287597989,
          0.020891000354512235,
          -0.011172813999857957,
          -0.002070333275269642,
          -0.013412825910100084,
          -0.0074646250920244765,
          -0.007470989921529306,
          0.0012693590950196211,
          0.014634503766341898,
          -0.0006496335747484273,
          0.02948557509862029,
          -0.0100861828106037,
          -0.01242324047162576,
          -0.012231989868139668,
          -0.007691380841989814,
          -0.007073630976721123,
          0.012788930461748293,
          -0.004141833147450294,
          0.020581745986616298,
          -0.0156762258034891,
          0.004072074013470626,
          0.0006358201482637523,
          -0.0009719358501459822,
          -0.0005542392503260823,
          0.002568226007759066,
          0.0024522471226579275,
          -0.002584312776515686,
          0.002590589701496589,
          -0.010998446708552172,
          -0.00764377645716186,
          -0.008088580046913742,
          -0.001238814060220512,
          0.008717005620456655,
          0.0011327960616132665,
          -0.006152991343060611,
          -0.0013894655660111818,
          0.002542220814690167,
          -0.0065860965166379655,
          0.012885778441385295,
          0.011378265608909212,
          -0.007207817855759809,
          0.005185296571688716,
          -0.0057843198855759125,
          -0.009485991239837378,
          -0.014382701459904787,
          -0.007089166434753814,
          0.015262841319613314,
          -0.011733848502151983,
          -0.002116335293175109,
          0.0031681618518502592,
          0.01980154103635957,
          -0.010648456157665322,
          -0.007623199639965364,
          0.019187311217125504,
          0.0006335091531981273,
          0.0008626462022608115,
          0.027166882865175726,
          0.012171436902879288,
          0.003941828087816642,
          0.016722527639563715,
          0.010153543445296299,
          -0.005127247266432207,
          -0.010904265545174702,
          0.008428853826863484,
          -0.01541735509767964,
          -0.015355094710075257,
          0.0025162255731617893,
          -0.011372603826823905,
          -0.008021523582078144,
          -0.016287381248211368,
          0.008473958968844978,
          0.005498409083987382,
          -0.009358102591003734,
          0.0069949655227595315,
          -0.009789457959078181,
          -0.004357404027271671,
          -0.00017610313502831588,
          0.013885733663965944,
          -0.0034380547651639277,
          -0.008360649032840515,
          -0.0009918441540198893,
          0.015385605413206634,
          0.005676126005523017,
          -0.011311031534644954,
          -0.005605590500043481,
          -0.009265752428358292,
          0.0029296246762686717,
          -0.006286250323060121,
          -0.01896722755580934,
          -0.010470161725423744,
          -0.005216096491078816,
          -0.0029611993994834366,
          -0.007529440470437689,
          -0.019921021860457355,
          -0.007466090559727623,
          0.0017478831679561273,
          0.01045873084449754,
          -0.007918942135756946,
          -0.008556881774096924,
          0.012323715549986755,
          0.003920281686196875,
          0.0030101503841343416,
          -0.008941135003933547,
          -0.011010514213878471,
          0.006816674934877223,
          -0.00914476495459145,
          -0.007843074966567628,
          -0.0005115451351914321,
          -0.010265028424913029,
          -0.014010536261520866,
          -0.011054952122491957,
          -0.011989900274012193,
          0.006848545977991735,
          -0.0061111103289218606,
          -0.0062185395857673464,
          0.004684174992819205,
          -0.016407213915230694,
          0.007864705345152368,
          -0.007770383528432764,
          -0.013112752715452217,
          -0.014417489931069252,
          -0.016519322135434285,
          -0.014300460275419643,
          -0.00531645909374657,
          -0.014610792756818062,
          -0.0064086215491195924,
          -0.011278751364146309,
          -0.013039106020205981,
          -0.0115965982703451,
          -0.011591650407857763,
          -0.0031442285271424115,
          0.009237329550411564,
          -0.0036911305346320374,
          -0.012835598366772779,
          -0.014609929523922153,
          -0.004522191493920808,
          0.014554143747697122,
          -0.003188315680678752,
          -0.010040390855893545,
          0.001043145469833079,
          -0.007617511504492666,
          -0.006957377757974137,
          -0.018369488617253526,
          -0.004334776837447918,
          -0.010653139340695797,
          -0.01593348122094685,
          0.012261648491912873,
          0.0019135494016364388,
          0.0062640149365834775,
          -0.011469767645057857,
          0.0283655995593761,
          -0.01015282275028053,
          -0.01978848854538647,
          -0.01164646081765163,
          -0.013345534457736268,
          0.009526424636114405,
          -0.0178859845474226,
          -0.013619479710317451,
          0.009279420716403202,
          0.00433605852941517,
          -0.009992514246090859,
          -0.015577613669432302,
          -0.011258574499544573,
          -0.009232767675981154,
          0.0005689234569598689,
          -0.011568893583297752,
          -0.013700923122424918,
          0.007897192872731591,
          -0.008859430882271466,
          -0.011484532022769034,
          -0.009591677236806475,
          -0.0021944138628580976,
          0.00825087223570371,
          -0.0091816738263887,
          0.04433359396897447,
          0.015113822854570007,
          -0.008633644570795752,
          -0.008005970807682177,
          -0.00525427258590692,
          0.005586198742576383,
          0.005038802074113885,
          0.0029098532746087338,
          0.006804310126394884,
          -0.006151994602408178,
          0.006265631347775861,
          -0.010709927143179464,
          -0.00814234516784375,
          0.001479355252292981,
          0.008618340742920045,
          -0.008424231812083492,
          -0.011097567083025877,
          -0.010964408261831723,
          0.0008776466543645791,
          -0.007492123083751236,
          -0.019569321407512746,
          0.007534552890622854,
          -0.0021370349876068543,
          -0.010779588155111404,
          -0.012424475983620842,
          0.011207358881061624,
          -0.017237223794048087,
          -0.010353628264372798,
          0.02027018059911218,
          -0.003930547301199817,
          -0.003652729683371677,
          -0.011136207848724584,
          -0.004826505595745326,
          -0.011055404348340283,
          -0.012201305460498373,
          -0.003287792160471333,
          0.0029139637625400666,
          -0.015220876637524864,
          -0.007660723595708453,
          -0.00851184357216989,
          -0.005348322649441036
         ],
         "y": [
          -0.003386217877794602,
          -0.0089319090796507,
          -0.0033800258664794533,
          0.00419715628363294,
          -0.0004793376059807912,
          0.0036913382691123563,
          0.0010141236439047095,
          -0.002428176223981615,
          -0.00107530715424114,
          0.0029210047583851702,
          0.002595048367497568,
          -0.005366198669460404,
          -0.003118692340721854,
          0.0033506862193855473,
          0.003916235207623964,
          -0.0005100429625443464,
          0.0022754240294043026,
          -0.0028192092814331624,
          0.001784896802650164,
          0.0037278318377498496,
          0.010218128794660865,
          0.0004375837468880944,
          -0.006257291536691391,
          -0.005874604645075086,
          0.004634973974045649,
          -0.0035861560990627216,
          0.000386511254421138,
          0.00319415219807639,
          0.0037699223207184546,
          -0.004226544407791629,
          -0.007978361303727971,
          0.0020173008491512633,
          0.010276916520624402,
          0.004961472456884599,
          -0.005907670060957963,
          -0.004363131000950963,
          -0.005836035440700779,
          0.0022102078926232137,
          9.620388843419175e-05,
          0.00950832214006041,
          -0.008711137519413333,
          0.00537503126194974,
          0.005773854835772096,
          -0.009783429059436756,
          0.006153947239755452,
          0.005844631848308989,
          0.004235427336193463,
          -0.00015274240875435999,
          -0.003831557007016662,
          -0.0055080685619940594,
          -0.0007818709477150284,
          -0.0026339092481499223,
          4.678512873223867e-05,
          0.005671091481838434,
          -0.004823130968590847,
          0.007091123741118249,
          0.0020133130553074544,
          -0.00902844304246153,
          -0.0012188927661758808,
          -0.006189078141786812,
          -0.0033702976568797003,
          -0.0027977134190699518,
          0.007862221643602686,
          -0.0021882486737358708,
          0.005826340355565827,
          -0.00497352017282501,
          -0.002715792950872989,
          0.0021056616319087107,
          -0.0016634401489273145,
          0.004420173887914025,
          -0.0023784426860906393,
          0.002428593923782727,
          0.0013438624613212411,
          -0.0008565763571829593,
          -0.004186283492584167,
          -0.0024547181822265752,
          0.006815429080762884,
          -0.0007423100821473006,
          0.0008931483578623694,
          -0.0011612736850349402,
          -0.00404079534392484,
          -0.0010075209709362225,
          -0.00808826391685212,
          0.002141201581256418,
          -0.005732526576271658,
          -0.0001902105108995131,
          -2.451508340769006e-05,
          -0.008892763868630242,
          0.006974091674600553,
          0.0013877218860042842,
          -0.0007826757412024866,
          -0.005387589362324115,
          -8.549819187643838e-05,
          0.005051417269572059,
          -0.0006581765031357029,
          -0.0003721787029622356,
          0.0034627799701550718,
          -0.005201266295709971,
          0.008269252285286993,
          -0.002773091672046013,
          0.003435828085811675,
          -0.0017579309461745508,
          -0.009239074290592635,
          0.0025924857304774336,
          -0.0001042555117948459,
          0.0012753026010482562,
          -0.00218846131388692,
          0.0006167988502695814,
          0.0023561660358845096,
          0.00010729955455184493,
          0.0034030442374043753,
          -0.005090522067673763,
          0.005255243591421716,
          -0.0009897177910897135,
          0.0006913878058955592,
          0.002900186595917359,
          -0.004197864701192248,
          6.176838497132284e-05,
          -0.0019536251715428473,
          -0.0018301976969126133,
          0.0018439587632783205,
          0.003767669227636721,
          -0.009113138783947594,
          0.002294585506426208,
          -0.0016586836356659695,
          -0.0016103563193079096,
          0.003844133819436428,
          0.0033430557598051027,
          -0.0033565493230603024,
          -0.0033795274286603514,
          0.0012224420858409357,
          -0.0007884318026999631,
          -0.0001260878252697979,
          -0.006737307394216669,
          0.0002954647599337048,
          0.0017518560865615674,
          0.002100682395606663,
          0.001395768221331427,
          0.00011356648935860343,
          0.0017372560763339539,
          0.002876341596761368,
          -0.004522374279632996,
          0.00011093298624524098,
          -0.0009259053285456436,
          7.81230236431454e-05,
          -0.006974936904669602,
          -0.0057128199493172264,
          -0.00656730563145682,
          0.002635241289858595,
          0.0028645631562492584,
          -0.0008046520174537396,
          -0.002247160854859107,
          0.0017725911235931934,
          0.0018989562102021496,
          0.00019712925006890177,
          -0.005937461265670102,
          0.0013835689579337152,
          -0.008352105805598874,
          -0.0013438333949496752,
          -0.004683689144922382,
          0.00034299540241008005,
          0.002520373627682814,
          0.004138681028226708,
          -0.003278341747416564,
          0.0029166590223580016,
          -6.638916647215264e-05,
          0.0014124911518592735,
          0.005317156027742779,
          -0.0019286398291060477,
          0.007888714468209395,
          -0.002659314981539472,
          0.001042555728140295,
          0.007942957827362328,
          -0.0008643945103307871,
          0.0013758793376029727,
          -0.006193541893753733,
          -0.0037796355377710117,
          0.003245775052302986,
          -0.009530127991595944,
          0.00992941878002047,
          -5.034107907740554e-05,
          -0.0046229229511192925,
          -0.0018320879433145565,
          0.00501228555891802,
          0.0012469949850304957,
          0.008608316228275611,
          -0.0003579093846210563,
          -0.003915375016863408,
          -0.004235436548490187,
          0.0017836165808547562,
          0.0019154065230321772,
          0.00109158549815592,
          -0.00021852544118537015,
          0.004843856052692027,
          -0.0002776604588000814,
          -0.007131705833491511,
          0.005294887346453108,
          -0.004607897492956333,
          -0.001795707071970923,
          -0.003092996294475718,
          0.0005771447483167264,
          0.00027541450227902054,
          -0.0003237058378389434,
          -0.002725808238908909,
          -0.00045265235226562666,
          0.0032560846884621374,
          0.002935845550778352,
          -0.009786369439057177,
          -0.00351860543595172,
          0.001395639173217313,
          -0.003612041007762561,
          -0.0011910839832229457,
          -0.00014891690933951818,
          -0.0027724325030919345,
          0.005637523039562931,
          -0.0022861500343783698,
          0.0033660137556161106,
          0.011659369604956277,
          -0.0025408084768814825,
          -0.0061763569591835755,
          -0.003991539237384594,
          0.01204540452003846,
          0.00579316074525287,
          -0.0015689700556095012,
          0.0028879647047008305,
          0.0043679918978668285,
          -0.0019071590262143565,
          0.0037939562778065614,
          -0.0002038563134486726,
          0.00023964549006048685,
          -0.00171737640578789,
          0.004087997392849171,
          0.003620656727781898,
          0.009301038536346623,
          0.0006547696591878843,
          0.003913990465564056,
          -0.007458425572286782,
          -0.005449470687120285,
          -5.4782208633045375e-05,
          0.0050701056557284595,
          0.0025530119714200347,
          -0.007740118047485479,
          0.0017922434829859746,
          -0.007465422605085938,
          -0.0022700067083717018,
          0.004938189533717566,
          0.0014316586109269435,
          0.004272317299462841,
          -0.00029842637474413304,
          0.005392274926236585,
          -0.002953740045486839,
          -0.002102581777796976,
          0.0022126339199268156,
          -0.0027447589460881847,
          0.004714545604193063,
          -0.0037053298103061124,
          -0.0018943617720541444,
          0.0037325449036548558,
          -0.008664912712988698,
          0.004259199292671687,
          -0.005698324455713067,
          0.0013301264068441567,
          -0.003964085759521423,
          -0.001972315044559102,
          0.00633995041390135,
          -0.0007012434259792171,
          -0.0007147717080619678,
          -0.006356423839141917,
          -0.005927652521754657,
          0.004430756593196655,
          0.002328207821442624,
          0.0010506107188022816,
          -0.00721360726748509,
          0.0044577057754382945,
          -0.0030648290639724157,
          0.0025108328702339276,
          0.0027286863990468855,
          0.002300520866866432,
          -0.001161867939820126,
          -0.006047817677541358,
          0.008260813840976872,
          0.001512310146905948,
          -0.0011519777632120563,
          0.007237660817582484,
          0.0028211552597408986,
          -0.0010873402472404731,
          0.0038619649662022244,
          -0.0015026828312621593,
          0.0009425641479066534,
          0.0021807763448791883,
          -0.003468650499204497,
          0.0026498683978842213,
          0.004825523105359623,
          0.0007492082287010306,
          -0.0011889991304672243,
          -0.0026610463373392336,
          0.010202788191516531,
          0.0023161521794214856,
          -0.0020068944269675845,
          -0.0005454052143894017,
          0.0004799886651819072,
          0.0033802557102942145,
          0.002012549759002524,
          -0.008091549930670969,
          0.002397911733957643,
          0.0011063486619122586,
          0.0033352508344636402,
          0.001978554893145309,
          0.004184024253647985,
          0.0042371712682172736,
          -0.006011582461392885,
          -0.007192644365978875,
          0.0037670849771838186,
          0.0019214417892911772,
          3.373230175666544e-05,
          -0.0009754990295452544,
          -0.0034369818326753137,
          -0.007826239900241418,
          -0.0008470265463182665,
          0.004402614722147796,
          0.006634137923819558,
          -0.005759010250007177
         ]
        },
        {
         "marker": {
          "color": [
           "#f8db27",
           "#f8db27",
           "#f8db27",
           "#f8db27",
           "#f8db27",
           "#f8db27",
           "#f8db27",
           "#f8db27",
           "#f8db27",
           "#f8db27",
           "#f8db27",
           "#f8db27",
           "#f8db27",
           "#f8db27",
           "#f8db27"
          ],
          "size": 10
         },
         "mode": "markers",
         "name": "Persinajes",
         "text": [
          "homer",
          "abraham",
          "burns",
          "marge",
          "bart",
          "lisa",
          "maggie",
          "krusty",
          "carl",
          "lenny",
          "flanders",
          "skinner",
          "milhouse",
          "smithers",
          "tony"
         ],
         "type": "scatter",
         "x": [
          0.04048624158420363,
          -0.004088700383239393,
          0.033337609239284784,
          0.04065578448720004,
          0.04001230127670327,
          0.018253186688402374,
          0.02282948377309034,
          0.05242502591745005,
          0.01386035926150313,
          0.029045102202697175,
          0.010230467929133933,
          0.024481782301134715,
          0.010910266197318969,
          0.021170921391458864,
          0.010526100282214273
         ],
         "y": [
          0.00594852023467801,
          -0.004835469475190136,
          -0.001371864384577033,
          0.002711466696002761,
          0.006854116372307285,
          0.00024872467597363685,
          -0.008707308454981516,
          0.005281469030439873,
          0.0006335785773085873,
          0.008199121892175186,
          -0.004658966621606549,
          0.004790957827325687,
          -0.011612613785215213,
          0.00384134941655816,
          -0.0050287893643818325
         ]
        }
       ],
       "layout": {
        "template": {
         "data": {
          "bar": [
           {
            "error_x": {
             "color": "#2a3f5f"
            },
            "error_y": {
             "color": "#2a3f5f"
            },
            "marker": {
             "line": {
              "color": "#E5ECF6",
              "width": 0.5
             }
            },
            "type": "bar"
           }
          ],
          "barpolar": [
           {
            "marker": {
             "line": {
              "color": "#E5ECF6",
              "width": 0.5
             }
            },
            "type": "barpolar"
           }
          ],
          "carpet": [
           {
            "aaxis": {
             "endlinecolor": "#2a3f5f",
             "gridcolor": "white",
             "linecolor": "white",
             "minorgridcolor": "white",
             "startlinecolor": "#2a3f5f"
            },
            "baxis": {
             "endlinecolor": "#2a3f5f",
             "gridcolor": "white",
             "linecolor": "white",
             "minorgridcolor": "white",
             "startlinecolor": "#2a3f5f"
            },
            "type": "carpet"
           }
          ],
          "choropleth": [
           {
            "colorbar": {
             "outlinewidth": 0,
             "ticks": ""
            },
            "type": "choropleth"
           }
          ],
          "contour": [
           {
            "colorbar": {
             "outlinewidth": 0,
             "ticks": ""
            },
            "colorscale": [
             [
              0,
              "#0d0887"
             ],
             [
              0.1111111111111111,
              "#46039f"
             ],
             [
              0.2222222222222222,
              "#7201a8"
             ],
             [
              0.3333333333333333,
              "#9c179e"
             ],
             [
              0.4444444444444444,
              "#bd3786"
             ],
             [
              0.5555555555555556,
              "#d8576b"
             ],
             [
              0.6666666666666666,
              "#ed7953"
             ],
             [
              0.7777777777777778,
              "#fb9f3a"
             ],
             [
              0.8888888888888888,
              "#fdca26"
             ],
             [
              1,
              "#f0f921"
             ]
            ],
            "type": "contour"
           }
          ],
          "contourcarpet": [
           {
            "colorbar": {
             "outlinewidth": 0,
             "ticks": ""
            },
            "type": "contourcarpet"
           }
          ],
          "heatmap": [
           {
            "colorbar": {
             "outlinewidth": 0,
             "ticks": ""
            },
            "colorscale": [
             [
              0,
              "#0d0887"
             ],
             [
              0.1111111111111111,
              "#46039f"
             ],
             [
              0.2222222222222222,
              "#7201a8"
             ],
             [
              0.3333333333333333,
              "#9c179e"
             ],
             [
              0.4444444444444444,
              "#bd3786"
             ],
             [
              0.5555555555555556,
              "#d8576b"
             ],
             [
              0.6666666666666666,
              "#ed7953"
             ],
             [
              0.7777777777777778,
              "#fb9f3a"
             ],
             [
              0.8888888888888888,
              "#fdca26"
             ],
             [
              1,
              "#f0f921"
             ]
            ],
            "type": "heatmap"
           }
          ],
          "heatmapgl": [
           {
            "colorbar": {
             "outlinewidth": 0,
             "ticks": ""
            },
            "colorscale": [
             [
              0,
              "#0d0887"
             ],
             [
              0.1111111111111111,
              "#46039f"
             ],
             [
              0.2222222222222222,
              "#7201a8"
             ],
             [
              0.3333333333333333,
              "#9c179e"
             ],
             [
              0.4444444444444444,
              "#bd3786"
             ],
             [
              0.5555555555555556,
              "#d8576b"
             ],
             [
              0.6666666666666666,
              "#ed7953"
             ],
             [
              0.7777777777777778,
              "#fb9f3a"
             ],
             [
              0.8888888888888888,
              "#fdca26"
             ],
             [
              1,
              "#f0f921"
             ]
            ],
            "type": "heatmapgl"
           }
          ],
          "histogram": [
           {
            "marker": {
             "colorbar": {
              "outlinewidth": 0,
              "ticks": ""
             }
            },
            "type": "histogram"
           }
          ],
          "histogram2d": [
           {
            "colorbar": {
             "outlinewidth": 0,
             "ticks": ""
            },
            "colorscale": [
             [
              0,
              "#0d0887"
             ],
             [
              0.1111111111111111,
              "#46039f"
             ],
             [
              0.2222222222222222,
              "#7201a8"
             ],
             [
              0.3333333333333333,
              "#9c179e"
             ],
             [
              0.4444444444444444,
              "#bd3786"
             ],
             [
              0.5555555555555556,
              "#d8576b"
             ],
             [
              0.6666666666666666,
              "#ed7953"
             ],
             [
              0.7777777777777778,
              "#fb9f3a"
             ],
             [
              0.8888888888888888,
              "#fdca26"
             ],
             [
              1,
              "#f0f921"
             ]
            ],
            "type": "histogram2d"
           }
          ],
          "histogram2dcontour": [
           {
            "colorbar": {
             "outlinewidth": 0,
             "ticks": ""
            },
            "colorscale": [
             [
              0,
              "#0d0887"
             ],
             [
              0.1111111111111111,
              "#46039f"
             ],
             [
              0.2222222222222222,
              "#7201a8"
             ],
             [
              0.3333333333333333,
              "#9c179e"
             ],
             [
              0.4444444444444444,
              "#bd3786"
             ],
             [
              0.5555555555555556,
              "#d8576b"
             ],
             [
              0.6666666666666666,
              "#ed7953"
             ],
             [
              0.7777777777777778,
              "#fb9f3a"
             ],
             [
              0.8888888888888888,
              "#fdca26"
             ],
             [
              1,
              "#f0f921"
             ]
            ],
            "type": "histogram2dcontour"
           }
          ],
          "mesh3d": [
           {
            "colorbar": {
             "outlinewidth": 0,
             "ticks": ""
            },
            "type": "mesh3d"
           }
          ],
          "parcoords": [
           {
            "line": {
             "colorbar": {
              "outlinewidth": 0,
              "ticks": ""
             }
            },
            "type": "parcoords"
           }
          ],
          "pie": [
           {
            "automargin": true,
            "type": "pie"
           }
          ],
          "scatter": [
           {
            "marker": {
             "colorbar": {
              "outlinewidth": 0,
              "ticks": ""
             }
            },
            "type": "scatter"
           }
          ],
          "scatter3d": [
           {
            "line": {
             "colorbar": {
              "outlinewidth": 0,
              "ticks": ""
             }
            },
            "marker": {
             "colorbar": {
              "outlinewidth": 0,
              "ticks": ""
             }
            },
            "type": "scatter3d"
           }
          ],
          "scattercarpet": [
           {
            "marker": {
             "colorbar": {
              "outlinewidth": 0,
              "ticks": ""
             }
            },
            "type": "scattercarpet"
           }
          ],
          "scattergeo": [
           {
            "marker": {
             "colorbar": {
              "outlinewidth": 0,
              "ticks": ""
             }
            },
            "type": "scattergeo"
           }
          ],
          "scattergl": [
           {
            "marker": {
             "colorbar": {
              "outlinewidth": 0,
              "ticks": ""
             }
            },
            "type": "scattergl"
           }
          ],
          "scattermapbox": [
           {
            "marker": {
             "colorbar": {
              "outlinewidth": 0,
              "ticks": ""
             }
            },
            "type": "scattermapbox"
           }
          ],
          "scatterpolar": [
           {
            "marker": {
             "colorbar": {
              "outlinewidth": 0,
              "ticks": ""
             }
            },
            "type": "scatterpolar"
           }
          ],
          "scatterpolargl": [
           {
            "marker": {
             "colorbar": {
              "outlinewidth": 0,
              "ticks": ""
             }
            },
            "type": "scatterpolargl"
           }
          ],
          "scatterternary": [
           {
            "marker": {
             "colorbar": {
              "outlinewidth": 0,
              "ticks": ""
             }
            },
            "type": "scatterternary"
           }
          ],
          "surface": [
           {
            "colorbar": {
             "outlinewidth": 0,
             "ticks": ""
            },
            "colorscale": [
             [
              0,
              "#0d0887"
             ],
             [
              0.1111111111111111,
              "#46039f"
             ],
             [
              0.2222222222222222,
              "#7201a8"
             ],
             [
              0.3333333333333333,
              "#9c179e"
             ],
             [
              0.4444444444444444,
              "#bd3786"
             ],
             [
              0.5555555555555556,
              "#d8576b"
             ],
             [
              0.6666666666666666,
              "#ed7953"
             ],
             [
              0.7777777777777778,
              "#fb9f3a"
             ],
             [
              0.8888888888888888,
              "#fdca26"
             ],
             [
              1,
              "#f0f921"
             ]
            ],
            "type": "surface"
           }
          ],
          "table": [
           {
            "cells": {
             "fill": {
              "color": "#EBF0F8"
             },
             "line": {
              "color": "white"
             }
            },
            "header": {
             "fill": {
              "color": "#C8D4E3"
             },
             "line": {
              "color": "white"
             }
            },
            "type": "table"
           }
          ]
         },
         "layout": {
          "annotationdefaults": {
           "arrowcolor": "#2a3f5f",
           "arrowhead": 0,
           "arrowwidth": 1
          },
          "coloraxis": {
           "colorbar": {
            "outlinewidth": 0,
            "ticks": ""
           }
          },
          "colorscale": {
           "diverging": [
            [
             0,
             "#8e0152"
            ],
            [
             0.1,
             "#c51b7d"
            ],
            [
             0.2,
             "#de77ae"
            ],
            [
             0.3,
             "#f1b6da"
            ],
            [
             0.4,
             "#fde0ef"
            ],
            [
             0.5,
             "#f7f7f7"
            ],
            [
             0.6,
             "#e6f5d0"
            ],
            [
             0.7,
             "#b8e186"
            ],
            [
             0.8,
             "#7fbc41"
            ],
            [
             0.9,
             "#4d9221"
            ],
            [
             1,
             "#276419"
            ]
           ],
           "sequential": [
            [
             0,
             "#0d0887"
            ],
            [
             0.1111111111111111,
             "#46039f"
            ],
            [
             0.2222222222222222,
             "#7201a8"
            ],
            [
             0.3333333333333333,
             "#9c179e"
            ],
            [
             0.4444444444444444,
             "#bd3786"
            ],
            [
             0.5555555555555556,
             "#d8576b"
            ],
            [
             0.6666666666666666,
             "#ed7953"
            ],
            [
             0.7777777777777778,
             "#fb9f3a"
            ],
            [
             0.8888888888888888,
             "#fdca26"
            ],
            [
             1,
             "#f0f921"
            ]
           ],
           "sequentialminus": [
            [
             0,
             "#0d0887"
            ],
            [
             0.1111111111111111,
             "#46039f"
            ],
            [
             0.2222222222222222,
             "#7201a8"
            ],
            [
             0.3333333333333333,
             "#9c179e"
            ],
            [
             0.4444444444444444,
             "#bd3786"
            ],
            [
             0.5555555555555556,
             "#d8576b"
            ],
            [
             0.6666666666666666,
             "#ed7953"
            ],
            [
             0.7777777777777778,
             "#fb9f3a"
            ],
            [
             0.8888888888888888,
             "#fdca26"
            ],
            [
             1,
             "#f0f921"
            ]
           ]
          },
          "colorway": [
           "#636efa",
           "#EF553B",
           "#00cc96",
           "#ab63fa",
           "#FFA15A",
           "#19d3f3",
           "#FF6692",
           "#B6E880",
           "#FF97FF",
           "#FECB52"
          ],
          "font": {
           "color": "#2a3f5f"
          },
          "geo": {
           "bgcolor": "white",
           "lakecolor": "white",
           "landcolor": "#E5ECF6",
           "showlakes": true,
           "showland": true,
           "subunitcolor": "white"
          },
          "hoverlabel": {
           "align": "left"
          },
          "hovermode": "closest",
          "mapbox": {
           "style": "light"
          },
          "paper_bgcolor": "white",
          "plot_bgcolor": "#E5ECF6",
          "polar": {
           "angularaxis": {
            "gridcolor": "white",
            "linecolor": "white",
            "ticks": ""
           },
           "bgcolor": "#E5ECF6",
           "radialaxis": {
            "gridcolor": "white",
            "linecolor": "white",
            "ticks": ""
           }
          },
          "scene": {
           "xaxis": {
            "backgroundcolor": "#E5ECF6",
            "gridcolor": "white",
            "gridwidth": 2,
            "linecolor": "white",
            "showbackground": true,
            "ticks": "",
            "zerolinecolor": "white"
           },
           "yaxis": {
            "backgroundcolor": "#E5ECF6",
            "gridcolor": "white",
            "gridwidth": 2,
            "linecolor": "white",
            "showbackground": true,
            "ticks": "",
            "zerolinecolor": "white"
           },
           "zaxis": {
            "backgroundcolor": "#E5ECF6",
            "gridcolor": "white",
            "gridwidth": 2,
            "linecolor": "white",
            "showbackground": true,
            "ticks": "",
            "zerolinecolor": "white"
           }
          },
          "shapedefaults": {
           "line": {
            "color": "#2a3f5f"
           }
          },
          "ternary": {
           "aaxis": {
            "gridcolor": "white",
            "linecolor": "white",
            "ticks": ""
           },
           "baxis": {
            "gridcolor": "white",
            "linecolor": "white",
            "ticks": ""
           },
           "bgcolor": "#E5ECF6",
           "caxis": {
            "gridcolor": "white",
            "linecolor": "white",
            "ticks": ""
           }
          },
          "title": {
           "x": 0.05
          },
          "xaxis": {
           "automargin": true,
           "gridcolor": "white",
           "linecolor": "white",
           "ticks": "",
           "title": {
            "standoff": 15
           },
           "zerolinecolor": "white",
           "zerolinewidth": 2
          },
          "yaxis": {
           "automargin": true,
           "gridcolor": "white",
           "linecolor": "white",
           "ticks": "",
           "title": {
            "standoff": 15
           },
           "zerolinecolor": "white",
           "zerolinewidth": 2
          }
         }
        },
        "title": {
         "text": "PCA"
        }
       }
      },
      "text/html": [
       "<div>\n",
       "        \n",
       "        \n",
       "            <div id=\"da9e9d49-af0c-4f4b-9c38-7a7f93b6ee49\" class=\"plotly-graph-div\" style=\"height:525px; width:100%;\"></div>\n",
       "            <script type=\"text/javascript\">\n",
       "                require([\"plotly\"], function(Plotly) {\n",
       "                    window.PLOTLYENV=window.PLOTLYENV || {};\n",
       "                    \n",
       "                if (document.getElementById(\"da9e9d49-af0c-4f4b-9c38-7a7f93b6ee49\")) {\n",
       "                    Plotly.newPlot(\n",
       "                        'da9e9d49-af0c-4f4b-9c38-7a7f93b6ee49',\n",
       "                        [{\"marker\": {\"color\": [\"#2f64d6\", \"#2f64d6\", \"#2f64d6\", \"#2f64d6\", \"#2f64d6\", \"#2f64d6\", \"#2f64d6\", \"#2f64d6\", \"#2f64d6\", \"#2f64d6\", \"#2f64d6\", \"#2f64d6\", \"#2f64d6\", \"#2f64d6\", \"#2f64d6\", \"#2f64d6\", \"#2f64d6\", \"#2f64d6\", \"#2f64d6\", \"#2f64d6\", \"#2f64d6\", \"#2f64d6\", \"#2f64d6\", \"#2f64d6\", \"#2f64d6\", \"#2f64d6\", \"#2f64d6\", \"#2f64d6\", \"#2f64d6\", \"#2f64d6\", \"#2f64d6\", \"#2f64d6\", \"#2f64d6\", \"#2f64d6\", \"#2f64d6\", \"#2f64d6\", \"#2f64d6\", \"#2f64d6\", \"#2f64d6\", \"#2f64d6\", \"#2f64d6\", \"#2f64d6\", \"#2f64d6\", \"#2f64d6\", \"#2f64d6\", \"#2f64d6\", \"#2f64d6\", \"#2f64d6\", \"#2f64d6\", \"#2f64d6\", \"#2f64d6\", \"#2f64d6\", \"#2f64d6\", \"#2f64d6\", \"#2f64d6\", \"#2f64d6\", \"#2f64d6\", \"#2f64d6\", \"#2f64d6\", \"#2f64d6\", \"#2f64d6\", \"#2f64d6\", \"#2f64d6\", \"#2f64d6\", \"#2f64d6\", \"#2f64d6\", \"#2f64d6\", \"#2f64d6\", \"#2f64d6\", \"#2f64d6\", \"#2f64d6\", \"#2f64d6\", \"#2f64d6\", \"#2f64d6\", \"#2f64d6\", \"#2f64d6\", \"#2f64d6\", \"#2f64d6\", \"#2f64d6\", \"#2f64d6\", \"#2f64d6\", \"#2f64d6\", \"#2f64d6\", \"#2f64d6\", \"#2f64d6\", \"#2f64d6\", \"#2f64d6\", \"#2f64d6\", \"#2f64d6\", \"#2f64d6\", \"#2f64d6\", \"#2f64d6\", \"#2f64d6\", \"#2f64d6\", \"#2f64d6\", \"#2f64d6\", \"#2f64d6\", \"#2f64d6\", \"#2f64d6\", \"#2f64d6\", \"#2f64d6\", \"#2f64d6\", \"#2f64d6\", \"#2f64d6\", \"#2f64d6\", \"#2f64d6\", \"#2f64d6\", \"#2f64d6\", \"#2f64d6\", \"#2f64d6\", \"#2f64d6\", \"#2f64d6\", \"#2f64d6\", \"#2f64d6\", \"#2f64d6\", \"#2f64d6\", \"#2f64d6\", \"#2f64d6\", \"#2f64d6\", \"#2f64d6\", \"#2f64d6\", \"#2f64d6\", \"#2f64d6\", \"#2f64d6\", \"#2f64d6\", \"#2f64d6\", \"#2f64d6\", \"#2f64d6\", \"#2f64d6\", \"#2f64d6\", \"#2f64d6\", \"#2f64d6\", \"#2f64d6\", \"#2f64d6\", \"#2f64d6\", \"#2f64d6\", \"#2f64d6\", \"#2f64d6\", \"#2f64d6\", \"#2f64d6\", \"#2f64d6\", \"#2f64d6\", \"#2f64d6\", \"#2f64d6\", \"#2f64d6\", \"#2f64d6\", \"#2f64d6\", \"#2f64d6\", \"#2f64d6\", \"#2f64d6\", \"#2f64d6\", \"#2f64d6\", \"#2f64d6\", \"#2f64d6\", \"#2f64d6\", \"#2f64d6\", \"#2f64d6\", \"#2f64d6\", \"#2f64d6\", \"#2f64d6\", \"#2f64d6\", \"#2f64d6\", \"#2f64d6\", \"#2f64d6\", \"#2f64d6\", \"#2f64d6\", \"#2f64d6\", \"#2f64d6\", \"#2f64d6\", \"#2f64d6\", \"#2f64d6\", \"#2f64d6\", \"#2f64d6\", \"#2f64d6\", \"#2f64d6\", \"#2f64d6\", \"#2f64d6\", \"#2f64d6\", \"#2f64d6\", \"#2f64d6\", \"#2f64d6\", \"#2f64d6\", \"#2f64d6\", \"#2f64d6\", \"#2f64d6\", \"#2f64d6\", \"#2f64d6\", \"#2f64d6\", \"#2f64d6\", \"#2f64d6\", \"#2f64d6\", \"#2f64d6\", \"#2f64d6\", \"#2f64d6\", \"#2f64d6\", \"#2f64d6\", \"#2f64d6\", \"#2f64d6\", \"#2f64d6\", \"#2f64d6\", \"#2f64d6\", \"#2f64d6\", \"#2f64d6\", \"#2f64d6\", \"#2f64d6\", \"#2f64d6\", \"#2f64d6\", \"#2f64d6\", \"#2f64d6\", \"#2f64d6\", \"#2f64d6\", \"#2f64d6\", \"#2f64d6\", \"#2f64d6\", \"#2f64d6\", \"#2f64d6\", \"#2f64d6\", \"#2f64d6\", \"#2f64d6\", \"#2f64d6\", \"#2f64d6\", \"#2f64d6\", \"#2f64d6\", \"#2f64d6\", \"#2f64d6\", \"#2f64d6\", \"#2f64d6\", \"#2f64d6\", \"#2f64d6\", \"#2f64d6\", \"#2f64d6\", \"#2f64d6\", \"#2f64d6\", \"#2f64d6\", \"#2f64d6\", \"#2f64d6\", \"#2f64d6\", \"#2f64d6\", \"#2f64d6\", \"#2f64d6\", \"#2f64d6\", \"#2f64d6\", \"#2f64d6\", \"#2f64d6\", \"#2f64d6\", \"#2f64d6\", \"#2f64d6\", \"#2f64d6\", \"#2f64d6\", \"#2f64d6\", \"#2f64d6\", \"#2f64d6\", \"#2f64d6\", \"#2f64d6\", \"#2f64d6\", \"#2f64d6\", \"#2f64d6\", \"#2f64d6\", \"#2f64d6\", \"#2f64d6\", \"#2f64d6\", \"#2f64d6\", \"#2f64d6\", \"#2f64d6\", \"#2f64d6\", \"#2f64d6\", \"#2f64d6\", \"#2f64d6\", \"#2f64d6\", \"#2f64d6\", \"#2f64d6\", \"#2f64d6\", \"#2f64d6\", \"#2f64d6\", \"#2f64d6\", \"#2f64d6\", \"#2f64d6\", \"#2f64d6\", \"#2f64d6\", \"#2f64d6\", \"#2f64d6\", \"#2f64d6\", \"#2f64d6\", \"#2f64d6\", \"#2f64d6\", \"#2f64d6\", \"#2f64d6\", \"#2f64d6\", \"#2f64d6\", \"#2f64d6\", \"#2f64d6\", \"#2f64d6\", \"#2f64d6\", \"#2f64d6\", \"#2f64d6\", \"#2f64d6\", \"#2f64d6\", \"#2f64d6\", \"#2f64d6\", \"#2f64d6\", \"#2f64d6\", \"#2f64d6\", \"#2f64d6\", \"#2f64d6\", \"#2f64d6\", \"#2f64d6\", \"#2f64d6\", \"#2f64d6\", \"#2f64d6\", \"#2f64d6\", \"#2f64d6\", \"#2f64d6\", \"#2f64d6\", \"#2f64d6\", \"#2f64d6\", \"#2f64d6\", \"#2f64d6\", \"#2f64d6\", \"#2f64d6\", \"#2f64d6\", \"#2f64d6\", \"#2f64d6\"], \"size\": 10}, \"mode\": \"markers\", \"name\": \"Palabras\", \"text\": [\"rol\", \"simpson\", \"cabeza\", \"familia\", \"lleva\", \"dinero\", \"hogar\", \"representa\", \"estereotipo\", \"medio\", \"ir\", \"amigos\", \"ver\", \"televisi\\u00f3n\", \"alg\\u00fan\", \"partido\", \"pesar\", \"tener\", \"gran\", \"episodios\", \"personaje\", \"serie\", \"estupidez\", \"bajo\", \"nivel\", \"inteligencia\", \"director\", \"f\\u00edsica\", \"hombre\", \"dedica\", \"adem\\u00e1s\", \"grandes\", \"futuro\", \"acostumbra\", \"familiares\", \"suele\", \"cap\\u00edtulos\", \"cada\", \"vez\", \"biograf\\u00eda\", \"debido\", \"personajes\", \"tal\", \"a\\u00f1o\", \"largo\", \"alguna\", \"ser\", \"ello\", \"edad\", \"muchas\", \"suelen\", \"episodio\", \"incluso\", \"parece\", \"haber\", \"aunque\", \"dado\", \"acerca\", \"primera\", \"especial\", \"da\", \"naci\\u00f3\", \"s\", \"a\\u00f1os\", \"padres\", \"mona\", \"mientras\", \"pasa\", \"montgomery\", \"per\\u00edodo\", \"campamento\", \"amor\", \"tiempo\", \"tarde\", \"esposa\", \"escuela\", \"springfield\", \"\\u00faltimo\", \"segunda\", \"tras\", \"mal\", \"va\", \"cuenta\", \"ido\", \"as\\u00ed\", \"qued\\u00f3\", \"embarazada\", \"despu\\u00e9s\", \"dos\", \"peque\\u00f1a\", \"lado\", \"mantener\", \"hijo\", \"trabajo\", \"planta\", \"nuclear\", \"seguridad\", \"cap\\u00edtulo\", \"lleg\\u00f3\", \"central\", \"recurrente\", \"primeras\", \"temporadas\", \"cabo\", \"queda\", \"pareja\", \"dio\", \"casa\", \"padre\", \"propia\", \"vivir\", \"barney\", \"poder\", \"universidad\", \"ayuda\", \"ve\", \"hijos\", \"vida\", \"cotidiana\", \"marca\", \"energ\\u00eda\", \"puesto\", \"resto\", \"d\\u00eda\", \"bien\", \"parte\", \"moe\", \"pasar\", \"programa\", \"productos\", \"atenci\\u00f3n\", \"ocasiones\", \"generalmente\", \"cualquier\", \"caso\", \"matrimonio\", \"protagonista\", \"especialmente\", \"familiar\", \"hacer\", \"toda\", \"salud\", \"bastante\", \"ocasi\\u00f3n\", \"s\\u00f3lo\", \"casi\", \"sido\", \"sufre\", \"varios\", \"problemas\", \"gen\", \"cerebro\", \"menos\", \"veces\", \"gafas\", \"casado\", \"hermano\", \"madre\", \"hija\", \"mujer\", \"guerra\", \"mundial\", \"seg\\u00fan\", \"the\", \"varias\", \"cosas\", \"ned\", \"muestra\", \"acciones\", \"gente\", \"hace\", \"naturaleza\", \"capaz\", \"cosa\", \"intelectual\", \"alcohol\", \"falta\", \"mismo\", \"ni\\u00f1o\", \"realizar\", \"menudo\", \"marido\", \"maneras\", \"manera\", \"guionistas\", \"misma\", \"cierta\", \"todas\", \"siempre\", \"voz\", \"persona\", \"pantalones\", \"azules\", \"papel\", \"t\\u00edpico\", \"ama\", \"principal\", \"realidad\", \"mayores\", \"feliz\", \"presencia\", \"joven\", \"podr\\u00eda\", \"nombre\", \"sabe\", \"ciudad\", \"relaci\\u00f3n\", \"actualmente\", \"entonces\", \"normalmente\", \"general\", \"ni\\u00f1os\", \"\\u00e9xito\", \"tan\", \"gusta\", \"si\", \"valores\", \"unas\", \"situaciones\", \"mayor\", \"\\u00e9ste\", \"muestras\", \"personas\", \"dar\", \"hecho\", \"demostrado\", \"salida\", \"verde\", \"zapatos\", \"especiales\", \"pelo\", \"azul\", \"travesuras\", \"t\\u00edpicos\", \"hermanos\", \"rebelde\", \"empieza\", \"hacia\", \"original\", \"espa\\u00f1a\", \"usa\", \"hizo\", \"a\\u00fan\", \"embargo\", \"ambos\", \"centro\", \"hermana\", \"constantemente\", \"llegando\", \"desarrollar\", \"primaria\", \"cambio\", \"mujeres\", \"abuelo\", \"mejor\", \"amigo\", \"haciendo\", \"payaso\", \"nunca\", \"actividades\", \"diez\", \"cari\\u00f1o\", \"luego\", \"ejemplo\", \"ni\\u00f1a\", \"mundo\", \"solo\", \"ficticio\", \"budista\", \"escribir\", \"tipo\", \"juntos\", \"ambas\", \"descubre\", \"puede\", \"vuelto\", \"puntas\", \"entender\", \"visto\", \"beb\\u00e9\", \"caracter\\u00edsticas\", \"temporada\", \"se\\u00f1or\", \"volvi\\u00f3\", \"pel\\u00edcula\", \"nueva\", \"of\", \"junto\", \"muerte\", \"dice\", \"anciano\", \"vive\", \"chistes\", \"ocasionalmente\", \"abe\", \"lugar\", \"veterano\", \"pol\\u00edtica\", \"momento\", \"and\", \"aspecto\", \"hermanas\", \"finalmente\", \"aparece\", \"dando\", \"viviendo\", \"bob\", \"responde\", \"duda\", \"doblado\", \"hispanoam\\u00e9rica\", \"menciona\", \"fortuna\", \"jos\\u00e9\", \"reemplazado\", \"decidi\\u00f3\", \"seymour\", \"edna\", \"krabappel\", \"beatles\", \"vietnam\", \"carrera\"], \"type\": \"scatter\", \"x\": [-0.012563943169236045, 0.046391784503528086, -0.00940555418441922, 0.022234410600214395, -0.012825818809301648, -0.015392526129124926, 0.00019679734562525253, -0.013645687441795363, -0.012211652012462014, -0.008427904752602352, 0.007878033666284189, 0.010322390166673337, 0.008417811343825219, 0.006770280828828651, 0.00377710264958214, -0.0065086702571266215, 0.004278834260474477, -0.003994552458930116, 0.009789529557038157, 0.008492166411152703, 0.014933249629149405, 0.03902327963489357, -0.006099913992601488, -0.01487020135962903, -0.012428715818695788, -0.009615546641296982, 0.014424460643560117, -0.010038974139212306, 0.008007183883545765, -0.009142493006775734, 0.008496846000096227, 0.00044370333939834156, -0.005379171418764194, -0.006434069502200522, -0.004705328052388897, 0.02460389926056673, 0.004854450151549327, -0.005967397022343006, 0.006927485727394267, -0.0014593363301426113, 0.0168718668824527, 0.005542380953102276, -0.006688012116856332, -0.008183621846206373, -0.0038098097413431166, -0.0017306291085891342, 0.021808982063100807, -0.009818271503707942, 0.021982955442657288, -0.011419896228257759, -0.007099814243654487, 0.03696484541256031, 0.007959285559688617, 0.01678176382547458, -0.008048886107020167, 0.02941425710133269, 0.0067276002174238994, -0.015667533003906876, 0.021043464179194345, 0.009675990840455997, 0.004143831805280994, -6.7400098948640875e-06, -0.007988896999951405, 0.022360379815002985, 0.0034094024086488888, -0.006049325797613828, 0.016667521668214485, -0.0076357051903517045, -0.00690454882681437, -0.011284519163885618, -0.009851474535598653, 0.014922506066227036, 0.014503071028763269, -0.004157358265814134, -0.0018841144454636379, 0.021592715311003454, 0.03383860944509907, -0.0071213601641755735, 0.010941763123139877, 0.0042183823075216354, -0.008480740685190702, -0.002649759367299469, -0.0005435964097818602, -0.0013663318085412536, 8.990568216383361e-05, -0.011018829277900821, -0.001962127217916498, 0.014265999076582025, 0.030172484287373336, -0.011932826444231494, -0.01147250636876569, -0.009169538229879967, 0.002723646132588224, 0.004608603338600963, 0.0016113153854551215, 0.0038176065079656854, -0.012495075616843897, 0.018764448114741362, -0.0044304354454391, 0.00417161283830103, -0.009613218543602428, -0.002168279488820047, 0.006582635069984966, -0.013277512251891931, -0.007115561464588349, 0.006391600050943525, -0.011779601541721764, 0.02258169287597989, 0.020891000354512235, -0.011172813999857957, -0.002070333275269642, -0.013412825910100084, -0.0074646250920244765, -0.007470989921529306, 0.0012693590950196211, 0.014634503766341898, -0.0006496335747484273, 0.02948557509862029, -0.0100861828106037, -0.01242324047162576, -0.012231989868139668, -0.007691380841989814, -0.007073630976721123, 0.012788930461748293, -0.004141833147450294, 0.020581745986616298, -0.0156762258034891, 0.004072074013470626, 0.0006358201482637523, -0.0009719358501459822, -0.0005542392503260823, 0.002568226007759066, 0.0024522471226579275, -0.002584312776515686, 0.002590589701496589, -0.010998446708552172, -0.00764377645716186, -0.008088580046913742, -0.001238814060220512, 0.008717005620456655, 0.0011327960616132665, -0.006152991343060611, -0.0013894655660111818, 0.002542220814690167, -0.0065860965166379655, 0.012885778441385295, 0.011378265608909212, -0.007207817855759809, 0.005185296571688716, -0.0057843198855759125, -0.009485991239837378, -0.014382701459904787, -0.007089166434753814, 0.015262841319613314, -0.011733848502151983, -0.002116335293175109, 0.0031681618518502592, 0.01980154103635957, -0.010648456157665322, -0.007623199639965364, 0.019187311217125504, 0.0006335091531981273, 0.0008626462022608115, 0.027166882865175726, 0.012171436902879288, 0.003941828087816642, 0.016722527639563715, 0.010153543445296299, -0.005127247266432207, -0.010904265545174702, 0.008428853826863484, -0.01541735509767964, -0.015355094710075257, 0.0025162255731617893, -0.011372603826823905, -0.008021523582078144, -0.016287381248211368, 0.008473958968844978, 0.005498409083987382, -0.009358102591003734, 0.0069949655227595315, -0.009789457959078181, -0.004357404027271671, -0.00017610313502831588, 0.013885733663965944, -0.0034380547651639277, -0.008360649032840515, -0.0009918441540198893, 0.015385605413206634, 0.005676126005523017, -0.011311031534644954, -0.005605590500043481, -0.009265752428358292, 0.0029296246762686717, -0.006286250323060121, -0.01896722755580934, -0.010470161725423744, -0.005216096491078816, -0.0029611993994834366, -0.007529440470437689, -0.019921021860457355, -0.007466090559727623, 0.0017478831679561273, 0.01045873084449754, -0.007918942135756946, -0.008556881774096924, 0.012323715549986755, 0.003920281686196875, 0.0030101503841343416, -0.008941135003933547, -0.011010514213878471, 0.006816674934877223, -0.00914476495459145, -0.007843074966567628, -0.0005115451351914321, -0.010265028424913029, -0.014010536261520866, -0.011054952122491957, -0.011989900274012193, 0.006848545977991735, -0.0061111103289218606, -0.0062185395857673464, 0.004684174992819205, -0.016407213915230694, 0.007864705345152368, -0.007770383528432764, -0.013112752715452217, -0.014417489931069252, -0.016519322135434285, -0.014300460275419643, -0.00531645909374657, -0.014610792756818062, -0.0064086215491195924, -0.011278751364146309, -0.013039106020205981, -0.0115965982703451, -0.011591650407857763, -0.0031442285271424115, 0.009237329550411564, -0.0036911305346320374, -0.012835598366772779, -0.014609929523922153, -0.004522191493920808, 0.014554143747697122, -0.003188315680678752, -0.010040390855893545, 0.001043145469833079, -0.007617511504492666, -0.006957377757974137, -0.018369488617253526, -0.004334776837447918, -0.010653139340695797, -0.01593348122094685, 0.012261648491912873, 0.0019135494016364388, 0.0062640149365834775, -0.011469767645057857, 0.0283655995593761, -0.01015282275028053, -0.01978848854538647, -0.01164646081765163, -0.013345534457736268, 0.009526424636114405, -0.0178859845474226, -0.013619479710317451, 0.009279420716403202, 0.00433605852941517, -0.009992514246090859, -0.015577613669432302, -0.011258574499544573, -0.009232767675981154, 0.0005689234569598689, -0.011568893583297752, -0.013700923122424918, 0.007897192872731591, -0.008859430882271466, -0.011484532022769034, -0.009591677236806475, -0.0021944138628580976, 0.00825087223570371, -0.0091816738263887, 0.04433359396897447, 0.015113822854570007, -0.008633644570795752, -0.008005970807682177, -0.00525427258590692, 0.005586198742576383, 0.005038802074113885, 0.0029098532746087338, 0.006804310126394884, -0.006151994602408178, 0.006265631347775861, -0.010709927143179464, -0.00814234516784375, 0.001479355252292981, 0.008618340742920045, -0.008424231812083492, -0.011097567083025877, -0.010964408261831723, 0.0008776466543645791, -0.007492123083751236, -0.019569321407512746, 0.007534552890622854, -0.0021370349876068543, -0.010779588155111404, -0.012424475983620842, 0.011207358881061624, -0.017237223794048087, -0.010353628264372798, 0.02027018059911218, -0.003930547301199817, -0.003652729683371677, -0.011136207848724584, -0.004826505595745326, -0.011055404348340283, -0.012201305460498373, -0.003287792160471333, 0.0029139637625400666, -0.015220876637524864, -0.007660723595708453, -0.00851184357216989, -0.005348322649441036], \"y\": [-0.003386217877794602, -0.0089319090796507, -0.0033800258664794533, 0.00419715628363294, -0.0004793376059807912, 0.0036913382691123563, 0.0010141236439047095, -0.002428176223981615, -0.00107530715424114, 0.0029210047583851702, 0.002595048367497568, -0.005366198669460404, -0.003118692340721854, 0.0033506862193855473, 0.003916235207623964, -0.0005100429625443464, 0.0022754240294043026, -0.0028192092814331624, 0.001784896802650164, 0.0037278318377498496, 0.010218128794660865, 0.0004375837468880944, -0.006257291536691391, -0.005874604645075086, 0.004634973974045649, -0.0035861560990627216, 0.000386511254421138, 0.00319415219807639, 0.0037699223207184546, -0.004226544407791629, -0.007978361303727971, 0.0020173008491512633, 0.010276916520624402, 0.004961472456884599, -0.005907670060957963, -0.004363131000950963, -0.005836035440700779, 0.0022102078926232137, 9.620388843419175e-05, 0.00950832214006041, -0.008711137519413333, 0.00537503126194974, 0.005773854835772096, -0.009783429059436756, 0.006153947239755452, 0.005844631848308989, 0.004235427336193463, -0.00015274240875435999, -0.003831557007016662, -0.0055080685619940594, -0.0007818709477150284, -0.0026339092481499223, 4.678512873223867e-05, 0.005671091481838434, -0.004823130968590847, 0.007091123741118249, 0.0020133130553074544, -0.00902844304246153, -0.0012188927661758808, -0.006189078141786812, -0.0033702976568797003, -0.0027977134190699518, 0.007862221643602686, -0.0021882486737358708, 0.005826340355565827, -0.00497352017282501, -0.002715792950872989, 0.0021056616319087107, -0.0016634401489273145, 0.004420173887914025, -0.0023784426860906393, 0.002428593923782727, 0.0013438624613212411, -0.0008565763571829593, -0.004186283492584167, -0.0024547181822265752, 0.006815429080762884, -0.0007423100821473006, 0.0008931483578623694, -0.0011612736850349402, -0.00404079534392484, -0.0010075209709362225, -0.00808826391685212, 0.002141201581256418, -0.005732526576271658, -0.0001902105108995131, -2.451508340769006e-05, -0.008892763868630242, 0.006974091674600553, 0.0013877218860042842, -0.0007826757412024866, -0.005387589362324115, -8.549819187643838e-05, 0.005051417269572059, -0.0006581765031357029, -0.0003721787029622356, 0.0034627799701550718, -0.005201266295709971, 0.008269252285286993, -0.002773091672046013, 0.003435828085811675, -0.0017579309461745508, -0.009239074290592635, 0.0025924857304774336, -0.0001042555117948459, 0.0012753026010482562, -0.00218846131388692, 0.0006167988502695814, 0.0023561660358845096, 0.00010729955455184493, 0.0034030442374043753, -0.005090522067673763, 0.005255243591421716, -0.0009897177910897135, 0.0006913878058955592, 0.002900186595917359, -0.004197864701192248, 6.176838497132284e-05, -0.0019536251715428473, -0.0018301976969126133, 0.0018439587632783205, 0.003767669227636721, -0.009113138783947594, 0.002294585506426208, -0.0016586836356659695, -0.0016103563193079096, 0.003844133819436428, 0.0033430557598051027, -0.0033565493230603024, -0.0033795274286603514, 0.0012224420858409357, -0.0007884318026999631, -0.0001260878252697979, -0.006737307394216669, 0.0002954647599337048, 0.0017518560865615674, 0.002100682395606663, 0.001395768221331427, 0.00011356648935860343, 0.0017372560763339539, 0.002876341596761368, -0.004522374279632996, 0.00011093298624524098, -0.0009259053285456436, 7.81230236431454e-05, -0.006974936904669602, -0.0057128199493172264, -0.00656730563145682, 0.002635241289858595, 0.0028645631562492584, -0.0008046520174537396, -0.002247160854859107, 0.0017725911235931934, 0.0018989562102021496, 0.00019712925006890177, -0.005937461265670102, 0.0013835689579337152, -0.008352105805598874, -0.0013438333949496752, -0.004683689144922382, 0.00034299540241008005, 0.002520373627682814, 0.004138681028226708, -0.003278341747416564, 0.0029166590223580016, -6.638916647215264e-05, 0.0014124911518592735, 0.005317156027742779, -0.0019286398291060477, 0.007888714468209395, -0.002659314981539472, 0.001042555728140295, 0.007942957827362328, -0.0008643945103307871, 0.0013758793376029727, -0.006193541893753733, -0.0037796355377710117, 0.003245775052302986, -0.009530127991595944, 0.00992941878002047, -5.034107907740554e-05, -0.0046229229511192925, -0.0018320879433145565, 0.00501228555891802, 0.0012469949850304957, 0.008608316228275611, -0.0003579093846210563, -0.003915375016863408, -0.004235436548490187, 0.0017836165808547562, 0.0019154065230321772, 0.00109158549815592, -0.00021852544118537015, 0.004843856052692027, -0.0002776604588000814, -0.007131705833491511, 0.005294887346453108, -0.004607897492956333, -0.001795707071970923, -0.003092996294475718, 0.0005771447483167264, 0.00027541450227902054, -0.0003237058378389434, -0.002725808238908909, -0.00045265235226562666, 0.0032560846884621374, 0.002935845550778352, -0.009786369439057177, -0.00351860543595172, 0.001395639173217313, -0.003612041007762561, -0.0011910839832229457, -0.00014891690933951818, -0.0027724325030919345, 0.005637523039562931, -0.0022861500343783698, 0.0033660137556161106, 0.011659369604956277, -0.0025408084768814825, -0.0061763569591835755, -0.003991539237384594, 0.01204540452003846, 0.00579316074525287, -0.0015689700556095012, 0.0028879647047008305, 0.0043679918978668285, -0.0019071590262143565, 0.0037939562778065614, -0.0002038563134486726, 0.00023964549006048685, -0.00171737640578789, 0.004087997392849171, 0.003620656727781898, 0.009301038536346623, 0.0006547696591878843, 0.003913990465564056, -0.007458425572286782, -0.005449470687120285, -5.4782208633045375e-05, 0.0050701056557284595, 0.0025530119714200347, -0.007740118047485479, 0.0017922434829859746, -0.007465422605085938, -0.0022700067083717018, 0.004938189533717566, 0.0014316586109269435, 0.004272317299462841, -0.00029842637474413304, 0.005392274926236585, -0.002953740045486839, -0.002102581777796976, 0.0022126339199268156, -0.0027447589460881847, 0.004714545604193063, -0.0037053298103061124, -0.0018943617720541444, 0.0037325449036548558, -0.008664912712988698, 0.004259199292671687, -0.005698324455713067, 0.0013301264068441567, -0.003964085759521423, -0.001972315044559102, 0.00633995041390135, -0.0007012434259792171, -0.0007147717080619678, -0.006356423839141917, -0.005927652521754657, 0.004430756593196655, 0.002328207821442624, 0.0010506107188022816, -0.00721360726748509, 0.0044577057754382945, -0.0030648290639724157, 0.0025108328702339276, 0.0027286863990468855, 0.002300520866866432, -0.001161867939820126, -0.006047817677541358, 0.008260813840976872, 0.001512310146905948, -0.0011519777632120563, 0.007237660817582484, 0.0028211552597408986, -0.0010873402472404731, 0.0038619649662022244, -0.0015026828312621593, 0.0009425641479066534, 0.0021807763448791883, -0.003468650499204497, 0.0026498683978842213, 0.004825523105359623, 0.0007492082287010306, -0.0011889991304672243, -0.0026610463373392336, 0.010202788191516531, 0.0023161521794214856, -0.0020068944269675845, -0.0005454052143894017, 0.0004799886651819072, 0.0033802557102942145, 0.002012549759002524, -0.008091549930670969, 0.002397911733957643, 0.0011063486619122586, 0.0033352508344636402, 0.001978554893145309, 0.004184024253647985, 0.0042371712682172736, -0.006011582461392885, -0.007192644365978875, 0.0037670849771838186, 0.0019214417892911772, 3.373230175666544e-05, -0.0009754990295452544, -0.0034369818326753137, -0.007826239900241418, -0.0008470265463182665, 0.004402614722147796, 0.006634137923819558, -0.005759010250007177]}, {\"marker\": {\"color\": [\"#f8db27\", \"#f8db27\", \"#f8db27\", \"#f8db27\", \"#f8db27\", \"#f8db27\", \"#f8db27\", \"#f8db27\", \"#f8db27\", \"#f8db27\", \"#f8db27\", \"#f8db27\", \"#f8db27\", \"#f8db27\", \"#f8db27\"], \"size\": 10}, \"mode\": \"markers\", \"name\": \"Persinajes\", \"text\": [\"homer\", \"abraham\", \"burns\", \"marge\", \"bart\", \"lisa\", \"maggie\", \"krusty\", \"carl\", \"lenny\", \"flanders\", \"skinner\", \"milhouse\", \"smithers\", \"tony\"], \"type\": \"scatter\", \"x\": [0.04048624158420363, -0.004088700383239393, 0.033337609239284784, 0.04065578448720004, 0.04001230127670327, 0.018253186688402374, 0.02282948377309034, 0.05242502591745005, 0.01386035926150313, 0.029045102202697175, 0.010230467929133933, 0.024481782301134715, 0.010910266197318969, 0.021170921391458864, 0.010526100282214273], \"y\": [0.00594852023467801, -0.004835469475190136, -0.001371864384577033, 0.002711466696002761, 0.006854116372307285, 0.00024872467597363685, -0.008707308454981516, 0.005281469030439873, 0.0006335785773085873, 0.008199121892175186, -0.004658966621606549, 0.004790957827325687, -0.011612613785215213, 0.00384134941655816, -0.0050287893643818325]}],\n",
       "                        {\"template\": {\"data\": {\"bar\": [{\"error_x\": {\"color\": \"#2a3f5f\"}, \"error_y\": {\"color\": \"#2a3f5f\"}, \"marker\": {\"line\": {\"color\": \"#E5ECF6\", \"width\": 0.5}}, \"type\": \"bar\"}], \"barpolar\": [{\"marker\": {\"line\": {\"color\": \"#E5ECF6\", \"width\": 0.5}}, \"type\": \"barpolar\"}], \"carpet\": [{\"aaxis\": {\"endlinecolor\": \"#2a3f5f\", \"gridcolor\": \"white\", \"linecolor\": \"white\", \"minorgridcolor\": \"white\", \"startlinecolor\": \"#2a3f5f\"}, \"baxis\": {\"endlinecolor\": \"#2a3f5f\", \"gridcolor\": \"white\", \"linecolor\": \"white\", \"minorgridcolor\": \"white\", \"startlinecolor\": \"#2a3f5f\"}, \"type\": \"carpet\"}], \"choropleth\": [{\"colorbar\": {\"outlinewidth\": 0, \"ticks\": \"\"}, \"type\": \"choropleth\"}], \"contour\": [{\"colorbar\": {\"outlinewidth\": 0, \"ticks\": \"\"}, \"colorscale\": [[0.0, \"#0d0887\"], [0.1111111111111111, \"#46039f\"], [0.2222222222222222, \"#7201a8\"], [0.3333333333333333, \"#9c179e\"], [0.4444444444444444, \"#bd3786\"], [0.5555555555555556, \"#d8576b\"], [0.6666666666666666, \"#ed7953\"], [0.7777777777777778, \"#fb9f3a\"], [0.8888888888888888, \"#fdca26\"], [1.0, \"#f0f921\"]], \"type\": \"contour\"}], \"contourcarpet\": [{\"colorbar\": {\"outlinewidth\": 0, \"ticks\": \"\"}, \"type\": \"contourcarpet\"}], \"heatmap\": [{\"colorbar\": {\"outlinewidth\": 0, \"ticks\": \"\"}, \"colorscale\": [[0.0, \"#0d0887\"], [0.1111111111111111, \"#46039f\"], [0.2222222222222222, \"#7201a8\"], [0.3333333333333333, \"#9c179e\"], [0.4444444444444444, \"#bd3786\"], [0.5555555555555556, \"#d8576b\"], [0.6666666666666666, \"#ed7953\"], [0.7777777777777778, \"#fb9f3a\"], [0.8888888888888888, \"#fdca26\"], [1.0, \"#f0f921\"]], \"type\": \"heatmap\"}], \"heatmapgl\": [{\"colorbar\": {\"outlinewidth\": 0, \"ticks\": \"\"}, \"colorscale\": [[0.0, \"#0d0887\"], [0.1111111111111111, \"#46039f\"], [0.2222222222222222, \"#7201a8\"], [0.3333333333333333, \"#9c179e\"], [0.4444444444444444, \"#bd3786\"], [0.5555555555555556, \"#d8576b\"], [0.6666666666666666, \"#ed7953\"], [0.7777777777777778, \"#fb9f3a\"], [0.8888888888888888, \"#fdca26\"], [1.0, \"#f0f921\"]], \"type\": \"heatmapgl\"}], \"histogram\": [{\"marker\": {\"colorbar\": {\"outlinewidth\": 0, \"ticks\": \"\"}}, \"type\": \"histogram\"}], \"histogram2d\": [{\"colorbar\": {\"outlinewidth\": 0, \"ticks\": \"\"}, \"colorscale\": [[0.0, \"#0d0887\"], [0.1111111111111111, \"#46039f\"], [0.2222222222222222, \"#7201a8\"], [0.3333333333333333, \"#9c179e\"], [0.4444444444444444, \"#bd3786\"], [0.5555555555555556, \"#d8576b\"], [0.6666666666666666, \"#ed7953\"], [0.7777777777777778, \"#fb9f3a\"], [0.8888888888888888, \"#fdca26\"], [1.0, \"#f0f921\"]], \"type\": \"histogram2d\"}], \"histogram2dcontour\": [{\"colorbar\": {\"outlinewidth\": 0, \"ticks\": \"\"}, \"colorscale\": [[0.0, \"#0d0887\"], [0.1111111111111111, \"#46039f\"], [0.2222222222222222, \"#7201a8\"], [0.3333333333333333, \"#9c179e\"], [0.4444444444444444, \"#bd3786\"], [0.5555555555555556, \"#d8576b\"], [0.6666666666666666, \"#ed7953\"], [0.7777777777777778, \"#fb9f3a\"], [0.8888888888888888, \"#fdca26\"], [1.0, \"#f0f921\"]], \"type\": \"histogram2dcontour\"}], \"mesh3d\": [{\"colorbar\": {\"outlinewidth\": 0, \"ticks\": \"\"}, \"type\": \"mesh3d\"}], \"parcoords\": [{\"line\": {\"colorbar\": {\"outlinewidth\": 0, \"ticks\": \"\"}}, \"type\": \"parcoords\"}], \"pie\": [{\"automargin\": true, \"type\": \"pie\"}], \"scatter\": [{\"marker\": {\"colorbar\": {\"outlinewidth\": 0, \"ticks\": \"\"}}, \"type\": \"scatter\"}], \"scatter3d\": [{\"line\": {\"colorbar\": {\"outlinewidth\": 0, \"ticks\": \"\"}}, \"marker\": {\"colorbar\": {\"outlinewidth\": 0, \"ticks\": \"\"}}, \"type\": \"scatter3d\"}], \"scattercarpet\": [{\"marker\": {\"colorbar\": {\"outlinewidth\": 0, \"ticks\": \"\"}}, \"type\": \"scattercarpet\"}], \"scattergeo\": [{\"marker\": {\"colorbar\": {\"outlinewidth\": 0, \"ticks\": \"\"}}, \"type\": \"scattergeo\"}], \"scattergl\": [{\"marker\": {\"colorbar\": {\"outlinewidth\": 0, \"ticks\": \"\"}}, \"type\": \"scattergl\"}], \"scattermapbox\": [{\"marker\": {\"colorbar\": {\"outlinewidth\": 0, \"ticks\": \"\"}}, \"type\": \"scattermapbox\"}], \"scatterpolar\": [{\"marker\": {\"colorbar\": {\"outlinewidth\": 0, \"ticks\": \"\"}}, \"type\": \"scatterpolar\"}], \"scatterpolargl\": [{\"marker\": {\"colorbar\": {\"outlinewidth\": 0, \"ticks\": \"\"}}, \"type\": \"scatterpolargl\"}], \"scatterternary\": [{\"marker\": {\"colorbar\": {\"outlinewidth\": 0, \"ticks\": \"\"}}, \"type\": \"scatterternary\"}], \"surface\": [{\"colorbar\": {\"outlinewidth\": 0, \"ticks\": \"\"}, \"colorscale\": [[0.0, \"#0d0887\"], [0.1111111111111111, \"#46039f\"], [0.2222222222222222, \"#7201a8\"], [0.3333333333333333, \"#9c179e\"], [0.4444444444444444, \"#bd3786\"], [0.5555555555555556, \"#d8576b\"], [0.6666666666666666, \"#ed7953\"], [0.7777777777777778, \"#fb9f3a\"], [0.8888888888888888, \"#fdca26\"], [1.0, \"#f0f921\"]], \"type\": \"surface\"}], \"table\": [{\"cells\": {\"fill\": {\"color\": \"#EBF0F8\"}, \"line\": {\"color\": \"white\"}}, \"header\": {\"fill\": {\"color\": \"#C8D4E3\"}, \"line\": {\"color\": \"white\"}}, \"type\": \"table\"}]}, \"layout\": {\"annotationdefaults\": {\"arrowcolor\": \"#2a3f5f\", \"arrowhead\": 0, \"arrowwidth\": 1}, \"coloraxis\": {\"colorbar\": {\"outlinewidth\": 0, \"ticks\": \"\"}}, \"colorscale\": {\"diverging\": [[0, \"#8e0152\"], [0.1, \"#c51b7d\"], [0.2, \"#de77ae\"], [0.3, \"#f1b6da\"], [0.4, \"#fde0ef\"], [0.5, \"#f7f7f7\"], [0.6, \"#e6f5d0\"], [0.7, \"#b8e186\"], [0.8, \"#7fbc41\"], [0.9, \"#4d9221\"], [1, \"#276419\"]], \"sequential\": [[0.0, \"#0d0887\"], [0.1111111111111111, \"#46039f\"], [0.2222222222222222, \"#7201a8\"], [0.3333333333333333, \"#9c179e\"], [0.4444444444444444, \"#bd3786\"], [0.5555555555555556, \"#d8576b\"], [0.6666666666666666, \"#ed7953\"], [0.7777777777777778, \"#fb9f3a\"], [0.8888888888888888, \"#fdca26\"], [1.0, \"#f0f921\"]], \"sequentialminus\": [[0.0, \"#0d0887\"], [0.1111111111111111, \"#46039f\"], [0.2222222222222222, \"#7201a8\"], [0.3333333333333333, \"#9c179e\"], [0.4444444444444444, \"#bd3786\"], [0.5555555555555556, \"#d8576b\"], [0.6666666666666666, \"#ed7953\"], [0.7777777777777778, \"#fb9f3a\"], [0.8888888888888888, \"#fdca26\"], [1.0, \"#f0f921\"]]}, \"colorway\": [\"#636efa\", \"#EF553B\", \"#00cc96\", \"#ab63fa\", \"#FFA15A\", \"#19d3f3\", \"#FF6692\", \"#B6E880\", \"#FF97FF\", \"#FECB52\"], \"font\": {\"color\": \"#2a3f5f\"}, \"geo\": {\"bgcolor\": \"white\", \"lakecolor\": \"white\", \"landcolor\": \"#E5ECF6\", \"showlakes\": true, \"showland\": true, \"subunitcolor\": \"white\"}, \"hoverlabel\": {\"align\": \"left\"}, \"hovermode\": \"closest\", \"mapbox\": {\"style\": \"light\"}, \"paper_bgcolor\": \"white\", \"plot_bgcolor\": \"#E5ECF6\", \"polar\": {\"angularaxis\": {\"gridcolor\": \"white\", \"linecolor\": \"white\", \"ticks\": \"\"}, \"bgcolor\": \"#E5ECF6\", \"radialaxis\": {\"gridcolor\": \"white\", \"linecolor\": \"white\", \"ticks\": \"\"}}, \"scene\": {\"xaxis\": {\"backgroundcolor\": \"#E5ECF6\", \"gridcolor\": \"white\", \"gridwidth\": 2, \"linecolor\": \"white\", \"showbackground\": true, \"ticks\": \"\", \"zerolinecolor\": \"white\"}, \"yaxis\": {\"backgroundcolor\": \"#E5ECF6\", \"gridcolor\": \"white\", \"gridwidth\": 2, \"linecolor\": \"white\", \"showbackground\": true, \"ticks\": \"\", \"zerolinecolor\": \"white\"}, \"zaxis\": {\"backgroundcolor\": \"#E5ECF6\", \"gridcolor\": \"white\", \"gridwidth\": 2, \"linecolor\": \"white\", \"showbackground\": true, \"ticks\": \"\", \"zerolinecolor\": \"white\"}}, \"shapedefaults\": {\"line\": {\"color\": \"#2a3f5f\"}}, \"ternary\": {\"aaxis\": {\"gridcolor\": \"white\", \"linecolor\": \"white\", \"ticks\": \"\"}, \"baxis\": {\"gridcolor\": \"white\", \"linecolor\": \"white\", \"ticks\": \"\"}, \"bgcolor\": \"#E5ECF6\", \"caxis\": {\"gridcolor\": \"white\", \"linecolor\": \"white\", \"ticks\": \"\"}}, \"title\": {\"x\": 0.05}, \"xaxis\": {\"automargin\": true, \"gridcolor\": \"white\", \"linecolor\": \"white\", \"ticks\": \"\", \"title\": {\"standoff\": 15}, \"zerolinecolor\": \"white\", \"zerolinewidth\": 2}, \"yaxis\": {\"automargin\": true, \"gridcolor\": \"white\", \"linecolor\": \"white\", \"ticks\": \"\", \"title\": {\"standoff\": 15}, \"zerolinecolor\": \"white\", \"zerolinewidth\": 2}}}, \"title\": {\"text\": \"PCA\"}},\n",
       "                        {\"responsive\": true}\n",
       "                    ).then(function(){\n",
       "                            \n",
       "var gd = document.getElementById('da9e9d49-af0c-4f4b-9c38-7a7f93b6ee49');\n",
       "var x = new MutationObserver(function (mutations, observer) {{\n",
       "        var display = window.getComputedStyle(gd).display;\n",
       "        if (!display || display === 'none') {{\n",
       "            console.log([gd, 'removed!']);\n",
       "            Plotly.purge(gd);\n",
       "            observer.disconnect();\n",
       "        }}\n",
       "}});\n",
       "\n",
       "// Listen for the removal of the full notebook cells\n",
       "var notebookContainer = gd.closest('#notebook-container');\n",
       "if (notebookContainer) {{\n",
       "    x.observe(notebookContainer, {childList: true});\n",
       "}}\n",
       "\n",
       "// Listen for the clearing of the current output cell\n",
       "var outputEl = gd.closest('.output');\n",
       "if (outputEl) {{\n",
       "    x.observe(outputEl, {childList: true});\n",
       "}}\n",
       "\n",
       "                        })\n",
       "                };\n",
       "                });\n",
       "            </script>\n",
       "        </div>"
      ]
     },
     "metadata": {},
     "output_type": "display_data"
    }
   ],
   "source": [
    "pca = PCA(n_components=2)\n",
    "\n",
    "result = pca.fit_transform(matrix)\n",
    "result = pd.DataFrame(result)\n",
    "result.columns = ['X', 'Y']\n",
    "result['Palabra'] = matrix.index.values\n",
    "personajes = pre_procesado(data.Personaje.str.cat(sep=\" \"))\n",
    "result['Color'] = result['Palabra'].apply(lambda val: \"#f8db27\" if val in personajes else \"#2f64d6\")\n",
    "\n",
    "\n",
    "trace_palabras = go.Scatter(x=result[result['Color']=='#2f64d6']['X'].values,\n",
    "                               y=result[result['Color']=='#2f64d6']['Y'].values,\n",
    "                               text=result[result['Color']=='#2f64d6']['Palabra'].values,\n",
    "                               mode='markers',\n",
    "                               marker={'color': result[result['Color']=='#2f64d6']['Color'].values, 'size':10},\n",
    "                               name='Palabras') \n",
    "\n",
    "trace_personajes = go.Scatter(x=result[result['Color']=='#f8db27']['X'].values,\n",
    "                               y=result[result['Color']=='#f8db27']['Y'].values,\n",
    "                               text=result[result['Color']=='#f8db27']['Palabra'].values,\n",
    "                               mode='markers',\n",
    "                               marker={'color': result[result['Color']=='#f8db27']['Color'].values, 'size':10},\n",
    "                               name='Persinajes') \n",
    "\n",
    "layout = go.Layout(title=\"PCA\")\n",
    "\n",
    "fig = go.Figure(data=[trace_palabras,trace_personajes], layout=layout)\n",
    "iplot(fig)"
   ]
  },
  {
   "cell_type": "code",
   "execution_count": 29,
   "metadata": {},
   "outputs": [
    {
     "data": {
      "text/plain": [
       "[('marge', 0.8847008943557739),\n",
       " ('payaso', 0.882537841796875),\n",
       " ('serie', 0.8717727661132812),\n",
       " ('bart', 0.8705407381057739),\n",
       " ('homer', 0.8704090118408203),\n",
       " ('lenny', 0.868598461151123),\n",
       " ('temporada', 0.8531821370124817),\n",
       " ('familia', 0.8513308167457581),\n",
       " ('episodio', 0.8504689335823059),\n",
       " ('vida', 0.8480991125106812)]"
      ]
     },
     "execution_count": 29,
     "metadata": {},
     "output_type": "execute_result"
    }
   ],
   "source": [
    "mi_modelo.wv.most_similar(\"krusty\")"
   ]
  },
  {
   "cell_type": "code",
   "execution_count": 30,
   "metadata": {},
   "outputs": [
    {
     "data": {
      "text/plain": [
       "[('krusty', 0.7846182584762573),\n",
       " ('marge', 0.7685270309448242),\n",
       " ('burns', 0.7682960629463196),\n",
       " ('the', 0.7629390954971313),\n",
       " ('episodio', 0.7598555088043213),\n",
       " ('serie', 0.7597952485084534),\n",
       " ('homer', 0.7593278884887695),\n",
       " ('simpson', 0.7537697553634644),\n",
       " ('temporada', 0.7507457733154297),\n",
       " ('parte', 0.7459006309509277)]"
      ]
     },
     "execution_count": 30,
     "metadata": {},
     "output_type": "execute_result"
    }
   ],
   "source": [
    "mi_modelo.wv.most_similar(\"carl\")"
   ]
  },
  {
   "cell_type": "code",
   "execution_count": 31,
   "metadata": {},
   "outputs": [
    {
     "data": {
      "text/plain": [
       "[('krusty', 0.8685983419418335),\n",
       " ('temporada', 0.8335751295089722),\n",
       " ('marge', 0.8186239004135132),\n",
       " ('homer', 0.8180866241455078),\n",
       " ('burns', 0.8166590332984924),\n",
       " ('payaso', 0.8032346963882446),\n",
       " ('vida', 0.7955195903778076),\n",
       " ('bart', 0.7937054634094238),\n",
       " ('serie', 0.7910794019699097),\n",
       " ('episodio', 0.7904199957847595)]"
      ]
     },
     "execution_count": 31,
     "metadata": {},
     "output_type": "execute_result"
    }
   ],
   "source": [
    "mi_modelo.wv.most_similar(\"lenny\")"
   ]
  },
  {
   "cell_type": "code",
   "execution_count": 32,
   "metadata": {},
   "outputs": [
    {
     "data": {
      "text/plain": [
       "[('temporada', 0.8730921149253845),\n",
       " ('episodio', 0.8634527325630188),\n",
       " ('simpson', 0.8630408048629761),\n",
       " ('bart', 0.8449823260307312),\n",
       " ('marge', 0.8448789119720459),\n",
       " ('krusty', 0.843094527721405),\n",
       " ('homer', 0.8390560150146484),\n",
       " ('serie', 0.8310744762420654),\n",
       " ('springfield', 0.8250600695610046),\n",
       " ('escuela', 0.8218933343887329)]"
      ]
     },
     "execution_count": 32,
     "metadata": {},
     "output_type": "execute_result"
    }
   ],
   "source": [
    "mi_modelo.wv.most_similar(\"burns\")"
   ]
  },
  {
   "cell_type": "markdown",
   "metadata": {},
   "source": [
    "### Funciones nuevas"
   ]
  },
  {
   "cell_type": "code",
   "execution_count": 13,
   "metadata": {},
   "outputs": [
    {
     "data": {
      "text/plain": [
       "[('krusty', -0.9964430928230286),\n",
       " ('doblado', -0.9966592788696289),\n",
       " ('bob', -0.9968278408050537),\n",
       " ('simpson', -0.9969197511672974),\n",
       " ('mundial', -0.9969926476478577),\n",
       " ('escuela', -0.9970125555992126),\n",
       " ('smithers', -0.9971040487289429),\n",
       " ('embargo', -0.9971436858177185),\n",
       " ('nuclear', -0.9972440600395203),\n",
       " ('payaso', -0.9972493648529053)]"
      ]
     },
     "execution_count": 13,
     "metadata": {},
     "output_type": "execute_result"
    }
   ],
   "source": [
    "mi_modelo.wv.most_similar(negative=[\"carl\"])"
   ]
  },
  {
   "cell_type": "code",
   "execution_count": 14,
   "metadata": {},
   "outputs": [
    {
     "name": "stderr",
     "output_type": "stream",
     "text": [
      "/opt/anaconda3/lib/python3.7/site-packages/ipykernel_launcher.py:1: DeprecationWarning:\n",
      "\n",
      "Call to deprecated `similarity` (Method will be removed in 4.0.0, use self.wv.similarity() instead).\n",
      "\n"
     ]
    },
    {
     "data": {
      "text/plain": [
       "0.9987881"
      ]
     },
     "execution_count": 14,
     "metadata": {},
     "output_type": "execute_result"
    }
   ],
   "source": [
    "mi_modelo.similarity('carl', 'lenny')"
   ]
  },
  {
   "cell_type": "code",
   "execution_count": 15,
   "metadata": {},
   "outputs": [
    {
     "name": "stderr",
     "output_type": "stream",
     "text": [
      "/opt/anaconda3/lib/python3.7/site-packages/gensim/models/keyedvectors.py:877: FutureWarning:\n",
      "\n",
      "arrays to stack must be passed as a \"sequence\" type such as list or tuple. Support for non-sequence iterables such as generators is deprecated as of NumPy 1.16 and will raise an error in the future.\n",
      "\n"
     ]
    },
    {
     "data": {
      "text/plain": [
       "'burns'"
      ]
     },
     "execution_count": 15,
     "metadata": {},
     "output_type": "execute_result"
    }
   ],
   "source": [
    "mi_modelo.wv.doesnt_match(['bart', 'lisa', 'milhouse', 'maggie', 'burns'])"
   ]
  },
  {
   "cell_type": "code",
   "execution_count": 16,
   "metadata": {},
   "outputs": [
    {
     "data": {
      "text/plain": [
       "[('lenny', 0.9979336857795715),\n",
       " ('grandes', 0.9977936148643494),\n",
       " ('dice', 0.99779212474823),\n",
       " ('amigos', 0.9977337718009949),\n",
       " ('moe', 0.9976866245269775),\n",
       " ('josé', 0.9976836442947388),\n",
       " ('of', 0.9976629614830017),\n",
       " ('características', 0.9976404905319214),\n",
       " ('barney', 0.997626781463623),\n",
       " ('puntas', 0.9976257085800171)]"
      ]
     },
     "execution_count": 16,
     "metadata": {},
     "output_type": "execute_result"
    }
   ],
   "source": [
    "mi_modelo.wv.most_similar(positive=[\"carl\", \"bart\"], negative=[\"milhouse\"])"
   ]
  }
 ],
 "metadata": {
  "kernelspec": {
   "display_name": "Python 3",
   "language": "python",
   "name": "python3"
  },
  "language_info": {
   "codemirror_mode": {
    "name": "ipython",
    "version": 3
   },
   "file_extension": ".py",
   "mimetype": "text/x-python",
   "name": "python",
   "nbconvert_exporter": "python",
   "pygments_lexer": "ipython3",
   "version": "3.7.4"
  }
 },
 "nbformat": 4,
 "nbformat_minor": 2
}
